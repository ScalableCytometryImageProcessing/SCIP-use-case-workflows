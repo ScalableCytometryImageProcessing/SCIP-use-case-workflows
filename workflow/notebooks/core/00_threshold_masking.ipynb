{
 "cells": [
  {
   "cell_type": "code",
   "execution_count": null,
   "metadata": {},
   "outputs": [],
   "source": [
    "# |default_exp masking\n",
    ""
   ]
  },
  {
   "cell_type": "code",
   "execution_count": null,
   "metadata": {},
   "outputs": [],
   "source": [
    "%load_ext autoreload\n",
    "%autoreload 2"
   ]
  },
  {
   "cell_type": "code",
   "execution_count": null,
   "metadata": {},
   "outputs": [],
   "source": [
    "# |export\n",
    "from scip_workflows.common import *\n",
    ""
   ]
  },
  {
   "cell_type": "code",
   "execution_count": null,
   "metadata": {},
   "outputs": [],
   "source": [
    "from skimage import img_as_float32\n",
    ""
   ]
  },
  {
   "cell_type": "code",
   "execution_count": null,
   "metadata": {},
   "outputs": [],
   "source": [
    "# |export\n",
    "import zarr\n",
    "from scip.masking import get_bounding_box, remove_regions_touching_border, threshold\n",
    ""
   ]
  },
  {
   "cell_type": "code",
   "execution_count": null,
   "metadata": {},
   "outputs": [],
   "source": [
    "# |export\n",
    "def plot_scip_segmentation(r, bbox_channel_index=0, smooth=1, border=True):\n",
    "    z = zarr.open(r.meta_path)\n",
    "    pixels = z[r.meta_zarr_idx].reshape(z.attrs[\"shape\"][r.meta_zarr_idx])\n",
    "    pixels = numpy.clip(pixels, a_min=0, a_max=4096)\n",
    "\n",
    "    m = threshold.get_mask(\n",
    "        dict(pixels=pixels), main_channel=bbox_channel_index, smooth=smooth\n",
    "    )\n",
    "    m = get_bounding_box(m)\n",
    "    if border:\n",
    "        m = remove_regions_touching_border(m, bbox_channel_index=bbox_channel_index)\n",
    "\n",
    "    fig, axes = plt.subplots(2, len(pixels), dpi=150, squeeze=False)\n",
    "    for i, (a, p) in enumerate(zip(m[\"mask\"], pixels)):\n",
    "        axes[0, i].imshow(a)\n",
    "        axes[0, i].set_axis_off()\n",
    "        axes[1, i].imshow(p)\n",
    "        axes[1, i].set_axis_off()\n",
    "\n",
    "    return m\n",
    ""
   ]
  },
  {
   "cell_type": "code",
   "execution_count": null,
   "metadata": {},
   "outputs": [],
   "source": [
    "zarr_path, zarr_idx = (\n",
    "    \"/data/gent/vo/000/gvo00070/vsc42015/datasets/weizmann/EhV/v2/images/Ctrl_T7_R1_22.zarr\",\n",
    "    0,\n",
    ")\n",
    "z = zarr.open(zarr_path)\n",
    ""
   ]
  },
  {
   "cell_type": "code",
   "execution_count": null,
   "metadata": {},
   "outputs": [],
   "source": [
    "r = pandas.Series({\"meta_path\": zarr_path, \"meta_zarr_idx\": zarr_idx})\n",
    ""
   ]
  },
  {
   "cell_type": "code",
   "execution_count": null,
   "metadata": {},
   "outputs": [],
   "source": [
    "pixels = z[zarr_idx].reshape(z.attrs[\"shape\"][zarr_idx])\n",
    ""
   ]
  },
  {
   "cell_type": "code",
   "execution_count": null,
   "metadata": {},
   "outputs": [],
   "source": [
    "pixels = numpy.clip(pixels, a_min=0, a_max=4096).astype(float)\n",
    "pixels = img_as_float32(pixels)\n",
    ""
   ]
  },
  {
   "cell_type": "code",
   "execution_count": null,
   "metadata": {},
   "outputs": [],
   "source": [
    "fig, axes = plt.subplots(1, len(pixels), dpi=150, squeeze=False)\n",
    "axes = axes.ravel()\n",
    "for p, ax in zip(pixels, axes):\n",
    "    ax.imshow(p)\n",
    "    ax.set_axis_off()\n",
    ""
   ]
  },
  {
   "cell_type": "code",
   "execution_count": null,
   "metadata": {},
   "outputs": [],
   "source": [
    "from skimage.filters import (\n",
    "    gaussian,\n",
    "    sobel,\n",
    "    threshold_isodata,\n",
    "    threshold_mean,\n",
    "    threshold_otsu,\n",
    ")\n",
    "from skimage.morphology import (\n",
    "    binary_closing,\n",
    "    binary_dilation,\n",
    "    closing,\n",
    "    disk,\n",
    "    label,\n",
    "    remove_small_holes,\n",
    "    remove_small_objects,\n",
    ")\n",
    ""
   ]
  },
  {
   "cell_type": "code",
   "execution_count": null,
   "metadata": {},
   "outputs": [],
   "source": [
    "m = plot_scip_segmentation(r, 4)\n",
    ""
   ]
  },
  {
   "cell_type": "code",
   "execution_count": null,
   "metadata": {},
   "outputs": [],
   "source": [
    "m = plot_scip_segmentation(r, 4)\n",
    ""
   ]
  },
  {
   "cell_type": "code",
   "execution_count": null,
   "metadata": {},
   "outputs": [],
   "source": [
    "_ = plt.hist(numpy.log(pixels[4].ravel()), bins=100)\n",
    ""
   ]
  },
  {
   "cell_type": "code",
   "execution_count": null,
   "metadata": {},
   "outputs": [],
   "source": [
    "t = threshold_otsu(numpy.log(pixels[4]))\n",
    ""
   ]
  },
  {
   "cell_type": "code",
   "execution_count": null,
   "metadata": {},
   "outputs": [],
   "source": [
    "plt.imshow(((numpy.e**t) < pixels[4]))\n",
    ""
   ]
  },
  {
   "cell_type": "code",
   "execution_count": null,
   "metadata": {},
   "outputs": [],
   "source": [
    "t = threshold_otsu(pixels[4])\n",
    ""
   ]
  },
  {
   "cell_type": "code",
   "execution_count": null,
   "metadata": {},
   "outputs": [],
   "source": [
    "plt.imshow(t < pixels[4])\n",
    ""
   ]
  },
  {
   "cell_type": "code",
   "execution_count": null,
   "metadata": {},
   "outputs": [],
   "source": [
    "bbox = m[\"bbox\"]\n",
    "x = pixels[4, bbox[0] : bbox[2], bbox[1] : bbox[3]]\n",
    "\n",
    "x = gaussian(x, sigma=1)\n",
    "# x = sobel(x)\n",
    "# x = closing(x, selem=disk(2))\n",
    "x = threshold_mean(numpy.log(x)) < numpy.log(x)\n",
    "x = binary_dilation(x, disk(2))\n",
    "# x = binary_closing(x, disk(1))\n",
    "# x = remove_small_holes(x, area_threshold=5)\n",
    "# x = remove_small_objects(x, min_size=5)\n",
    "x = label(x)\n",
    "plt.imshow(x)\n",
    ""
   ]
  },
  {
   "cell_type": "code",
   "execution_count": null,
   "metadata": {},
   "outputs": [],
   "source": [
    "from skimage.morphology import disk, white_tophat\n",
    "from skimage.restoration import denoise_nl_means, estimate_sigma\n",
    ""
   ]
  },
  {
   "cell_type": "code",
   "execution_count": null,
   "metadata": {},
   "outputs": [],
   "source": [
    "pixels2 = pixels.copy()\n",
    ""
   ]
  },
  {
   "cell_type": "code",
   "execution_count": null,
   "metadata": {},
   "outputs": [],
   "source": [
    "plt.imshow(white_tophat(pixels[1], disk(10)))\n",
    ""
   ]
  },
  {
   "cell_type": "code",
   "execution_count": null,
   "metadata": {},
   "outputs": [],
   "source": [
    "sigma = estimate_sigma(pixels[1])\n",
    "pixels2[1] = denoise_nl_means(\n",
    "    pixels[1], patch_size=10, patch_distance=5, sigma=sigma, h=sigma\n",
    ")\n",
    "plt.imshow(pixels2[1])\n",
    ""
   ]
  },
  {
   "cell_type": "code",
   "execution_count": null,
   "metadata": {},
   "outputs": [],
   "source": [
    "from scip.segmentation import threshold, util\n",
    ""
   ]
  },
  {
   "cell_type": "code",
   "execution_count": null,
   "metadata": {},
   "outputs": [],
   "source": [
    "m = threshold.get_mask(dict(pixels=pixels), main=True, main_channel=0)\n",
    "m = util.get_bounding_box(m, bbox_channel=0)\n",
    "m = threshold.get_mask(m, main=False, main_channel=0)\n",
    "plt.imshow(m[\"mask\"][1])\n",
    ""
   ]
  },
  {
   "cell_type": "code",
   "execution_count": null,
   "metadata": {},
   "outputs": [],
   "source": [
    "plt.imshow(m[\"pixels\"][0])\n",
    ""
   ]
  },
  {
   "cell_type": "markdown",
   "metadata": {},
   "source": [
    "# White tophat"
   ]
  },
  {
   "cell_type": "code",
   "execution_count": null,
   "metadata": {},
   "outputs": [],
   "source": [
    "from skimage.morphology import disk, white_tophat\n",
    ""
   ]
  },
  {
   "cell_type": "code",
   "execution_count": null,
   "metadata": {},
   "outputs": [],
   "source": [
    "bbox = m[\"bbox\"]\n",
    "bboxed = pixels[:, bbox[0] : bbox[2], bbox[1] : bbox[3]]\n",
    ""
   ]
  },
  {
   "cell_type": "code",
   "execution_count": null,
   "metadata": {},
   "outputs": [],
   "source": [
    "plt.imshow(white_tophat(bboxed[1], selem=disk(3)))\n",
    ""
   ]
  },
  {
   "cell_type": "code",
   "execution_count": null,
   "metadata": {},
   "outputs": [],
   "source": [
    "plt.imshow(pixels[0])\n",
    ""
   ]
  },
  {
   "cell_type": "code",
   "execution_count": null,
   "metadata": {},
   "outputs": [],
   "source": []
  }
 ],
 "metadata": {
  "kernelspec": {
   "display_name": "Python 3.9.10 ('scip')",
   "language": "python",
   "name": "python3"
  },
  "language_info": {
   "codemirror_mode": {
    "name": "ipython",
    "version": 3
   },
   "file_extension": ".py",
   "mimetype": "text/x-python",
   "name": "python",
   "nbconvert_exporter": "python",
   "pygments_lexer": "ipython3",
   "version": "3.9.10"
  },
  "vscode": {
   "interpreter": {
    "hash": "64fd0ed183a0510f919c27dddcaa3e947ee6ca74b1ed547fc7204df54d1f1271"
   }
  }
 },
 "nbformat": 4,
 "nbformat_minor": 4
}
