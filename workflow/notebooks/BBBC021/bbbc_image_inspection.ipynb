{
 "cells": [
  {
   "cell_type": "markdown",
   "metadata": {},
   "source": [
    "# BBC021: Human MCF7 cells – compound-profiling experiment"
   ]
  },
  {
   "cell_type": "code",
   "execution_count": null,
   "metadata": {},
   "outputs": [],
   "source": [
    "from scip_workflows.common import *"
   ]
  },
  {
   "cell_type": "code",
   "execution_count": null,
   "metadata": {},
   "outputs": [],
   "source": [
    "import cellpose\n",
    "from aicsimageio.readers.tiff_glob_reader import TiffGlobReader\n",
    "from cellpose import models\n",
    "from skimage.measure import regionprops\n"
   ]
  },
  {
   "cell_type": "code",
   "execution_count": null,
   "metadata": {},
   "outputs": [],
   "source": [
    "data_dir = Path(\"/user/gent/420/vsc42015/vsc_data_vo/datasets/BBBC021\")\n"
   ]
  },
  {
   "cell_type": "code",
   "execution_count": null,
   "metadata": {},
   "outputs": [],
   "source": [
    "data_dir = Path(\"/home/maximl/scratch/data/vsc/datasets/BBBC021\")\n"
   ]
  },
  {
   "cell_type": "code",
   "execution_count": null,
   "metadata": {},
   "outputs": [],
   "source": [
    "batch = \"Week5_28901\"\n",
    "name = \"Week5_130707_F02_s3_w\"\n"
   ]
  },
  {
   "cell_type": "code",
   "execution_count": null,
   "metadata": {},
   "outputs": [],
   "source": [
    "def map_to_index(f):\n",
    "    idx = re.match(\"^.*_w([0-9]).*$\", f).group(1)\n",
    "    m = {\"1\": 0, \"2\": 1, \"4\": 2}\n",
    "    return pandas.Series(dict(S=0, T=0, C=m[idx], Z=0))\n",
    "\n",
    "\n",
    "im = TiffGlobReader(\n",
    "    glob_in=sorted(\n",
    "        [str(p) for p in data_dir.glob(\"images/%s/%s*.tif\" % (batch, name))]\n",
    "    ),\n",
    "    indexer=map_to_index,\n",
    "    channel_names=[\"DAPI\", \"Actin\", \"Tubulin\"],\n",
    ")\n"
   ]
  },
  {
   "cell_type": "code",
   "execution_count": null,
   "metadata": {},
   "outputs": [],
   "source": [
    "pixels = im.get_image_data(\"CXY\")\n",
    "\n",
    "fig, axes = plt.subplots(1, pixels.shape[0], dpi=150)\n",
    "for ax, p in zip(axes, pixels):\n",
    "    ax.imshow(p / p.reshape(1, -1).max(axis=1))\n",
    "    ax.set_axis_off()\n"
   ]
  },
  {
   "cell_type": "code",
   "execution_count": null,
   "metadata": {},
   "outputs": [],
   "source": [
    "model = models.Cellpose(gpu=True, model_type=\"cyto2\")\n"
   ]
  },
  {
   "cell_type": "code",
   "execution_count": null,
   "metadata": {},
   "outputs": [],
   "source": [
    "masks, flows, styles, diams = model.eval(pixels, diameter=None, channels=[2, 1])\n"
   ]
  },
  {
   "cell_type": "code",
   "execution_count": null,
   "metadata": {},
   "outputs": [],
   "source": [
    "fig, ax = plt.subplots(1, 1, dpi=150)\n",
    "\n",
    "ax.imshow((pixels / pixels.reshape(1, -1).max(axis=1))[1])\n",
    "ax.set_axis_off()\n",
    "\n",
    "ax.imshow(cellpose.plot.mask_rgb(masks), alpha=0.3)\n",
    "for prop in regionprops(label_image=masks):\n",
    "    ax.text(\n",
    "        prop.centroid[1],\n",
    "        prop.centroid[0],\n",
    "        prop.label,\n",
    "        fontsize=4,\n",
    "        ha=\"center\",\n",
    "        va=\"center\",\n",
    "    )\n"
   ]
  },
  {
   "cell_type": "code",
   "execution_count": null,
   "metadata": {},
   "outputs": [],
   "source": [
    "masks2, flows2, styles2, diams2 = model.eval(pixels, diameter=None, channels=[1, 1])\n"
   ]
  },
  {
   "cell_type": "code",
   "execution_count": null,
   "metadata": {},
   "outputs": [],
   "source": [
    "fig, ax = plt.subplots(1, 1, dpi=150)\n",
    "\n",
    "ax.imshow((pixels / pixels.reshape(1, -1).max(axis=1))[0])\n",
    "ax.set_axis_off()\n",
    "\n",
    "ax.imshow(cellpose.plot.mask_rgb(masks2), alpha=0.3)\n",
    "for prop in regionprops(label_image=masks2):\n",
    "    ax.text(\n",
    "        prop.centroid[1],\n",
    "        prop.centroid[0],\n",
    "        prop.label,\n",
    "        fontsize=4,\n",
    "        ha=\"center\",\n",
    "        va=\"center\",\n",
    "    )\n"
   ]
  },
  {
   "cell_type": "code",
   "execution_count": null,
   "metadata": {},
   "outputs": [],
   "source": [
    "from cellpose import plot\n",
    "\n",
    "from scip.segmentation import cellpose\n"
   ]
  },
  {
   "cell_type": "code",
   "execution_count": null,
   "metadata": {},
   "outputs": [],
   "source": [
    "import dask.bag\n",
    "from dask.distributed import Client, LocalCluster\n"
   ]
  },
  {
   "cell_type": "code",
   "execution_count": null,
   "metadata": {},
   "outputs": [],
   "source": [
    "c = Client(LocalCluster(n_workers=1))\n"
   ]
  },
  {
   "cell_type": "code",
   "execution_count": null,
   "metadata": {},
   "outputs": [],
   "source": [
    "bag = dask.bag.from_sequence([dict(pixels=pixels)])\n"
   ]
  },
  {
   "cell_type": "code",
   "execution_count": null,
   "metadata": {},
   "outputs": [],
   "source": [
    "events = bag.map_partitions(\n",
    "    cellpose.segment_block, parent_channel_index=1, dapi_channel_index=0\n",
    ").compute()\n"
   ]
  },
  {
   "cell_type": "code",
   "execution_count": null,
   "metadata": {},
   "outputs": [],
   "source": [
    "mask = events[0][\"mask\"]\n"
   ]
  },
  {
   "cell_type": "code",
   "execution_count": null,
   "metadata": {},
   "outputs": [],
   "source": [
    "plt.imshow(plot.mask_rgb(mask[0]))\n"
   ]
  },
  {
   "cell_type": "code",
   "execution_count": null,
   "metadata": {},
   "outputs": [],
   "source": [
    "fig, (ax1, ax2) = plt.subplots(1, 2, dpi=300)\n",
    "ax2.imshow(pixels[1])\n",
    "ax1.imshow(pixels[1])\n",
    "ax1.imshow(plot.mask_rgb(mask[1]), alpha=0.5)\n"
   ]
  },
  {
   "cell_type": "code",
   "execution_count": null,
   "metadata": {},
   "outputs": [],
   "source": [
    "masks2, flows2, styles2, diams2 = model.eval(\n",
    "    [pixels], diameter=None, channels=[2, 0], mask_threshold=0.2\n",
    ")\n"
   ]
  },
  {
   "cell_type": "code",
   "execution_count": null,
   "metadata": {},
   "outputs": [],
   "source": [
    "fig, ax = plt.subplots(1, 1, dpi=150)\n",
    "\n",
    "ax.imshow((pixels / pixels.reshape(1, -1).max(axis=1))[1])\n",
    "ax.set_axis_off()\n",
    "\n",
    "ax.imshow(cellpose.plot.mask_rgb(masks2[0]), alpha=0.3)\n",
    "for prop in regionprops(label_image=masks2[0]):\n",
    "    ax.text(\n",
    "        prop.centroid[1],\n",
    "        prop.centroid[0],\n",
    "        prop.label,\n",
    "        fontsize=4,\n",
    "        ha=\"center\",\n",
    "        va=\"center\",\n",
    "    )\n"
   ]
  },
  {
   "cell_type": "code",
   "execution_count": null,
   "metadata": {},
   "outputs": [],
   "source": [
    "masks3, flows3, styles3, diams2 = model.eval(\n",
    "    [pixels[0]], diameter=None, channels=[0, 0], mask_threshold=0.2\n",
    ")\n"
   ]
  },
  {
   "cell_type": "code",
   "execution_count": null,
   "metadata": {},
   "outputs": [],
   "source": [
    "fig, ax = plt.subplots(1, 1, dpi=150)\n",
    "\n",
    "ax.imshow((pixels / pixels.reshape(1, -1).max(axis=1))[0])\n",
    "ax.set_axis_off()\n",
    "\n",
    "ax.imshow(cellpose.plot.mask_rgb(masks3[0]), alpha=0.3)\n",
    "for prop in regionprops(label_image=masks3[0]):\n",
    "    ax.text(\n",
    "        prop.centroid[1],\n",
    "        prop.centroid[0],\n",
    "        prop.label,\n",
    "        fontsize=4,\n",
    "        ha=\"center\",\n",
    "        va=\"center\",\n",
    "    )\n"
   ]
  },
  {
   "cell_type": "code",
   "execution_count": null,
   "metadata": {},
   "outputs": [],
   "source": []
  }
 ],
 "metadata": {
  "interpreter": {
   "hash": "7ef5c8965d878c26987d1a3494a85f1ed239704ed4c4a4670ee5d1b7c30cb836"
  },
  "kernelspec": {
   "display_name": "Python 3 (ipykernel)",
   "language": "python",
   "name": "python3"
  },
  "language_info": {
   "codemirror_mode": {
    "name": "ipython",
    "version": 3
   },
   "file_extension": ".py",
   "mimetype": "text/x-python",
   "name": "python",
   "nbconvert_exporter": "python",
   "pygments_lexer": "ipython3",
   "version": "3.9.6"
  }
 },
 "nbformat": 4,
 "nbformat_minor": 4
}
