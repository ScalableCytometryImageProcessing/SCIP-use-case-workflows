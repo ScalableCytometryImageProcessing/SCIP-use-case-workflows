{
 "cells": [
  {
   "cell_type": "markdown",
   "id": "75c6c190-7a92-4228-96b8-6518c041e140",
   "metadata": {},
   "source": [
    "# MOA prediction"
   ]
  },
  {
   "cell_type": "code",
   "execution_count": null,
   "id": "e72b4d1a-d5d6-4ba6-9992-d6fdf3bc158b",
   "metadata": {},
   "outputs": [],
   "source": [
    "%load_ext autoreload\n",
    "%autoreload 2"
   ]
  },
  {
   "cell_type": "code",
   "execution_count": null,
   "id": "02d66abc-346c-450f-98e3-47c5f57fb0bf",
   "metadata": {},
   "outputs": [],
   "source": [
    "from scip_workflows.common import *\n",
    ""
   ]
  },
  {
   "cell_type": "code",
   "execution_count": null,
   "id": "58de56e5-87ed-42dd-9c6e-bd2f59a228ca",
   "metadata": {},
   "outputs": [],
   "source": [
    "import pyarrow\n",
    "from sklearn.decomposition import PCA, FactorAnalysis\n",
    "from sklearn.metrics import (\n",
    "    ConfusionMatrixDisplay,\n",
    "    accuracy_score,\n",
    "    balanced_accuracy_score,\n",
    "    confusion_matrix,\n",
    ")\n",
    "from sklearn.model_selection import LeaveOneGroupOut, cross_validate\n",
    "from sklearn.neighbors import KNeighborsClassifier\n",
    "from sklearn.pipeline import make_pipeline\n",
    "from sklearn.preprocessing import StandardScaler, scale\n",
    "from tqdm.notebook import tqdm\n",
    "from umap import UMAP\n",
    ""
   ]
  },
  {
   "cell_type": "markdown",
   "id": "230a30c5-296e-4adb-8c80-311025372033",
   "metadata": {},
   "source": [
    "# Data"
   ]
  },
  {
   "cell_type": "code",
   "execution_count": null,
   "id": "1a333af0-c4f4-4fed-b80a-e0f822f95744",
   "metadata": {},
   "outputs": [],
   "source": [
    "try:\n",
    "    path = snakemake.input.features\n",
    "    moa_path = snakemake.input.moa\n",
    "    image_path = snakemake.input.image\n",
    "    confusion_matrix_path = snakemake.output.confusion_matrix\n",
    "except NameError:\n",
    "    # data_root = Path(\"/data/gent/vo/000/gvo00070/vsc42015/datasets/BBBC021\")\n",
    "    data_root = Path(\"/home/maximl/scratch/data/vsc/datasets/BBBC021/\")\n",
    "    data_dir = data_root / \"results\" / \"images_subset_v4\"\n",
    "    path = data_dir / \"features.parquet\"\n",
    "    moa_path = data_root / \"BBBC021_v1_moa.csv\"\n",
    "    image_path = data_root / \"BBBC021_v1_image.csv\"\n",
    "    confusion_matrix_path = data_dir / \"figures\" / \"confusion_matrix.png\"\n",
    ""
   ]
  },
  {
   "cell_type": "code",
   "execution_count": null,
   "id": "fca3ec7a-a1d2-4f6f-a504-48a3cc2ace0d",
   "metadata": {},
   "outputs": [],
   "source": [
    "moa = pandas.read_csv(moa_path)\n",
    "image = pandas.read_csv(image_path)\n",
    ""
   ]
  },
  {
   "cell_type": "code",
   "execution_count": null,
   "id": "2eca35fb-9b33-48c6-b371-6ac44908e6c7",
   "metadata": {},
   "outputs": [],
   "source": [
    "moa_image = moa.merge(\n",
    "    image,\n",
    "    left_on=[\"compound\", \"concentration\"],\n",
    "    right_on=[\"Image_Metadata_Compound\", \"Image_Metadata_Concentration\"],\n",
    ").drop(columns=[\"Image_Metadata_Compound\", \"Image_Metadata_Concentration\"])\n",
    ""
   ]
  },
  {
   "cell_type": "code",
   "execution_count": null,
   "id": "c48b353a-6bf0-4d0e-882e-f7895eaa8764",
   "metadata": {},
   "outputs": [],
   "source": [
    "moa_image[\"batch\"] = (\n",
    "    moa_image[\"Image_Metadata_Plate_DAPI\"]\n",
    "    .apply(lambda p: int(p.split(\"_\")[0][len(\"Week\") :]))\n",
    "    .astype(\"category\")\n",
    ")\n",
    ""
   ]
  },
  {
   "cell_type": "code",
   "execution_count": null,
   "id": "b08d0198-883b-4a06-9478-558f3cf44519",
   "metadata": {},
   "outputs": [],
   "source": [
    "seaborn.scatterplot(data=moa_image, x=\"batch\", y=\"moa\")\n",
    ""
   ]
  },
  {
   "cell_type": "markdown",
   "id": "0e8e8f71-aaeb-4182-8366-93a946036514",
   "metadata": {},
   "source": [
    "To apply the Not-same-compound-or-batch approach by [Ando et al.](https://www.biorxiv.org/content/10.1101/161422v1.full.pdf), the Cholesterol-lowering and Kinase Inhibitors MOAs should be removed from the datasets as they are only present on one batch."
   ]
  },
  {
   "cell_type": "code",
   "execution_count": null,
   "id": "a27e2fad-e579-4e83-93e7-9586eebca3fb",
   "metadata": {},
   "outputs": [],
   "source": [
    "moa_image = moa_image[\n",
    "    ~moa_image[\"moa\"].isin([\"Cholesterol-lowering\", \"Kinase inhibitors\"])\n",
    "]\n",
    ""
   ]
  },
  {
   "cell_type": "code",
   "execution_count": null,
   "id": "ad563b95-fc0e-4882-8147-ec2011fa1f3c",
   "metadata": {},
   "outputs": [],
   "source": [
    "seaborn.scatterplot(data=moa_image, x=\"batch\", y=\"compound\")\n",
    ""
   ]
  },
  {
   "cell_type": "code",
   "execution_count": null,
   "id": "bffac588-745c-4860-9339-8cc6bc4feb13",
   "metadata": {},
   "outputs": [],
   "source": [
    "treatments = moa_image[~moa_image[\"compound\"].isin([\"DMSO\"])]\n",
    ""
   ]
  },
  {
   "cell_type": "markdown",
   "id": "9326d1af-0fc1-4210-bb99-5679f7e0c837",
   "metadata": {},
   "source": [
    "According to the previously mentioned research 92 treatments should remain."
   ]
  },
  {
   "cell_type": "code",
   "execution_count": null,
   "id": "e44f6ecf-c2f7-488b-82da-f816fd2e55bc",
   "metadata": {},
   "outputs": [],
   "source": [
    "(treatments[\"compound\"] + treatments[\"concentration\"].astype(str)).unique().shape\n",
    ""
   ]
  },
  {
   "cell_type": "code",
   "execution_count": null,
   "id": "1fcf7482-516c-4630-a4d8-b7963f92bc6a",
   "metadata": {},
   "outputs": [],
   "source": [
    "%%time\n",
    "df = pq.read_table(path).to_pandas()"
   ]
  },
  {
   "cell_type": "code",
   "execution_count": null,
   "id": "8f861579-3cf6-4ff9-961f-eea83494ab60",
   "metadata": {},
   "outputs": [],
   "source": [
    "df.columns[df.isna().all()]\n",
    ""
   ]
  },
  {
   "cell_type": "code",
   "execution_count": null,
   "id": "b1facdf3-dcf6-43a2-abc0-285fc06dcb4f",
   "metadata": {},
   "outputs": [],
   "source": [
    "df.shape\n",
    ""
   ]
  },
  {
   "cell_type": "code",
   "execution_count": null,
   "id": "7e6e8b62-a108-4e3b-bb2a-46bf69c9c380",
   "metadata": {},
   "outputs": [],
   "source": [
    "moa_image.columns = [\"meta_\" + c for c in moa_image.columns]\n",
    ""
   ]
  },
  {
   "cell_type": "code",
   "execution_count": null,
   "id": "d1a79773-6e34-4d20-8b21-69b7ffce2325",
   "metadata": {},
   "outputs": [],
   "source": [
    "df = df.merge(moa_image, left_on=\"meta_filename\", right_on=\"meta_Image_FileName_DAPI\")\n",
    ""
   ]
  },
  {
   "cell_type": "markdown",
   "id": "d12e4eda-bc84-46f7-b262-b06dc921cc48",
   "metadata": {
    "tags": []
   },
   "source": [
    "# Removing interplate variation"
   ]
  },
  {
   "cell_type": "code",
   "execution_count": null,
   "id": "e0c54478-0d11-458a-98e6-d009883a3c6e",
   "metadata": {},
   "outputs": [],
   "source": [
    "qq_dmso = (\n",
    "    df[df[\"meta_moa\"] == \"DMSO\"]\n",
    "    .groupby(\"meta_Image_Metadata_Plate_DAPI\")[df.filter(regex=\"feat\").columns]\n",
    "    .quantile((0.01, 0.99))\n",
    ")\n",
    ""
   ]
  },
  {
   "cell_type": "code",
   "execution_count": null,
   "id": "da214e22-3b49-41d0-9b8e-2021ba651100",
   "metadata": {
    "tags": []
   },
   "outputs": [],
   "source": [
    "dfs = []\n",
    "for idx, gdf in df.groupby(\"meta_Image_Metadata_Plate_DAPI\"):\n",
    "    print(idx)\n",
    "    df_scaled = (gdf.filter(regex=\"feat\") - qq_dmso.loc[idx, 0.01]) / (\n",
    "        qq_dmso.loc[idx, 0.99] - qq_dmso.loc[idx, 0.01]\n",
    "    )\n",
    "    df_scaled = pandas.concat([df_scaled, gdf.filter(regex=\"meta\")], axis=1)\n",
    "\n",
    "    dfs.append(df_scaled)\n",
    ""
   ]
  },
  {
   "cell_type": "code",
   "execution_count": null,
   "id": "91a60588-23dc-4b94-91af-e119ae432496",
   "metadata": {},
   "outputs": [],
   "source": [
    "df = pandas.concat(dfs)\n",
    "del dfs\n",
    ""
   ]
  },
  {
   "cell_type": "code",
   "execution_count": null,
   "id": "a0476dcc-8bfb-4cf4-9d70-73c4bd393bb8",
   "metadata": {},
   "outputs": [],
   "source": [
    "allnan = df.columns[df.isna().all()]\n",
    "allnan\n",
    ""
   ]
  },
  {
   "cell_type": "code",
   "execution_count": null,
   "id": "35f9bce0-cbaf-4eae-8d54-a052b0a10cba",
   "metadata": {},
   "outputs": [],
   "source": [
    "df = df.drop(columns=allnan)\n",
    ""
   ]
  },
  {
   "cell_type": "code",
   "execution_count": null,
   "id": "7df05853-1110-4238-8527-b6268de00ad5",
   "metadata": {},
   "outputs": [],
   "source": [
    "nancols = df.columns[df.isna().any()]\n",
    "nancols\n",
    ""
   ]
  },
  {
   "cell_type": "code",
   "execution_count": null,
   "id": "66c6d8a4-c4eb-4579-a91a-27a6439831c5",
   "metadata": {},
   "outputs": [],
   "source": [
    "df = df[~df.isna().any(axis=1)]\n",
    "df.shape\n",
    ""
   ]
  },
  {
   "cell_type": "markdown",
   "id": "68715479-4129-4d85-93ab-a0d0457e6d99",
   "metadata": {},
   "source": [
    "# Feature QC"
   ]
  },
  {
   "cell_type": "markdown",
   "id": "3843adac-3e2f-4270-9d02-80b35e5b3e03",
   "metadata": {},
   "source": [
    "After linear scaling features should be roughly in [0,1] range."
   ]
  },
  {
   "cell_type": "code",
   "execution_count": null,
   "id": "a8c02be5-5651-416d-87c3-045a89e0b278",
   "metadata": {},
   "outputs": [],
   "source": [
    "df.filter(regex=\"feat\").min().mean(), df.filter(regex=\"feat\").max().mean()\n",
    ""
   ]
  },
  {
   "cell_type": "code",
   "execution_count": null,
   "id": "87bd4f1d-dce2-4ecf-bec8-a5474477827e",
   "metadata": {},
   "outputs": [],
   "source": [
    "df.filter(regex=\"feat\").min().idxmin()\n",
    ""
   ]
  },
  {
   "cell_type": "code",
   "execution_count": null,
   "id": "83b7a4d1-dbb5-499b-9a96-15ad2211b500",
   "metadata": {},
   "outputs": [],
   "source": [
    "df.filter(regex=\"feat\").max().idxmax()\n",
    ""
   ]
  },
  {
   "cell_type": "code",
   "execution_count": null,
   "id": "dabcf367-9d9f-4a0f-a8d9-db48695cb95c",
   "metadata": {},
   "outputs": [],
   "source": [
    "df[\"feat_moments_central-0-0_DAPI\"].min(), df[\n",
    "    \"feat_moments_central-0-1_DAPI\"\n",
    "].min(), df[\"feat_moments_central-1-1_DAPI\"].min()\n",
    ""
   ]
  },
  {
   "cell_type": "code",
   "execution_count": null,
   "id": "f233d0c5-2c0f-4cbf-a10d-2a2370a214ed",
   "metadata": {},
   "outputs": [],
   "source": [
    "df[\"feat_moments_central-2-2_DAPI\"].min(), df[\n",
    "    \"feat_moments_central-2-3_DAPI\"\n",
    "].min(), df[\"feat_moments_central-3-3_DAPI\"].min()\n",
    ""
   ]
  },
  {
   "cell_type": "code",
   "execution_count": null,
   "id": "ee467254-9521-4093-8813-d48e35525a75",
   "metadata": {},
   "outputs": [],
   "source": [
    "df[\"feat_moments_hu-0_DAPI\"].min(), df[\"feat_moments_hu-1_DAPI\"].min(), df[\n",
    "    \"feat_moments_hu-2_DAPI\"\n",
    "].min(), df[\"feat_moments_hu-3_DAPI\"].min()\n",
    ""
   ]
  },
  {
   "cell_type": "code",
   "execution_count": null,
   "id": "dc90d15f-13ea-402d-861f-1fbbd0ab3354",
   "metadata": {},
   "outputs": [],
   "source": [
    "df = df.drop(columns=df.filter(regex=\"feat_moments.*[1, 2, 3, 4, 5, 6].*\").columns)\n",
    ""
   ]
  },
  {
   "cell_type": "code",
   "execution_count": null,
   "id": "c748ff70-8043-48ea-8c66-e647447c113b",
   "metadata": {},
   "outputs": [],
   "source": [
    "df.filter(regex=\"feat\").min().min(), df.filter(regex=\"feat\").max().max()\n",
    ""
   ]
  },
  {
   "cell_type": "code",
   "execution_count": null,
   "id": "c3947450-1561-4804-a580-b3f962531991",
   "metadata": {},
   "outputs": [],
   "source": [
    "df.filter(regex=\"feat\").min().idxmin(), df.filter(regex=\"feat\").max().idxmax()\n",
    ""
   ]
  },
  {
   "cell_type": "code",
   "execution_count": null,
   "id": "c4bf2a42-9318-456f-94a1-c011c1dda7fd",
   "metadata": {},
   "outputs": [],
   "source": [
    "df.filter(regex=\"glcm_\").max().sort_values()\n",
    ""
   ]
  },
  {
   "cell_type": "code",
   "execution_count": null,
   "id": "c09ce6e2-6225-47e2-bf6f-87d759a16144",
   "metadata": {},
   "outputs": [],
   "source": [
    "df.filter(regex=\"glcm_\").min().sort_values()\n",
    ""
   ]
  },
  {
   "cell_type": "code",
   "execution_count": null,
   "id": "4582f5c2-13a3-43da-87fa-55178c607db1",
   "metadata": {},
   "outputs": [],
   "source": [
    "df = df.drop(columns=df.filter(regex=\"feat_glcm_std.*\").columns)\n",
    ""
   ]
  },
  {
   "cell_type": "code",
   "execution_count": null,
   "id": "f1992ba7-1c34-4355-b1ca-22d8dab2fd12",
   "metadata": {},
   "outputs": [],
   "source": [
    "df.filter(regex=\"feat\").min().min(), df.filter(regex=\"feat\").max().max()\n",
    ""
   ]
  },
  {
   "cell_type": "code",
   "execution_count": null,
   "id": "3e9cb6e3-2e92-4711-8daf-416934c7edff",
   "metadata": {},
   "outputs": [],
   "source": [
    "df.filter(regex=\"feat\").min().idxmin(), df.filter(regex=\"feat\").max().idxmax()\n",
    ""
   ]
  },
  {
   "cell_type": "markdown",
   "id": "a0751c89-65b2-415d-86a9-a22037e215ab",
   "metadata": {
    "tags": []
   },
   "source": [
    "# Exploration"
   ]
  },
  {
   "cell_type": "code",
   "execution_count": null,
   "id": "e878837d-ff20-48e1-aafa-6f32000bb285",
   "metadata": {},
   "outputs": [],
   "source": [
    "mu = (\n",
    "    df[df[\"meta_moa\"] != \"DMSO\"]\n",
    "    .groupby([\"meta_compound\", \"meta_concentration\", \"meta_Replicate\"])\n",
    "    .agg(\n",
    "        {c: \"mean\" for c in df.filter(regex=\"feat\").columns}\n",
    "        | {c: lambda x: numpy.unique(x)[0] for c in df.filter(regex=\"meta\")}\n",
    "    )\n",
    ").reset_index(drop=True)\n",
    "\n",
    "mu = mu.groupby([\"meta_compound\", \"meta_concentration\"]).agg(\n",
    "    {c: \"median\" for c in mu.filter(regex=\"feat\").columns}\n",
    "    | {c: lambda x: numpy.unique(x)[0] for c in mu.filter(regex=\"meta\")}\n",
    ")\n",
    ""
   ]
  },
  {
   "cell_type": "code",
   "execution_count": null,
   "id": "c1d7ee40-f3bd-4448-9556-fd1a9d489dd0",
   "metadata": {},
   "outputs": [],
   "source": [
    "mu.shape\n",
    ""
   ]
  },
  {
   "cell_type": "code",
   "execution_count": null,
   "id": "1d0fde0f-bff4-4223-b99a-fa49e9b44f7a",
   "metadata": {},
   "outputs": [],
   "source": [
    "treatment_profiles = mu.reset_index(drop=True)\n",
    ""
   ]
  },
  {
   "cell_type": "code",
   "execution_count": null,
   "id": "46fd9872-fb58-4da8-9939-b194f4bd0c20",
   "metadata": {},
   "outputs": [],
   "source": [
    "dimred = PCA().fit_transform(treatment_profiles.filter(regex=\"feat\"))\n",
    ""
   ]
  },
  {
   "cell_type": "code",
   "execution_count": null,
   "id": "f0da4316-86e7-4172-80a8-9ca614770f95",
   "metadata": {},
   "outputs": [],
   "source": [
    "seaborn.scatterplot(\n",
    "    x=dimred[:, 0], y=dimred[:, 1], hue=treatment_profiles[\"meta_compound\"]\n",
    ")\n",
    "plt.legend(bbox_to_anchor=(1.02, 1), loc=\"upper left\", borderaxespad=0)\n",
    ""
   ]
  },
  {
   "cell_type": "code",
   "execution_count": null,
   "id": "ad192ccc-56ed-411e-a966-0385cf75fe5b",
   "metadata": {},
   "outputs": [],
   "source": [
    "seaborn.scatterplot(x=dimred[:, 0], y=dimred[:, 1], hue=treatment_profiles[\"meta_moa\"])\n",
    "plt.legend(bbox_to_anchor=(1.02, 1), loc=\"upper left\", borderaxespad=0)\n",
    ""
   ]
  },
  {
   "cell_type": "code",
   "execution_count": null,
   "id": "0a82855e-cf28-4175-b0aa-22db982c7e9b",
   "metadata": {},
   "outputs": [],
   "source": [
    "dimred = UMAP(metric=\"cosine\", min_dist=1, n_neighbors=4, random_state=0).fit_transform(\n",
    "    treatment_profiles.filter(regex=\"feat\")\n",
    ")\n",
    ""
   ]
  },
  {
   "cell_type": "code",
   "execution_count": null,
   "id": "30ce5536-ce80-4d0d-8e35-2da782824bce",
   "metadata": {},
   "outputs": [],
   "source": [
    "seaborn.scatterplot(\n",
    "    x=dimred[:, 0],\n",
    "    y=dimred[:, 1],\n",
    "    hue=treatment_profiles[\"meta_compound\"],\n",
    "    edgecolors=\"none\",\n",
    "    alpha=0.7,\n",
    ")\n",
    "plt.legend(bbox_to_anchor=(1.02, 1), loc=\"upper left\", borderaxespad=0)\n",
    ""
   ]
  },
  {
   "cell_type": "code",
   "execution_count": null,
   "id": "c92a25ae-84a9-41e1-a83d-19924748235c",
   "metadata": {},
   "outputs": [],
   "source": [
    "seaborn.scatterplot(\n",
    "    x=dimred[:, 0],\n",
    "    y=dimred[:, 1],\n",
    "    hue=treatment_profiles[\"meta_moa\"],\n",
    "    edgecolors=\"none\",\n",
    "    alpha=0.7,\n",
    ")\n",
    "plt.legend(bbox_to_anchor=(1.02, 1), loc=\"upper left\", borderaxespad=0)\n",
    ""
   ]
  },
  {
   "cell_type": "markdown",
   "id": "39d5d780-37b0-403e-b31b-eae03ccc6776",
   "metadata": {},
   "source": [
    "# Classification"
   ]
  },
  {
   "cell_type": "code",
   "execution_count": null,
   "id": "f9824f55-93a4-4f7b-b2de-215f8bb85614",
   "metadata": {},
   "outputs": [],
   "source": [
    "df[\"meta_row\"] = df[\"meta_Image_Metadata_Well_DAPI\"].map(lambda a: a[0])\n",
    ""
   ]
  },
  {
   "cell_type": "code",
   "execution_count": null,
   "id": "2663d75f-f63d-4c86-8fd0-cb41ecde64fc",
   "metadata": {},
   "outputs": [],
   "source": [
    "df_dmso = (\n",
    "    df[df[\"meta_compound\"] == \"DMSO\"]\n",
    "    .groupby([\"meta_Image_Metadata_Plate_DAPI\", \"meta_row\"])\n",
    "    .agg(\n",
    "        {c: \"mean\" for c in df.filter(regex=\"feat\").columns}\n",
    "        | {c: lambda x: numpy.unique(x)[0] for c in df.filter(regex=\"meta\")}\n",
    "    )\n",
    ")\n",
    ""
   ]
  },
  {
   "cell_type": "code",
   "execution_count": null,
   "id": "4eacb91c-dec4-4cc3-828d-9cc56f8d7b35",
   "metadata": {},
   "outputs": [],
   "source": [
    "# n_comps = 486\n",
    "n_comps = 50\n",
    ""
   ]
  },
  {
   "cell_type": "code",
   "execution_count": null,
   "id": "d533f15e-d775-43d9-a554-10ba67ce259e",
   "metadata": {},
   "outputs": [],
   "source": [
    "%%time\n",
    "fa = FactorAnalysis(random_state=0, n_components=50)\n",
    "fa.fit(df[df[\"meta_compound\"] == \"DMSO\"].filter(regex=\"feat\").sample(n=50000))"
   ]
  },
  {
   "cell_type": "code",
   "execution_count": null,
   "id": "3f58d79a-5ab3-4e3e-853a-4e37a2f89240",
   "metadata": {
    "tags": []
   },
   "outputs": [],
   "source": [
    "true = []\n",
    "preds = []\n",
    "\n",
    "for idx, df_test in tqdm(\n",
    "    df[~df[\"meta_compound\"].isin([\"DMSO\"])].groupby(\"meta_compound\")\n",
    "):\n",
    "    test_compounds = (\n",
    "        df[df[\"meta_batch\"].isin(df_test[\"meta_batch\"].unique())][\"meta_compound\"]\n",
    "        .unique()\n",
    "        .tolist()\n",
    "    )\n",
    "    test_compounds.remove(\"taxol\")\n",
    "    test_index = df[\"meta_compound\"].isin(test_compounds)\n",
    "\n",
    "    df_train = df[~test_index]\n",
    "\n",
    "    #     e1 = make_pipeline(\n",
    "    #         StandardScaler(),\n",
    "    #         PCA(n_components=n_comps, random_state=0)\n",
    "    #     )\n",
    "    #     e1.fit(df_train.filter(regex=\"feat\"))\n",
    "    e1 = fa\n",
    "\n",
    "    df_train = pandas.concat(\n",
    "        [\n",
    "            pandas.DataFrame(\n",
    "                e1.transform(df_train.filter(regex=\"feat\")),\n",
    "                columns=[\"feat-%d\" % i for i in range(n_comps)],\n",
    "                index=df_train.index,\n",
    "            ),\n",
    "            df_train.filter(regex=\"meta\"),\n",
    "        ],\n",
    "        axis=1,\n",
    "    )\n",
    "    df_test = pandas.concat(\n",
    "        [\n",
    "            pandas.DataFrame(\n",
    "                e1.transform(df_test.filter(regex=\"feat\")),\n",
    "                columns=[\"feat-%d\" % i for i in range(n_comps)],\n",
    "                index=df_test.index,\n",
    "            ),\n",
    "            df_test.filter(regex=\"meta\"),\n",
    "        ],\n",
    "        axis=1,\n",
    "    )\n",
    "\n",
    "    treatment_profiles_train = (\n",
    "        df_train.groupby([\"meta_compound\", \"meta_concentration\", \"meta_Replicate\"])\n",
    "        .agg(\n",
    "            {c: \"mean\" for c in df_train.filter(regex=\"feat\").columns}\n",
    "            | {c: lambda x: numpy.unique(x)[0] for c in df_train.filter(regex=\"meta\")}\n",
    "        )\n",
    "        .reset_index(drop=True)\n",
    "        .groupby([\"meta_compound\", \"meta_concentration\"])\n",
    "        .agg(\n",
    "            {c: \"median\" for c in df_train.filter(regex=\"feat\").columns}\n",
    "            | {c: lambda x: numpy.unique(x)[0] for c in df_train.filter(regex=\"meta\")}\n",
    "        )\n",
    "        .reset_index(drop=True)\n",
    "    )\n",
    "\n",
    "    treatment_profiles_test = (\n",
    "        df_test.groupby([\"meta_compound\", \"meta_concentration\", \"meta_Replicate\"])\n",
    "        .agg(\n",
    "            {c: \"mean\" for c in df_test.filter(regex=\"feat\").columns}\n",
    "            | {c: lambda x: numpy.unique(x)[0] for c in df_test.filter(regex=\"meta\")}\n",
    "        )\n",
    "        .reset_index(drop=True)\n",
    "        .groupby([\"meta_compound\", \"meta_concentration\"])\n",
    "        .agg(\n",
    "            {c: \"median\" for c in df_test.filter(regex=\"feat\").columns}\n",
    "            | {c: lambda x: numpy.unique(x)[0] for c in df_test.filter(regex=\"meta\")}\n",
    "        )\n",
    "        .reset_index(drop=True)\n",
    "    )\n",
    "\n",
    "    ### DMSO mock-treatments\n",
    "    #     cols = treatment_profiles_train.filter(regex=\"feat\").columns\n",
    "    #     treatment_profiles_train.loc[:, cols] = df_dmso.loc[[tuple(a) for a in treatment_profiles_train[[\"meta_Image_Metadata_Plate_DAPI\", \"meta_row\"]].values.tolist()], cols].reset_index(drop=True)\n",
    "    #     treatment_profiles_test.loc[:, cols] = df_dmso.loc[[tuple(a) for a in treatment_profiles_test[[\"meta_Image_Metadata_Plate_DAPI\", \"meta_row\"]].values.tolist()], cols].reset_index(drop=True)\n",
    "\n",
    "    e2 = KNeighborsClassifier(n_neighbors=1, metric=\"cosine\")\n",
    "    e2.fit(\n",
    "        X=treatment_profiles_train.filter(regex=\"feat\"),\n",
    "        y=treatment_profiles_train[\"meta_moa\"],\n",
    "    )\n",
    "\n",
    "    true.extend(treatment_profiles_test[\"meta_moa\"])\n",
    "    preds.extend(e2.predict(treatment_profiles_test.filter(regex=\"feat\")))\n",
    ""
   ]
  },
  {
   "cell_type": "code",
   "execution_count": null,
   "id": "2cfcb123-ac41-42ca-be11-da67e75f4581",
   "metadata": {},
   "outputs": [],
   "source": [
    "accuracy_score(true, preds)\n",
    ""
   ]
  },
  {
   "cell_type": "code",
   "execution_count": null,
   "id": "7ed9ba31-ac00-4a46-be6d-4c2b29624536",
   "metadata": {},
   "outputs": [],
   "source": [
    "fig, ax = plt.subplots()\n",
    "cm = confusion_matrix(true, preds)\n",
    "ConfusionMatrixDisplay(cm, display_labels=sorted(treatments[\"moa\"].unique())).plot(\n",
    "    ax=ax, colorbar=False, cmap=\"Reds\"\n",
    ")\n",
    "\n",
    "for child in ax.get_children():\n",
    "    if isinstance(child, matplotlib.text.Text) and child._text == \"0\":\n",
    "        child.set_visible(False)\n",
    "\n",
    "ax.set_xticks([])\n",
    "ax.xaxis.labelpad = 20\n",
    "\n",
    "acc = numpy.diag(cm) * 100 / cm.sum(axis=1)\n",
    "for i in range(len(cm)):\n",
    "    ax.text(x=11, y=i, s=\"%.0f%%\" % acc[i], va=\"center\", ha=\"right\")\n",
    "ax.text(x=11, y=-1, s=\"Acc.\", va=\"center\", ha=\"right\")\n",
    "ax.text(\n",
    "    x=11,\n",
    "    y=10,\n",
    "    s=\"Overall Acc.:%.0f%%\" % (accuracy_score(true, preds) * 100),\n",
    "    va=\"center\",\n",
    "    ha=\"right\",\n",
    ")\n",
    "\n",
    "# plt.savefig(confusion_matrix_path, dpi=300, bbox_inches=\"tight\")\n",
    ""
   ]
  },
  {
   "cell_type": "code",
   "execution_count": null,
   "id": "a7cf649f-ee2a-4b4b-85a3-9224bd2f250e",
   "metadata": {},
   "outputs": [],
   "source": [
    "sum(numpy.asarray(true) == numpy.asarray(preds))\n",
    ""
   ]
  },
  {
   "cell_type": "code",
   "execution_count": null,
   "id": "9ae7597c-8e59-4aa5-a583-654a77edde65",
   "metadata": {},
   "outputs": [],
   "source": []
  }
 ],
 "metadata": {
  "kernelspec": {
   "display_name": "Python 3 (ipykernel)",
   "language": "python",
   "name": "python3"
  },
  "language_info": {
   "codemirror_mode": {
    "name": "ipython",
    "version": 3
   },
   "file_extension": ".py",
   "mimetype": "text/x-python",
   "name": "python",
   "nbconvert_exporter": "python",
   "pygments_lexer": "ipython3",
   "version": "3.9.13"
  },
  "vscode": {
   "interpreter": {
    "hash": "64fd0ed183a0510f919c27dddcaa3e947ee6ca74b1ed547fc7204df54d1f1271"
   }
  }
 },
 "nbformat": 4,
 "nbformat_minor": 5
}
