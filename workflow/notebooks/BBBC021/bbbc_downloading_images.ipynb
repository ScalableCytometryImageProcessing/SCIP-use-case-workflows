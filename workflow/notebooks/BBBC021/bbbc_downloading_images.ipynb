{
 "cells": [
  {
   "cell_type": "markdown",
   "id": "8152492f-614b-449d-82b1-b2ef881d3ef2",
   "metadata": {},
   "source": [
    "# BBBC: download images from broad institute"
   ]
  },
  {
   "cell_type": "code",
   "execution_count": null,
   "id": "3e5498ab-e99e-454f-8c5b-b24cbc952b06",
   "metadata": {},
   "outputs": [],
   "source": [
    "%load_ext autoreload\n",
    "%autoreload 2"
   ]
  },
  {
   "cell_type": "code",
   "execution_count": null,
   "id": "de78cd7b-4459-49cc-8d4e-a99529b57189",
   "metadata": {},
   "outputs": [],
   "source": [
    "from scip_workflows.common import *\n"
   ]
  },
  {
   "cell_type": "code",
   "execution_count": null,
   "id": "7c2434f8-8e48-4ab7-ab03-f2aa83496956",
   "metadata": {},
   "outputs": [],
   "source": [
    "import requests\n"
   ]
  },
  {
   "cell_type": "code",
   "execution_count": null,
   "id": "1beb5995-57d2-4509-b00f-112e2f067174",
   "metadata": {},
   "outputs": [],
   "source": [
    "data_dir = Path(\"/user/gent/420/vsc42015/vsc_data_vo/datasets/BBBC021\")\n"
   ]
  },
  {
   "cell_type": "code",
   "execution_count": null,
   "id": "68827351-17e1-41a6-af85-3523ce8a4956",
   "metadata": {},
   "outputs": [],
   "source": [
    "image = pandas.read_csv(data_dir / \"BBBC021_v1_image.csv\")\n"
   ]
  },
  {
   "cell_type": "code",
   "execution_count": null,
   "id": "13144ffe-6a96-43b8-959e-9d123effbda7",
   "metadata": {},
   "outputs": [],
   "source": [
    "image.head()\n"
   ]
  },
  {
   "cell_type": "code",
   "execution_count": null,
   "id": "581e68d7-a786-4e9a-a611-c696c09b8451",
   "metadata": {},
   "outputs": [],
   "source": [
    "expected = image[\"Image_PathName_Actin\"].apply(lambda a: Path(a).name).unique()\n"
   ]
  },
  {
   "cell_type": "code",
   "execution_count": null,
   "id": "e20ac971-b041-4337-9d06-062b867d0964",
   "metadata": {},
   "outputs": [],
   "source": [
    "actual = [p.name for p in Path(data_dir / \"images\").iterdir()]\n"
   ]
  },
  {
   "cell_type": "code",
   "execution_count": null,
   "id": "9e879a7f-b0a3-4a0d-adde-cb63187d3570",
   "metadata": {},
   "outputs": [],
   "source": [
    "expected[[f not in actual for f in expected]]\n"
   ]
  },
  {
   "cell_type": "code",
   "execution_count": null,
   "id": "890f6544-4181-4c86-8193-ed701ddd3946",
   "metadata": {},
   "outputs": [],
   "source": [
    "base_url = \"https://data.broadinstitute.org/bbbc/BBBC021/BBBC021_v1_images_%s.zip\"\n"
   ]
  },
  {
   "cell_type": "code",
   "execution_count": null,
   "id": "c5620e51-3ebf-4e85-a541-22c94b47d4b9",
   "metadata": {},
   "outputs": [],
   "source": [
    "urls_to_download = [\n",
    "    base_url % name\n",
    "    for name in image[\"Image_PathName_DAPI\"].apply(lambda a: a.split(\"/\")[1]).unique()\n",
    "]\n"
   ]
  },
  {
   "cell_type": "code",
   "execution_count": null,
   "id": "fab79d76-975b-4587-89a5-86969324f591",
   "metadata": {},
   "outputs": [],
   "source": [
    "for url in urls_to_download:\n",
    "    req = requests.get(url)\n",
    "    with open(data_dir / \"images\" / os.path.basename(url), \"wb\") as fh:\n",
    "        fh.write(req.content)\n"
   ]
  },
  {
   "cell_type": "code",
   "execution_count": null,
   "id": "2bc8616a-a9f7-447b-89b1-69e611eee4f2",
   "metadata": {},
   "outputs": [],
   "source": []
  }
 ],
 "metadata": {
  "kernelspec": {
   "display_name": "Python 3 (ipykernel)",
   "language": "python",
   "name": "python3"
  },
  "language_info": {
   "codemirror_mode": {
    "name": "ipython",
    "version": 3
   },
   "file_extension": ".py",
   "mimetype": "text/x-python",
   "name": "python",
   "nbconvert_exporter": "python",
   "pygments_lexer": "ipython3",
   "version": "3.9.6"
  }
 },
 "nbformat": 4,
 "nbformat_minor": 5
}
