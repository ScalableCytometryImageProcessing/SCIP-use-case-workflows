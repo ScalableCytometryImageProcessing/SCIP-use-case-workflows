{
 "cells": [
  {
   "cell_type": "markdown",
   "id": "f33ca2a1-b301-4f6e-9652-597503bf6db2",
   "metadata": {},
   "source": [
    "# BBBC: selecting images"
   ]
  },
  {
   "cell_type": "code",
   "execution_count": 1,
   "id": "d92be3f5-89fd-453b-a0e5-0029d8c0dd0d",
   "metadata": {},
   "outputs": [],
   "source": [
    "%load_ext autoreload\n",
    "%autoreload 2"
   ]
  },
  {
   "cell_type": "code",
   "execution_count": 2,
   "id": "4ed1d5a0-6d9b-4729-933a-54b14d218f19",
   "metadata": {},
   "outputs": [],
   "source": [
    "# %load ../common_.py\n",
    "import sys\n",
    "sys.path.append(\"../..\")\n",
    "from common import *"
   ]
  },
  {
   "cell_type": "code",
   "execution_count": 4,
   "id": "ed1624a1-5c2a-4e86-982a-d10e29dbd639",
   "metadata": {},
   "outputs": [],
   "source": [
    "data_dir = Path(\"/data/Experiment_data/BBBC021/\")"
   ]
  },
  {
   "cell_type": "code",
   "execution_count": 3,
   "id": "6e20ac5d-ff6f-4a2e-b82b-00efb6781276",
   "metadata": {},
   "outputs": [],
   "source": [
    "data_dir = Path(os.environ[\"VSC_DATA_VO_USER\"]) / \"datasets/BBBC021\""
   ]
  },
  {
   "cell_type": "code",
   "execution_count": 4,
   "id": "eb2a0f8b-5a1b-4864-b718-387066a73ae7",
   "metadata": {},
   "outputs": [],
   "source": [
    "moa = pandas.read_csv(data_dir / \"BBBC021_v1_moa.csv\")\n",
    "image = pandas.read_csv(data_dir / \"BBBC021_v1_image.csv\")"
   ]
  },
  {
   "cell_type": "code",
   "execution_count": 5,
   "id": "8fb8d8d8-04af-4c33-bcb0-b5d3d144e36e",
   "metadata": {},
   "outputs": [],
   "source": [
    "moa_image = moa.merge(image, left_on=(\"compound\", \"concentration\"), right_on=(\"Image_Metadata_Compound\", \"Image_Metadata_Concentration\"))"
   ]
  },
  {
   "cell_type": "code",
   "execution_count": 20,
   "id": "2f82095d-2a53-496e-a8e7-82228409dbbb",
   "metadata": {},
   "outputs": [],
   "source": [
    "import shutil\n",
    "from tqdm.notebook import tqdm"
   ]
  },
  {
   "cell_type": "code",
   "execution_count": 22,
   "id": "761a41c9-e767-4741-ae07-0b98675381bf",
   "metadata": {},
   "outputs": [
    {
     "data": {
      "application/vnd.jupyter.widget-view+json": {
       "model_id": "7f0024009c334fdcac2d686f14aa03a0",
       "version_major": 2,
       "version_minor": 0
      },
      "text/plain": [
       "  0%|          | 0/3848 [00:00<?, ?it/s]"
      ]
     },
     "metadata": {},
     "output_type": "display_data"
    }
   ],
   "source": [
    "from_dir = data_dir / \"images\"\n",
    "base_dir = data_dir / \"images_subset\"\n",
    "for _, im in tqdm(list(moa_image.iterrows())):\n",
    "    i = from_dir / im[\"Image_Metadata_Plate_DAPI\"]\n",
    "    o = base_dir / im[\"Image_Metadata_Plate_DAPI\"]\n",
    "    o.mkdir(exist_ok=True)\n",
    "    \n",
    "    for c in [\"DAPI\", \"Actin\", \"Tubulin\"]:\n",
    "        shutil.copyfile(\n",
    "            i / im[\"Image_FileName_%s\" % c],\n",
    "            o / im[\"Image_FileName_%s\" % c]\n",
    "        )"
   ]
  },
  {
   "cell_type": "code",
   "execution_count": null,
   "id": "66a87c95-18b6-4adb-850d-1c5cace68aad",
   "metadata": {},
   "outputs": [],
   "source": []
  }
 ],
 "metadata": {
  "kernelspec": {
   "display_name": "Python 3 (ipykernel)",
   "language": "python",
   "name": "python3"
  },
  "language_info": {
   "codemirror_mode": {
    "name": "ipython",
    "version": 3
   },
   "file_extension": ".py",
   "mimetype": "text/x-python",
   "name": "python",
   "nbconvert_exporter": "python",
   "pygments_lexer": "ipython3",
   "version": "3.9.6"
  }
 },
 "nbformat": 4,
 "nbformat_minor": 5
}
