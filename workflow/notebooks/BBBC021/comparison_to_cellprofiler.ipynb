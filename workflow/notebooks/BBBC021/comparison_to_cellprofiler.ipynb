{
 "cells": [
  {
   "cell_type": "markdown",
   "id": "c49dff4c-6b4d-4f6f-aaca-31aa9da3d12f",
   "metadata": {},
   "source": [
    "# BBBC comparison"
   ]
  },
  {
   "cell_type": "code",
   "execution_count": null,
   "id": "78fbb6b4-85ac-4c0f-9e46-0d68c192380f",
   "metadata": {},
   "outputs": [],
   "source": [
    "%load_ext autoreload\n",
    "%autoreload 2"
   ]
  },
  {
   "cell_type": "code",
   "execution_count": null,
   "id": "213ee90b-b630-4235-b862-ddd4178b2861",
   "metadata": {},
   "outputs": [],
   "source": [
    "from scip_workflows.common import *\n",
    ""
   ]
  },
  {
   "cell_type": "code",
   "execution_count": null,
   "id": "b268c49b-c452-4ac0-8ad4-858383e9d236",
   "metadata": {},
   "outputs": [],
   "source": []
  },
  {
   "cell_type": "code",
   "execution_count": null,
   "id": "a951b42b-ff32-4b5b-94df-fb06b2dd0559",
   "metadata": {},
   "outputs": [],
   "source": [
    "try:\n",
    "    path_gt = snakemake.input.gt\n",
    "    moa_path = snakemake.input.moa\n",
    "    image_path = snakemake.input.image\n",
    "    path = snakemake.input.features\n",
    "except NameError:\n",
    "    data_root = Path(\"/data/gent/vo/000/gvo00070/vsc42015/datasets/BBBC021\")\n",
    "    # data_root = Path(\"/home/maximl/scratch/data/vsc/datasets/BBBC021/\")\n",
    "    data_dir_gt = data_root / \"cellprofiler\"\n",
    "    path_gt = data_dir_gt / \"db.sqlite3\"\n",
    "    moa_path = data_root / \"BBBC021_v1_moa.csv\"\n",
    "    image_path = data_root / \"BBBC021_v1_image.csv\"\n",
    "    data_dir = data_root / \"results\" / \"images_subset_v4\"\n",
    "    path = data_dir / \"features.parquet\"\n",
    ""
   ]
  },
  {
   "cell_type": "code",
   "execution_count": null,
   "id": "29f843f4-87b6-4ee3-8a1b-d35b3db2ffab",
   "metadata": {},
   "outputs": [],
   "source": [
    "moa = pandas.read_csv(moa_path)\n",
    "image = pandas.read_csv(image_path)\n",
    ""
   ]
  },
  {
   "cell_type": "code",
   "execution_count": null,
   "id": "835e3b7c-2338-4297-92a1-f6af96f092da",
   "metadata": {},
   "outputs": [],
   "source": [
    "moa_image = moa.merge(\n",
    "    image,\n",
    "    left_on=[\"compound\", \"concentration\"],\n",
    "    right_on=[\"Image_Metadata_Compound\", \"Image_Metadata_Concentration\"],\n",
    ").drop(columns=[\"Image_Metadata_Compound\", \"Image_Metadata_Concentration\"])\n",
    ""
   ]
  },
  {
   "cell_type": "code",
   "execution_count": null,
   "id": "8ea77a7a-deb2-4e31-9fbb-5e64da23a2f6",
   "metadata": {},
   "outputs": [],
   "source": [
    "moa_image[\"batch\"] = (\n",
    "    moa_image[\"Image_Metadata_Plate_DAPI\"]\n",
    "    .apply(lambda p: int(p.split(\"_\")[0][len(\"Week\") :]))\n",
    "    .astype(\"category\")\n",
    ")\n",
    ""
   ]
  },
  {
   "cell_type": "code",
   "execution_count": null,
   "id": "93afc870-ccd5-44c7-b671-e44f23650f83",
   "metadata": {},
   "outputs": [],
   "source": [
    "moa_image.columns = [\"meta_\" + c for c in moa_image.columns]\n",
    ""
   ]
  },
  {
   "cell_type": "code",
   "execution_count": null,
   "id": "048599fa-a93e-4554-94f2-709d8277cbe2",
   "metadata": {},
   "outputs": [],
   "source": [
    "import sqlite3\n",
    "\n",
    "con = sqlite3.connect(path_gt)\n",
    ""
   ]
  },
  {
   "cell_type": "code",
   "execution_count": null,
   "id": "fa35fe2f-c73b-4a56-a0cc-535eaea5fa9a",
   "metadata": {},
   "outputs": [],
   "source": [
    "df_gt = pandas.read_sql_query(\n",
    "    \"\"\"\n",
    "    SELECT * \n",
    "    FROM supplement_Object\n",
    "    INNER JOIN supplement_Image ON (supplement_Object.TableNumber = supplement_Image.TableNumber) AND (supplement_Object.ImageNumber = supplement_Image.ImageNumber)\n",
    "\"\"\",\n",
    "    con,\n",
    ")\n",
    ""
   ]
  },
  {
   "cell_type": "code",
   "execution_count": null,
   "id": "1b7dd869-3fd5-4450-9f43-b92f320074e3",
   "metadata": {},
   "outputs": [],
   "source": [
    "df_gt_image = pandas.read_sql_query(\"SELECT * FROM supplement_Image\", con)\n",
    ""
   ]
  },
  {
   "cell_type": "code",
   "execution_count": null,
   "id": "ae4f04b6-1c71-4d5d-9208-3885199fe983",
   "metadata": {},
   "outputs": [],
   "source": [
    "df_gt.shape\n",
    ""
   ]
  },
  {
   "cell_type": "markdown",
   "id": "b9c19b15-1c50-47d2-97f7-c3cd639eeec8",
   "metadata": {},
   "source": [
    "# Actin + DAPI segmentation"
   ]
  },
  {
   "cell_type": "code",
   "execution_count": null,
   "id": "f4846d9e-51aa-494d-a23e-8f496bf14ee2",
   "metadata": {},
   "outputs": [],
   "source": [
    "%%time\n",
    "df1 = pq.read_table(path).to_pandas()\n",
    "df1 = df1.merge(moa_image, left_on=\"meta_filename\", right_on=\"meta_Image_FileName_DAPI\")"
   ]
  },
  {
   "cell_type": "code",
   "execution_count": null,
   "id": "10cc36de-759d-45c5-ad17-c65ba5899efd",
   "metadata": {},
   "outputs": [],
   "source": [
    "plate_counts = (\n",
    "    df_gt.groupby(\"Image_Metadata_Plate_DAPI\")\n",
    "    .size()\n",
    "    .to_frame()\n",
    "    .merge(\n",
    "        df1.groupby(\"meta_Image_Metadata_Plate_DAPI\").size().to_frame(),\n",
    "        left_index=True,\n",
    "        right_index=True,\n",
    "    )\n",
    ")\n",
    "plate_counts.columns = [\"gt\", \"my\"]\n",
    "\n",
    "plate_counts[\"diff\"] = plate_counts[\"gt\"] - plate_counts[\"my\"]\n",
    ""
   ]
  },
  {
   "cell_type": "code",
   "execution_count": null,
   "id": "a5eed2b9-f59d-4b0b-ac8b-457bc2e5f996",
   "metadata": {},
   "outputs": [],
   "source": [
    "plate_counts.sort_values(\"diff\")\n",
    ""
   ]
  },
  {
   "cell_type": "code",
   "execution_count": null,
   "id": "b7ec827c-e037-46e0-8d75-720ee639c5c5",
   "metadata": {},
   "outputs": [],
   "source": [
    "image_counts = (\n",
    "    df_gt.groupby(\"Image_FileName_DAPI\")\n",
    "    .size()\n",
    "    .to_frame()\n",
    "    .merge(\n",
    "        df1.groupby(\"meta_filename\").size().to_frame(),\n",
    "        left_index=True,\n",
    "        right_index=True,\n",
    "    )\n",
    ")\n",
    "image_counts.columns = [\"gt\", \"my\"]\n",
    "\n",
    "image_counts[\"diff\"] = image_counts[\"gt\"] - image_counts[\"my\"]\n",
    ""
   ]
  },
  {
   "cell_type": "code",
   "execution_count": null,
   "id": "c8952469-5bdb-4ff4-828d-742f68c43fce",
   "metadata": {},
   "outputs": [],
   "source": [
    "image_counts.sort_values(\"diff\")\n",
    ""
   ]
  },
  {
   "cell_type": "code",
   "execution_count": null,
   "id": "0e5f50ac-8414-4e39-a538-bbb46061f518",
   "metadata": {},
   "outputs": [],
   "source": [
    "r = df_gt_image[\n",
    "    df_gt_image[\"Image_FileName_DAPI\"] == image_counts.sort_values(\"diff\").iloc[-2].name\n",
    "].iloc[0]\n",
    ""
   ]
  },
  {
   "cell_type": "code",
   "execution_count": null,
   "id": "fb507c9c-7755-4bd0-9026-f2358e961d36",
   "metadata": {},
   "outputs": [],
   "source": [
    "r[\"Image_Metadata_Plate_DAPI\"]\n",
    ""
   ]
  },
  {
   "cell_type": "code",
   "execution_count": null,
   "id": "b5647df8-a11d-48d5-80b7-8f6d61ff0d75",
   "metadata": {},
   "outputs": [],
   "source": [
    "r[\"Image_FileName_DAPI\"]\n",
    ""
   ]
  },
  {
   "cell_type": "markdown",
   "id": "c0e72583-b3b6-45fb-b8c2-af0954d7d7ad",
   "metadata": {},
   "source": [
    "# Value comparisons"
   ]
  },
  {
   "cell_type": "code",
   "execution_count": null,
   "id": "237bfc67-8807-4986-ac3b-786499c0baa1",
   "metadata": {},
   "outputs": [],
   "source": [
    "seaborn.ecdfplot(\n",
    "    data=df_gt[df_gt[\"Cells_AreaShape_Area\"] < 20000], x=\"Cells_AreaShape_Area\"\n",
    ")\n",
    ""
   ]
  },
  {
   "cell_type": "code",
   "execution_count": null,
   "id": "d37c711f-2771-440b-8fce-f60d8eb585df",
   "metadata": {},
   "outputs": [],
   "source": [
    "seaborn.ecdfplot(data=df1[df1[\"feat_area_actin\"] < 20000], x=\"feat_area_actin\")\n",
    ""
   ]
  },
  {
   "cell_type": "code",
   "execution_count": null,
   "id": "b3280670-b4ed-4de1-b4a7-7c6bce3e06b7",
   "metadata": {},
   "outputs": [],
   "source": [
    "seaborn.ecdfplot(\n",
    "    data=df_gt[df_gt[\"Cytoplasm_AreaShape_Area\"] < 10000], x=\"Cytoplasm_AreaShape_Area\"\n",
    ")\n",
    ""
   ]
  },
  {
   "cell_type": "code",
   "execution_count": null,
   "id": "bcf6aeef-9abc-4e67-93c5-e048c59406a2",
   "metadata": {},
   "outputs": [],
   "source": [
    "seaborn.ecdfplot(data=df1[df1[\"feat_area_tubulin\"] < 10000], x=\"feat_area_tubulin\")\n",
    ""
   ]
  },
  {
   "cell_type": "code",
   "execution_count": null,
   "id": "fdd420a9-1e3b-4481-a902-b0954c0072ba",
   "metadata": {},
   "outputs": [],
   "source": [
    "seaborn.ecdfplot(data=df1, x=\"feat_sum_actin\")\n",
    ""
   ]
  },
  {
   "cell_type": "code",
   "execution_count": null,
   "id": "4425a0c1-7eee-45e5-b317-5209ac1e0bc9",
   "metadata": {},
   "outputs": [],
   "source": [
    "seaborn.ecdfplot(data=df_gt, x=\"Cells_Intensity_MaxIntensity_CorrActin\")\n",
    ""
   ]
  },
  {
   "cell_type": "code",
   "execution_count": null,
   "id": "7a0ac17e-220e-45a9-8c52-9e808dfe9552",
   "metadata": {},
   "outputs": [],
   "source": []
  }
 ],
 "metadata": {
  "kernelspec": {
   "display_name": "Python 3.9.13 ('scip')",
   "language": "python",
   "name": "python3"
  },
  "language_info": {
   "codemirror_mode": {
    "name": "ipython",
    "version": 3
   },
   "file_extension": ".py",
   "mimetype": "text/x-python",
   "name": "python",
   "nbconvert_exporter": "python",
   "pygments_lexer": "ipython3",
   "version": "3.9.13"
  },
  "vscode": {
   "interpreter": {
    "hash": "6c19ec75b5216c81abf931859392d42d22f386772f224f44a894f50f6487f0f0"
   }
  }
 },
 "nbformat": 4,
 "nbformat_minor": 5
}
