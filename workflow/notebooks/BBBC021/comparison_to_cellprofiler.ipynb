{
 "cells": [
  {
   "cell_type": "markdown",
   "id": "c49dff4c-6b4d-4f6f-aaca-31aa9da3d12f",
   "metadata": {},
   "source": [
    "# BBBC comparison"
   ]
  },
  {
   "cell_type": "code",
   "execution_count": 1,
   "id": "78fbb6b4-85ac-4c0f-9e46-0d68c192380f",
   "metadata": {},
   "outputs": [],
   "source": [
    "%load_ext autoreload\n",
    "%autoreload 2"
   ]
  },
  {
   "cell_type": "code",
   "execution_count": 2,
   "id": "213ee90b-b630-4235-b862-ddd4178b2861",
   "metadata": {},
   "outputs": [],
   "source": [
    "from scip_workflows.common import *"
   ]
  },
  {
   "cell_type": "code",
   "execution_count": 3,
   "id": "b268c49b-c452-4ac0-8ad4-858383e9d236",
   "metadata": {},
   "outputs": [],
   "source": [
    "\n",
    "import pickle"
   ]
  },
  {
   "cell_type": "code",
   "execution_count": 4,
   "id": "a951b42b-ff32-4b5b-94df-fb06b2dd0559",
   "metadata": {},
   "outputs": [],
   "source": [
    "try:\n",
    "    path_gt = snakemake.input.gt\n",
    "    moa_path = snakemake.input.moa\n",
    "    image_path = snakemake.input.image\n",
    "    path = snakemake.input.features\n",
    "except NameError:\n",
    "    data_root = Path(\"/data/gent/vo/000/gvo00070/vsc42015/datasets/BBBC021\")\n",
    "    # data_root = Path(\"/home/maximl/scratch/data/vsc/datasets/BBBC021/\")\n",
    "    data_dir_gt = data_root / \"cellprofiler\"\n",
    "    path_gt = data_dir_gt / \"db.sqlite3\"\n",
    "    moa_path = data_root / \"BBBC021_v1_moa.csv\"\n",
    "    image_path = data_root / \"BBBC021_v1_image.csv\"\n",
    "    data_dir = data_root / \"results\" / \"images_subset_v4\"\n",
    "    path = data_dir / \"features.parquet\""
   ]
  },
  {
   "cell_type": "code",
   "execution_count": 6,
   "id": "29f843f4-87b6-4ee3-8a1b-d35b3db2ffab",
   "metadata": {},
   "outputs": [],
   "source": [
    "moa = pandas.read_csv(moa_path)\n",
    "image = pandas.read_csv(image_path)"
   ]
  },
  {
   "cell_type": "code",
   "execution_count": 7,
   "id": "835e3b7c-2338-4297-92a1-f6af96f092da",
   "metadata": {},
   "outputs": [],
   "source": [
    "moa_image = moa.merge(\n",
    "    image,\n",
    "    left_on=[\"compound\", \"concentration\"],\n",
    "    right_on=[\"Image_Metadata_Compound\", \"Image_Metadata_Concentration\"]\n",
    ").drop(columns=[\"Image_Metadata_Compound\", \"Image_Metadata_Concentration\"])"
   ]
  },
  {
   "cell_type": "code",
   "execution_count": 8,
   "id": "8ea77a7a-deb2-4e31-9fbb-5e64da23a2f6",
   "metadata": {},
   "outputs": [],
   "source": [
    "moa_image[\"batch\"] = moa_image[\"Image_Metadata_Plate_DAPI\"].apply(lambda p: int(p.split(\"_\")[0][len(\"Week\"):])).astype('category')"
   ]
  },
  {
   "cell_type": "code",
   "execution_count": 9,
   "id": "93afc870-ccd5-44c7-b671-e44f23650f83",
   "metadata": {},
   "outputs": [],
   "source": [
    "moa_image.columns = [\"meta_\" + c for c in moa_image.columns]"
   ]
  },
  {
   "cell_type": "code",
   "execution_count": 10,
   "id": "048599fa-a93e-4554-94f2-709d8277cbe2",
   "metadata": {},
   "outputs": [],
   "source": [
    "import sqlite3\n",
    "con = sqlite3.connect(path_gt)"
   ]
  },
  {
   "cell_type": "code",
   "execution_count": 11,
   "id": "fa35fe2f-c73b-4a56-a0cc-535eaea5fa9a",
   "metadata": {},
   "outputs": [],
   "source": [
    "df_gt = pandas.read_sql_query(\"\"\"\n",
    "    SELECT * \n",
    "    FROM supplement_Object\n",
    "    INNER JOIN supplement_Image ON (supplement_Object.TableNumber = supplement_Image.TableNumber) AND (supplement_Object.ImageNumber = supplement_Image.ImageNumber)\n",
    "\"\"\", con)"
   ]
  },
  {
   "cell_type": "code",
   "execution_count": 12,
   "id": "1b7dd869-3fd5-4450-9f43-b92f320074e3",
   "metadata": {},
   "outputs": [],
   "source": [
    "df_gt_image = pandas.read_sql_query(\"SELECT * FROM supplement_Image\", con)"
   ]
  },
  {
   "cell_type": "code",
   "execution_count": 15,
   "id": "ae4f04b6-1c71-4d5d-9208-3885199fe983",
   "metadata": {},
   "outputs": [
    {
     "data": {
      "text/plain": [
       "(454793, 518)"
      ]
     },
     "execution_count": 15,
     "metadata": {},
     "output_type": "execute_result"
    }
   ],
   "source": [
    "df_gt.shape"
   ]
  },
  {
   "cell_type": "markdown",
   "id": "b9c19b15-1c50-47d2-97f7-c3cd639eeec8",
   "metadata": {},
   "source": [
    "# Actin + DAPI segmentation"
   ]
  },
  {
   "cell_type": "code",
   "execution_count": 14,
   "id": "f4846d9e-51aa-494d-a23e-8f496bf14ee2",
   "metadata": {},
   "outputs": [
    {
     "name": "stdout",
     "output_type": "stream",
     "text": [
      "CPU times: user 4.18 s, sys: 3.78 s, total: 7.96 s\n",
      "Wall time: 12 s\n"
     ]
    }
   ],
   "source": [
    "%%time\n",
    "df1 = pq.read_table(path).to_pandas()\n",
    "df1 = df1.merge(moa_image, left_on=\"meta_filename\", right_on=\"meta_Image_FileName_DAPI\")"
   ]
  },
  {
   "cell_type": "code",
   "execution_count": 15,
   "id": "10cc36de-759d-45c5-ad17-c65ba5899efd",
   "metadata": {},
   "outputs": [],
   "source": [
    "plate_counts = (\n",
    "    df_gt\n",
    "    .groupby(\"Image_Metadata_Plate_DAPI\")\n",
    "    .size()\n",
    "    .to_frame()\n",
    "    .merge(df1.groupby(\"meta_Image_Metadata_Plate_DAPI\").size().to_frame(), left_index=True, right_index=True)\n",
    ")\n",
    "plate_counts.columns = [\"gt\", \"my\"]\n",
    "\n",
    "plate_counts[\"diff\"] = (plate_counts[\"gt\"] - plate_counts[\"my\"])"
   ]
  },
  {
   "cell_type": "code",
   "execution_count": 16,
   "id": "a5eed2b9-f59d-4b0b-ac8b-457bc2e5f996",
   "metadata": {},
   "outputs": [
    {
     "data": {
      "text/html": [
       "<div>\n",
       "<style scoped>\n",
       "    .dataframe tbody tr th:only-of-type {\n",
       "        vertical-align: middle;\n",
       "    }\n",
       "\n",
       "    .dataframe tbody tr th {\n",
       "        vertical-align: top;\n",
       "    }\n",
       "\n",
       "    .dataframe thead th {\n",
       "        text-align: right;\n",
       "    }\n",
       "</style>\n",
       "<table border=\"1\" class=\"dataframe\">\n",
       "  <thead>\n",
       "    <tr style=\"text-align: right;\">\n",
       "      <th></th>\n",
       "      <th>gt</th>\n",
       "      <th>my</th>\n",
       "      <th>diff</th>\n",
       "    </tr>\n",
       "    <tr>\n",
       "      <th>Image_Metadata_Plate_DAPI</th>\n",
       "      <th></th>\n",
       "      <th></th>\n",
       "      <th></th>\n",
       "    </tr>\n",
       "  </thead>\n",
       "  <tbody>\n",
       "    <tr>\n",
       "      <th>Week5_29341</th>\n",
       "      <td>6795</td>\n",
       "      <td>8787</td>\n",
       "      <td>-1992</td>\n",
       "    </tr>\n",
       "    <tr>\n",
       "      <th>Week4_27521</th>\n",
       "      <td>7516</td>\n",
       "      <td>9490</td>\n",
       "      <td>-1974</td>\n",
       "    </tr>\n",
       "    <tr>\n",
       "      <th>Week3_25701</th>\n",
       "      <td>10575</td>\n",
       "      <td>12497</td>\n",
       "      <td>-1922</td>\n",
       "    </tr>\n",
       "    <tr>\n",
       "      <th>Week3_25681</th>\n",
       "      <td>10626</td>\n",
       "      <td>12504</td>\n",
       "      <td>-1878</td>\n",
       "    </tr>\n",
       "    <tr>\n",
       "      <th>Week5_29321</th>\n",
       "      <td>7200</td>\n",
       "      <td>9074</td>\n",
       "      <td>-1874</td>\n",
       "    </tr>\n",
       "    <tr>\n",
       "      <th>Week5_28901</th>\n",
       "      <td>7261</td>\n",
       "      <td>9122</td>\n",
       "      <td>-1861</td>\n",
       "    </tr>\n",
       "    <tr>\n",
       "      <th>Week10_40111</th>\n",
       "      <td>16275</td>\n",
       "      <td>18059</td>\n",
       "      <td>-1784</td>\n",
       "    </tr>\n",
       "    <tr>\n",
       "      <th>Week5_29301</th>\n",
       "      <td>6324</td>\n",
       "      <td>8104</td>\n",
       "      <td>-1780</td>\n",
       "    </tr>\n",
       "    <tr>\n",
       "      <th>Week5_28921</th>\n",
       "      <td>8797</td>\n",
       "      <td>10543</td>\n",
       "      <td>-1746</td>\n",
       "    </tr>\n",
       "    <tr>\n",
       "      <th>Week3_25721</th>\n",
       "      <td>11829</td>\n",
       "      <td>13569</td>\n",
       "      <td>-1740</td>\n",
       "    </tr>\n",
       "    <tr>\n",
       "      <th>Week4_27801</th>\n",
       "      <td>12481</td>\n",
       "      <td>14175</td>\n",
       "      <td>-1694</td>\n",
       "    </tr>\n",
       "    <tr>\n",
       "      <th>Week10_40115</th>\n",
       "      <td>11552</td>\n",
       "      <td>13058</td>\n",
       "      <td>-1506</td>\n",
       "    </tr>\n",
       "    <tr>\n",
       "      <th>Week4_27821</th>\n",
       "      <td>11975</td>\n",
       "      <td>13383</td>\n",
       "      <td>-1408</td>\n",
       "    </tr>\n",
       "    <tr>\n",
       "      <th>Week6_31661</th>\n",
       "      <td>5783</td>\n",
       "      <td>7150</td>\n",
       "      <td>-1367</td>\n",
       "    </tr>\n",
       "    <tr>\n",
       "      <th>Week4_27481</th>\n",
       "      <td>3865</td>\n",
       "      <td>5225</td>\n",
       "      <td>-1360</td>\n",
       "    </tr>\n",
       "    <tr>\n",
       "      <th>Week4_27861</th>\n",
       "      <td>10628</td>\n",
       "      <td>11946</td>\n",
       "      <td>-1318</td>\n",
       "    </tr>\n",
       "    <tr>\n",
       "      <th>Week4_27542</th>\n",
       "      <td>4518</td>\n",
       "      <td>5770</td>\n",
       "      <td>-1252</td>\n",
       "    </tr>\n",
       "    <tr>\n",
       "      <th>Week2_24361</th>\n",
       "      <td>7591</td>\n",
       "      <td>8816</td>\n",
       "      <td>-1225</td>\n",
       "    </tr>\n",
       "    <tr>\n",
       "      <th>Week1_22361</th>\n",
       "      <td>9741</td>\n",
       "      <td>10922</td>\n",
       "      <td>-1181</td>\n",
       "    </tr>\n",
       "    <tr>\n",
       "      <th>Week6_32121</th>\n",
       "      <td>4770</td>\n",
       "      <td>5946</td>\n",
       "      <td>-1176</td>\n",
       "    </tr>\n",
       "    <tr>\n",
       "      <th>Week5_28961</th>\n",
       "      <td>8948</td>\n",
       "      <td>10116</td>\n",
       "      <td>-1168</td>\n",
       "    </tr>\n",
       "    <tr>\n",
       "      <th>Week9_39222</th>\n",
       "      <td>5243</td>\n",
       "      <td>6401</td>\n",
       "      <td>-1158</td>\n",
       "    </tr>\n",
       "    <tr>\n",
       "      <th>Week1_22381</th>\n",
       "      <td>10131</td>\n",
       "      <td>11265</td>\n",
       "      <td>-1134</td>\n",
       "    </tr>\n",
       "    <tr>\n",
       "      <th>Week1_22401</th>\n",
       "      <td>10161</td>\n",
       "      <td>11294</td>\n",
       "      <td>-1133</td>\n",
       "    </tr>\n",
       "    <tr>\n",
       "      <th>Week8_38341</th>\n",
       "      <td>2997</td>\n",
       "      <td>4068</td>\n",
       "      <td>-1071</td>\n",
       "    </tr>\n",
       "    <tr>\n",
       "      <th>Week3_25421</th>\n",
       "      <td>15774</td>\n",
       "      <td>16817</td>\n",
       "      <td>-1043</td>\n",
       "    </tr>\n",
       "    <tr>\n",
       "      <th>Week7_34341</th>\n",
       "      <td>7845</td>\n",
       "      <td>8861</td>\n",
       "      <td>-1016</td>\n",
       "    </tr>\n",
       "    <tr>\n",
       "      <th>Week9_39206</th>\n",
       "      <td>4864</td>\n",
       "      <td>5870</td>\n",
       "      <td>-1006</td>\n",
       "    </tr>\n",
       "    <tr>\n",
       "      <th>Week2_24141</th>\n",
       "      <td>5536</td>\n",
       "      <td>6533</td>\n",
       "      <td>-997</td>\n",
       "    </tr>\n",
       "    <tr>\n",
       "      <th>Week6_32061</th>\n",
       "      <td>5076</td>\n",
       "      <td>6009</td>\n",
       "      <td>-933</td>\n",
       "    </tr>\n",
       "    <tr>\n",
       "      <th>Week9_39221</th>\n",
       "      <td>5201</td>\n",
       "      <td>6129</td>\n",
       "      <td>-928</td>\n",
       "    </tr>\n",
       "    <tr>\n",
       "      <th>Week3_25441</th>\n",
       "      <td>14063</td>\n",
       "      <td>14965</td>\n",
       "      <td>-902</td>\n",
       "    </tr>\n",
       "    <tr>\n",
       "      <th>Week2_24401</th>\n",
       "      <td>4291</td>\n",
       "      <td>5181</td>\n",
       "      <td>-890</td>\n",
       "    </tr>\n",
       "    <tr>\n",
       "      <th>Week2_24161</th>\n",
       "      <td>5426</td>\n",
       "      <td>6308</td>\n",
       "      <td>-882</td>\n",
       "    </tr>\n",
       "    <tr>\n",
       "      <th>Week6_31641</th>\n",
       "      <td>5157</td>\n",
       "      <td>6025</td>\n",
       "      <td>-868</td>\n",
       "    </tr>\n",
       "    <tr>\n",
       "      <th>Week2_24121</th>\n",
       "      <td>5510</td>\n",
       "      <td>6352</td>\n",
       "      <td>-842</td>\n",
       "    </tr>\n",
       "    <tr>\n",
       "      <th>Week1_22141</th>\n",
       "      <td>10774</td>\n",
       "      <td>11603</td>\n",
       "      <td>-829</td>\n",
       "    </tr>\n",
       "    <tr>\n",
       "      <th>Week10_40119</th>\n",
       "      <td>12962</td>\n",
       "      <td>13766</td>\n",
       "      <td>-804</td>\n",
       "    </tr>\n",
       "    <tr>\n",
       "      <th>Week9_39283</th>\n",
       "      <td>6119</td>\n",
       "      <td>6909</td>\n",
       "      <td>-790</td>\n",
       "    </tr>\n",
       "    <tr>\n",
       "      <th>Week8_38221</th>\n",
       "      <td>5140</td>\n",
       "      <td>5925</td>\n",
       "      <td>-785</td>\n",
       "    </tr>\n",
       "    <tr>\n",
       "      <th>Week3_25461</th>\n",
       "      <td>16714</td>\n",
       "      <td>17480</td>\n",
       "      <td>-766</td>\n",
       "    </tr>\n",
       "    <tr>\n",
       "      <th>Week8_38342</th>\n",
       "      <td>3263</td>\n",
       "      <td>3990</td>\n",
       "      <td>-727</td>\n",
       "    </tr>\n",
       "    <tr>\n",
       "      <th>Week8_38203</th>\n",
       "      <td>3728</td>\n",
       "      <td>4444</td>\n",
       "      <td>-716</td>\n",
       "    </tr>\n",
       "    <tr>\n",
       "      <th>Week7_34381</th>\n",
       "      <td>6874</td>\n",
       "      <td>7557</td>\n",
       "      <td>-683</td>\n",
       "    </tr>\n",
       "    <tr>\n",
       "      <th>Week6_31681</th>\n",
       "      <td>4476</td>\n",
       "      <td>5117</td>\n",
       "      <td>-641</td>\n",
       "    </tr>\n",
       "    <tr>\n",
       "      <th>Week1_22123</th>\n",
       "      <td>10291</td>\n",
       "      <td>10914</td>\n",
       "      <td>-623</td>\n",
       "    </tr>\n",
       "    <tr>\n",
       "      <th>Week9_39282</th>\n",
       "      <td>3732</td>\n",
       "      <td>4340</td>\n",
       "      <td>-608</td>\n",
       "    </tr>\n",
       "    <tr>\n",
       "      <th>Week8_38241</th>\n",
       "      <td>3083</td>\n",
       "      <td>3686</td>\n",
       "      <td>-603</td>\n",
       "    </tr>\n",
       "    <tr>\n",
       "      <th>Week6_32161</th>\n",
       "      <td>2356</td>\n",
       "      <td>2849</td>\n",
       "      <td>-493</td>\n",
       "    </tr>\n",
       "    <tr>\n",
       "      <th>Week1_22161</th>\n",
       "      <td>10236</td>\n",
       "      <td>10700</td>\n",
       "      <td>-464</td>\n",
       "    </tr>\n",
       "    <tr>\n",
       "      <th>Week2_24381</th>\n",
       "      <td>3073</td>\n",
       "      <td>3510</td>\n",
       "      <td>-437</td>\n",
       "    </tr>\n",
       "    <tr>\n",
       "      <th>Week9_39301</th>\n",
       "      <td>4028</td>\n",
       "      <td>4381</td>\n",
       "      <td>-353</td>\n",
       "    </tr>\n",
       "    <tr>\n",
       "      <th>Week7_34661</th>\n",
       "      <td>19995</td>\n",
       "      <td>20297</td>\n",
       "      <td>-302</td>\n",
       "    </tr>\n",
       "    <tr>\n",
       "      <th>Week7_34641</th>\n",
       "      <td>15199</td>\n",
       "      <td>15380</td>\n",
       "      <td>-181</td>\n",
       "    </tr>\n",
       "    <tr>\n",
       "      <th>Week7_34681</th>\n",
       "      <td>20425</td>\n",
       "      <td>19453</td>\n",
       "      <td>972</td>\n",
       "    </tr>\n",
       "  </tbody>\n",
       "</table>\n",
       "</div>"
      ],
      "text/plain": [
       "                              gt     my  diff\n",
       "Image_Metadata_Plate_DAPI                    \n",
       "Week5_29341                 6795   8787 -1992\n",
       "Week4_27521                 7516   9490 -1974\n",
       "Week3_25701                10575  12497 -1922\n",
       "Week3_25681                10626  12504 -1878\n",
       "Week5_29321                 7200   9074 -1874\n",
       "Week5_28901                 7261   9122 -1861\n",
       "Week10_40111               16275  18059 -1784\n",
       "Week5_29301                 6324   8104 -1780\n",
       "Week5_28921                 8797  10543 -1746\n",
       "Week3_25721                11829  13569 -1740\n",
       "Week4_27801                12481  14175 -1694\n",
       "Week10_40115               11552  13058 -1506\n",
       "Week4_27821                11975  13383 -1408\n",
       "Week6_31661                 5783   7150 -1367\n",
       "Week4_27481                 3865   5225 -1360\n",
       "Week4_27861                10628  11946 -1318\n",
       "Week4_27542                 4518   5770 -1252\n",
       "Week2_24361                 7591   8816 -1225\n",
       "Week1_22361                 9741  10922 -1181\n",
       "Week6_32121                 4770   5946 -1176\n",
       "Week5_28961                 8948  10116 -1168\n",
       "Week9_39222                 5243   6401 -1158\n",
       "Week1_22381                10131  11265 -1134\n",
       "Week1_22401                10161  11294 -1133\n",
       "Week8_38341                 2997   4068 -1071\n",
       "Week3_25421                15774  16817 -1043\n",
       "Week7_34341                 7845   8861 -1016\n",
       "Week9_39206                 4864   5870 -1006\n",
       "Week2_24141                 5536   6533  -997\n",
       "Week6_32061                 5076   6009  -933\n",
       "Week9_39221                 5201   6129  -928\n",
       "Week3_25441                14063  14965  -902\n",
       "Week2_24401                 4291   5181  -890\n",
       "Week2_24161                 5426   6308  -882\n",
       "Week6_31641                 5157   6025  -868\n",
       "Week2_24121                 5510   6352  -842\n",
       "Week1_22141                10774  11603  -829\n",
       "Week10_40119               12962  13766  -804\n",
       "Week9_39283                 6119   6909  -790\n",
       "Week8_38221                 5140   5925  -785\n",
       "Week3_25461                16714  17480  -766\n",
       "Week8_38342                 3263   3990  -727\n",
       "Week8_38203                 3728   4444  -716\n",
       "Week7_34381                 6874   7557  -683\n",
       "Week6_31681                 4476   5117  -641\n",
       "Week1_22123                10291  10914  -623\n",
       "Week9_39282                 3732   4340  -608\n",
       "Week8_38241                 3083   3686  -603\n",
       "Week6_32161                 2356   2849  -493\n",
       "Week1_22161                10236  10700  -464\n",
       "Week2_24381                 3073   3510  -437\n",
       "Week9_39301                 4028   4381  -353\n",
       "Week7_34661                19995  20297  -302\n",
       "Week7_34641                15199  15380  -181\n",
       "Week7_34681                20425  19453   972"
      ]
     },
     "execution_count": 16,
     "metadata": {},
     "output_type": "execute_result"
    }
   ],
   "source": [
    "plate_counts.sort_values(\"diff\")"
   ]
  },
  {
   "cell_type": "code",
   "execution_count": 17,
   "id": "b7ec827c-e037-46e0-8d75-720ee639c5c5",
   "metadata": {},
   "outputs": [],
   "source": [
    "image_counts = (\n",
    "    df_gt\n",
    "    .groupby(\"Image_FileName_DAPI\")\n",
    "    .size()\n",
    "    .to_frame()\n",
    "    .merge(df1.groupby(\"meta_filename\").size().to_frame(), left_index=True, right_index=True)\n",
    ")\n",
    "image_counts.columns = [\"gt\", \"my\"]\n",
    "\n",
    "image_counts[\"diff\"] = (image_counts[\"gt\"] - image_counts[\"my\"])"
   ]
  },
  {
   "cell_type": "code",
   "execution_count": 19,
   "id": "c8952469-5bdb-4ff4-828d-742f68c43fce",
   "metadata": {},
   "outputs": [
    {
     "data": {
      "text/html": [
       "<div>\n",
       "<style scoped>\n",
       "    .dataframe tbody tr th:only-of-type {\n",
       "        vertical-align: middle;\n",
       "    }\n",
       "\n",
       "    .dataframe tbody tr th {\n",
       "        vertical-align: top;\n",
       "    }\n",
       "\n",
       "    .dataframe thead th {\n",
       "        text-align: right;\n",
       "    }\n",
       "</style>\n",
       "<table border=\"1\" class=\"dataframe\">\n",
       "  <thead>\n",
       "    <tr style=\"text-align: right;\">\n",
       "      <th></th>\n",
       "      <th>gt</th>\n",
       "      <th>my</th>\n",
       "      <th>diff</th>\n",
       "    </tr>\n",
       "  </thead>\n",
       "  <tbody>\n",
       "    <tr>\n",
       "      <th>Week6_200607_E11_s4_w1AABB4630-0530-43D7-B915-902AA6480CC3.tif</th>\n",
       "      <td>106</td>\n",
       "      <td>165</td>\n",
       "      <td>-59</td>\n",
       "    </tr>\n",
       "    <tr>\n",
       "      <th>Week5_130707_F11_s4_w173CD7BE7-8F24-410C-8B27-888C2A890852.tif</th>\n",
       "      <td>215</td>\n",
       "      <td>247</td>\n",
       "      <td>-32</td>\n",
       "    </tr>\n",
       "    <tr>\n",
       "      <th>Week6_200607_D02_s4_w1A4035554-EABD-4D87-B06F-C73607109AE2.tif</th>\n",
       "      <td>268</td>\n",
       "      <td>298</td>\n",
       "      <td>-30</td>\n",
       "    </tr>\n",
       "    <tr>\n",
       "      <th>Week10_200907_E11_s1_w14755D1BC-8C2E-4B52-BFC7-2650DC3572AE.tif</th>\n",
       "      <td>243</td>\n",
       "      <td>270</td>\n",
       "      <td>-27</td>\n",
       "    </tr>\n",
       "    <tr>\n",
       "      <th>Week3_290607_D02_s4_w13BFA58F7-2CD8-42AA-B359-9787FA63D5E0.tif</th>\n",
       "      <td>209</td>\n",
       "      <td>236</td>\n",
       "      <td>-27</td>\n",
       "    </tr>\n",
       "    <tr>\n",
       "      <th>...</th>\n",
       "      <td>...</td>\n",
       "      <td>...</td>\n",
       "      <td>...</td>\n",
       "    </tr>\n",
       "    <tr>\n",
       "      <th>Week7_7__E11_s4_w1B5BBD50D-F400-4B34-A3BF-08A7B98065AE.tif</th>\n",
       "      <td>799</td>\n",
       "      <td>617</td>\n",
       "      <td>182</td>\n",
       "    </tr>\n",
       "    <tr>\n",
       "      <th>Week7_7__C02_s2_w165938FDA-BC8D-477A-919D-0D51895D5EFE.tif</th>\n",
       "      <td>749</td>\n",
       "      <td>561</td>\n",
       "      <td>188</td>\n",
       "    </tr>\n",
       "    <tr>\n",
       "      <th>Week7_7__C02_s3_w1D28FB15A-B713-4712-853F-FCFA4B5E6AC2.tif</th>\n",
       "      <td>770</td>\n",
       "      <td>564</td>\n",
       "      <td>206</td>\n",
       "    </tr>\n",
       "    <tr>\n",
       "      <th>Week7_7__B02_s1_w123671FDA-8918-479F-A00F-919CE1BCD926.tif</th>\n",
       "      <td>270</td>\n",
       "      <td>8</td>\n",
       "      <td>262</td>\n",
       "    </tr>\n",
       "    <tr>\n",
       "      <th>Week7_7__C02_s4_w12D0AC0EC-A5B4-4603-885C-9BCF848B8473.tif</th>\n",
       "      <td>790</td>\n",
       "      <td>527</td>\n",
       "      <td>263</td>\n",
       "    </tr>\n",
       "  </tbody>\n",
       "</table>\n",
       "<p>2520 rows × 3 columns</p>\n",
       "</div>"
      ],
      "text/plain": [
       "                                                     gt   my  diff\n",
       "Week6_200607_E11_s4_w1AABB4630-0530-43D7-B915-9...  106  165   -59\n",
       "Week5_130707_F11_s4_w173CD7BE7-8F24-410C-8B27-8...  215  247   -32\n",
       "Week6_200607_D02_s4_w1A4035554-EABD-4D87-B06F-C...  268  298   -30\n",
       "Week10_200907_E11_s1_w14755D1BC-8C2E-4B52-BFC7-...  243  270   -27\n",
       "Week3_290607_D02_s4_w13BFA58F7-2CD8-42AA-B359-9...  209  236   -27\n",
       "...                                                 ...  ...   ...\n",
       "Week7_7__E11_s4_w1B5BBD50D-F400-4B34-A3BF-08A7B...  799  617   182\n",
       "Week7_7__C02_s2_w165938FDA-BC8D-477A-919D-0D518...  749  561   188\n",
       "Week7_7__C02_s3_w1D28FB15A-B713-4712-853F-FCFA4...  770  564   206\n",
       "Week7_7__B02_s1_w123671FDA-8918-479F-A00F-919CE...  270    8   262\n",
       "Week7_7__C02_s4_w12D0AC0EC-A5B4-4603-885C-9BCF8...  790  527   263\n",
       "\n",
       "[2520 rows x 3 columns]"
      ]
     },
     "execution_count": 19,
     "metadata": {},
     "output_type": "execute_result"
    }
   ],
   "source": [
    "image_counts.sort_values(\"diff\")"
   ]
  },
  {
   "cell_type": "code",
   "execution_count": 20,
   "id": "0e5f50ac-8414-4e39-a538-bbb46061f518",
   "metadata": {},
   "outputs": [],
   "source": [
    "r = df_gt_image[df_gt_image[\"Image_FileName_DAPI\"] == image_counts.sort_values(\"diff\").iloc[-2].name].iloc[0]"
   ]
  },
  {
   "cell_type": "code",
   "execution_count": 21,
   "id": "fb507c9c-7755-4bd0-9026-f2358e961d36",
   "metadata": {},
   "outputs": [
    {
     "data": {
      "text/plain": [
       "'Week7_34681'"
      ]
     },
     "execution_count": 21,
     "metadata": {},
     "output_type": "execute_result"
    }
   ],
   "source": [
    "r[\"Image_Metadata_Plate_DAPI\"]"
   ]
  },
  {
   "cell_type": "code",
   "execution_count": 22,
   "id": "b5647df8-a11d-48d5-80b7-8f6d61ff0d75",
   "metadata": {},
   "outputs": [
    {
     "data": {
      "text/plain": [
       "'Week7_7__B02_s1_w123671FDA-8918-479F-A00F-919CE1BCD926.tif'"
      ]
     },
     "execution_count": 22,
     "metadata": {},
     "output_type": "execute_result"
    }
   ],
   "source": [
    "r[\"Image_FileName_DAPI\"]"
   ]
  },
  {
   "cell_type": "markdown",
   "id": "c0e72583-b3b6-45fb-b8c2-af0954d7d7ad",
   "metadata": {},
   "source": [
    "# Value comparisons"
   ]
  },
  {
   "cell_type": "code",
   "execution_count": 31,
   "id": "237bfc67-8807-4986-ac3b-786499c0baa1",
   "metadata": {},
   "outputs": [
    {
     "data": {
      "text/plain": [
       "<AxesSubplot:xlabel='Cells_AreaShape_Area', ylabel='Proportion'>"
      ]
     },
     "execution_count": 31,
     "metadata": {},
     "output_type": "execute_result"
    },
    {
     "data": {
      "image/png": "[encoded data removed]",
      "text/plain": [
       "<Figure size 432x288 with 1 Axes>"
      ]
     },
     "metadata": {},
     "output_type": "display_data"
    }
   ],
   "source": [
    "seaborn.ecdfplot(data=df_gt[df_gt[\"Cells_AreaShape_Area\"] < 20000], x=\"Cells_AreaShape_Area\")"
   ]
  },
  {
   "cell_type": "code",
   "execution_count": 32,
   "id": "d37c711f-2771-440b-8fce-f60d8eb585df",
   "metadata": {},
   "outputs": [
    {
     "data": {
      "text/plain": [
       "<AxesSubplot:xlabel='feat_area_actin', ylabel='Proportion'>"
      ]
     },
     "execution_count": 32,
     "metadata": {},
     "output_type": "execute_result"
    },
    {
     "data": {
      "image/png": "[encoded data removed]",
      "text/plain": [
       "<Figure size 432x288 with 1 Axes>"
      ]
     },
     "metadata": {},
     "output_type": "display_data"
    }
   ],
   "source": [
    "seaborn.ecdfplot(data=df1[df1[\"feat_area_actin\"] < 20000], x=\"feat_area_actin\")"
   ]
  },
  {
   "cell_type": "code",
   "execution_count": 35,
   "id": "b3280670-b4ed-4de1-b4a7-7c6bce3e06b7",
   "metadata": {},
   "outputs": [
    {
     "data": {
      "text/plain": [
       "<AxesSubplot:xlabel='Cytoplasm_AreaShape_Area', ylabel='Proportion'>"
      ]
     },
     "execution_count": 35,
     "metadata": {},
     "output_type": "execute_result"
    },
    {
     "data": {
      "image/png": "[encoded data removed]",
      "text/plain": [
       "<Figure size 432x288 with 1 Axes>"
      ]
     },
     "metadata": {},
     "output_type": "display_data"
    }
   ],
   "source": [
    "seaborn.ecdfplot(data=df_gt[df_gt[\"Cytoplasm_AreaShape_Area\"] < 10000], x=\"Cytoplasm_AreaShape_Area\")"
   ]
  },
  {
   "cell_type": "code",
   "execution_count": 37,
   "id": "bcf6aeef-9abc-4e67-93c5-e048c59406a2",
   "metadata": {},
   "outputs": [
    {
     "data": {
      "text/plain": [
       "<AxesSubplot:xlabel='feat_area_tubulin', ylabel='Proportion'>"
      ]
     },
     "execution_count": 37,
     "metadata": {},
     "output_type": "execute_result"
    },
    {
     "data": {
      "image/png": "[encoded data removed]",
      "text/plain": [
       "<Figure size 432x288 with 1 Axes>"
      ]
     },
     "metadata": {},
     "output_type": "display_data"
    }
   ],
   "source": [
    "seaborn.ecdfplot(data=df1[df1[\"feat_area_tubulin\"] < 10000], x=\"feat_area_tubulin\")"
   ]
  },
  {
   "cell_type": "code",
   "execution_count": 42,
   "id": "fdd420a9-1e3b-4481-a902-b0954c0072ba",
   "metadata": {},
   "outputs": [
    {
     "data": {
      "text/plain": [
       "<AxesSubplot:xlabel='feat_sum_actin', ylabel='Proportion'>"
      ]
     },
     "execution_count": 42,
     "metadata": {},
     "output_type": "execute_result"
    },
    {
     "data": {
      "image/png": "[encoded data removed]",
      "text/plain": [
       "<Figure size 432x288 with 1 Axes>"
      ]
     },
     "metadata": {},
     "output_type": "display_data"
    }
   ],
   "source": [
    "seaborn.ecdfplot(data=df1, x=\"feat_sum_actin\")"
   ]
  },
  {
   "cell_type": "code",
   "execution_count": 39,
   "id": "4425a0c1-7eee-45e5-b317-5209ac1e0bc9",
   "metadata": {},
   "outputs": [
    {
     "data": {
      "text/plain": [
       "<AxesSubplot:xlabel='Cells_Intensity_MaxIntensity_CorrActin', ylabel='Proportion'>"
      ]
     },
     "execution_count": 39,
     "metadata": {},
     "output_type": "execute_result"
    },
    {
     "data": {
      "image/png": "[encoded data removed]",
      "text/plain": [
       "<Figure size 432x288 with 1 Axes>"
      ]
     },
     "metadata": {},
     "output_type": "display_data"
    }
   ],
   "source": [
    "seaborn.ecdfplot(data=df_gt, x=\"Cells_Intensity_MaxIntensity_CorrActin\")"
   ]
  },
  {
   "cell_type": "code",
   "execution_count": null,
   "id": "7a0ac17e-220e-45a9-8c52-9e808dfe9552",
   "metadata": {},
   "outputs": [],
   "source": []
  }
 ],
 "metadata": {
  "kernelspec": {
   "display_name": "Python 3.9.13 ('scip')",
   "language": "python",
   "name": "python3"
  },
  "language_info": {
   "codemirror_mode": {
    "name": "ipython",
    "version": 3
   },
   "file_extension": ".py",
   "mimetype": "text/x-python",
   "name": "python",
   "nbconvert_exporter": "python",
   "pygments_lexer": "ipython3",
   "version": "3.9.13"
  },
  "vscode": {
   "interpreter": {
    "hash": "6c19ec75b5216c81abf931859392d42d22f386772f224f44a894f50f6487f0f0"
   }
  }
 },
 "nbformat": 4,
 "nbformat_minor": 5
}
