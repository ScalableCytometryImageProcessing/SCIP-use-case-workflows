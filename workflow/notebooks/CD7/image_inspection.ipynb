{
 "cells": [
  {
   "cell_type": "markdown",
   "id": "e3666136-1053-4266-9af3-0fa56d88f3e8",
   "metadata": {},
   "source": [
    "# Image inspection"
   ]
  },
  {
   "cell_type": "code",
   "execution_count": null,
   "id": "5dcbb669-7814-45e6-94e0-7c63fc190f52",
   "metadata": {},
   "outputs": [],
   "source": [
    "%load_ext autoreload\n",
    "%autoreload 2"
   ]
  },
  {
   "cell_type": "code",
   "execution_count": null,
   "id": "3399e374-a5c3-4303-863c-1521e357416d",
   "metadata": {},
   "outputs": [],
   "source": [
    "from aicsimageio import AICSImage\n",
    "\n",
    "from scip_workflows.common import *\n",
    ""
   ]
  },
  {
   "cell_type": "code",
   "execution_count": null,
   "id": "5093d5f6-4844-4d53-b565-c4762a15b3f6",
   "metadata": {},
   "outputs": [],
   "source": [
    "try:\n",
    "    input_file = snakemake.input[0]\n",
    "    output = snakemake.output[0]\n",
    "except NameError:\n",
    "    input_file = Path(\n",
    "        \"/home/maximl/scratch/data/vsc/datasets/cd7/800/Experiment-800.czi\"\n",
    "    )\n",
    "    output = Path(\"/home/maximl/scratch/data/vsc/datasets/cd7/800/scenes.txt\")\n",
    ""
   ]
  },
  {
   "cell_type": "code",
   "execution_count": null,
   "id": "949f76ea-6934-43b5-82be-4cbdfa05d42c",
   "metadata": {},
   "outputs": [],
   "source": [
    "im = AICSImage(input_file, reconstruct_mosaic=False)\n",
    ""
   ]
  },
  {
   "cell_type": "code",
   "execution_count": null,
   "id": "b8774492-9e7b-4eb5-9991-c2bcb8e444de",
   "metadata": {},
   "outputs": [],
   "source": [
    "pattern = r\"P(?P<position>[0-9]+)-(?P<exp>[A-Z])(?P<replicate>[0-9])\"\n",
    "df = pandas.DataFrame(map(lambda a: re.match(pattern, a).groupdict(), im.scenes))\n",
    "df = df[df[\"exp\"] == \"D\"]\n",
    "df[\"position\"] = df[\"position\"].astype(int)\n",
    "df[\"replicate\"] = df[\"replicate\"].astype(int)\n",
    "df = df.set_index([\"replicate\", \"position\"])\n",
    ""
   ]
  },
  {
   "cell_type": "code",
   "execution_count": null,
   "id": "d95d4971-3dfb-4da8-bb03-07aa73230a9d",
   "metadata": {},
   "outputs": [],
   "source": [
    "im.set_scene(\"P1-D1\")\n",
    ""
   ]
  },
  {
   "cell_type": "code",
   "execution_count": null,
   "id": "65f5dbb5-8299-48f3-a0df-aa3cf867990a",
   "metadata": {},
   "outputs": [],
   "source": [
    "fig, ax = plt.subplots(dpi=150)\n",
    "ax.imshow(\n",
    "    numpy.max(im.get_image_data(\"ZXY\", C=5), axis=0), origin=\"lower\", cmap=\"Greys\"\n",
    ")\n",
    "ax.set_axis_off()\n",
    ""
   ]
  },
  {
   "cell_type": "code",
   "execution_count": null,
   "id": "a84962b0-943a-432c-bbd2-2a719c107940",
   "metadata": {},
   "outputs": [],
   "source": [
    "def draw_tile(data, channel, color=None, hue=None):\n",
    "    p, rep = data.position.iloc[0], data.replicate.iloc[0]\n",
    "    im.set_scene(f\"P{p}-D{rep}\")\n",
    "\n",
    "    ax = plt.gca()\n",
    "\n",
    "    ax.imshow(\n",
    "        numpy.max(im.get_image_data(\"ZXY\", C=channel), axis=0),\n",
    "        origin=\"lower\",\n",
    "        cmap=\"viridis\",\n",
    "    )\n",
    "    ax.set_axis_off()\n",
    "    print(f\"{p}-{rep}\", end=\" \")\n",
    ""
   ]
  },
  {
   "cell_type": "code",
   "execution_count": null,
   "id": "ed6405da-f772-429f-907d-f95162a3ac03",
   "metadata": {},
   "outputs": [],
   "source": [
    "# DAPI\n",
    "\n",
    "grid = seaborn.FacetGrid(\n",
    "    data=df.reset_index(), col=\"position\", row=\"replicate\", margin_titles=True\n",
    ")\n",
    "grid.map_dataframe(draw_tile, channel=0)\n",
    "for ax in grid.axes.ravel():\n",
    "    ax.set_axis_off()\n",
    ""
   ]
  },
  {
   "cell_type": "code",
   "execution_count": null,
   "id": "b06d6e79-90a5-4924-bfeb-8006121e0519",
   "metadata": {},
   "outputs": [],
   "source": [
    "bad_indices = [(2, 1), (2, 15), (2, 21), (3, 25), (4, 21), (4, 25), (5, 25), (5, 21)]\n",
    "\n",
    "df = df.drop(index=bad_indices)\n",
    ""
   ]
  },
  {
   "cell_type": "code",
   "execution_count": null,
   "id": "40ec368e-67a8-42a4-b3a0-25d53a91d8c2",
   "metadata": {},
   "outputs": [],
   "source": [
    "# CD45 - EGFP\n",
    "\n",
    "grid = seaborn.FacetGrid(\n",
    "    data=df.reset_index(), col=\"position\", row=\"replicate\", margin_titles=True\n",
    ")\n",
    "grid.map_dataframe(draw_tile, channel=1)\n",
    "for ax in grid.axes.ravel():\n",
    "    ax.set_axis_off()\n",
    ""
   ]
  },
  {
   "cell_type": "code",
   "execution_count": null,
   "id": "cc5a7f30-ef24-4a3f-b28d-63c30952a302",
   "metadata": {},
   "outputs": [],
   "source": [
    "bad_indices = [(2, 8)]\n",
    "\n",
    "df = df.drop(index=bad_indices)\n",
    ""
   ]
  },
  {
   "cell_type": "code",
   "execution_count": null,
   "id": "0eaf4346-43ba-414f-9434-88a6297acb37",
   "metadata": {},
   "outputs": [],
   "source": [
    "# siglec8 - RPe\n",
    "\n",
    "grid = seaborn.FacetGrid(\n",
    "    data=df.reset_index(), col=\"position\", row=\"replicate\", margin_titles=True\n",
    ")\n",
    "grid.map_dataframe(draw_tile, channel=2)\n",
    "for ax in grid.axes.ravel():\n",
    "    ax.set_axis_off()\n",
    ""
   ]
  },
  {
   "cell_type": "code",
   "execution_count": null,
   "id": "a9da4efa-0373-42c4-90a3-623d6c1145a4",
   "metadata": {},
   "outputs": [],
   "source": [
    "bad_indices = [(2, 3), (2, 23), (5, 5)]\n",
    "\n",
    "df = df.drop(index=bad_indices)\n",
    ""
   ]
  },
  {
   "cell_type": "code",
   "execution_count": null,
   "id": "c4f77184-2ca9-4a2e-a18e-c1601d219116",
   "metadata": {},
   "outputs": [],
   "source": [
    "# CD15 - APC\n",
    "\n",
    "grid = seaborn.FacetGrid(\n",
    "    data=df.reset_index(), col=\"position\", row=\"replicate\", margin_titles=True\n",
    ")\n",
    "grid.map_dataframe(draw_tile, channel=3)\n",
    "for ax in grid.axes.ravel():\n",
    "    ax.set_axis_off()\n",
    ""
   ]
  },
  {
   "cell_type": "code",
   "execution_count": null,
   "id": "d500b4d8-280e-4c9b-a251-7df13eaa52df",
   "metadata": {},
   "outputs": [],
   "source": [
    "with open(output, \"w\") as fh:\n",
    "    fh.write(\"    scenes:\\n\")\n",
    "    for s in (\n",
    "        df.reset_index()\n",
    "        .apply(lambda r: f\"P{r.position}-{r.exp}{r.replicate}\", axis=1)\n",
    "        .values.tolist()\n",
    "    ):\n",
    "        fh.write(f\"      - {s}\\n\")\n",
    ""
   ]
  },
  {
   "cell_type": "code",
   "execution_count": null,
   "id": "fd4c4bbf-5036-4b0c-be7d-92d8f535b235",
   "metadata": {},
   "outputs": [],
   "source": []
  }
 ],
 "metadata": {
  "kernelspec": {
   "display_name": "Python 3 (ipykernel)",
   "language": "python",
   "name": "python3"
  },
  "language_info": {
   "codemirror_mode": {
    "name": "ipython",
    "version": 3
   },
   "file_extension": ".py",
   "mimetype": "text/x-python",
   "name": "python",
   "nbconvert_exporter": "python",
   "pygments_lexer": "ipython3",
   "version": "3.9.13"
  }
 },
 "nbformat": 4,
 "nbformat_minor": 5
}
