{
 "cells": [
  {
   "cell_type": "markdown",
   "id": "a513a0ba-52ec-4a77-bbfe-78b85322b5d6",
   "metadata": {},
   "source": [
    "# CD7 Quality control for brightfield-based segmentation"
   ]
  },
  {
   "cell_type": "code",
   "execution_count": null,
   "id": "4daf8d22-8bb9-41af-935f-8c4f22684dbc",
   "metadata": {},
   "outputs": [],
   "source": [
    "%load_ext autoreload\n",
    "%autoreload 2"
   ]
  },
  {
   "cell_type": "code",
   "execution_count": null,
   "id": "ea679861-657e-4288-b49f-c564f47a8b57",
   "metadata": {},
   "outputs": [],
   "source": [
    "from scip_workflows.common import *\n",
    ""
   ]
  },
  {
   "cell_type": "code",
   "execution_count": null,
   "id": "b1cae8b6-3add-4ddc-9fb3-4dcd7ca07fb9",
   "metadata": {},
   "outputs": [],
   "source": [
    "from scip_workflows.core import plot_gate_czi\n",
    ""
   ]
  },
  {
   "cell_type": "code",
   "execution_count": null,
   "id": "28b28ef8-0fbb-4d40-808c-ac6009874e5e",
   "metadata": {},
   "outputs": [],
   "source": [
    "import flowutils\n",
    "from aicsimageio import AICSImage\n",
    "from matplotlib.collections import PatchCollection\n",
    "from sklearn.preprocessing import robust_scale, scale\n",
    "\n",
    "from scip.features import texture\n",
    ""
   ]
  },
  {
   "cell_type": "markdown",
   "id": "aa8f8632-c3db-4efb-9291-502ebd996b3d",
   "metadata": {
    "tags": []
   },
   "source": [
    "## Load processed frame"
   ]
  },
  {
   "cell_type": "code",
   "execution_count": null,
   "id": "a5e697a0-d04e-4862-868a-cf0096af3fc0",
   "metadata": {},
   "outputs": [],
   "source": [
    "try:\n",
    "    features = snakemake.input[0]\n",
    "    output_columns = snakemake.output.columns\n",
    "    output_index = snakemake.output.index\n",
    "    output_aspect = snakemake.output.aspect\n",
    "    output_eccentricity = snakemake.output.eccentricity\n",
    "    output_ecc_vs_aspect = snakemake.output.ecc_vs_aspect\n",
    "except NameError:\n",
    "    # data_dir = Path(\"/data/gent/vo/000/gvo00070/vsc42015/datasets/cd7/800/results/scip/202203221745/\")\n",
    "    data_dir = Path(\"/home/maximl/scratch/data/vsc/datasets/cd7/800/scip/061020221736/\")\n",
    "    output_index = data_dir / \"indices\" / \"index.npy\"\n",
    "    output_columns = data_dir / \"indices\" / \"columns.npy\"\n",
    "    output_ecc_vs_aspect = data_dir / \"figures\" / \"CD7_ecc_versus_aspect.png\"\n",
    "    output_aspect = data_dir / \"figures\" / \"CD7_qc_major_minor_bf.png\"\n",
    "    output_eccentricity = data_dir / \"figures\" / \"CD7_qc_ecc_bf.png\"\n",
    "    features = data_dir / \"features.parquet\"\n",
    ""
   ]
  },
  {
   "cell_type": "code",
   "execution_count": null,
   "id": "de506573-9594-494a-a9d7-6287ed01d972",
   "metadata": {},
   "outputs": [],
   "source": [
    "df = pq.read_table(features).to_pandas()\n",
    "df = df.set_index([\"meta_panel\", \"meta_replicate\", \"meta_P\", \"meta_id\"])\n",
    "df = df.sort_index()\n",
    "df.shape\n",
    ""
   ]
  },
  {
   "cell_type": "markdown",
   "id": "3ba73a3c-cc61-4f53-b5d8-3df1edaec2f0",
   "metadata": {
    "tags": []
   },
   "source": [
    "## Meta information"
   ]
  },
  {
   "cell_type": "code",
   "execution_count": null,
   "id": "ce7781e2-bac7-451a-83a9-72a81f46b3f1",
   "metadata": {},
   "outputs": [],
   "source": [
    "seaborn.countplot(data=df.reset_index(), y=\"meta_panel\", hue=\"meta_replicate\")\n",
    ""
   ]
  },
  {
   "cell_type": "code",
   "execution_count": null,
   "id": "eb61e415-6cfa-4ade-ab5a-82204181356b",
   "metadata": {},
   "outputs": [],
   "source": [
    "# for now only continue with objects from panel D\n",
    "df = df.loc[\"D\"]\n",
    "df.shape\n",
    ""
   ]
  },
  {
   "cell_type": "markdown",
   "id": "c7e58aa4-c0c8-4cd0-a712-9a881ec85b4a",
   "metadata": {
    "tags": []
   },
   "source": [
    "## NaN values"
   ]
  },
  {
   "cell_type": "code",
   "execution_count": null,
   "id": "a26c47ff-abe0-4ed6-8938-27c58786e045",
   "metadata": {},
   "outputs": [],
   "source": [
    "# show all NaN columns\n",
    "df.columns[df.isna().all(axis=0)]\n",
    ""
   ]
  },
  {
   "cell_type": "markdown",
   "id": "09915f5d-baee-429f-9438-1b0e51d94c90",
   "metadata": {
    "tags": []
   },
   "source": [
    "## Well effects"
   ]
  },
  {
   "cell_type": "code",
   "execution_count": null,
   "id": "2c6941ba-3e07-4238-b186-ee48361a3456",
   "metadata": {},
   "outputs": [],
   "source": [
    "df[\"meta_loc_r\"] = (\n",
    "    df[\"meta_bbox_minr\"] + (df[\"meta_bbox_maxr\"] - df[\"meta_bbox_minr\"]) / 2\n",
    ")\n",
    "df[\"meta_loc_c\"] = (\n",
    "    df[\"meta_bbox_minc\"] + (df[\"meta_bbox_maxc\"] - df[\"meta_bbox_minc\"]) / 2\n",
    ")\n",
    ""
   ]
  },
  {
   "cell_type": "code",
   "execution_count": null,
   "id": "7f2cc934-2ae3-4106-b823-d5965ba4dc16",
   "metadata": {},
   "outputs": [],
   "source": [
    "border_margin = 30\n",
    "w, h = 1144, 1144\n",
    "\n",
    "\n",
    "def is_outside_border(r):\n",
    "    if (r.meta_loc_r - border_margin < 0) or (r.meta_loc_r + border_margin > h):\n",
    "        return False\n",
    "    if (r.meta_loc_c - border_margin < 0) or (r.meta_loc_c + border_margin > w):\n",
    "        return False\n",
    "    return True\n",
    "\n",
    "\n",
    "df[\"meta_out_border\"] = df.apply(is_outside_border, axis=\"columns\")\n",
    ""
   ]
  },
  {
   "cell_type": "code",
   "execution_count": null,
   "id": "3612a816-0afa-46b2-9072-539193a59ef7",
   "metadata": {},
   "outputs": [],
   "source": [
    "def draw_tile(data, x, y, *args, channel=0, **kwargs):\n",
    "    ax = seaborn.scatterplot(data=data, x=x, y=y, **kwargs)\n",
    "    p, rep = data[\"meta_P\"].iloc[0], data[\"meta_replicate\"].iloc[0]\n",
    "    im.set_scene(f\"P{p}-D{rep}\")\n",
    "    ax.imshow(\n",
    "        numpy.max(im.get_image_data(\"ZXY\", C=channel), axis=0)\n",
    "        / correction_images[f\"D{rep}\"][channel],\n",
    "        origin=\"lower\",\n",
    "        cmap=\"viridis\",\n",
    "    )\n",
    "    ax.set_axis_off()\n",
    "    print(f\"{p}-{rep}\", end=\" \")\n",
    ""
   ]
  },
  {
   "cell_type": "code",
   "execution_count": null,
   "id": "81e833c5-2f6b-4d52-b644-7c89d57f61d2",
   "metadata": {},
   "outputs": [],
   "source": [
    "# DAPI\n",
    "\n",
    "im = AICSImage(df[\"meta_path\"].iloc[0], reconstruct_mosaic=False)\n",
    "\n",
    "grid = seaborn.FacetGrid(\n",
    "    data=df.reset_index(), col=\"meta_P\", row=\"meta_replicate\", margin_titles=True\n",
    ")\n",
    "grid.map_dataframe(\n",
    "    draw_tile,\n",
    "    y=\"meta_loc_r\",\n",
    "    x=\"meta_loc_c\",\n",
    "    hue=\"meta_out_border\",\n",
    "    s=6,\n",
    "    edgecolors=\"none\",\n",
    ")\n",
    "for ax in grid.axes.ravel():\n",
    "    ax.set_axis_off()\n",
    ""
   ]
  },
  {
   "cell_type": "code",
   "execution_count": null,
   "id": "0d2d6272-7c16-479b-bb4b-9cd42b509b08",
   "metadata": {},
   "outputs": [],
   "source": [
    "# CD45 - EGFP\n",
    "\n",
    "im = AICSImage(df[\"meta_path\"].iloc[0], reconstruct_mosaic=False)\n",
    "\n",
    "grid = seaborn.FacetGrid(\n",
    "    data=df.reset_index(), col=\"meta_P\", row=\"meta_replicate\", margin_titles=True\n",
    ")\n",
    "grid.map_dataframe(\n",
    "    draw_tile,\n",
    "    y=\"meta_loc_r\",\n",
    "    x=\"meta_loc_c\",\n",
    "    channel=1,\n",
    "    hue=\"meta_out_border\",\n",
    "    s=6,\n",
    "    edgecolors=\"none\",\n",
    ")\n",
    "for ax in grid.axes.ravel():\n",
    "    ax.set_axis_off()\n",
    ""
   ]
  },
  {
   "cell_type": "code",
   "execution_count": null,
   "id": "9616793d-81db-4f41-81bc-c3de70755073",
   "metadata": {},
   "outputs": [],
   "source": [
    "# siglec8 - RPe\n",
    "im = AICSImage(df[\"meta_path\"].iloc[0], reconstruct_mosaic=False)\n",
    "\n",
    "grid = seaborn.FacetGrid(\n",
    "    data=df.reset_index(), col=\"meta_P\", row=\"meta_replicate\", margin_titles=True\n",
    ")\n",
    "grid.map_dataframe(\n",
    "    draw_tile,\n",
    "    y=\"meta_loc_r\",\n",
    "    x=\"meta_loc_c\",\n",
    "    channel=2,\n",
    "    hue=\"meta_out_border\",\n",
    "    s=6,\n",
    "    edgecolors=\"none\",\n",
    ")\n",
    "for ax in grid.axes.ravel():\n",
    "    ax.set_axis_off()\n",
    ""
   ]
  },
  {
   "cell_type": "code",
   "execution_count": null,
   "id": "daf047f2-4c22-4904-ac0a-9cb5c2bdc4af",
   "metadata": {},
   "outputs": [],
   "source": [
    "# CD15 - APC\n",
    "im = AICSImage(df[\"meta_path\"].iloc[0], reconstruct_mosaic=False)\n",
    "\n",
    "grid = seaborn.FacetGrid(\n",
    "    data=df.reset_index(), col=\"meta_P\", row=\"meta_replicate\", margin_titles=True\n",
    ")\n",
    "grid.map_dataframe(\n",
    "    draw_tile,\n",
    "    y=\"meta_loc_r\",\n",
    "    x=\"meta_loc_c\",\n",
    "    channel=3,\n",
    "    hue=\"meta_out_border\",\n",
    "    s=6,\n",
    "    edgecolors=\"none\",\n",
    ")\n",
    "for ax in grid.axes.ravel():\n",
    "    ax.set_axis_off()\n",
    ""
   ]
  },
  {
   "cell_type": "code",
   "execution_count": null,
   "id": "fa2da118-eb92-425b-bf2f-febe049fd4d5",
   "metadata": {},
   "outputs": [],
   "source": [
    "df = df[df[\"meta_out_border\"]]\n",
    ""
   ]
  },
  {
   "cell_type": "code",
   "execution_count": null,
   "id": "7c248270-7e01-46eb-a6b6-5d8c56209128",
   "metadata": {},
   "outputs": [],
   "source": [
    "df.shape\n",
    ""
   ]
  },
  {
   "cell_type": "markdown",
   "id": "8fb0fb70-cf7a-44b9-9839-727501ddf836",
   "metadata": {},
   "source": [
    "## Detected regions"
   ]
  },
  {
   "cell_type": "code",
   "execution_count": null,
   "id": "760955a3-110e-40d4-bd1e-35a4fc07b660",
   "metadata": {},
   "outputs": [],
   "source": [
    "df = df[df[\"meta_regions_DAPI\"] > 0]\n",
    "df.shape\n",
    ""
   ]
  },
  {
   "cell_type": "code",
   "execution_count": null,
   "id": "09620b13-2a22-4285-8e7e-a3c52810705b",
   "metadata": {},
   "outputs": [],
   "source": [
    "df = df[\n",
    "    (df[\"meta_regions_PGC\"] > 0)\n",
    "    & (df[\"meta_regions_Bright\"] > 0)\n",
    "    & (df[\"meta_regions_Oblique\"] > 0)\n",
    "]\n",
    "df.shape\n",
    ""
   ]
  },
  {
   "cell_type": "markdown",
   "id": "ddeb7afb-adb2-434b-bbb6-789381a2db3a",
   "metadata": {
    "tags": []
   },
   "source": [
    "# Detecting multiplets"
   ]
  },
  {
   "cell_type": "code",
   "execution_count": null,
   "id": "cdf62ccb-6dc1-4365-bb86-3bc425598548",
   "metadata": {},
   "outputs": [],
   "source": [
    "def get_gate_czi(sel, df, maxn=200, sort=None, channels=[0]):\n",
    "    df = df.loc[sel]\n",
    "\n",
    "    if len(df) > maxn:\n",
    "        df = df.sample(n=maxn)\n",
    "\n",
    "    if sort is not None:\n",
    "        df = df.sort_values(by=sort)\n",
    "\n",
    "    out = []\n",
    "    for path, gdf in df.groupby([\"meta_path\"]):\n",
    "        ai = AICSImage(path, reconstruct_mosaic=False)\n",
    "        for scene, gdf2 in gdf.groupby([\"meta_scene\"]):\n",
    "            ai.set_scene(scene)\n",
    "            for tile, gdf3 in gdf2.groupby([\"meta_tile\"]):\n",
    "                print(tile, scene, path)\n",
    "                for (idx, r) in gdf3.iterrows():\n",
    "                    pixels = ai.get_image_data(\"CXY\", Z=0, T=0, C=channels, M=tile)\n",
    "                    minr, minc, maxr, maxc = (\n",
    "                        int(r[\"meta_bbox_minr\"]),\n",
    "                        int(r[\"meta_bbox_minc\"]),\n",
    "                        int(r[\"meta_bbox_maxr\"]),\n",
    "                        int(r[\"meta_bbox_maxc\"]),\n",
    "                    )\n",
    "\n",
    "                    out.append(pixels[:, minr:maxr, minc:maxc])\n",
    "\n",
    "    return out\n",
    ""
   ]
  },
  {
   "cell_type": "markdown",
   "id": "ef9c4990-7e12-4712-b155-c96ed72aaee6",
   "metadata": {
    "tags": []
   },
   "source": [
    "## Aspect ratio"
   ]
  },
  {
   "cell_type": "code",
   "execution_count": null,
   "id": "0eb571b7-1112-4b0b-954f-82ea3f6f9538",
   "metadata": {},
   "outputs": [],
   "source": [
    "aspect_ratio = df[\"feat_major_axis_length_Bright\"] / df[\"feat_minor_axis_length_Bright\"]\n",
    ""
   ]
  },
  {
   "cell_type": "code",
   "execution_count": null,
   "id": "8c0ad5ca-ccc9-45e6-a307-ac6181bd0d1f",
   "metadata": {},
   "outputs": [],
   "source": [
    "sel1 = aspect_ratio > 2.5\n",
    "out1 = get_gate_czi(sel1, df, maxn=4, channels=[0, 4])\n",
    ""
   ]
  },
  {
   "cell_type": "code",
   "execution_count": null,
   "id": "b7476a90-d9f9-4c15-9913-22c1a6d7ccfd",
   "metadata": {},
   "outputs": [],
   "source": [
    "sel2 = aspect_ratio < 1.25\n",
    "out2 = get_gate_czi(sel2, df, maxn=4, channels=[0, 4])\n",
    ""
   ]
  },
  {
   "cell_type": "code",
   "execution_count": null,
   "id": "2fdb089b-8138-4d63-97ec-d953d1008ea6",
   "metadata": {},
   "outputs": [],
   "source": [
    "import matplotlib.patches as patches\n",
    "from matplotlib.path import Path as mPath\n",
    ""
   ]
  },
  {
   "cell_type": "code",
   "execution_count": null,
   "id": "99d87594-2811-448b-af6c-44c9f8334cb9",
   "metadata": {},
   "outputs": [],
   "source": [
    "c = 1\n",
    "grid = seaborn.displot(data=aspect_ratio)\n",
    "# grid.ax.axvline(1.8, c=\"black\")\n",
    "\n",
    "path = mPath(\n",
    "    [[1.8, 0], [1.8, 100], [4.5, 200], [4.5, 1400]],\n",
    "    [mPath.MOVETO, mPath.LINETO, mPath.LINETO, mPath.LINETO],\n",
    ")\n",
    "grid.ax.add_patch(patches.PathPatch(path, facecolor=\"none\", lw=1.5))\n",
    "\n",
    "grid.ax.set_xlabel(\"major axis / minor axis (brightfield)\")\n",
    "\n",
    "ax = grid.fig.add_axes([0.65, 0.8, 0.2, 0.2], zorder=1)\n",
    "ax.set_axis_off()\n",
    "ax.imshow(out1[0][c], origin=\"lower\")\n",
    "ax = grid.fig.add_axes([0.65, 0.55, 0.2, 0.2], zorder=1)\n",
    "ax.set_axis_off()\n",
    "ax.imshow(out1[1][c], origin=\"lower\")\n",
    "ax = grid.fig.add_axes([0.65, 0.3, 0.2, 0.2], zorder=1)\n",
    "ax.set_axis_off()\n",
    "ax.imshow(out1[2][c], origin=\"lower\")\n",
    "\n",
    "ax = grid.fig.add_axes([0.35, 0.8, 0.2, 0.2], zorder=1)\n",
    "ax.set_axis_off()\n",
    "ax.imshow(out2[0][c], origin=\"lower\")\n",
    "ax = grid.fig.add_axes([0.35, 0.55, 0.2, 0.2], zorder=1)\n",
    "ax.set_axis_off()\n",
    "ax.imshow(out2[1][c], origin=\"lower\")\n",
    "ax = grid.fig.add_axes([0.35, 0.3, 0.2, 0.2], zorder=1)\n",
    "ax.set_axis_off()\n",
    "ax.imshow(out2[2][c], origin=\"lower\")\n",
    "\n",
    "plt.savefig(output_aspect, bbox_inches=\"tight\", pad_inches=0)\n",
    ""
   ]
  },
  {
   "cell_type": "markdown",
   "id": "88f8097f-9f34-419f-bb6f-cca0d145961b",
   "metadata": {
    "tags": []
   },
   "source": [
    "## Eccentricity"
   ]
  },
  {
   "cell_type": "code",
   "execution_count": null,
   "id": "a9d969ac-8760-4f0d-b27e-b51dd992fbe1",
   "metadata": {},
   "outputs": [],
   "source": [
    "sel1 = df.feat_eccentricity_Bright > 0.8\n",
    "out1 = get_gate_czi(sel1, df, maxn=4, channels=[0, 4])\n",
    ""
   ]
  },
  {
   "cell_type": "code",
   "execution_count": null,
   "id": "cb8e4b26-348f-495c-bae5-f95142876752",
   "metadata": {},
   "outputs": [],
   "source": [
    "sel2 = df.feat_eccentricity_Bright < 0.5\n",
    "out2 = get_gate_czi(sel2, df, maxn=4, channels=[0, 4])\n",
    ""
   ]
  },
  {
   "cell_type": "code",
   "execution_count": null,
   "id": "bae7fa83-a918-4f24-9483-0818ea261b21",
   "metadata": {},
   "outputs": [],
   "source": [
    "c = 1\n",
    "grid = seaborn.displot(data=df.feat_eccentricity_combined)\n",
    "grid.ax.axvline(0.8, c=\"black\")\n",
    "grid.ax.set_xlabel(\"eccentricity (brightfield)\")\n",
    "\n",
    "ax = grid.fig.add_axes([0.9, 0.8, 0.2, 0.2], zorder=1)\n",
    "ax.set_axis_off()\n",
    "ax.imshow(out1[0][c], origin=\"lower\")\n",
    "ax = grid.fig.add_axes([0.9, 0.55, 0.2, 0.2], zorder=1)\n",
    "ax.set_axis_off()\n",
    "ax.imshow(out1[1][c], origin=\"lower\")\n",
    "ax = grid.fig.add_axes([0.9, 0.3, 0.2, 0.2], zorder=1)\n",
    "ax.set_axis_off()\n",
    "ax.imshow(out1[2][c], origin=\"lower\")\n",
    "\n",
    "ax = grid.fig.add_axes([0.5, 0.8, 0.2, 0.2], zorder=1)\n",
    "ax.set_axis_off()\n",
    "ax.imshow(out2[0][c], origin=\"lower\")\n",
    "ax = grid.fig.add_axes([0.5, 0.55, 0.2, 0.2], zorder=1)\n",
    "ax.set_axis_off()\n",
    "ax.imshow(out2[1][c], origin=\"lower\")\n",
    "ax = grid.fig.add_axes([0.5, 0.3, 0.2, 0.2], zorder=1)\n",
    "ax.set_axis_off()\n",
    "ax.imshow(out2[2][c], origin=\"lower\")\n",
    "\n",
    "plt.savefig(output_eccentricity, bbox_inches=\"tight\", pad_inches=0)\n",
    ""
   ]
  },
  {
   "cell_type": "markdown",
   "id": "edf15b73-11ab-47f9-a763-357818d19472",
   "metadata": {
    "tags": []
   },
   "source": [
    "## Combination aspect + ecc"
   ]
  },
  {
   "cell_type": "code",
   "execution_count": null,
   "id": "cb972c22-e177-4d6c-9052-b5465e8e1461",
   "metadata": {},
   "outputs": [],
   "source": [
    "aspect_ratio = (\n",
    "    df[\"feat_major_axis_length_combined\"] / df[\"feat_minor_axis_length_combined\"]\n",
    ")\n",
    ""
   ]
  },
  {
   "cell_type": "code",
   "execution_count": null,
   "id": "f6e29771-4f03-496c-a829-617e4ac777c3",
   "metadata": {},
   "outputs": [],
   "source": [
    "sel1 = aspect_ratio > 1.5 * df.feat_eccentricity_combined + 0.7\n",
    "sel2 = df.feat_eccentricity_combined > 0.1\n",
    "sel3 = df.feat_eccentricity_combined < 0.5\n",
    "sel4 = aspect_ratio > 1.05\n",
    "\n",
    "sel5 = df.feat_eccentricity_combined > 0.8\n",
    "sel6 = aspect_ratio > 1.8\n",
    "\n",
    "gate1 = get_gate_czi(\n",
    "    sel1 & sel2 & sel3 & sel4,\n",
    "    df,\n",
    "    sort=\"feat_eccentricity_combined\",\n",
    "    maxn=3,\n",
    "    channels=[4, 0],\n",
    ")\n",
    "gate2 = get_gate_czi(\n",
    "    sel5 | sel6, df, sort=\"feat_eccentricity_combined\", maxn=3, channels=[4, 0]\n",
    ")\n",
    ""
   ]
  },
  {
   "cell_type": "code",
   "execution_count": null,
   "id": "948fdadc-59f5-4f15-9cd1-4b7140c0ceb5",
   "metadata": {},
   "outputs": [],
   "source": [
    "fig, ax = plt.subplots(dpi=150)\n",
    "seaborn.scatterplot(\n",
    "    data=df,\n",
    "    x=\"feat_eccentricity_combined\",\n",
    "    y=aspect_ratio,\n",
    "    hue=(sel1 & sel2 & sel3 & sel4) | sel5 | sel6,\n",
    "    s=5,\n",
    "    edgecolors=\"none\",\n",
    "    ax=ax,\n",
    "    legend=False,\n",
    ")\n",
    "\n",
    "for i, im in enumerate(gate1):\n",
    "    tmp_ax = fig.add_axes([0.2 + i * 0.05, 0.3 + i * 0.17, 0.15, 0.15], zorder=1)\n",
    "    tmp_ax.imshow(im[0])\n",
    "    tmp_ax.set_axis_off()\n",
    "for i, im in enumerate(gate2):\n",
    "    tmp_ax = fig.add_axes([0.55 + i * 0.05, 0.35 + i * 0.17, 0.15, 0.15], zorder=1)\n",
    "    tmp_ax.imshow(im[0])\n",
    "    tmp_ax.set_axis_off()\n",
    "\n",
    "ax.set_ylabel(\"Aspect ratio (major / minor axis length)\")\n",
    "ax.set_xlabel(\"Eccentricity\")\n",
    "seaborn.despine(fig)\n",
    "\n",
    "# plt.savefig(output_ecc_vs_aspect, bbox_inches='tight', pad_inches=0, dpi=200)\n",
    ""
   ]
  },
  {
   "cell_type": "code",
   "execution_count": null,
   "id": "d158aa5e-849f-4619-802e-338c7262c39d",
   "metadata": {},
   "outputs": [],
   "source": [
    "plot_gate_czi(sel1 & sel2 & sel3 & sel4, df, maxn=5, channels=[4, 0])\n",
    ""
   ]
  },
  {
   "cell_type": "code",
   "execution_count": null,
   "id": "829c7d8c-0117-4b83-a1ac-c3adcaebb442",
   "metadata": {},
   "outputs": [],
   "source": [
    "df = df[~((sel1 & sel2 & sel3 & sel4) | sel5 | sel6)]\n",
    "df.shape\n",
    ""
   ]
  },
  {
   "cell_type": "markdown",
   "id": "916afec6-2219-4b1c-91d8-db5ac186c202",
   "metadata": {},
   "source": [
    "## DAPI aspect ratio"
   ]
  },
  {
   "cell_type": "code",
   "execution_count": null,
   "id": "a3e49c5b-ee27-4659-b56f-901dc363eb74",
   "metadata": {},
   "outputs": [],
   "source": [
    "aspect_ratio = df[\"feat_major_axis_length_DAPI\"] / df[\"feat_minor_axis_length_DAPI\"]\n",
    ""
   ]
  },
  {
   "cell_type": "code",
   "execution_count": null,
   "id": "df4b47a4-e063-4e6a-abda-a553ecad0915",
   "metadata": {},
   "outputs": [],
   "source": [
    "seaborn.displot(data=aspect_ratio)\n",
    ""
   ]
  },
  {
   "cell_type": "code",
   "execution_count": null,
   "id": "bb3b1f24-5526-4ef1-aae0-32f90ff2a245",
   "metadata": {},
   "outputs": [],
   "source": [
    "sel1 = aspect_ratio > 3\n",
    "plot_gate_czi(sel1, df, maxn=10, channels=[4, 0])\n",
    ""
   ]
  },
  {
   "cell_type": "code",
   "execution_count": null,
   "id": "17cc83c4-856b-4994-85b0-c0607f297fa6",
   "metadata": {},
   "outputs": [],
   "source": [
    "df = df[~sel1]\n",
    "df.shape\n",
    ""
   ]
  },
  {
   "cell_type": "code",
   "execution_count": null,
   "id": "a48964a8-594e-4ec9-854b-b1e14deb7397",
   "metadata": {},
   "outputs": [],
   "source": [
    "sel1 = aspect_ratio > 2\n",
    "plot_gate_czi(sel1, df, maxn=10, channels=[4, 0])\n",
    ""
   ]
  },
  {
   "cell_type": "markdown",
   "id": "55ad77e8-f098-4fbd-a864-a5217644998d",
   "metadata": {
    "tags": []
   },
   "source": [
    "# Texture features"
   ]
  },
  {
   "cell_type": "code",
   "execution_count": null,
   "id": "3803a239-65b1-415b-bd76-b81a5cfa93d7",
   "metadata": {},
   "outputs": [],
   "source": [
    "df[\"feat_glcm_mean_contrast_3_Bright\"].plot.hist(bins=100)\n",
    ""
   ]
  },
  {
   "cell_type": "code",
   "execution_count": null,
   "id": "6ebdf9c8-fa9b-46ac-bf8e-a0464c504abe",
   "metadata": {},
   "outputs": [],
   "source": [
    "sel1 = df[\"feat_glcm_mean_contrast_3_Bright\"] > 9\n",
    "plot_gate_czi(sel1, df, channel=4, sort=\"feat_glcm_mean_contrast_3_Bright\")\n",
    ""
   ]
  },
  {
   "cell_type": "code",
   "execution_count": null,
   "id": "2beeed6f-6926-4d04-bf9c-71c11c0f308f",
   "metadata": {},
   "outputs": [],
   "source": [
    "sel1 = df[\"feat_glcm_mean_contrast_3_Bright\"] < 2\n",
    "plot_gate_czi(sel1, df, maxn=20, channel=4, sort=\"feat_glcm_mean_contrast_3_Bright\")\n",
    ""
   ]
  },
  {
   "cell_type": "code",
   "execution_count": null,
   "id": "2f8ee413-bd06-4dc0-a11d-8dd63a159731",
   "metadata": {},
   "outputs": [],
   "source": [
    "df[\"feat_glcm_mean_homogeneity_3_DAPI\"].hist(bins=50)\n",
    ""
   ]
  },
  {
   "cell_type": "code",
   "execution_count": null,
   "id": "167b08c6-e512-47fc-8f0b-c6176a6f2828",
   "metadata": {},
   "outputs": [],
   "source": [
    "sel1 = df[\"feat_glcm_mean_homogeneity_3_DAPI\"] < 0.3\n",
    "plot_gate_czi(sel1, df, maxn=15, channels=[4, 0])\n",
    ""
   ]
  },
  {
   "cell_type": "code",
   "execution_count": null,
   "id": "cebf5702-45f2-42c0-8f61-4aaaddc2408f",
   "metadata": {},
   "outputs": [],
   "source": [
    "df = df[~sel1]\n",
    "df.shape\n",
    ""
   ]
  },
  {
   "cell_type": "code",
   "execution_count": null,
   "id": "7815ee8b-1f53-495a-8f70-c2fcd244fb5b",
   "metadata": {},
   "outputs": [],
   "source": [
    "sel1 = df[\"feat_glcm_mean_homogeneity_3_DAPI\"] > 0.7\n",
    "plot_gate_czi(sel1, df, maxn=15, channel=0)\n",
    ""
   ]
  },
  {
   "cell_type": "code",
   "execution_count": null,
   "id": "08d94080-fdc2-41bd-8865-3b4a2eb40b4e",
   "metadata": {},
   "outputs": [],
   "source": [
    "df[\"feat_glcm_mean_contrast_3_DAPI\"].plot.hist(bins=100)\n",
    ""
   ]
  },
  {
   "cell_type": "code",
   "execution_count": null,
   "id": "2f92c0ea-01dc-41e1-bb0b-d653e57ab5c0",
   "metadata": {},
   "outputs": [],
   "source": [
    "sel1 = df[\"feat_glcm_mean_contrast_3_DAPI\"] > 10\n",
    "plot_gate_czi(sel1, df, maxn=15, channel=0)\n",
    ""
   ]
  },
  {
   "cell_type": "code",
   "execution_count": null,
   "id": "c03e81b6-b5c7-496e-9808-1af8cfac7627",
   "metadata": {},
   "outputs": [],
   "source": [
    "sel1 = df[\"feat_glcm_mean_contrast_3_DAPI\"] < 1.5\n",
    "plot_gate_czi(sel1, df, maxn=15, channel=0)\n",
    ""
   ]
  },
  {
   "cell_type": "markdown",
   "id": "9d03cd11-9742-47ad-99b5-a8527e1ff302",
   "metadata": {
    "tags": []
   },
   "source": [
    "# Aligning feature distributions"
   ]
  },
  {
   "cell_type": "code",
   "execution_count": null,
   "id": "20d16b3e-0dd1-4de4-851d-f66fe1219db2",
   "metadata": {},
   "outputs": [],
   "source": [
    "def map_names(a):\n",
    "    return {\n",
    "        \"feat_sum_DAPI\": \"DAPI\",\n",
    "        \"feat_sum_EGFP\": \"CD45\",\n",
    "        \"feat_sum_RPe\": \"Siglec 8\",\n",
    "        \"feat_sum_APC\": \"CD15\",\n",
    "    }[a]\n",
    ""
   ]
  },
  {
   "cell_type": "code",
   "execution_count": null,
   "id": "8602ee1b-e442-46d1-8fde-7034c71a8d7d",
   "metadata": {},
   "outputs": [],
   "source": [
    "melted_df = pandas.melt(\n",
    "    df.reset_index(),\n",
    "    id_vars=[\"meta_P\", \"meta_replicate\"],\n",
    "    value_vars=df.filter(regex=\"feat_sum_(DAPI|EGFP|RPe|APC)\").columns,\n",
    ")\n",
    "melted_df.variable = melted_df.variable.apply(map_names)\n",
    "\n",
    "grid = seaborn.FacetGrid(\n",
    "    data=melted_df,\n",
    "    col=\"meta_replicate\",\n",
    "    row=\"variable\",\n",
    "    sharey=False,\n",
    "    aspect=1.5,\n",
    "    margin_titles=True,\n",
    ")\n",
    "grid.map_dataframe(seaborn.stripplot, x=\"meta_P\", y=\"value\", size=1, alpha=0.5)\n",
    "\n",
    "grid.set_axis_labels(\"Well image position\", \"Fluorescence intensity\")\n",
    "grid.set_titles(col_template=\"Replicate {col_name}\", row_template=\"{row_name}\")\n",
    "\n",
    "grid.add_legend()\n",
    "\n",
    "# plt.savefig(data_dir / \"figures/qc_intensity_distribution_pre.pdf\", bbox_inches='tight', pad_inches=0)\n",
    ""
   ]
  },
  {
   "cell_type": "markdown",
   "id": "ed3a64a0-f465-42d4-b73c-ca152c84c213",
   "metadata": {},
   "source": [
    "## DAPI"
   ]
  },
  {
   "cell_type": "markdown",
   "id": "6498a266-ffae-481b-a650-5169ece95b98",
   "metadata": {},
   "source": [
    "Below are the DAPI intensities. Image positions 4, 9, 10, 14 and 15 of replicate 3 and 20 of replicate 1 have clearly elevated signals. It can be seen on the overview of image at the top of this notebook that the overal image is a bit brighter. This should be fixable with a min max normalization."
   ]
  },
  {
   "cell_type": "code",
   "execution_count": null,
   "id": "5ae2ac6c-2da9-49be-a818-e7f30bb30f9a",
   "metadata": {},
   "outputs": [],
   "source": [
    "grid = seaborn.FacetGrid(data=df.reset_index(), col=\"meta_replicate\")\n",
    "grid.map_dataframe(seaborn.stripplot, y=\"feat_sum_DAPI\", x=\"meta_P\", s=1, alpha=0.7)\n",
    ""
   ]
  },
  {
   "cell_type": "markdown",
   "id": "76526d43-3e9f-4651-8732-ed9877d28b64",
   "metadata": {},
   "source": [
    "Here are the cell areas. Image position 6 of replicate 3 shows some problems. When looking at the segmentation positions in the overview image, we can see that the segmentation seems to have underestimated the size of the cells splitting some nuclei in two. It seems best to drop the data from this image position."
   ]
  },
  {
   "cell_type": "code",
   "execution_count": null,
   "id": "90b22e59-4e43-4d5f-855e-bdc39e08af2e",
   "metadata": {},
   "outputs": [],
   "source": [
    "grid = seaborn.FacetGrid(data=df.reset_index(), col=\"meta_replicate\")\n",
    "grid.map_dataframe(seaborn.stripplot, y=\"feat_area_DAPI\", x=\"meta_P\", s=1, alpha=0.7)\n",
    ""
   ]
  },
  {
   "cell_type": "code",
   "execution_count": null,
   "id": "99513252-8432-45bb-a064-92ac6e5963f6",
   "metadata": {},
   "outputs": [],
   "source": [
    "grid = seaborn.FacetGrid(\n",
    "    data=df.groupby([\"meta_replicate\", \"meta_P\"])[\"feat_sum_DAPI\"]\n",
    "    .transform(scale)\n",
    "    .reset_index(),\n",
    "    col=\"meta_replicate\",\n",
    ")\n",
    "grid.map_dataframe(seaborn.stripplot, y=\"feat_sum_DAPI\", x=\"meta_P\", s=1, alpha=0.7)\n",
    ""
   ]
  },
  {
   "cell_type": "code",
   "execution_count": null,
   "id": "bb77b05b-381d-4e68-a8c0-ba4757d7ce78",
   "metadata": {},
   "outputs": [],
   "source": [
    "scale_dapi = df.groupby([\"meta_replicate\", \"meta_P\"])[\"feat_sum_DAPI\"].transform(scale)\n",
    ""
   ]
  },
  {
   "cell_type": "markdown",
   "id": "800e0a44-3f75-4257-968c-4d5b4eab7107",
   "metadata": {},
   "source": [
    "## APC"
   ]
  },
  {
   "cell_type": "code",
   "execution_count": null,
   "id": "a405d977-4eb2-4607-898f-5c73b0f94a6d",
   "metadata": {},
   "outputs": [],
   "source": [
    "grid = seaborn.FacetGrid(data=df.reset_index(), col=\"meta_replicate\")\n",
    "grid.map_dataframe(\n",
    "    seaborn.stripplot, y=\"feat_combined_sum_APC\", x=\"meta_P\", s=1, alpha=0.7\n",
    ")\n",
    ""
   ]
  },
  {
   "cell_type": "code",
   "execution_count": null,
   "id": "ef190b35-c1bf-4b76-bb95-66f240b2bedc",
   "metadata": {},
   "outputs": [],
   "source": [
    "sel1 = df[\"feat_combined_sum_APC\"] > 0.5e7\n",
    "plot_gate_czi(sel1, df, channels=[4, 3])\n",
    ""
   ]
  },
  {
   "cell_type": "code",
   "execution_count": null,
   "id": "bd9503ac-fc24-4c55-8a6c-507feb98a388",
   "metadata": {},
   "outputs": [],
   "source": [
    "sel1.sum()\n",
    ""
   ]
  },
  {
   "cell_type": "code",
   "execution_count": null,
   "id": "776f54bf-5d6a-47e4-8ea3-25cdb135d89d",
   "metadata": {},
   "outputs": [],
   "source": [
    "df = df[~sel1]\n",
    "df.shape\n",
    ""
   ]
  },
  {
   "cell_type": "code",
   "execution_count": null,
   "id": "30bcb482-d5ad-40c7-888c-5ff22a799188",
   "metadata": {},
   "outputs": [],
   "source": [
    "asinh_apc = flowutils.transforms.asinh(\n",
    "    df[\"feat_combined_sum_APC\"], channel_indices=None, t=4e6, m=4, a=1\n",
    ")\n",
    "grid = seaborn.FacetGrid(data=asinh_apc.reset_index(), col=\"meta_replicate\")\n",
    "grid.map_dataframe(\n",
    "    seaborn.stripplot, y=\"feat_combined_sum_APC\", x=\"meta_P\", s=1, alpha=0.5\n",
    ")\n",
    ""
   ]
  },
  {
   "cell_type": "code",
   "execution_count": null,
   "id": "ac2bcf93-f75f-4d68-9c61-4b9827afeff3",
   "metadata": {},
   "outputs": [],
   "source": [
    "def asinh_scale(x, t):\n",
    "    return scale(\n",
    "        flowutils.transforms.asinh(x, channel_indices=None, t=t, m=4.5, a=1),\n",
    "        with_std=False,\n",
    "    )\n",
    ""
   ]
  },
  {
   "cell_type": "code",
   "execution_count": null,
   "id": "13ccb77f-8612-4471-88f9-c607fe57d7b9",
   "metadata": {},
   "outputs": [],
   "source": [
    "asinh_scale_apc = (\n",
    "    df.groupby([\"meta_replicate\", \"meta_P\"])[\"feat_combined_sum_APC\"]\n",
    "    .transform(lambda x: asinh_scale(x, df[\"feat_combined_sum_APC\"].max()))\n",
    "    .reset_index()\n",
    ")\n",
    ""
   ]
  },
  {
   "cell_type": "code",
   "execution_count": null,
   "id": "364c59e0-69bf-4220-a123-44a92bd35688",
   "metadata": {},
   "outputs": [],
   "source": [
    "grid = seaborn.FacetGrid(data=asinh_scale_apc, col=\"meta_replicate\")\n",
    "grid.map_dataframe(\n",
    "    seaborn.stripplot, y=\"feat_combined_sum_APC\", x=\"meta_P\", s=1, alpha=0.7\n",
    ")\n",
    ""
   ]
  },
  {
   "cell_type": "code",
   "execution_count": null,
   "id": "ccfbd011-1b0b-4c3c-ac74-eebabcf4c57e",
   "metadata": {},
   "outputs": [],
   "source": [
    "seaborn.displot(data=asinh_scale_apc, x=\"feat_combined_sum_APC\", hue=\"meta_replicate\")\n",
    ""
   ]
  },
  {
   "cell_type": "markdown",
   "id": "c7087be8-bf7d-4265-81b6-25fbe5c1af60",
   "metadata": {},
   "source": [
    "## RPe"
   ]
  },
  {
   "cell_type": "code",
   "execution_count": null,
   "id": "a8353a35-01d5-42b0-85a9-85f613606242",
   "metadata": {},
   "outputs": [],
   "source": [
    "grid = seaborn.FacetGrid(data=df.reset_index(), col=\"meta_replicate\")\n",
    "grid.map_dataframe(\n",
    "    seaborn.stripplot, y=\"feat_combined_sum_RPe\", x=\"meta_P\", s=1, alpha=0.7\n",
    ")\n",
    ""
   ]
  },
  {
   "cell_type": "code",
   "execution_count": null,
   "id": "50ad1d4d-bc3d-49b7-8189-d1415b6e05f1",
   "metadata": {},
   "outputs": [],
   "source": [
    "sel1 = df[\"feat_combined_sum_RPe\"] > 0.3e7\n",
    "plot_gate_czi(sel1, df, channels=[4, 2])\n",
    ""
   ]
  },
  {
   "cell_type": "code",
   "execution_count": null,
   "id": "df1724df-d6cd-4dc7-a452-fe07766d840f",
   "metadata": {},
   "outputs": [],
   "source": [
    "sel1.sum()\n",
    ""
   ]
  },
  {
   "cell_type": "code",
   "execution_count": null,
   "id": "df6b6834-ef9a-41a7-a82f-98696bfba824",
   "metadata": {},
   "outputs": [],
   "source": [
    "df = df[~sel1]\n",
    "df.shape\n",
    ""
   ]
  },
  {
   "cell_type": "code",
   "execution_count": null,
   "id": "6fc752d2-0a27-46dd-846d-d119566f8419",
   "metadata": {},
   "outputs": [],
   "source": [
    "grid = seaborn.FacetGrid(data=df.reset_index(), col=\"meta_replicate\")\n",
    "grid.map_dataframe(\n",
    "    seaborn.stripplot, y=\"feat_combined_sum_RPe\", x=\"meta_P\", s=1, alpha=0.7\n",
    ")\n",
    ""
   ]
  },
  {
   "cell_type": "code",
   "execution_count": null,
   "id": "606959a8-beff-422a-883f-2db61ba3a024",
   "metadata": {},
   "outputs": [],
   "source": [
    "asinh_scale_rpe = (\n",
    "    df.groupby([\"meta_replicate\", \"meta_P\"])[\"feat_combined_sum_RPe\"]\n",
    "    .transform(lambda x: asinh_scale(x, df[\"feat_combined_sum_RPe\"].max()))\n",
    "    .reset_index()\n",
    ")\n",
    ""
   ]
  },
  {
   "cell_type": "code",
   "execution_count": null,
   "id": "e60c7e91-9bce-4314-b76b-4c66bcca97b3",
   "metadata": {},
   "outputs": [],
   "source": [
    "grid = seaborn.FacetGrid(data=asinh_scale_rpe, col=\"meta_replicate\")\n",
    "grid.map_dataframe(\n",
    "    seaborn.stripplot, y=\"feat_combined_sum_RPe\", x=\"meta_P\", s=1, alpha=0.7\n",
    ")\n",
    ""
   ]
  },
  {
   "cell_type": "code",
   "execution_count": null,
   "id": "848822b9-7687-4b8c-ac49-4029d599251a",
   "metadata": {},
   "outputs": [],
   "source": [
    "seaborn.displot(data=asinh_scale_rpe, x=\"feat_combined_sum_RPe\", hue=\"meta_replicate\")\n",
    ""
   ]
  },
  {
   "cell_type": "markdown",
   "id": "6bef34a0-dc86-4f16-a4d0-51e3ce52ef8f",
   "metadata": {},
   "source": [
    "## EGFP"
   ]
  },
  {
   "cell_type": "code",
   "execution_count": null,
   "id": "783c9763-6791-497b-9160-a50fbdf94585",
   "metadata": {},
   "outputs": [],
   "source": [
    "grid = seaborn.FacetGrid(data=df.reset_index(), col=\"meta_replicate\")\n",
    "grid.map_dataframe(\n",
    "    seaborn.stripplot, y=\"feat_combined_sum_EGFP\", x=\"meta_P\", s=1, alpha=0.7\n",
    ")\n",
    ""
   ]
  },
  {
   "cell_type": "code",
   "execution_count": null,
   "id": "6b68e641-3d19-47e3-8ce4-7d684d4edc98",
   "metadata": {},
   "outputs": [],
   "source": [
    "asinh_scale_egfp = (\n",
    "    df.groupby([\"meta_replicate\", \"meta_P\"])[\"feat_combined_sum_EGFP\"]\n",
    "    .transform(lambda x: asinh_scale(x, df[\"feat_combined_sum_EGFP\"].max()))\n",
    "    .reset_index()\n",
    ")\n",
    ""
   ]
  },
  {
   "cell_type": "code",
   "execution_count": null,
   "id": "88ae5fca-4e67-4e6e-ba69-fcad4ebf267e",
   "metadata": {},
   "outputs": [],
   "source": [
    "grid = seaborn.FacetGrid(data=asinh_scale_egfp, col=\"meta_replicate\")\n",
    "grid.map_dataframe(\n",
    "    seaborn.stripplot, y=\"feat_combined_sum_EGFP\", x=\"meta_P\", s=1, alpha=0.7\n",
    ")\n",
    ""
   ]
  },
  {
   "cell_type": "markdown",
   "id": "f0489c7c-5080-4f74-8cfe-8be8495c6c42",
   "metadata": {},
   "source": [
    "# Export"
   ]
  },
  {
   "cell_type": "code",
   "execution_count": null,
   "id": "e27ae5d8-0736-49df-a11b-e68ed620b2e9",
   "metadata": {},
   "outputs": [],
   "source": [
    "df.shape\n",
    ""
   ]
  },
  {
   "cell_type": "code",
   "execution_count": null,
   "id": "a1562d95-7512-4896-818a-d8584aa0edeb",
   "metadata": {},
   "outputs": [],
   "source": [
    "numpy.save(output_index, df.index)\n",
    "numpy.save(output_columns, df.columns)\n",
    ""
   ]
  },
  {
   "cell_type": "code",
   "execution_count": null,
   "id": "1711f7ec-3663-4757-980c-7a99e6fd0332",
   "metadata": {},
   "outputs": [],
   "source": []
  }
 ],
 "metadata": {
  "kernelspec": {
   "display_name": "Python 3 (ipykernel)",
   "language": "python",
   "name": "python3"
  },
  "language_info": {
   "codemirror_mode": {
    "name": "ipython",
    "version": 3
   },
   "file_extension": ".py",
   "mimetype": "text/x-python",
   "name": "python",
   "nbconvert_exporter": "python",
   "pygments_lexer": "ipython3",
   "version": "3.9.13"
  },
  "vscode": {
   "interpreter": {
    "hash": "6c19ec75b5216c81abf931859392d42d22f386772f224f44a894f50f6487f0f0"
   }
  }
 },
 "nbformat": 4,
 "nbformat_minor": 5
}
