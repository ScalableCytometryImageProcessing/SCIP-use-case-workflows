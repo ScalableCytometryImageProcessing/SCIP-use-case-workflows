{
 "cells": [
  {
   "cell_type": "markdown",
   "id": "62685930-3293-4ac2-8d8f-337a33f5062e",
   "metadata": {},
   "source": [
    "# CD7: full spectrum dimensionality reduction of neutrophils\n",
    "\n",
    "In this notebook, we perform a clustering analysis of the CD7 data on features extracted from SCIP."
   ]
  },
  {
   "cell_type": "code",
   "execution_count": null,
   "id": "31f8f185-3256-488c-8516-7cdb31357ac9",
   "metadata": {},
   "outputs": [],
   "source": [
    "%load_ext autoreload\n",
    "%autoreload 2"
   ]
  },
  {
   "cell_type": "code",
   "execution_count": null,
   "id": "46531f81-c8c3-43a4-be34-971570fb60d3",
   "metadata": {},
   "outputs": [],
   "source": [
    "from scip_workflows.common import *\n",
    ""
   ]
  },
  {
   "cell_type": "code",
   "execution_count": null,
   "id": "4c298ece-0fe4-4076-a6ca-851d1c2647bd",
   "metadata": {},
   "outputs": [],
   "source": [
    "import anndata\n",
    "import flowutils\n",
    "import scanpy\n",
    "import scipy.stats\n",
    "from kneed import KneeLocator\n",
    "from scipy.cluster import hierarchy\n",
    "from scipy.cluster.hierarchy import fcluster\n",
    "from scipy.spatial.distance import squareform\n",
    "from sklearn.feature_selection import VarianceThreshold, mutual_info_classif\n",
    "from sklearn.preprocessing import scale\n",
    "\n",
    "scanpy.settings.verbosity = 3\n",
    ""
   ]
  },
  {
   "cell_type": "code",
   "execution_count": null,
   "id": "a92153f9-5ba6-4034-ab06-263989a328be",
   "metadata": {},
   "outputs": [],
   "source": [
    "from scip.features import intensity\n",
    "\n",
    "props = intensity.props.copy()\n",
    "props.remove(\"kurtosis\")\n",
    "props.remove(\"skewness\")\n",
    ""
   ]
  },
  {
   "cell_type": "code",
   "execution_count": null,
   "id": "e27059e7-b747-41c6-8b3e-08f20b60974e",
   "metadata": {},
   "outputs": [],
   "source": [
    "def asinh_scale(x, t):\n",
    "    return scale(\n",
    "        flowutils.transforms.asinh(x, channel_indices=None, t=t, m=4.5, a=1),\n",
    "        with_std=False,\n",
    "    )\n",
    ""
   ]
  },
  {
   "cell_type": "code",
   "execution_count": null,
   "id": "ed25359f-29a3-49c8-8ae9-acd8f5addad2",
   "metadata": {},
   "outputs": [],
   "source": [
    "plt.rcParams[\"figure.dpi\"] = 150\n",
    ""
   ]
  },
  {
   "cell_type": "markdown",
   "id": "da6fca42-d8a1-4588-8f50-e35dc5c5a2f7",
   "metadata": {},
   "source": [
    "## Data"
   ]
  },
  {
   "cell_type": "code",
   "execution_count": null,
   "id": "3b41550f-e462-4943-8f82-ba08307a9c92",
   "metadata": {},
   "outputs": [],
   "source": [
    "try:\n",
    "    features = snakemake.input.features\n",
    "    index = snakemake.input.index\n",
    "    columns = snakemake.input.columns\n",
    "    fillna = bool(int(snakemake.wildcards.fillna))\n",
    "    output = snakemake.output[0]\n",
    "except NameError:\n",
    "    # data_dir = Path(\"/data/gent/vo/000/gvo00070/vsc42015/datasets/cd7/800/results/scip/202203221745/\")\n",
    "    data_dir = Path(\"/home/maximl/scratch/data/vsc/datasets/cd7/800/scip/061020221736/\")\n",
    "    features = data_dir / \"features.parquet\"\n",
    "    index = data_dir / \"indices\" / \"index.npy\"\n",
    "    columns = data_dir / \"indices\" / \"columns.npy\"\n",
    "    fillna = False\n",
    "    output = data_dir / f\"adata_{int(fillna)}.h5ad\"\n",
    ""
   ]
  },
  {
   "cell_type": "code",
   "execution_count": null,
   "id": "6c8f4eb2-03c5-49d1-8be5-b102c83aac13",
   "metadata": {},
   "outputs": [],
   "source": [
    "df = pq.read_table(features).to_pandas()\n",
    "df = df.set_index([\"meta_panel\", \"meta_replicate\", \"meta_P\", \"meta_id\"])\n",
    "df = df.loc[\"D\"]\n",
    "df = df[[c for c in numpy.load(columns, allow_pickle=True) if c in df.columns]]\n",
    "df = df.loc[numpy.load(index, allow_pickle=True)]\n",
    "df = df.sort_index()\n",
    "\n",
    "df.shape\n",
    ""
   ]
  },
  {
   "cell_type": "markdown",
   "id": "6dc40a5d-c2c2-44cc-84ee-b024028ebf81",
   "metadata": {},
   "source": [
    "## Removing zero variance features\n",
    "\n",
    "from sklearn.feature_selection import VarianceThreshold"
   ]
  },
  {
   "cell_type": "code",
   "execution_count": null,
   "id": "d876c2f9-3c9d-42ca-8087-48f7569475a2",
   "metadata": {},
   "outputs": [],
   "source": [
    "var = VarianceThreshold().fit(df.filter(regex=\"feat\"))\n",
    ""
   ]
  },
  {
   "cell_type": "code",
   "execution_count": null,
   "id": "61e501e9-2702-41b7-832d-399ff3fd8e2f",
   "metadata": {},
   "outputs": [],
   "source": [
    "df = pandas.concat(\n",
    "    [df.filter(regex=\"feat\").iloc[:, var.get_support()], df.filter(regex=\"meta\")],\n",
    "    axis=1,\n",
    ")\n",
    ""
   ]
  },
  {
   "cell_type": "markdown",
   "id": "504470f7-fe9c-4360-8e43-c1418069ba57",
   "metadata": {},
   "source": [
    "## NaN values"
   ]
  },
  {
   "cell_type": "code",
   "execution_count": null,
   "id": "ffe22197-9ff4-4a53-aee0-c2a8bc407096",
   "metadata": {},
   "outputs": [],
   "source": [
    "df.isna().all(axis=0).any()\n",
    ""
   ]
  },
  {
   "cell_type": "code",
   "execution_count": null,
   "id": "078475a8-659a-421d-b05d-bb1d241cee1e",
   "metadata": {},
   "outputs": [],
   "source": [
    "df.filter(regex=\"feat\").isna().all(axis=1).sum()\n",
    ""
   ]
  },
  {
   "cell_type": "code",
   "execution_count": null,
   "id": "80da762e-4c27-450e-8d2b-aacadb6bed58",
   "metadata": {},
   "outputs": [],
   "source": [
    "seaborn.histplot(data=df.isna().sum())\n",
    ""
   ]
  },
  {
   "cell_type": "code",
   "execution_count": null,
   "id": "fa4a42b1-dd0d-40e8-ae91-62ee3b85c760",
   "metadata": {},
   "outputs": [],
   "source": [
    "if fillna:\n",
    "    df = df.fillna(0)\n",
    "else:\n",
    "    df = df.drop(columns=df.columns[df.isna().sum() > 0])\n",
    ""
   ]
  },
  {
   "cell_type": "markdown",
   "id": "7b1918af-53eb-4f24-8332-98b39c792da6",
   "metadata": {},
   "source": [
    "## Analysis"
   ]
  },
  {
   "cell_type": "code",
   "execution_count": null,
   "id": "887ffd48-f446-4024-9a05-af1045659641",
   "metadata": {},
   "outputs": [],
   "source": [
    "obs = df.filter(regex=\"meta\").reset_index()\n",
    "obs.index = df.index\n",
    "adata = anndata.AnnData(df.filter(regex=\"feat\").astype(numpy.float32), obs=obs)\n",
    "adata.raw = adata.copy()\n",
    "\n",
    "adata.obs[\"meta_replicate\"] = adata.obs[\"meta_replicate\"].astype(\"category\")\n",
    ""
   ]
  },
  {
   "cell_type": "code",
   "execution_count": null,
   "id": "37703ee0-2d33-40a7-99e2-185ee3598ff8",
   "metadata": {},
   "outputs": [],
   "source": [
    "markers = [col for col in adata.var.index if col.startswith(\"feat_sum\")]\n",
    ""
   ]
  },
  {
   "cell_type": "code",
   "execution_count": null,
   "id": "e72aa9dd-73d3-4bb0-b50c-4fcd6ad5b7ce",
   "metadata": {},
   "outputs": [],
   "source": [
    "adata_pre = adata.copy()\n",
    ""
   ]
  },
  {
   "cell_type": "code",
   "execution_count": null,
   "id": "b57c97a3-7f98-4471-a6af-7261f36248e0",
   "metadata": {},
   "outputs": [],
   "source": [
    "%%time\n",
    "scanpy.pp.scale(adata_pre)\n",
    "scanpy.tl.pca(adata_pre, svd_solver='arpack')\n",
    "scanpy.pp.neighbors(adata_pre, n_neighbors=30)\n",
    "scanpy.tl.umap(adata_pre)\n",
    "scanpy.pl.umap(adata_pre, color=[\"meta_replicate\"])"
   ]
  },
  {
   "cell_type": "code",
   "execution_count": null,
   "id": "7027c6b6-d7c6-4632-af95-5aa18c17df9e",
   "metadata": {},
   "outputs": [],
   "source": [
    "discrete = [\"median\", \"area\", \"euler\"]\n",
    "discrete_cols = [c for c in adata.var_names if any(d in c for d in discrete)]\n",
    "discrete_cols_i = [\n",
    "    i for i, c in enumerate(adata.var_names) if any(d in c for d in discrete)\n",
    "]\n",
    ""
   ]
  },
  {
   "cell_type": "code",
   "execution_count": null,
   "id": "806ce11d-b3b1-4501-9dbe-d2415ca05bea",
   "metadata": {},
   "outputs": [],
   "source": [
    "adata.var[\"is_marker\"] = [\n",
    "    any(n.endswith(\"feat_combined_sum_%s\" % m) for m in [\"DAPI\", \"EGFP\", \"RPe\", \"APC\"])\n",
    "    for n in adata.var_names\n",
    "]\n",
    "adata.var[\"do_asinh\"] = [\n",
    "    (any(m in n for m in [\"DAPI\", \"EGFP\", \"RPe\", \"APC\"]) and any(o in n for o in props))\n",
    "    for n in adata.var_names\n",
    "]\n",
    ""
   ]
  },
  {
   "cell_type": "code",
   "execution_count": null,
   "id": "ff8ec690-5757-413c-9ee2-fced68e76a7f",
   "metadata": {
    "tags": []
   },
   "outputs": [],
   "source": [
    "%%time\n",
    "with warnings.catch_warnings():\n",
    "    warnings.simplefilter(\"ignore\")\n",
    "    \n",
    "    sc_df = scanpy.get.obs_df(adata, keys=adata.var_names.to_list())\n",
    "    sc_df[adata.var_names[adata.var.do_asinh].to_list()] = sc_df[adata.var_names[adata.var.do_asinh]].groupby([\"meta_replicate\", \"meta_P\"]).transform(lambda x: asinh_scale(x, x.max()))\n",
    "    sc_df[adata.var_names[~adata.var.do_asinh].to_list()] = sc_df[adata.var_names[~adata.var.do_asinh]].groupby([\"meta_replicate\", \"meta_P\"]).transform(lambda x: scale(x))\n",
    "\n",
    "adata = anndata.AnnData(X=sc_df, obs=adata.obs, var=adata.var, raw=adata.raw)"
   ]
  },
  {
   "cell_type": "code",
   "execution_count": null,
   "id": "b19e330e-0848-44fb-b554-8b5a4760ab60",
   "metadata": {},
   "outputs": [],
   "source": [
    "def map_names(a):\n",
    "    return {\n",
    "        \"feat_combined_sum_DAPI\": \"DAPI\",\n",
    "        \"feat_combined_sum_EGFP\": \"CD45\",\n",
    "        \"feat_combined_sum_RPe\": \"Siglec 8\",\n",
    "        \"feat_combined_sum_APC\": \"CD15\",\n",
    "    }[a]\n",
    ""
   ]
  },
  {
   "cell_type": "code",
   "execution_count": null,
   "id": "a65c301c-d39d-47c9-bed8-e6fccbc1d72e",
   "metadata": {
    "tags": []
   },
   "outputs": [],
   "source": [
    "aligned_df = scanpy.get.obs_df(\n",
    "    adata, keys=adata.var_names[adata.var.is_marker].to_list()\n",
    ").reset_index()\n",
    "\n",
    "melted_df = pandas.melt(\n",
    "    aligned_df,\n",
    "    id_vars=[\"meta_P\", \"meta_replicate\"],\n",
    "    value_vars=adata.var_names[adata.var.is_marker].to_list(),\n",
    ")\n",
    "melted_df.variable = melted_df.variable.apply(map_names)\n",
    "\n",
    "grid = seaborn.FacetGrid(\n",
    "    data=melted_df,\n",
    "    col=\"meta_replicate\",\n",
    "    row=\"variable\",\n",
    "    sharey=\"row\",\n",
    "    aspect=1.5,\n",
    "    margin_titles=True,\n",
    ")\n",
    "grid.map_dataframe(seaborn.stripplot, x=\"meta_P\", y=\"value\", size=1, alpha=0.5)\n",
    "\n",
    "grid.set_axis_labels(\"Well image position\", \"Fluorescence intensity\")\n",
    "grid.set_titles(col_template=\"Replicate {col_name}\", row_template=\"{row_name}\")\n",
    "\n",
    "grid.add_legend()\n",
    "\n",
    "# plt.savefig(data_dir / \"figures/qc_intensity_distribution_post.png\", bbox_inches='tight', pad_inches=0)\n",
    ""
   ]
  },
  {
   "cell_type": "code",
   "execution_count": null,
   "id": "933866f6-bf6c-453a-bd32-8ac6d7a50c33",
   "metadata": {},
   "outputs": [],
   "source": [
    "def rediscritize(v):\n",
    "    bin_idx = numpy.digitize(v, bins=numpy.histogram_bin_edges(v))\n",
    "    bin2mu = [numpy.mean(v[bin_idx == i]) for i in range(1, numpy.max(bin_idx) + 1)]\n",
    "    return numpy.fromiter((bin2mu[i - 1] for i in bin_idx), dtype=float)\n",
    ""
   ]
  },
  {
   "cell_type": "code",
   "execution_count": null,
   "id": "78b49a8c-e426-4b73-97f3-e1e56889b657",
   "metadata": {},
   "outputs": [],
   "source": [
    "adata = adata[adata.to_df().isna().sum(axis=1) == 0].copy()\n",
    ""
   ]
  },
  {
   "cell_type": "code",
   "execution_count": null,
   "id": "eb4f351e-3b9e-4c00-b2c0-64c52dc01c58",
   "metadata": {},
   "outputs": [],
   "source": [
    "X = adata.X.copy()\n",
    "X[:, discrete_cols_i] = numpy.apply_along_axis(rediscritize, 0, X[:, discrete_cols_i])\n",
    ""
   ]
  },
  {
   "cell_type": "code",
   "execution_count": null,
   "id": "3ff6a38f-77e7-4319-9225-87e2dcaf3504",
   "metadata": {
    "tags": []
   },
   "outputs": [],
   "source": [
    "%%time\n",
    "with warnings.catch_warnings():\n",
    "    warnings.simplefilter(\"ignore\")\n",
    "    \n",
    "    mi_post = mutual_info_classif(X=X, y=adata.obs[\"meta_replicate\"], discrete_features=discrete_cols_i, n_neighbors=30, random_state=0)\n",
    "    mi_post = pandas.Series(mi_post, index=adata.var_names).sort_values(ascending=False)"
   ]
  },
  {
   "cell_type": "code",
   "execution_count": null,
   "id": "edd7c4ed-e2ce-47d3-85e7-f234659b571c",
   "metadata": {},
   "outputs": [],
   "source": [
    "kneedle = KneeLocator(\n",
    "    numpy.arange(len(mi_post)),\n",
    "    mi_post,\n",
    "    S=40,\n",
    "    curve=\"convex\",\n",
    "    direction=\"decreasing\",\n",
    "    online=False,\n",
    ")\n",
    "elbow_value = mi_post.iloc[int(kneedle.knee)]\n",
    "\n",
    "kneedle.plot_knee()\n",
    ""
   ]
  },
  {
   "cell_type": "code",
   "execution_count": null,
   "id": "297ed147-7362-4998-b366-407aa0535574",
   "metadata": {},
   "outputs": [],
   "source": [
    "selected_mi = mi_post[mi_post < elbow_value].index.values\n",
    "len(selected_mi) / len(mi_post)\n",
    ""
   ]
  },
  {
   "cell_type": "code",
   "execution_count": null,
   "id": "62b7a630-1d81-49a8-bae4-2aafe8659a32",
   "metadata": {},
   "outputs": [],
   "source": [
    "len(mi_post[mi_post > elbow_value].index.values)\n",
    ""
   ]
  },
  {
   "cell_type": "code",
   "execution_count": null,
   "id": "ebefb6e0-d5e9-495a-ad4a-7d28fa2f64c7",
   "metadata": {},
   "outputs": [],
   "source": [
    "adata2 = adata[:, selected_mi].copy()\n",
    ""
   ]
  },
  {
   "cell_type": "markdown",
   "id": "cff2c2e8-3aef-496f-b9b4-9fe69712ca37",
   "metadata": {},
   "source": [
    "## Feature clustering"
   ]
  },
  {
   "cell_type": "code",
   "execution_count": null,
   "id": "61d80a5d-9419-409c-8017-3eb4f650f967",
   "metadata": {},
   "outputs": [],
   "source": [
    "corr = scipy.stats.spearmanr(adata2.X).correlation\n",
    "seaborn.clustermap(corr, vmin=-1, vmax=1, center=0)\n",
    ""
   ]
  },
  {
   "cell_type": "code",
   "execution_count": null,
   "id": "5da0fb8f-0179-4b28-a616-afb6f3e05d2a",
   "metadata": {},
   "outputs": [],
   "source": [
    "corr = (corr + corr.T) / 2\n",
    "numpy.fill_diagonal(corr, 1)\n",
    "\n",
    "\n",
    "def feat_from_corr(corr):\n",
    "    # We convert the correlation matrix to a distance matrix before performing\n",
    "    # hierarchical clustering using Ward's linkage.\n",
    "    distance_matrix = 1 - numpy.abs(corr)\n",
    "    dist_linkage = hierarchy.ward(squareform(distance_matrix))\n",
    "\n",
    "    clusters = fcluster(dist_linkage, 0.1, criterion=\"distance\").ravel()\n",
    "\n",
    "    indices = []\n",
    "    for c in numpy.unique(clusters):\n",
    "        ci = numpy.flatnonzero(clusters == c)\n",
    "        indices.append(ci[adata2.X[:, ci].std(axis=0).argmax()])\n",
    "\n",
    "    features = [adata2.var_names[i] for i in indices]\n",
    "    return features, indices, clusters\n",
    "\n",
    "\n",
    "features, indices, clusters = feat_from_corr(corr)\n",
    ""
   ]
  },
  {
   "cell_type": "code",
   "execution_count": null,
   "id": "ea3a474c-fd00-47ad-8a92-0313c09db8e5",
   "metadata": {},
   "outputs": [],
   "source": [
    "seaborn.clustermap(corr[indices, :][:, indices], vmin=-1, vmax=1, center=0)\n",
    ""
   ]
  },
  {
   "cell_type": "code",
   "execution_count": null,
   "id": "5779dbcf-6450-4a84-be42-fd05f6362036",
   "metadata": {},
   "outputs": [],
   "source": [
    "adata2.var[\"selected_corr\"] = False\n",
    "adata2.var.loc[features, \"selected_corr\"] = True\n",
    "adata2.var[\"feature_clusters\"] = clusters\n",
    ""
   ]
  },
  {
   "cell_type": "code",
   "execution_count": null,
   "id": "53ef28e7-b69a-49f3-a24e-c50200eb8b88",
   "metadata": {},
   "outputs": [],
   "source": [
    "scanpy.pp.scale(adata2)\n",
    ""
   ]
  },
  {
   "cell_type": "code",
   "execution_count": null,
   "id": "4a65ee3e-1f78-48c5-b51a-342f432da696",
   "metadata": {},
   "outputs": [],
   "source": [
    "adata3 = adata2[:, adata2.var.selected_corr].copy()\n",
    ""
   ]
  },
  {
   "cell_type": "code",
   "execution_count": null,
   "id": "896b9acc-dfe4-4ed9-9cb7-e1a0992fb4df",
   "metadata": {},
   "outputs": [],
   "source": [
    "scanpy.tl.pca(adata3, svd_solver=\"arpack\", random_state=0)\n",
    "scanpy.pp.neighbors(adata3, n_neighbors=30, method=\"umap\", random_state=0)\n",
    ""
   ]
  },
  {
   "cell_type": "code",
   "execution_count": null,
   "id": "d1749c08-6403-4362-a631-68e924520415",
   "metadata": {},
   "outputs": [],
   "source": [
    "%%time\n",
    "resolutions = [0.1, 0.25, 0.5, 0.75, 1]\n",
    "for res in resolutions:\n",
    "    scanpy.tl.leiden(adata3, resolution=res, key_added=f\"leiden_{res}\", random_state=0)"
   ]
  },
  {
   "cell_type": "code",
   "execution_count": null,
   "id": "85d74a60-28da-43c9-966a-bb1bb85f73ce",
   "metadata": {},
   "outputs": [],
   "source": [
    "scanpy.tl.umap(adata3, random_state=0)\n",
    ""
   ]
  },
  {
   "cell_type": "code",
   "execution_count": null,
   "id": "24b6e364-518f-40cd-909e-e5168c737d37",
   "metadata": {},
   "outputs": [],
   "source": [
    "scanpy.pl.umap(\n",
    "    adata3,\n",
    "    color=[\"leiden_0.25\", \"leiden_0.5\", \"leiden_0.75\", \"leiden_1\", \"meta_replicate\"],\n",
    "    legend_loc=\"on data\",\n",
    ")\n",
    ""
   ]
  },
  {
   "cell_type": "code",
   "execution_count": null,
   "id": "da112982-b62f-4efc-adb9-99c27c6a1dda",
   "metadata": {},
   "outputs": [],
   "source": [
    "adata3.obs[\"leiden\"] = adata3.obs[\"leiden_0.75\"]\n",
    ""
   ]
  },
  {
   "cell_type": "code",
   "execution_count": null,
   "id": "2a1bb327-53fa-46f2-9a6c-1d019d842b25",
   "metadata": {},
   "outputs": [],
   "source": [
    "seaborn.countplot(data=adata3.obs, x=\"leiden\", hue=\"meta_replicate\")\n",
    ""
   ]
  },
  {
   "cell_type": "code",
   "execution_count": null,
   "id": "72948753-221c-46e7-9053-3710ea398331",
   "metadata": {},
   "outputs": [],
   "source": [
    "adata_out = anndata.AnnData(\n",
    "    X=adata2.X, var=adata2.var, obs=adata3.obs, obsm=adata3.obsm, raw=adata2.raw\n",
    ")\n",
    ""
   ]
  },
  {
   "cell_type": "code",
   "execution_count": null,
   "id": "f5887a53-3976-44e7-8291-a8993a7c1365",
   "metadata": {},
   "outputs": [],
   "source": [
    "import pickle\n",
    "\n",
    "with open(data_dir / \"adata.pickle\", \"wb\") as fh:\n",
    "    pickle.dump(adata_out, fh)\n",
    ""
   ]
  },
  {
   "cell_type": "code",
   "execution_count": null,
   "id": "15aa48fc-1a9a-42a2-a553-8de12865b637",
   "metadata": {},
   "outputs": [],
   "source": []
  }
 ],
 "metadata": {
  "kernelspec": {
   "display_name": "Python 3 (ipykernel)",
   "language": "python",
   "name": "python3"
  },
  "language_info": {
   "codemirror_mode": {
    "name": "ipython",
    "version": 3
   },
   "file_extension": ".py",
   "mimetype": "text/x-python",
   "name": "python",
   "nbconvert_exporter": "python",
   "pygments_lexer": "ipython3",
   "version": "3.9.13"
  },
  "vscode": {
   "interpreter": {
    "hash": "64fd0ed183a0510f919c27dddcaa3e947ee6ca74b1ed547fc7204df54d1f1271"
   }
  }
 },
 "nbformat": 4,
 "nbformat_minor": 5
}
