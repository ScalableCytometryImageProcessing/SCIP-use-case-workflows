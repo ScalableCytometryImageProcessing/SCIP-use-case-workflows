{
 "cells": [
  {
   "cell_type": "markdown",
   "id": "eb001056-123e-47ad-91fa-622bdedb6f32",
   "metadata": {},
   "source": [
    "# Cluster annotation"
   ]
  },
  {
   "cell_type": "code",
   "execution_count": null,
   "id": "e324bb32-6264-45b8-becd-c8289e0927e2",
   "metadata": {},
   "outputs": [],
   "source": [
    "%load_ext autoreload\n",
    "%autoreload 2"
   ]
  },
  {
   "cell_type": "code",
   "execution_count": null,
   "id": "b14722db-9bc6-412e-8c79-80f09681a6c5",
   "metadata": {},
   "outputs": [],
   "source": [
    "from scip_workflows.common import *\n",
    ""
   ]
  },
  {
   "cell_type": "code",
   "execution_count": null,
   "id": "7af634fb-c69f-40f3-a94f-e7eecc8d46e4",
   "metadata": {},
   "outputs": [],
   "source": [
    "import anndata\n",
    "import scanpy\n",
    "import shap\n",
    "from matplotlib.gridspec import GridSpec\n",
    "from matplotlib.patches import ConnectionStyle\n",
    "from sklearn.ensemble import RandomForestClassifier\n",
    "from sklearn.feature_selection import mutual_info_classif\n",
    "from sklearn.metrics import balanced_accuracy_score\n",
    "from sklearn.model_selection import train_test_split\n",
    "\n",
    "from scip_workflows.core import plot_gate_czi\n",
    "\n",
    "shap.initjs()\n",
    ""
   ]
  },
  {
   "cell_type": "code",
   "execution_count": null,
   "id": "c3328275-22b9-436e-8d85-4264590e8f78",
   "metadata": {},
   "outputs": [],
   "source": [
    "try:\n",
    "    adata = snakemake.input.adata\n",
    "    output_three = snakemake.output[0]\n",
    "    output_cd15_cd45 = snakemake.output[1]\n",
    "    output_cd15_siglec8 = snakemake.output[2]\n",
    "    image_root = snakemake.input.image_root\n",
    "except NameError:\n",
    "    image_root = Path(\"/home/maximl/scratch/data/vsc/datasets/cd7/800\")\n",
    "    data_dir = Path(\"/home/maximl/scratch/data/vsc/datasets/cd7/800/scip/061020221736/\")\n",
    "    adata = data_dir / \"adata.pickle\"\n",
    "    output_three = data_dir / \"figures\" / \"cluster_panels.png\"\n",
    "    output_cd15_cd45 = data_dir / \"figures\" / \"cd15_vs_cd45_facets.png\"\n",
    "    output_cd15_siglec8 = data_dir / \"figures\" / \"cd15_vs_siglec8_facets.png\"\n",
    "    output_unclassified = data_dir / \"figures\" / \"unclassified_cluster.png\"\n",
    ""
   ]
  },
  {
   "cell_type": "code",
   "execution_count": null,
   "id": "2a3a1755-08ac-4884-b33b-78ebded8c3c4",
   "metadata": {},
   "outputs": [],
   "source": [
    "def map_names(a):\n",
    "    return {\n",
    "        \"feat_combined_sum_DAPI\": \"DAPI\",\n",
    "        \"feat_combined_sum_EGFP\": \"CD45\",\n",
    "        \"feat_combined_sum_RPe\": \"Siglec 8\",\n",
    "        \"feat_combined_sum_APC\": \"CD15\",\n",
    "    }[a]\n",
    ""
   ]
  },
  {
   "cell_type": "code",
   "execution_count": null,
   "id": "6d3e35dd-4cd8-450a-9a27-6855c0f443a6",
   "metadata": {},
   "outputs": [],
   "source": [
    "with open(adata, \"rb\") as fh:\n",
    "    adata = pickle.load(fh)\n",
    ""
   ]
  },
  {
   "cell_type": "code",
   "execution_count": null,
   "id": "b867e01b-107e-4890-9067-67e12cc47dba",
   "metadata": {},
   "outputs": [],
   "source": [
    "adata.obs.meta_path = adata.obs.meta_path.apply(\n",
    "    lambda p: image_root.joinpath(*Path(p).parts[Path(p).parts.index(\"800\") + 1 :])\n",
    ")\n",
    ""
   ]
  },
  {
   "cell_type": "code",
   "execution_count": null,
   "id": "fdcdcf83-99b2-414d-ad38-62d7be72641d",
   "metadata": {},
   "outputs": [],
   "source": [
    "markers = [\n",
    "    col\n",
    "    for col in adata.var_names\n",
    "    if col.startswith(\n",
    "        tuple(\"feat_combined_sum_%s\" % m for m in (\"EGFP\", \"RPe\", \"APC\", \"DAPI\"))\n",
    "    )\n",
    "]\n",
    ""
   ]
  },
  {
   "cell_type": "code",
   "execution_count": null,
   "id": "b368167e-be15-46c9-a7af-b896c8f49fd4",
   "metadata": {},
   "outputs": [],
   "source": [
    "fig, axes = plt.subplots(1, 3, figsize=(15, 5))\n",
    "ax = scanpy.pl.matrixplot(\n",
    "    adata,\n",
    "    markers,\n",
    "    groupby=\"leiden\",\n",
    "    dendrogram=True,\n",
    "    vmin=-2,\n",
    "    vmax=2,\n",
    "    cmap=\"RdBu_r\",\n",
    "    ax=axes[0],\n",
    "    show=False,\n",
    "    use_raw=False,\n",
    ")\n",
    "ax[\"mainplot_ax\"].set_xticklabels(\n",
    "    map(lambda a: map_names(a.get_text()), ax[\"mainplot_ax\"].get_xticklabels())\n",
    ")\n",
    "scanpy.pl.umap(adata, color=\"leiden\", legend_loc=\"on data\", ax=axes[1], show=False)\n",
    "seaborn.countplot(data=adata.obs, x=\"leiden\", hue=\"meta_replicate\", ax=axes[2])\n",
    ""
   ]
  },
  {
   "cell_type": "code",
   "execution_count": null,
   "id": "89746395-4263-4288-b70d-95219db6945d",
   "metadata": {},
   "outputs": [],
   "source": [
    "adata.obs[\"leiden_merged\"] = adata.obs.leiden.map(\n",
    "    lambda a: a if a in [str(i) for i in [2, 4, 6, 8]] else \"1\"\n",
    ")\n",
    ""
   ]
  },
  {
   "cell_type": "code",
   "execution_count": null,
   "id": "379618d3-f90f-4395-a4f9-a9f34ff5da42",
   "metadata": {},
   "outputs": [],
   "source": [
    "fig, axes = plt.subplots(1, 3, figsize=(15, 5))\n",
    "ax = scanpy.pl.matrixplot(\n",
    "    adata,\n",
    "    markers,\n",
    "    groupby=\"leiden_merged\",\n",
    "    dendrogram=True,\n",
    "    vmin=-2,\n",
    "    vmax=2,\n",
    "    cmap=\"RdBu_r\",\n",
    "    ax=axes[1],\n",
    "    show=False,\n",
    "    use_raw=False,\n",
    ")\n",
    "ax[\"mainplot_ax\"].set_xticklabels(\n",
    "    map(lambda a: map_names(a.get_text()), ax[\"mainplot_ax\"].get_xticklabels())\n",
    ")\n",
    "scanpy.pl.umap(adata, color=\"leiden_merged\", ax=axes[2], show=False)\n",
    "seaborn.countplot(data=adata.obs, x=\"leiden_merged\", hue=\"meta_replicate\", ax=axes[0])\n",
    ""
   ]
  },
  {
   "cell_type": "code",
   "execution_count": null,
   "id": "fd99eacc-6a20-404f-a33d-0f987d5a4431",
   "metadata": {},
   "outputs": [],
   "source": [
    "scanpy.pl.scatter(\n",
    "    adata,\n",
    "    x=\"feat_combined_sum_EGFP\",\n",
    "    y=\"feat_combined_sum_APC\",\n",
    "    color=\"leiden_merged\",\n",
    "    legend_loc=\"on data\",\n",
    ")\n",
    ""
   ]
  },
  {
   "cell_type": "code",
   "execution_count": null,
   "id": "609b89ec-fadd-493d-b9df-13b4e37faefe",
   "metadata": {},
   "outputs": [],
   "source": [
    "grid = seaborn.FacetGrid(\n",
    "    data=scanpy.get.obs_df(\n",
    "        adata,\n",
    "        keys=[\"feat_combined_sum_EGFP\", \"feat_combined_sum_APC\", \"leiden_merged\"],\n",
    "        use_raw=True,\n",
    "    ),\n",
    "    col=\"leiden_merged\",\n",
    ")\n",
    "grid.set_titles(col_template=\"Cluster {col_name}\")\n",
    "for ax in grid.axes.ravel():\n",
    "    seaborn.scatterplot(\n",
    "        data=scanpy.get.obs_df(\n",
    "            adata,\n",
    "            keys=[\"feat_combined_sum_EGFP\", \"feat_combined_sum_APC\"],\n",
    "            use_raw=True,\n",
    "        ),\n",
    "        x=\"feat_combined_sum_EGFP\",\n",
    "        y=\"feat_combined_sum_APC\",\n",
    "        color=\"grey\",\n",
    "        s=0.5,\n",
    "        alpha=0.5,\n",
    "        ax=ax,\n",
    "    )\n",
    "grid.map_dataframe(\n",
    "    seaborn.scatterplot, x=\"feat_combined_sum_EGFP\", y=\"feat_combined_sum_APC\", s=1.5\n",
    ")\n",
    "for ax in grid.axes.ravel():\n",
    "    ax.set_yticks([])\n",
    "    ax.set_xticks([])\n",
    "    ax.set_xlabel(\"CD45\")\n",
    "    ax.set_ylabel(\"CD15\")\n",
    "\n",
    "plt.savefig(output_cd15_cd45, bbox_inches=\"tight\", pad_inches=0, dpi=200)\n",
    ""
   ]
  },
  {
   "cell_type": "code",
   "execution_count": null,
   "id": "f657f2d7-5346-48f3-ba7c-aa943d47ad5e",
   "metadata": {},
   "outputs": [],
   "source": [
    "scanpy.pl.scatter(\n",
    "    adata[adata.obs.leiden.isin([\"1\", \"6\", \"8\", \"9\"])],\n",
    "    x=\"feat_combined_sum_RPe\",\n",
    "    y=\"feat_combined_sum_APC\",\n",
    "    color=\"leiden\",\n",
    "    legend_loc=\"on data\",\n",
    ")\n",
    ""
   ]
  },
  {
   "cell_type": "code",
   "execution_count": null,
   "id": "7244c393-c1b0-4883-9779-e49e4897bfa1",
   "metadata": {},
   "outputs": [],
   "source": [
    "grid = seaborn.FacetGrid(\n",
    "    data=scanpy.get.obs_df(\n",
    "        adata[adata.obs.leiden.isin([\"1\", \"6\", \"8\", \"9\"])],\n",
    "        keys=[\"feat_combined_sum_RPe\", \"feat_combined_sum_APC\", \"leiden_merged\"],\n",
    "        use_raw=True,\n",
    "    ),\n",
    "    col=\"leiden_merged\",\n",
    ")\n",
    "grid.set_titles(col_template=\"Cluster {col_name}\")\n",
    "for ax in grid.axes.ravel():\n",
    "    seaborn.scatterplot(\n",
    "        data=scanpy.get.obs_df(\n",
    "            adata[adata.obs.leiden.isin([\"1\", \"6\", \"8\", \"9\"])],\n",
    "            keys=[\"feat_combined_sum_RPe\", \"feat_combined_sum_APC\"],\n",
    "            use_raw=True,\n",
    "        ),\n",
    "        x=\"feat_combined_sum_RPe\",\n",
    "        y=\"feat_combined_sum_APC\",\n",
    "        color=\"grey\",\n",
    "        s=0.5,\n",
    "        alpha=0.5,\n",
    "        ax=ax,\n",
    "    )\n",
    "grid.map_dataframe(\n",
    "    seaborn.scatterplot, x=\"feat_combined_sum_RPe\", y=\"feat_combined_sum_APC\", s=1.5\n",
    ")\n",
    "for ax in grid.axes.ravel():\n",
    "    ax.set_yticks([])\n",
    "    ax.set_xticks([])\n",
    "    ax.set_xlabel(\"Siglec 8\")\n",
    "    ax.set_ylabel(\"CD15\")\n",
    "\n",
    "plt.savefig(output_cd15_siglec8, bbox_inches=\"tight\", pad_inches=0, dpi=200)\n",
    ""
   ]
  },
  {
   "cell_type": "markdown",
   "id": "3c3fdccc-6f5e-4c54-8dc5-7c2e8536289b",
   "metadata": {
    "tags": []
   },
   "source": [
    "## SHAP"
   ]
  },
  {
   "cell_type": "code",
   "execution_count": null,
   "id": "c9028dd5-5a8c-4e8c-b13e-529c4057baeb",
   "metadata": {},
   "outputs": [],
   "source": [
    "X_train, X_test, y_train, y_test = train_test_split(\n",
    "    adata[:, adata.var.selected_corr],\n",
    "    adata.obs[\"leiden_merged\"],\n",
    "    test_size=0.1,\n",
    "    stratify=adata.obs[\"leiden_merged\"],\n",
    ")\n",
    ""
   ]
  },
  {
   "cell_type": "code",
   "execution_count": null,
   "id": "ed6f4032-d5a2-421f-9653-75aa294baabd",
   "metadata": {},
   "outputs": [],
   "source": [
    "model = RandomForestClassifier(n_estimators=50, random_state=0).fit(\n",
    "    X_train.to_df(), y_train.values\n",
    ")\n",
    ""
   ]
  },
  {
   "cell_type": "code",
   "execution_count": null,
   "id": "1e89871a-4dff-4684-913b-fe7217e8e022",
   "metadata": {},
   "outputs": [],
   "source": [
    "preds = model.predict(X_test.to_df())\n",
    "balanced_accuracy_score(y_test.values, preds)\n",
    ""
   ]
  },
  {
   "cell_type": "code",
   "execution_count": null,
   "id": "e7e4624c-d2ed-47a4-8cdf-e400df1ee58b",
   "metadata": {},
   "outputs": [],
   "source": [
    "explainer = shap.TreeExplainer(model)\n",
    "shap_values = explainer(X_test.to_df())\n",
    ""
   ]
  },
  {
   "cell_type": "code",
   "execution_count": null,
   "id": "46030a7c-4582-4867-bca4-c0e599785850",
   "metadata": {},
   "outputs": [],
   "source": [
    "y_train.cat.categories\n",
    ""
   ]
  },
  {
   "cell_type": "code",
   "execution_count": null,
   "id": "34df1628-4499-40f2-b7a8-064ca488243f",
   "metadata": {},
   "outputs": [],
   "source": [
    "shap.plots.beeswarm(shap_values[..., 3])\n",
    ""
   ]
  },
  {
   "cell_type": "code",
   "execution_count": null,
   "id": "2633683d-4719-4ec0-bf5e-948b2a679561",
   "metadata": {},
   "outputs": [],
   "source": [
    "adata.obs[\"meta_masks\"] = adata.obs[[\"meta_scene\", \"meta_tile\"]].apply(\n",
    "    lambda r: str(data_dir / \"masks\" / \"%s_%s.npy\") % (r.meta_scene, r.meta_tile),\n",
    "    axis=1,\n",
    ")\n",
    ""
   ]
  },
  {
   "cell_type": "code",
   "execution_count": null,
   "id": "db449b8e-3388-4596-861a-47923702144d",
   "metadata": {},
   "outputs": [],
   "source": [
    "plot_gate_czi(\n",
    "    sel=adata.obs[\"leiden\"] == \"6\",\n",
    "    df=adata.obs,\n",
    "    channels=[0, 1, 2, 3, 4, 5, 6],\n",
    "    maxn=50,\n",
    "    masks_path_col=\"meta_masks\",\n",
    ")\n",
    ""
   ]
  },
  {
   "cell_type": "code",
   "execution_count": null,
   "id": "1b59483b-dbf5-4706-a2bb-05eb3bb312ca",
   "metadata": {},
   "outputs": [],
   "source": [
    "plot_gate_czi(\n",
    "    sel=adata.obs[\"leiden\"] == \"6\",\n",
    "    df=adata.obs,\n",
    "    channels=[0, 1, 2, 3, 4, 5, 6],\n",
    "    maxn=50,\n",
    ")\n",
    "plt.savefig(output_unclassified)\n",
    ""
   ]
  },
  {
   "cell_type": "code",
   "execution_count": null,
   "id": "a59dd954-c6e4-4dc9-93d7-98d84a00312b",
   "metadata": {},
   "outputs": [],
   "source": [
    "quantiles = adata.to_df().filter(regex=\"feat_combined_sum\").quantile([0.05, 0.95])\n",
    "extent = quantiles.loc[\n",
    "    :,\n",
    "    [\n",
    "        \"feat_combined_sum_%s\" % s\n",
    "        for s in [\"DAPI\", \"EGFP\", \"RPe\", \"APC\", \"Bright\", \"Oblique\", \"PGC\"]\n",
    "    ],\n",
    "].T.values\n",
    ""
   ]
  },
  {
   "cell_type": "code",
   "execution_count": null,
   "id": "993e7cd9-4357-424f-9349-c9ac32324a15",
   "metadata": {},
   "outputs": [],
   "source": [
    "plot_gate_czi(\n",
    "    sel=adata.obs[\"leiden\"] == \"6\",\n",
    "    df=adata.obs,\n",
    "    channels=[0, 1, 2, 3, 4, 5, 6],\n",
    "    maxn=50,\n",
    "    extent=extent,\n",
    ")\n",
    ""
   ]
  },
  {
   "cell_type": "code",
   "execution_count": null,
   "id": "4bff351b-fd8c-40c2-aeb1-01d0e891fe1b",
   "metadata": {},
   "outputs": [],
   "source": [
    "scanpy.pl.violin(adata, \"feat_combined_sum_APC\", groupby=\"leiden_merged\")\n",
    ""
   ]
  },
  {
   "cell_type": "code",
   "execution_count": null,
   "id": "283a3f47-92ff-4b97-96e4-5e3bc86e27f2",
   "metadata": {},
   "outputs": [],
   "source": [
    "shap.plots.scatter(shap_values[..., \"feat_combined_sum_APC\", 4])\n",
    ""
   ]
  },
  {
   "cell_type": "code",
   "execution_count": null,
   "id": "afa60e00-5735-4d96-91e7-2992fcb7744f",
   "metadata": {},
   "outputs": [],
   "source": [
    "shap.plots.beeswarm(shap_values[..., 5])\n",
    ""
   ]
  },
  {
   "cell_type": "code",
   "execution_count": null,
   "id": "48a1a966-0c51-4fa8-b703-7527b9a7e0e0",
   "metadata": {},
   "outputs": [],
   "source": [
    "plot_gate_czi(\n",
    "    sel=adata.obs[\"leiden\"] == \"9\",\n",
    "    df=adata.obs,\n",
    "    channels=[0, 1, 2, 3, 4, 5, 6],\n",
    "    maxn=30,\n",
    "    masks_path_col=\"meta_masks\",\n",
    ")\n",
    ""
   ]
  },
  {
   "cell_type": "markdown",
   "id": "6e1748a2-c536-4bc5-a77a-5a923ef762e4",
   "metadata": {},
   "source": [
    "# Cluster annotation"
   ]
  },
  {
   "cell_type": "code",
   "execution_count": null,
   "id": "515e6087-4fd8-4a6d-aa5c-6fa12043e1d1",
   "metadata": {},
   "outputs": [],
   "source": [
    "# create a dictionary to map cluster to annotation label\n",
    "cluster2annotation = {\n",
    "    \"1\": \"granulocytes\",\n",
    "    \"8\": \"eosinophils\",\n",
    "    \"4\": \"monocytes\",\n",
    "    \"2\": \"lymphocytes\",\n",
    "    \"6\": \"unclassified\",\n",
    "}\n",
    "\n",
    "# add a new `.obs` column called `cell type` by mapping clusters to annotation using pandas `map` function\n",
    "cat_type = pandas.CategoricalDtype(\n",
    "    [\"monocytes\", \"lymphocytes\", \"granulocytes\", \"eosinophils\", \"unclassified\"],\n",
    "    ordered=True,\n",
    ")\n",
    "adata.obs[\"cell type\"] = (\n",
    "    adata.obs[\"leiden_merged\"].map(cluster2annotation).astype(cat_type)\n",
    ")\n",
    ""
   ]
  },
  {
   "cell_type": "code",
   "execution_count": null,
   "id": "fc240417-be4e-47aa-b362-946081b6c445",
   "metadata": {},
   "outputs": [],
   "source": [
    "fig = plt.figure(dpi=200, figsize=(10, 7), constrained_layout=True)\n",
    "gs = GridSpec(2, 2, figure=fig)\n",
    "\n",
    "ax = fig.add_subplot(gs[0, 0])\n",
    "scanpy.pl.scatter(\n",
    "    adata[adata.obs.leiden_merged.isin(cluster2annotation.keys())],\n",
    "    x=\"feat_combined_sum_EGFP\",\n",
    "    y=\"feat_combined_sum_APC\",\n",
    "    color=\"leiden_merged\",\n",
    "    legend_loc=\"on data\",\n",
    "    ax=ax,\n",
    "    show=False,\n",
    ")\n",
    "# ax.annotate('monocytes', xy=(.8, -.6), xytext=(3, -1.5), arrowprops=dict(facecolor='black', arrowstyle=\"-|>\"))\n",
    "# ax.annotate('lymphocytes', xy=(1.2, -1.7), xytext=(2.5, -2.5), arrowprops=dict(facecolor='black', arrowstyle=\"-|>\"))\n",
    "ax.text(\n",
    "    s=\"A\",\n",
    "    x=0.02,\n",
    "    y=1,\n",
    "    fontsize=20,\n",
    "    weight=\"heavy\",\n",
    "    alpha=0.2,\n",
    "    transform=ax.transAxes,\n",
    "    va=\"top\",\n",
    ")\n",
    "ax.set_xlabel(\"CD45\")\n",
    "ax.set_ylabel(\"CD15\")\n",
    "ax.set_title(\"\")\n",
    "# ax.set_aspect(0.9)\n",
    "ax.set_yticks([])\n",
    "ax.set_xticks([])\n",
    "\n",
    "# ax.annotate(\"\", xytext=(2.5, 1.8), xy=(5, 2.5), arrowprops=dict(facecolor='grey', width=7, edgecolor=\"none\", connectionstyle=ConnectionStyle(\"Arc3\", rad=-0.2)))\n",
    "\n",
    "ax2 = fig.add_subplot(gs[1, 0])\n",
    "scanpy.pl.scatter(\n",
    "    adata[adata.obs[\"cell type\"].isin([\"granulocytes\", \"eosinophils\"])],\n",
    "    x=\"feat_combined_sum_RPe\",\n",
    "    y=\"feat_combined_sum_APC\",\n",
    "    color=\"leiden_merged\",\n",
    "    legend_loc=\"on data\",\n",
    "    ax=ax2,\n",
    "    show=False,\n",
    ")\n",
    "# ax2.annotate('eosinophils', xy=(2.15, -.15), xytext=(.7, -1.8), arrowprops=dict(facecolor='black', arrowstyle=\"-|>\"))\n",
    "# ax2.annotate('neutrophils', xy=(-.75, 1), xytext=(-3, 1), arrowprops=dict(facecolor='black', arrowstyle=\"-|>\"))\n",
    "ax2.text(\n",
    "    s=\"B\",\n",
    "    x=0.02,\n",
    "    y=1,\n",
    "    fontsize=20,\n",
    "    weight=\"heavy\",\n",
    "    alpha=0.2,\n",
    "    transform=ax2.transAxes,\n",
    "    va=\"top\",\n",
    ")\n",
    "ax2.set_title(\"\")\n",
    "ax2.set_ylabel(\"CD15\")\n",
    "ax2.set_xlabel(\"Siglec 8\")\n",
    "# ax2.set_aspect(0.9)\n",
    "ax2.set_yticks([])\n",
    "ax2.set_xticks([])\n",
    "\n",
    "ax3 = fig.add_subplot(gs[:, 1])\n",
    "scanpy.pl.umap(\n",
    "    adata,\n",
    "    color=[\"cell type\"],\n",
    "    legend_loc=\"on data\",\n",
    "    ax=ax3,\n",
    "    show=False,\n",
    "    palette=plt.get_cmap(\"tab10\")([8, 2, 4, 2]).tolist(),\n",
    ")\n",
    "ax3.text(\n",
    "    s=\"C\",\n",
    "    x=0.02,\n",
    "    y=1,\n",
    "    fontsize=20,\n",
    "    weight=\"heavy\",\n",
    "    alpha=0.2,\n",
    "    transform=ax3.transAxes,\n",
    "    va=\"top\",\n",
    ")\n",
    "ax3.set_title(\"\")\n",
    "ax3.set_aspect(1)\n",
    "\n",
    "seaborn.despine(fig)\n",
    "\n",
    "plt.savefig(output, bbox_inches=\"tight\", pad_inches=0, dpi=200)\n",
    ""
   ]
  },
  {
   "cell_type": "code",
   "execution_count": null,
   "id": "4d688751-be07-472d-84c1-5eaa839fa709",
   "metadata": {},
   "outputs": [],
   "source": [
    "fig, axes = plt.subplots(1, 3, figsize=(15, 5), tight_layout=True)\n",
    "ax = scanpy.pl.matrixplot(\n",
    "    adata,\n",
    "    markers,\n",
    "    groupby=\"cell type\",\n",
    "    dendrogram=False,\n",
    "    vmin=-2,\n",
    "    vmax=2,\n",
    "    cmap=\"RdBu_r\",\n",
    "    ax=axes[1],\n",
    "    show=False,\n",
    "    use_raw=False,\n",
    ")\n",
    "ax[\"mainplot_ax\"].set_xticklabels(\n",
    "    map(lambda a: map_names(a.get_text()), ax[\"mainplot_ax\"].get_xticklabels())\n",
    ")\n",
    "scanpy.pl.umap(adata, color=\"cell type\", ax=axes[2], show=False, palette=\"tab10\")\n",
    "seaborn.countplot(data=adata.obs, y=\"cell type\", hue=\"meta_replicate\", ax=axes[0])\n",
    "\n",
    "axes[0].set_title(\"Cell type counts\")\n",
    "axes[1].set_title(\"Marker intensity\")\n",
    "axes[2].set_title(\"UMAP\")\n",
    "axes[0].legend(title=\"Replicate\")\n",
    "\n",
    "plt.savefig(output_three, bbox_inches=\"tight\", pad_inches=0, dpi=200)\n",
    ""
   ]
  },
  {
   "cell_type": "code",
   "execution_count": null,
   "id": "14f3445e-fd92-47b2-ab6d-b45ddda86612",
   "metadata": {},
   "outputs": [],
   "source": [
    "counts = adata.obs[\"cell type\"].value_counts().to_frame()\n",
    "counts[\"fraction\"] = counts[\"cell type\"] / counts[\"cell type\"].sum()\n",
    "counts.columns = [\"Count\", \"Fraction\"]\n",
    "print(counts.style.to_latex())\n",
    ""
   ]
  },
  {
   "cell_type": "code",
   "execution_count": null,
   "id": "15cb308f-f31f-48a4-bf5f-50aeb614f169",
   "metadata": {},
   "outputs": [],
   "source": []
  }
 ],
 "metadata": {
  "kernelspec": {
   "display_name": "Python 3 (ipykernel)",
   "language": "python",
   "name": "python3"
  },
  "language_info": {
   "codemirror_mode": {
    "name": "ipython",
    "version": 3
   },
   "file_extension": ".py",
   "mimetype": "text/x-python",
   "name": "python",
   "nbconvert_exporter": "python",
   "pygments_lexer": "ipython3",
   "version": "3.9.13"
  }
 },
 "nbformat": 4,
 "nbformat_minor": 5
}
