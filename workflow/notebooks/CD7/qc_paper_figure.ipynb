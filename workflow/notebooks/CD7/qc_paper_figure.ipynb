{
 "cells": [
  {
   "cell_type": "markdown",
   "id": "8520c9dc-d56c-485f-8947-59a93a5465d7",
   "metadata": {},
   "source": [
    "# CD7 Quality control figure for paper"
   ]
  },
  {
   "cell_type": "code",
   "execution_count": null,
   "id": "ae902185-f833-42be-a6f3-7334d3736dd7",
   "metadata": {},
   "outputs": [],
   "source": [
    "from scip_workflows.common import *\n",
    ""
   ]
  },
  {
   "cell_type": "code",
   "execution_count": null,
   "id": "46f80c74-8aaf-4dff-a8a6-f603b2d237bb",
   "metadata": {},
   "outputs": [],
   "source": [
    "import cellpose\n",
    "import seaborn\n",
    "import skimage\n",
    "from aicsimageio import AICSImage\n",
    "from skimage.measure import approximate_polygon, regionprops, regionprops_table\n",
    ""
   ]
  },
  {
   "cell_type": "code",
   "execution_count": null,
   "id": "91103f49-73ec-4b21-8b9e-25093f94f08d",
   "metadata": {},
   "outputs": [],
   "source": [
    "import geopandas\n",
    "from shapely.geometry import Polygon\n",
    "from shapely.geometry.polygon import LinearRing\n",
    ""
   ]
  },
  {
   "cell_type": "code",
   "execution_count": null,
   "id": "115647fd-934e-4361-bf75-19b56985848d",
   "metadata": {},
   "outputs": [],
   "source": [
    "from matplotlib.colors import Normalize\n",
    ""
   ]
  },
  {
   "cell_type": "code",
   "execution_count": null,
   "id": "abaa418e-ce82-41d6-a2be-45cd47829571",
   "metadata": {},
   "outputs": [],
   "source": [
    "from typing import Optional\n",
    "\n",
    "import torch\n",
    "from cellpose import models\n",
    "from skimage.measure import regionprops\n",
    "from skimage.morphology import disk, white_tophat\n",
    "\n",
    "\n",
    "def segment_block(\n",
    "    block,\n",
    "    *,\n",
    "    gpu_accelerated: Optional[bool] = False,\n",
    "    cell_diameter: Optional[int] = None,\n",
    "    dapi_channel_index: Optional[int] = None,\n",
    "    segmentation_channel_index: int,\n",
    "    **kwargs\n",
    "):\n",
    "\n",
    "    model = models.Cellpose(gpu=False, model_type=\"cyto2\")\n",
    "\n",
    "    cp_input = block[segmentation_channel_index]\n",
    "    cells, _, _, _ = model.eval(\n",
    "        x=cp_input, channels=[0, 0], diameter=cell_diameter, batch_size=16\n",
    "    )\n",
    "\n",
    "    labeled_mask = numpy.repeat(cells[numpy.newaxis], block.shape[0], axis=0)\n",
    "\n",
    "    if dapi_channel_index is not None:\n",
    "        cp_input = block[dapi_channel_index]\n",
    "        cp_input = white_tophat(cp_input, footprint=disk(25))\n",
    "        nuclei, _, _, _ = model.eval(\n",
    "            x=cp_input, channels=[0, 0], diameter=cell_diameter, batch_size=16\n",
    "        )\n",
    "\n",
    "        # assign over-segmented nuclei to parent cells\n",
    "        nuclei_mask = numpy.zeros_like(cells)\n",
    "        for i in numpy.unique(cells)[1:]:\n",
    "            idx = numpy.unique(nuclei[cells == i])[1:]\n",
    "            _, counts = numpy.unique(nuclei[cells == i], return_counts=True)\n",
    "            idx = idx[(counts[1:] / (cells == i).sum()) > 0.1]\n",
    "            nuclei_mask[numpy.isin(nuclei, idx) & (cells == i)] = i\n",
    "        labeled_mask[dapi_channel_index] = nuclei_mask\n",
    "\n",
    "    return labeled_mask\n",
    ""
   ]
  },
  {
   "cell_type": "markdown",
   "id": "ed23d60a-1d09-4254-bcb2-38180b2c7afb",
   "metadata": {
    "tags": []
   },
   "source": [
    "## Load processed frame"
   ]
  },
  {
   "cell_type": "code",
   "execution_count": null,
   "id": "5511d245-a9ce-4868-932a-58727f360735",
   "metadata": {},
   "outputs": [],
   "source": [
    "data_dir = Path(\n",
    "    \"/data/gent/vo/000/gvo00070/vsc42015/datasets/cd7/800/results/scip/202203221745/\"\n",
    ")\n",
    ""
   ]
  },
  {
   "cell_type": "code",
   "execution_count": null,
   "id": "ab92d273-305e-458c-868c-a7f0a68c5467",
   "metadata": {},
   "outputs": [],
   "source": [
    "df = pq.read_table(data_dir / \"features.parquet\").to_pandas()\n",
    ""
   ]
  },
  {
   "cell_type": "code",
   "execution_count": null,
   "id": "67402376-ff33-4ecc-b165-5c330260fc98",
   "metadata": {},
   "outputs": [],
   "source": [
    "df = df.set_index([\"meta_panel\", \"meta_replicate\", \"meta_P\", \"meta_id\"])\n",
    "df = df.sort_index()\n",
    ""
   ]
  },
  {
   "cell_type": "code",
   "execution_count": null,
   "id": "1bbbd4bf-77b3-4b83-900e-cda20afb0675",
   "metadata": {},
   "outputs": [],
   "source": [
    "# for now only continue with objects from panel D\n",
    "df = df.loc[\"D\"]\n",
    "df.shape\n",
    ""
   ]
  },
  {
   "cell_type": "markdown",
   "id": "b6219fb4-2355-478e-8071-af543f734b54",
   "metadata": {},
   "source": [
    "# Cellpose"
   ]
  },
  {
   "cell_type": "code",
   "execution_count": null,
   "id": "7ba61203-645d-431c-bd72-43624529f52c",
   "metadata": {},
   "outputs": [],
   "source": [
    "im = AICSImage(df.iloc[0][\"meta_path\"])\n",
    "im.set_scene(df.iloc[0][\"meta_scene\"])\n",
    ""
   ]
  },
  {
   "cell_type": "code",
   "execution_count": null,
   "id": "3fa404e2-eedc-4cae-bb3e-03ee259be904",
   "metadata": {},
   "outputs": [],
   "source": [
    "mask = segment_block(\n",
    "    numpy.max(im.get_image_data(\"ZCXY\", C=[0, 6]), axis=0),\n",
    "    dapi_channel_index=0,\n",
    "    segmentation_channel_index=1,\n",
    ")\n",
    ""
   ]
  },
  {
   "cell_type": "code",
   "execution_count": null,
   "id": "403ce26c-4bf2-447c-b167-7653efc264ac",
   "metadata": {},
   "outputs": [],
   "source": [
    "seg_polygons = geopandas.GeoDataFrame(\n",
    "    [dict(id=r.label, geometry=Polygon(r.coords)) for r in regionprops(mask[1])]\n",
    ")\n",
    "dapi_polygons = geopandas.GeoDataFrame(\n",
    "    [dict(id=r.label, geometry=Polygon(r.coords)) for r in regionprops(mask[0])]\n",
    ")\n",
    ""
   ]
  },
  {
   "cell_type": "code",
   "execution_count": null,
   "id": "e1dec09f-b4e3-46d8-b881-b1c021b88001",
   "metadata": {},
   "outputs": [],
   "source": [
    "import rasterio\n",
    "import shapely\n",
    "from rasterio import features\n",
    "from shapely.geometry import Point, Polygon\n",
    "\n",
    "\n",
    "def mask_to_polygons_layer(mask):\n",
    "    # https://rocreguant.com/convert-a-mask-into-a-polygon-for-images-using-shapely-and-rasterio/1786/\n",
    "    all_polygons = []\n",
    "    all_values = []\n",
    "    for shape, value in features.shapes(\n",
    "        mask.astype(numpy.int16),\n",
    "        mask=(mask > 0),\n",
    "        transform=rasterio.Affine(1.0, 0, 0, 0, 1.0, 0),\n",
    "    ):\n",
    "        all_polygons.append(shapely.geometry.shape(shape))\n",
    "        all_values.append(int(value))\n",
    "\n",
    "    return geopandas.GeoDataFrame(dict(geometry=all_polygons), index=all_values)\n",
    "\n",
    "\n",
    "seg_polygons = mask_to_polygons_layer(mask[1])\n",
    "dapi_polygons = mask_to_polygons_layer(mask[0])\n",
    ""
   ]
  },
  {
   "cell_type": "code",
   "execution_count": null,
   "id": "2166be8e-f7fa-4ffa-99ec-85bf351d2836",
   "metadata": {},
   "outputs": [],
   "source": [
    "border_margin = 30\n",
    "w, h = 1144, 1144\n",
    "\n",
    "\n",
    "def color(r):\n",
    "    return plt.get_cmap(\"Set1\")(numpy.random.choice(numpy.arange(0, 8)))\n",
    "\n",
    "\n",
    "def border_color(r):\n",
    "    return plt.get_cmap(\"tab10\")(3) if r else (1, 1, 1, 1)\n",
    "\n",
    "\n",
    "def linewidth(r):\n",
    "    return 1 if r else 0.5\n",
    "\n",
    "\n",
    "def is_in_border(r):\n",
    "    r = r.centroid\n",
    "    if (r.x - border_margin < 0) or (r.x + border_margin > h):\n",
    "        return True\n",
    "    if (r.y - border_margin < 0) or (r.y + border_margin > w):\n",
    "        return True\n",
    "    return False\n",
    ""
   ]
  },
  {
   "cell_type": "code",
   "execution_count": null,
   "id": "99e17eb3-0a20-4ca6-92e3-b91418e30861",
   "metadata": {},
   "outputs": [],
   "source": [
    "seg_polygons[\"border\"] = seg_polygons.geometry.map(is_in_border)\n",
    "dapi_polygons[\"border\"] = dapi_polygons.geometry.map(is_in_border)\n",
    "seg_polygons[\"color\"] = seg_polygons.border.map(color)\n",
    "dapi_polygons[\"color\"] = seg_polygons[\"color\"]\n",
    "seg_polygons[\"border_color\"] = seg_polygons.border.map(border_color)\n",
    "dapi_polygons[\"border_color\"] = dapi_polygons.border.map(border_color)\n",
    "seg_polygons[\"linewidth\"] = seg_polygons.border.map(linewidth)\n",
    "dapi_polygons[\"linewidth\"] = dapi_polygons.border.map(linewidth)\n",
    ""
   ]
  },
  {
   "cell_type": "code",
   "execution_count": null,
   "id": "dd0f8fc7-7b01-46cb-a5ea-d524bfcce4d3",
   "metadata": {},
   "outputs": [],
   "source": [
    "im.set_scene(df.iloc[0][\"meta_scene\"])\n",
    "pixels = numpy.max(im.get_image_data(\"ZCXY\", C=[0, 6]), axis=0)\n",
    "fig, axes = plt.subplots(1, 3, dpi=200, squeeze=False)\n",
    "axes = axes.ravel()\n",
    "for ax, p, o, c in zip(\n",
    "    axes, pixels, [dapi_polygons, seg_polygons], [Normalize(0, 5000), None]\n",
    "):\n",
    "    ax.imshow(p, cmap=\"Greys\", origin=\"lower\", norm=c)\n",
    "    o.plot(\n",
    "        ax=ax,\n",
    "        alpha=0.5,\n",
    "        column=\"color\",\n",
    "        edgecolor=o.border_color,\n",
    "        linewidth=o.linewidth,\n",
    "    )\n",
    "    ax.set_axis_off()\n",
    "    ax.set_xlim(0, w)\n",
    "    ax.set_ylim(0, h)\n",
    "\n",
    "im.set_scene(\"P1-D2\")\n",
    "pixels = numpy.max(im.get_image_data(\"ZCXY\", C=[0]), axis=0)\n",
    "axes[2].imshow(pixels[0])\n",
    "axes[2].set_axis_off()\n",
    "\n",
    "axes[0].text(\n",
    "    s=\"A\",\n",
    "    x=0,\n",
    "    y=1,\n",
    "    fontsize=10,\n",
    "    weight=\"heavy\",\n",
    "    alpha=0.2,\n",
    "    transform=axes[0].transAxes,\n",
    "    va=\"bottom\",\n",
    ")\n",
    "axes[1].text(\n",
    "    s=\"B\",\n",
    "    x=0,\n",
    "    y=1,\n",
    "    fontsize=10,\n",
    "    weight=\"heavy\",\n",
    "    alpha=0.2,\n",
    "    transform=axes[1].transAxes,\n",
    "    va=\"bottom\",\n",
    ")\n",
    "axes[2].text(\n",
    "    s=\"C\",\n",
    "    x=0,\n",
    "    y=1,\n",
    "    fontsize=10,\n",
    "    weight=\"heavy\",\n",
    "    alpha=0.2,\n",
    "    transform=axes[2].transAxes,\n",
    "    va=\"bottom\",\n",
    ")\n",
    "\n",
    "plt.savefig(\n",
    "    data_dir / \"figures/segmentation_example.png\",\n",
    "    bbox_inches=\"tight\",\n",
    "    pad_inches=0,\n",
    "    dpi=200,\n",
    ")\n",
    ""
   ]
  },
  {
   "cell_type": "code",
   "execution_count": null,
   "id": "bb7877f9-f129-406a-ad4d-c983c1e1f1a7",
   "metadata": {},
   "outputs": [],
   "source": []
  }
 ],
 "metadata": {
  "kernelspec": {
   "display_name": "Python 3 (ipykernel)",
   "language": "python",
   "name": "python3"
  },
  "language_info": {
   "codemirror_mode": {
    "name": "ipython",
    "version": 3
   },
   "file_extension": ".py",
   "mimetype": "text/x-python",
   "name": "python",
   "nbconvert_exporter": "python",
   "pygments_lexer": "ipython3",
   "version": "3.9.13"
  },
  "vscode": {
   "interpreter": {
    "hash": "64fd0ed183a0510f919c27dddcaa3e947ee6ca74b1ed547fc7204df54d1f1271"
   }
  }
 },
 "nbformat": 4,
 "nbformat_minor": 5
}
