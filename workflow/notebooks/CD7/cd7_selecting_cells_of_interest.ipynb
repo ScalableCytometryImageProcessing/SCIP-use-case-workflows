{
 "cells": [
  {
   "cell_type": "markdown",
   "id": "45a74d5d-3eb6-4562-8f35-3412e7c7c360",
   "metadata": {},
   "source": [
    "# CD7 gating cells of interest"
   ]
  },
  {
   "cell_type": "code",
   "execution_count": null,
   "id": "817179be-08bc-4e24-ab54-c2f917a78598",
   "metadata": {},
   "outputs": [],
   "source": [
    "%load_ext autoreload\n",
    "%autoreload 2"
   ]
  },
  {
   "cell_type": "code",
   "execution_count": null,
   "id": "d02b0576-6536-4417-8d9f-c3c0682cb5c5",
   "metadata": {},
   "outputs": [],
   "source": [
    "from scip_workflows.common import *"
   ]
  },
  {
   "cell_type": "code",
   "execution_count": null,
   "id": "52dcb9e3-18bf-4817-8195-551fe77c632e",
   "metadata": {},
   "outputs": [],
   "source": [
    "import flowutils\n",
    "from matplotlib.patches import Polygon\n",
    "from matplotlib.path import Path as mPath\n",
    "from sklearn.preprocessing import scale\n",
    "\n",
    "from scip_workflows.core import plot_gate_czi\n",
    "from scip_workflows.masking import plot_scip_segmentation\n"
   ]
  },
  {
   "cell_type": "code",
   "execution_count": null,
   "id": "b83f2169-aa5b-46eb-97f5-82e387eabc0f",
   "metadata": {},
   "outputs": [],
   "source": [
    "data_dir = Path(\n",
    "    \"/data/gent/vo/000/gvo00070/vsc42015/datasets/cd7/800/results/scip/202203221745/\"\n",
    ")\n",
    "\n",
    "df = pq.read_table(data_dir / \"features.parquet\").to_pandas()\n",
    "\n",
    "df = df.set_index([\"meta_panel\", \"meta_replicate\", \"meta_P\", \"meta_id\"])\n",
    "df = df.loc[\"D\"]\n",
    "df = df.loc[numpy.load(data_dir / \"index.npy\", allow_pickle=True)]\n",
    "df = df.sort_index()\n"
   ]
  },
  {
   "cell_type": "code",
   "execution_count": null,
   "id": "ec549d97-0924-451e-8fda-6a47290f6c71",
   "metadata": {},
   "outputs": [],
   "source": [
    "df.shape\n"
   ]
  },
  {
   "cell_type": "markdown",
   "id": "f5c8a804-72f6-4160-8a93-698befe332d9",
   "metadata": {},
   "source": [
    "# Gating"
   ]
  },
  {
   "cell_type": "code",
   "execution_count": null,
   "id": "f5e6b209-ecd4-413c-9c9c-1aaef3eb2003",
   "metadata": {},
   "outputs": [],
   "source": [
    "def asinh_scale(x, t):\n",
    "    return scale(\n",
    "        flowutils.transforms.asinh(x, channel_indices=None, t=t, m=4.5, a=1),\n",
    "        with_std=False,\n",
    "    )\n"
   ]
  },
  {
   "cell_type": "code",
   "execution_count": null,
   "id": "bd79e9cf-2295-4e97-a652-f671fced93bc",
   "metadata": {},
   "outputs": [],
   "source": [
    "fluor_df = df.groupby([\"meta_replicate\", \"meta_P\"])[\n",
    "    [\"feat_sum_DAPI\", \"feat_sum_RPe\", \"feat_sum_EGFP\", \"feat_sum_APC\"]\n",
    "].transform(lambda x: asinh_scale(x, df[\"feat_sum_\" + x.name.split(\"_\")[-1]].max()))\n"
   ]
  },
  {
   "cell_type": "code",
   "execution_count": null,
   "id": "1576f879-23c8-4119-90be-1ddd2ab02519",
   "metadata": {},
   "outputs": [],
   "source": [
    "melted_df = pandas.melt(\n",
    "    fluor_df.reset_index(),\n",
    "    id_vars=[\"meta_P\", \"meta_replicate\"],\n",
    "    value_vars=fluor_df.columns,\n",
    ")\n",
    "grid = seaborn.FacetGrid(\n",
    "    data=melted_df, col=\"meta_replicate\", row=\"variable\", sharey=True, aspect=1.5\n",
    ")\n",
    "grid.map_dataframe(seaborn.stripplot, x=\"meta_P\", y=\"value\", size=1, alpha=0.5)\n",
    "grid.add_legend()\n"
   ]
  },
  {
   "cell_type": "markdown",
   "id": "4d2cf4d6-97fb-45f5-9150-244b4e216bc7",
   "metadata": {
    "tags": []
   },
   "source": [
    "## DAPI"
   ]
  },
  {
   "cell_type": "code",
   "execution_count": null,
   "id": "0e4db732-9d22-4310-9010-0de66bb0a533",
   "metadata": {},
   "outputs": [],
   "source": [
    "seaborn.histplot(data=fluor_df.reset_index(), x=\"feat_sum_DAPI\")\n"
   ]
  },
  {
   "cell_type": "code",
   "execution_count": null,
   "id": "8fed9389-69f5-4ecc-a70d-b4eed54b268c",
   "metadata": {},
   "outputs": [],
   "source": [
    "sel1 = fluor_df[\"feat_sum_DAPI\"] < -0.1\n",
    "plot_gate_czi(sel1, df, maxn=15, channel=0)\n"
   ]
  },
  {
   "cell_type": "code",
   "execution_count": null,
   "id": "a91b0aaa-46dd-4517-aaf1-72643474e691",
   "metadata": {},
   "outputs": [],
   "source": [
    "sel1 = fluor_df[\"feat_sum_DAPI\"] < 0.1\n",
    "sel2 = fluor_df[\"feat_sum_DAPI\"] > -0.1\n",
    "plot_gate_czi(sel1 & sel2, df, maxn=15, channel=0)\n"
   ]
  },
  {
   "cell_type": "markdown",
   "id": "46c057e8-4dc9-4f9a-a5cf-3f99973b4cf6",
   "metadata": {
    "tags": []
   },
   "source": [
    "## EGFP (CD45)"
   ]
  },
  {
   "cell_type": "code",
   "execution_count": null,
   "id": "c6b54cd2-b6fd-410b-8dfe-6501318bce08",
   "metadata": {},
   "outputs": [],
   "source": [
    "seaborn.histplot(data=fluor_df.reset_index(), x=\"feat_sum_EGFP\")\n"
   ]
  },
  {
   "cell_type": "markdown",
   "id": "c42cbc8f-4837-40cb-b4c0-5bc310e035a4",
   "metadata": {},
   "source": [
    "### APC (CD15)"
   ]
  },
  {
   "cell_type": "code",
   "execution_count": null,
   "id": "639cf0a0-d702-45e8-9672-2cbac6c2525f",
   "metadata": {},
   "outputs": [],
   "source": [
    "seaborn.displot(data=fluor_df.reset_index(), x=\"feat_sum_APC\")\n"
   ]
  },
  {
   "cell_type": "code",
   "execution_count": null,
   "id": "297e20db-cfff-4e37-87af-3fa482832ed6",
   "metadata": {},
   "outputs": [],
   "source": [
    "vertices = numpy.array(\n",
    "    [\n",
    "        [-0.03, 0.02],\n",
    "        [-0.01, 0.07],\n",
    "        [0.025, 0.08],\n",
    "        [0.1, 0.055],\n",
    "        [0.1, 0.0],\n",
    "        [0.01, 0.0],\n",
    "        [-0.025, -0.015],\n",
    "    ]\n",
    ")\n",
    "p = Polygon(vertices, facecolor=\"none\", edgecolor=\"red\")\n",
    "\n",
    "fig, ax = plt.subplots(dpi=150)\n",
    "seaborn.scatterplot(\n",
    "    data=fluor_df,\n",
    "    x=\"feat_sum_EGFP\",\n",
    "    y=\"feat_sum_APC\",\n",
    "    hue=\"feat_sum_DAPI\",\n",
    "    palette=\"viridis\",\n",
    "    norm=tuple(df[\"feat_sum_DAPI\"].quantile((0.05, 0.95))),\n",
    "    s=0.5,\n",
    "    alpha=0.5,\n",
    "    edgecolor=\"none\",\n",
    "    ax=ax,\n",
    ")\n",
    "ax.add_patch(p)\n",
    "seaborn.despine(fig)\n"
   ]
  },
  {
   "cell_type": "code",
   "execution_count": null,
   "id": "c7cc5f9a-aad2-4e9a-ac64-14c4128eeef2",
   "metadata": {},
   "outputs": [],
   "source": [
    "path = mPath(vertices)\n",
    "idx = path.contains_points(fluor_df[[\"feat_sum_EGFP\", \"feat_sum_APC\"]])\n"
   ]
  },
  {
   "cell_type": "code",
   "execution_count": null,
   "id": "416bfa87-18e1-4511-9e19-fded81695e41",
   "metadata": {},
   "outputs": [],
   "source": [
    "sum(idx) / len(idx)\n"
   ]
  },
  {
   "cell_type": "code",
   "execution_count": null,
   "id": "9e404a49-17dc-483c-9999-ec445379c597",
   "metadata": {},
   "outputs": [],
   "source": [
    "vertices = numpy.array([[0.0, -0.01], [0.07, 0.06], [0.07, -0.01]])\n",
    "p = Polygon(vertices, facecolor=\"none\", edgecolor=\"red\")\n",
    "\n",
    "fig, ax = plt.subplots(dpi=150)\n",
    "seaborn.scatterplot(\n",
    "    data=fluor_df[idx],\n",
    "    x=\"feat_sum_RPe\",\n",
    "    y=\"feat_sum_APC\",\n",
    "    s=0.5,\n",
    "    alpha=0.5,\n",
    "    edgecolor=\"none\",\n",
    "    ax=ax,\n",
    ")\n",
    "ax.add_patch(p)\n",
    "seaborn.despine(fig)\n"
   ]
  },
  {
   "cell_type": "code",
   "execution_count": null,
   "id": "88918299-3b9e-4360-8b6a-130ca1549edb",
   "metadata": {},
   "outputs": [],
   "source": [
    "path = mPath(vertices)\n",
    "idx2 = ~path.contains_points(fluor_df[idx][[\"feat_sum_APC\", \"feat_sum_RPe\"]])\n"
   ]
  },
  {
   "cell_type": "code",
   "execution_count": null,
   "id": "00b92fd9-ae58-4a15-97a0-3deb272ef8bd",
   "metadata": {},
   "outputs": [],
   "source": [
    "# fraction neutrophils\n",
    "len(fluor_df[idx][idx2]) / len(fluor_df)\n"
   ]
  },
  {
   "cell_type": "code",
   "execution_count": null,
   "id": "eb84b4bf-2610-4de4-bdeb-d29a140e5261",
   "metadata": {},
   "outputs": [],
   "source": [
    "# fraction eosinophils\n",
    "len(fluor_df[idx][~idx2]) / len(fluor_df)\n"
   ]
  },
  {
   "cell_type": "code",
   "execution_count": null,
   "id": "f18f54e9-b3e5-40cc-9799-f1913459b40d",
   "metadata": {},
   "outputs": [],
   "source": [
    "len(fluor_df[idx][idx2])\n"
   ]
  },
  {
   "cell_type": "code",
   "execution_count": null,
   "id": "ca13281c-fd84-4bc7-8b70-172a826ebec3",
   "metadata": {},
   "outputs": [],
   "source": [
    "len(fluor_df[idx][~idx2])\n"
   ]
  },
  {
   "cell_type": "code",
   "execution_count": null,
   "id": "76db2430-b7ee-4e2a-9172-64d3bc739328",
   "metadata": {},
   "outputs": [],
   "source": [
    "numpy.save(data_dir / \"neutrophils.npy\", fluor_df[idx][idx2].index)\n"
   ]
  },
  {
   "cell_type": "code",
   "execution_count": null,
   "id": "e81b0901-a67f-454f-990a-5c6ed127e838",
   "metadata": {},
   "outputs": [],
   "source": [
    "vertices = numpy.array(\n",
    "    [[0.05, -0.01], [-0.05, -0.07], [-0.05, -0.05], [0, -0.005], [0.03, 0]]\n",
    ")\n",
    "p = Polygon(vertices, facecolor=\"none\", edgecolor=\"red\")\n",
    "\n",
    "fig, ax = plt.subplots(dpi=150)\n",
    "seaborn.scatterplot(\n",
    "    data=fluor_df,\n",
    "    x=\"feat_sum_EGFP\",\n",
    "    y=\"feat_sum_APC\",\n",
    "    hue=\"feat_sum_DAPI\",\n",
    "    palette=\"viridis\",\n",
    "    norm=tuple(df[\"feat_sum_DAPI\"].quantile((0.05, 0.95))),\n",
    "    s=0.5,\n",
    "    alpha=0.5,\n",
    "    edgecolor=\"none\",\n",
    "    ax=ax,\n",
    ")\n",
    "ax.add_patch(p)\n",
    "seaborn.despine(fig)\n"
   ]
  },
  {
   "cell_type": "code",
   "execution_count": null,
   "id": "7d9cc351-8bf5-4712-9edc-20bc733d412e",
   "metadata": {},
   "outputs": [],
   "source": [
    "path = mPath(vertices)\n",
    "idx3 = path.contains_points(fluor_df[[\"feat_sum_EGFP\", \"feat_sum_APC\"]])\n"
   ]
  },
  {
   "cell_type": "code",
   "execution_count": null,
   "id": "96e4e308-6f69-4de5-927d-6d8d3fa234d0",
   "metadata": {},
   "outputs": [],
   "source": [
    "sum(idx3) / len(fluor_df)\n"
   ]
  },
  {
   "cell_type": "code",
   "execution_count": null,
   "id": "cee04cbd-3bf2-41cf-917b-5a26b83633af",
   "metadata": {},
   "outputs": [],
   "source": [
    "vertices = numpy.array(\n",
    "    [\n",
    "        [0.05, -0.07],\n",
    "        [-0.05, -0.12],\n",
    "        [-0.05, -0.08],\n",
    "        [0, -0.04],\n",
    "        [0.06, -0.01],\n",
    "    ]\n",
    ")\n",
    "p = Polygon(vertices, facecolor=\"none\", edgecolor=\"red\")\n",
    "\n",
    "fig, ax = plt.subplots(dpi=150)\n",
    "seaborn.scatterplot(\n",
    "    data=fluor_df,\n",
    "    x=\"feat_sum_EGFP\",\n",
    "    y=\"feat_sum_APC\",\n",
    "    hue=\"feat_sum_DAPI\",\n",
    "    palette=\"viridis\",\n",
    "    norm=tuple(df[\"feat_sum_DAPI\"].quantile((0.05, 0.95))),\n",
    "    s=0.5,\n",
    "    alpha=0.5,\n",
    "    edgecolor=\"none\",\n",
    "    ax=ax,\n",
    ")\n",
    "ax.add_patch(p)\n",
    "seaborn.despine(fig)\n"
   ]
  },
  {
   "cell_type": "code",
   "execution_count": null,
   "id": "2d6cd4e2-d199-4618-a92a-341411de1b4d",
   "metadata": {},
   "outputs": [],
   "source": [
    "path = mPath(vertices)\n",
    "idx4 = path.contains_points(fluor_df[[\"feat_sum_EGFP\", \"feat_sum_APC\"]])\n"
   ]
  },
  {
   "cell_type": "code",
   "execution_count": null,
   "id": "77298924-6c2f-45af-b2c8-9f9c2a1ec239",
   "metadata": {},
   "outputs": [],
   "source": [
    "sum(idx4) / len(fluor_df)\n"
   ]
  },
  {
   "cell_type": "code",
   "execution_count": null,
   "id": "31ed906f-22ee-4db2-bf08-0f923c0d1190",
   "metadata": {},
   "outputs": [],
   "source": []
  }
 ],
 "metadata": {
  "kernelspec": {
   "display_name": "Python 3.9.10 ('scip')",
   "language": "python",
   "name": "python3"
  },
  "language_info": {
   "codemirror_mode": {
    "name": "ipython",
    "version": 3
   },
   "file_extension": ".py",
   "mimetype": "text/x-python",
   "name": "python",
   "nbconvert_exporter": "python",
   "pygments_lexer": "ipython3",
   "version": "3.9.10"
  },
  "vscode": {
   "interpreter": {
    "hash": "64fd0ed183a0510f919c27dddcaa3e947ee6ca74b1ed547fc7204df54d1f1271"
   }
  }
 },
 "nbformat": 4,
 "nbformat_minor": 5
}
