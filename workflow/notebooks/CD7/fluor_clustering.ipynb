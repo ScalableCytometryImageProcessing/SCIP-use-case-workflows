{
 "cells": [
  {
   "cell_type": "markdown",
   "id": "62685930-3293-4ac2-8d8f-337a33f5062e",
   "metadata": {},
   "source": [
    "# CD7: full spectrum dimensionality reduction of neutrophils\n",
    "\n",
    "In this notebook, we perform a clustering analysis of the CD7 data on features extracted from SCIP."
   ]
  },
  {
   "cell_type": "code",
   "execution_count": null,
   "id": "31f8f185-3256-488c-8516-7cdb31357ac9",
   "metadata": {},
   "outputs": [],
   "source": [
    "%load_ext autoreload\n",
    "%autoreload 2"
   ]
  },
  {
   "cell_type": "code",
   "execution_count": null,
   "id": "1b425dcc-7eeb-46d8-af6c-652408037837",
   "metadata": {},
   "outputs": [],
   "source": []
  },
  {
   "cell_type": "code",
   "execution_count": null,
   "id": "46531f81-c8c3-43a4-be34-971570fb60d3",
   "metadata": {},
   "outputs": [],
   "source": [
    "from scip_workflows.common import *\n",
    ""
   ]
  },
  {
   "cell_type": "code",
   "execution_count": null,
   "id": "4c298ece-0fe4-4076-a6ca-851d1c2647bd",
   "metadata": {},
   "outputs": [],
   "source": [
    "import anndata\n",
    "import flowutils\n",
    "import scanpy\n",
    "import scipy.stats\n",
    "from kneed import KneeLocator\n",
    "from scipy.cluster import hierarchy\n",
    "from scipy.cluster.hierarchy import fcluster\n",
    "from scipy.spatial.distance import squareform\n",
    "from sklearn.feature_selection import VarianceThreshold, mutual_info_classif\n",
    "from sklearn.preprocessing import scale\n",
    "\n",
    "scanpy.settings.verbosity = 3\n",
    ""
   ]
  },
  {
   "cell_type": "code",
   "execution_count": null,
   "id": "a92153f9-5ba6-4034-ab06-263989a328be",
   "metadata": {},
   "outputs": [],
   "source": [
    "from scip.features import intensity\n",
    "\n",
    "props = intensity.props.copy()\n",
    "props.remove(\"kurtosis\")\n",
    "props.remove(\"skewness\")\n",
    ""
   ]
  },
  {
   "cell_type": "code",
   "execution_count": null,
   "id": "e27059e7-b747-41c6-8b3e-08f20b60974e",
   "metadata": {},
   "outputs": [],
   "source": [
    "def asinh_scale(x, t):\n",
    "    return scale(\n",
    "        flowutils.transforms.asinh(x, channel_indices=None, t=t, m=4.5, a=1),\n",
    "        with_std=False,\n",
    "    )\n",
    ""
   ]
  },
  {
   "cell_type": "code",
   "execution_count": null,
   "id": "ed25359f-29a3-49c8-8ae9-acd8f5addad2",
   "metadata": {},
   "outputs": [],
   "source": [
    "plt.rcParams[\"figure.dpi\"] = 150\n",
    ""
   ]
  },
  {
   "cell_type": "markdown",
   "id": "da6fca42-d8a1-4588-8f50-e35dc5c5a2f7",
   "metadata": {},
   "source": [
    "## Data"
   ]
  },
  {
   "cell_type": "code",
   "execution_count": null,
   "id": "3b41550f-e462-4943-8f82-ba08307a9c92",
   "metadata": {},
   "outputs": [],
   "source": [
    "try:\n",
    "    features = snakemake.input.features\n",
    "    index = snakemake.input.index\n",
    "    columns = snakemake.input.columns\n",
    "    fillna = bool(int(snakemake.wildcards.fillna))\n",
    "    output = snakemake.output[0]\n",
    "except NameError:\n",
    "    # data_dir = Path(\"/data/gent/vo/000/gvo00070/vsc42015/datasets/cd7/800/results/scip/202203221745/\")\n",
    "    data_dir = Path(\"/home/maximl/scratch/data/vsc/datasets/cd7/800/scip/061020221736/\")\n",
    "    features = data_dir / \"features.parquet\"\n",
    "    index = data_dir / \"indices\" / \"index.npy\"\n",
    "    columns = data_dir / \"indices\" / \"columns.npy\"\n",
    "    fillna = False\n",
    "    output = data_dir / f\"adata_{int(fillna)}.h5ad\"\n",
    ""
   ]
  },
  {
   "cell_type": "code",
   "execution_count": null,
   "id": "6c8f4eb2-03c5-49d1-8be5-b102c83aac13",
   "metadata": {},
   "outputs": [],
   "source": [
    "df = pq.read_table(features).to_pandas()\n",
    "df = df.set_index([\"meta_panel\", \"meta_replicate\", \"meta_P\", \"meta_id\"])\n",
    "df = df.loc[\"D\"]\n",
    "df = df[[c for c in numpy.load(columns, allow_pickle=True) if c in df.columns]]\n",
    "df = df.loc[numpy.load(index, allow_pickle=True)]\n",
    "df = df.sort_index()\n",
    "\n",
    "df.shape\n",
    ""
   ]
  },
  {
   "cell_type": "code",
   "execution_count": null,
   "id": "dce03eec-0764-4c28-afd9-0a52433390ef",
   "metadata": {},
   "outputs": [],
   "source": [
    "df = df.filter(regex=\"feat_combined_sum\")\n",
    ""
   ]
  },
  {
   "cell_type": "markdown",
   "id": "504470f7-fe9c-4360-8e43-c1418069ba57",
   "metadata": {},
   "source": [
    "## NaN values"
   ]
  },
  {
   "cell_type": "code",
   "execution_count": null,
   "id": "ffe22197-9ff4-4a53-aee0-c2a8bc407096",
   "metadata": {},
   "outputs": [],
   "source": [
    "df.isna().all(axis=0).any()\n",
    ""
   ]
  },
  {
   "cell_type": "code",
   "execution_count": null,
   "id": "078475a8-659a-421d-b05d-bb1d241cee1e",
   "metadata": {},
   "outputs": [],
   "source": [
    "df.filter(regex=\"feat\").isna().all(axis=1).sum()\n",
    ""
   ]
  },
  {
   "cell_type": "code",
   "execution_count": null,
   "id": "80da762e-4c27-450e-8d2b-aacadb6bed58",
   "metadata": {},
   "outputs": [],
   "source": [
    "seaborn.histplot(data=df.isna().sum())\n",
    ""
   ]
  },
  {
   "cell_type": "markdown",
   "id": "7b1918af-53eb-4f24-8332-98b39c792da6",
   "metadata": {},
   "source": [
    "## Analysis"
   ]
  },
  {
   "cell_type": "code",
   "execution_count": null,
   "id": "887ffd48-f446-4024-9a05-af1045659641",
   "metadata": {},
   "outputs": [],
   "source": [
    "obs = df.filter(regex=\"meta\").reset_index()\n",
    "obs.index = df.index\n",
    "adata = anndata.AnnData(df.filter(regex=\"feat\").astype(numpy.float32), obs=obs)\n",
    "adata.raw = adata.copy()\n",
    "\n",
    "adata.obs[\"meta_replicate\"] = adata.obs[\"meta_replicate\"].astype(\"category\")\n",
    ""
   ]
  },
  {
   "cell_type": "code",
   "execution_count": null,
   "id": "37703ee0-2d33-40a7-99e2-185ee3598ff8",
   "metadata": {},
   "outputs": [],
   "source": [
    "markers = [col for col in adata.var.index if col.startswith(\"feat_sum\")]\n",
    ""
   ]
  },
  {
   "cell_type": "code",
   "execution_count": null,
   "id": "e72aa9dd-73d3-4bb0-b50c-4fcd6ad5b7ce",
   "metadata": {},
   "outputs": [],
   "source": [
    "adata_pre = adata.copy()\n",
    ""
   ]
  },
  {
   "cell_type": "code",
   "execution_count": null,
   "id": "b57c97a3-7f98-4471-a6af-7261f36248e0",
   "metadata": {},
   "outputs": [],
   "source": [
    "%%time\n",
    "scanpy.pp.scale(adata_pre)\n",
    "scanpy.tl.pca(adata_pre, svd_solver='arpack')\n",
    "scanpy.pp.neighbors(adata_pre, n_neighbors=30)\n",
    "scanpy.tl.umap(adata_pre)\n",
    "scanpy.pl.umap(adata_pre, color=[\"meta_replicate\"])"
   ]
  },
  {
   "cell_type": "code",
   "execution_count": null,
   "id": "806ce11d-b3b1-4501-9dbe-d2415ca05bea",
   "metadata": {},
   "outputs": [],
   "source": [
    "adata.var[\"is_marker\"] = [\n",
    "    any(n.endswith(\"feat_combined_sum_%s\" % m) for m in [\"DAPI\", \"EGFP\", \"RPe\", \"APC\"])\n",
    "    for n in adata.var_names\n",
    "]\n",
    "adata.var[\"do_asinh\"] = [\n",
    "    (any(m in n for m in [\"DAPI\", \"EGFP\", \"RPe\", \"APC\"]) and any(o in n for o in props))\n",
    "    for n in adata.var_names\n",
    "]\n",
    ""
   ]
  },
  {
   "cell_type": "code",
   "execution_count": null,
   "id": "ff8ec690-5757-413c-9ee2-fced68e76a7f",
   "metadata": {
    "tags": []
   },
   "outputs": [],
   "source": [
    "%%time\n",
    "with warnings.catch_warnings():\n",
    "    warnings.simplefilter(\"ignore\")\n",
    "    \n",
    "    sc_df = scanpy.get.obs_df(adata, keys=adata.var_names.to_list())\n",
    "    sc_df[adata.var_names[adata.var.do_asinh].to_list()] = sc_df[adata.var_names[adata.var.do_asinh]].groupby([\"meta_replicate\", \"meta_P\"]).transform(lambda x: asinh_scale(x, x.max()))\n",
    "    sc_df[adata.var_names[~adata.var.do_asinh].to_list()] = sc_df[adata.var_names[~adata.var.do_asinh]].groupby([\"meta_replicate\", \"meta_P\"]).transform(lambda x: scale(x))\n",
    "\n",
    "adata = anndata.AnnData(X=sc_df, obs=adata.obs, var=adata.var, raw=adata.raw)"
   ]
  },
  {
   "cell_type": "code",
   "execution_count": null,
   "id": "b19e330e-0848-44fb-b554-8b5a4760ab60",
   "metadata": {},
   "outputs": [],
   "source": [
    "def map_names(a):\n",
    "    return {\n",
    "        \"feat_combined_sum_DAPI\": \"DAPI\",\n",
    "        \"feat_combined_sum_EGFP\": \"CD45\",\n",
    "        \"feat_combined_sum_RPe\": \"Siglec 8\",\n",
    "        \"feat_combined_sum_APC\": \"CD15\",\n",
    "    }[a]\n",
    ""
   ]
  },
  {
   "cell_type": "code",
   "execution_count": null,
   "id": "a65c301c-d39d-47c9-bed8-e6fccbc1d72e",
   "metadata": {
    "tags": []
   },
   "outputs": [],
   "source": [
    "aligned_df = scanpy.get.obs_df(\n",
    "    adata, keys=adata.var_names[adata.var.is_marker].to_list()\n",
    ").reset_index()\n",
    "\n",
    "melted_df = pandas.melt(\n",
    "    aligned_df,\n",
    "    id_vars=[\"meta_P\", \"meta_replicate\"],\n",
    "    value_vars=adata.var_names[adata.var.is_marker].to_list(),\n",
    ")\n",
    "melted_df.variable = melted_df.variable.apply(map_names)\n",
    "\n",
    "grid = seaborn.FacetGrid(\n",
    "    data=melted_df,\n",
    "    col=\"meta_replicate\",\n",
    "    row=\"variable\",\n",
    "    sharey=\"row\",\n",
    "    aspect=1.5,\n",
    "    margin_titles=True,\n",
    ")\n",
    "grid.map_dataframe(seaborn.stripplot, x=\"meta_P\", y=\"value\", size=1, alpha=0.5)\n",
    "\n",
    "grid.set_axis_labels(\"Well image position\", \"Fluorescence intensity\")\n",
    "grid.set_titles(col_template=\"Replicate {col_name}\", row_template=\"{row_name}\")\n",
    "\n",
    "grid.add_legend()\n",
    "\n",
    "# plt.savefig(data_dir / \"figures/qc_intensity_distribution_post.png\", bbox_inches='tight', pad_inches=0)\n",
    ""
   ]
  },
  {
   "cell_type": "code",
   "execution_count": null,
   "id": "896b9acc-dfe4-4ed9-9cb7-e1a0992fb4df",
   "metadata": {},
   "outputs": [],
   "source": [
    "scanpy.tl.pca(adata, svd_solver=\"arpack\", random_state=0)\n",
    "scanpy.pp.neighbors(adata, n_neighbors=5, method=\"umap\", random_state=0)\n",
    ""
   ]
  },
  {
   "cell_type": "code",
   "execution_count": null,
   "id": "d1749c08-6403-4362-a631-68e924520415",
   "metadata": {},
   "outputs": [],
   "source": [
    "%%time\n",
    "resolutions = [0.1, 0.25, 0.5, 0.75, 1]\n",
    "for res in resolutions:\n",
    "    scanpy.tl.leiden(adata, resolution=res, key_added=f\"leiden_{res}\", random_state=0)"
   ]
  },
  {
   "cell_type": "code",
   "execution_count": null,
   "id": "85d74a60-28da-43c9-966a-bb1bb85f73ce",
   "metadata": {},
   "outputs": [],
   "source": [
    "scanpy.tl.umap(adata, random_state=0)\n",
    ""
   ]
  },
  {
   "cell_type": "code",
   "execution_count": null,
   "id": "24b6e364-518f-40cd-909e-e5168c737d37",
   "metadata": {},
   "outputs": [],
   "source": [
    "scanpy.pl.umap(\n",
    "    adata,\n",
    "    color=[\"leiden_0.25\", \"leiden_0.5\", \"leiden_0.75\", \"leiden_1\", \"meta_replicate\"],\n",
    "    legend_loc=\"on data\",\n",
    ")\n",
    ""
   ]
  },
  {
   "cell_type": "code",
   "execution_count": null,
   "id": "da112982-b62f-4efc-adb9-99c27c6a1dda",
   "metadata": {},
   "outputs": [],
   "source": [
    "adata.obs[\"leiden\"] = adata.obs[\"leiden_0.75\"]\n",
    ""
   ]
  },
  {
   "cell_type": "code",
   "execution_count": null,
   "id": "2a1bb327-53fa-46f2-9a6c-1d019d842b25",
   "metadata": {},
   "outputs": [],
   "source": [
    "seaborn.countplot(data=adata.obs, x=\"leiden\", hue=\"meta_replicate\")\n",
    ""
   ]
  },
  {
   "cell_type": "code",
   "execution_count": null,
   "id": "15aa48fc-1a9a-42a2-a553-8de12865b637",
   "metadata": {},
   "outputs": [],
   "source": []
  }
 ],
 "metadata": {
  "kernelspec": {
   "display_name": "Python 3 (ipykernel)",
   "language": "python",
   "name": "python3"
  },
  "language_info": {
   "codemirror_mode": {
    "name": "ipython",
    "version": 3
   },
   "file_extension": ".py",
   "mimetype": "text/x-python",
   "name": "python",
   "nbconvert_exporter": "python",
   "pygments_lexer": "ipython3",
   "version": "3.9.13"
  },
  "vscode": {
   "interpreter": {
    "hash": "64fd0ed183a0510f919c27dddcaa3e947ee6ca74b1ed547fc7204df54d1f1271"
   }
  }
 },
 "nbformat": 4,
 "nbformat_minor": 5
}
