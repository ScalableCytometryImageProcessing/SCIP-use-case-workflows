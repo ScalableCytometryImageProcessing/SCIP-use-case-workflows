{
 "cells": [
  {
   "cell_type": "code",
   "execution_count": null,
   "metadata": {},
   "outputs": [],
   "source": [
    "#|default_exp common"
   ]
  },
  {
   "cell_type": "code",
   "execution_count": null,
   "metadata": {},
   "outputs": [],
   "source": [
    "#|export\n",
    "\n",
    "__all__ = [\"pandas\", \"os\", \"numpy\", \"seaborn\", \n",
    "\"logging\", \"plt\", \"cm\", \"matplotlib\", \"reload\", \n",
    "\"core\", \"Path\", \"re\", \"scipy\", \"CategoricalDtype\",\n",
    "\"pq\"]\n",
    "\n",
    "import pandas\n",
    "import os\n",
    "import numpy\n",
    "import seaborn\n",
    "import logging\n",
    "import matplotlib.pyplot as plt\n",
    "from matplotlib import cm\n",
    "import matplotlib\n",
    "from importlib import reload\n",
    "from scip_workflows import core\n",
    "from pathlib import Path\n",
    "import re\n",
    "import scipy\n",
    "\n",
    "from pandas.api.types import CategoricalDtype\n",
    "\n",
    "import pyarrow.parquet as pq\n",
    "\n",
    "plt.rcParams['figure.facecolor'] = 'white'\n",
    "\n",
    "numpy.random.seed(42)"
   ]
  }
 ],
 "metadata": {
  "kernelspec": {
   "display_name": "Python 3.9.13 ('scip')",
   "language": "python",
   "name": "python3"
  },
  "language_info": {
   "name": "python",
   "version": "3.9.13"
  },
  "orig_nbformat": 4,
  "vscode": {
   "interpreter": {
    "hash": "6c19ec75b5216c81abf931859392d42d22f386772f224f44a894f50f6487f0f0"
   }
  }
 },
 "nbformat": 4,
 "nbformat_minor": 2
}
