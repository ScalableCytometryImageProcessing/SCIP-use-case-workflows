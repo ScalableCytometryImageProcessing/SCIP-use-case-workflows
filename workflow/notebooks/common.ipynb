{
 "cells": [
  {
   "cell_type": "code",
   "execution_count": null,
   "metadata": {},
   "outputs": [],
   "source": [
    "# |default_exp common\n",
    ""
   ]
  },
  {
   "cell_type": "code",
   "execution_count": null,
   "metadata": {},
   "outputs": [],
   "source": [
    "# |export\n",
    "\n",
    "__all__ = [\n",
    "    \"pandas\",\n",
    "    \"os\",\n",
    "    \"numpy\",\n",
    "    \"seaborn\",\n",
    "    \"logging\",\n",
    "    \"plt\",\n",
    "    \"cm\",\n",
    "    \"matplotlib\",\n",
    "    \"reload\",\n",
    "    \"Path\",\n",
    "    \"re\",\n",
    "    \"scipy\",\n",
    "    \"CategoricalDtype\",\n",
    "    \"pq\",\n",
    "]\n",
    "\n",
    "import logging\n",
    "import os\n",
    "import re\n",
    "from importlib import reload\n",
    "from pathlib import Path\n",
    "\n",
    "import matplotlib\n",
    "import matplotlib.pyplot as plt\n",
    "import numpy\n",
    "import pandas\n",
    "import pyarrow.parquet as pq\n",
    "import scipy\n",
    "import seaborn\n",
    "from matplotlib import cm\n",
    "from pandas.api.types import CategoricalDtype\n",
    "\n",
    "plt.rcParams[\"figure.facecolor\"] = \"white\"\n",
    "\n",
    "numpy.random.seed(42)\n",
    ""
   ]
  }
 ],
 "metadata": {
  "kernelspec": {
   "display_name": "Python 3 (ipykernel)",
   "language": "python",
   "name": "python3"
  },
  "language_info": {
   "codemirror_mode": {
    "name": "ipython",
    "version": 3
   },
   "file_extension": ".py",
   "mimetype": "text/x-python",
   "name": "python",
   "nbconvert_exporter": "python",
   "pygments_lexer": "ipython3",
   "version": "3.9.13"
  },
  "vscode": {
   "interpreter": {
    "hash": "6c19ec75b5216c81abf931859392d42d22f386772f224f44a894f50f6487f0f0"
   }
  }
 },
 "nbformat": 4,
 "nbformat_minor": 4
}
