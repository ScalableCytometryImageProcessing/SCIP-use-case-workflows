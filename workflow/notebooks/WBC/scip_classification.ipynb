{
 "cells": [
  {
   "cell_type": "markdown",
   "id": "4b3a5c5f-f462-4875-8800-c98414049d8e",
   "metadata": {},
   "source": [
    "# Label-free classification using SCIP features"
   ]
  },
  {
   "cell_type": "markdown",
   "id": "65d8cb65-39a3-4c7f-80b2-8c259a1c90c2",
   "metadata": {
    "tags": []
   },
   "source": [
    "## Package imports"
   ]
  },
  {
   "cell_type": "code",
   "execution_count": null,
   "id": "286b6b26-d2b1-460d-a01d-f0db513c9773",
   "metadata": {},
   "outputs": [],
   "source": [
    "%load_ext autoreload\n",
    "%autoreload 2"
   ]
  },
  {
   "cell_type": "code",
   "execution_count": null,
   "id": "85f764f8-3b61-4d63-8efc-f0f808a7742c",
   "metadata": {},
   "outputs": [],
   "source": [
    "from scip_workflows.common import *\n",
    ""
   ]
  },
  {
   "cell_type": "code",
   "execution_count": null,
   "id": "de351f54-3c18-4eee-ad41-89ec9c425346",
   "metadata": {},
   "outputs": [],
   "source": [
    "import shap\n",
    "import sklearn.base\n",
    "from imblearn.over_sampling import ADASYN, SMOTE, RandomOverSampler\n",
    "from imblearn.pipeline import make_pipeline as imb_make_pipeline\n",
    "from imblearn.under_sampling import RandomUnderSampler\n",
    "from scipy.stats import spearmanr\n",
    "from sklearn import tree\n",
    "from sklearn.base import BaseEstimator, TransformerMixin\n",
    "from sklearn.cluster import AgglomerativeClustering\n",
    "from sklearn.decomposition import PCA\n",
    "from sklearn.feature_selection import VarianceThreshold\n",
    "from sklearn.metrics import (\n",
    "    ConfusionMatrixDisplay,\n",
    "    balanced_accuracy_score,\n",
    "    confusion_matrix,\n",
    ")\n",
    "from sklearn.model_selection import (\n",
    "    GridSearchCV,\n",
    "    RandomizedSearchCV,\n",
    "    StratifiedKFold,\n",
    "    cross_validate,\n",
    "    train_test_split,\n",
    ")\n",
    "from sklearn.neighbors import KNeighborsClassifier\n",
    "from sklearn.neural_network import MLPClassifier\n",
    "from sklearn.pipeline import make_pipeline\n",
    "from sklearn.preprocessing import (\n",
    "    LabelEncoder,\n",
    "    StandardScaler,\n",
    "    minmax_scale,\n",
    "    normalize,\n",
    "    scale,\n",
    ")\n",
    "from sklearn.svm import SVC\n",
    "from xgboost import XGBClassifier\n",
    "\n",
    "from scip_workflows import core\n",
    "\n",
    "shap.initjs()\n",
    ""
   ]
  },
  {
   "cell_type": "code",
   "execution_count": null,
   "id": "2d60d1a7-c6f7-46ef-9cd0-30bf272ffd59",
   "metadata": {},
   "outputs": [],
   "source": [
    "plt.rcParams[\"figure.dpi\"] = 200\n",
    ""
   ]
  },
  {
   "cell_type": "markdown",
   "id": "79119e0e-2652-4b67-89c7-1307868c01e8",
   "metadata": {
    "tags": [],
    "toc-hr-collapsed": true
   },
   "source": [
    "## Data import"
   ]
  },
  {
   "cell_type": "code",
   "execution_count": null,
   "id": "c88f91cd-14fb-4a48-a642-15ff03cc368a",
   "metadata": {},
   "outputs": [],
   "source": [
    "try:\n",
    "    features = snakemake.input.features\n",
    "    index = snakemake.input.index\n",
    "    columns = snakemake.input.columns\n",
    "    labels = snakemake.input.labels\n",
    "    hpo_full = snakemake.input.hpo_full\n",
    "    hpo_cyto = snakemake.input.hpo_cyto\n",
    "    output_confmat_full = snakemake.output.confmat_full\n",
    "    output_confmat_cyto = snakemake.output.confmat_cyto\n",
    "    output_metrics_full = snakemake.output.metrics_full\n",
    "    output_metrics_cyto = snakemake.output.metrics_cyto\n",
    "except NameError:\n",
    "    data_root = Path(\"/home/maximl/scratch/data/vsc/datasets/wbc/\")\n",
    "    # data_root = Path(os.environ[\"VSC_DATA_VO_USER\"]) / \"datasets/wbc\"\n",
    "    data_scip = data_root / \"scip/20220713131400/\"\n",
    "    features = data_scip / \"WBC_features.parquet\"\n",
    "    index = data_scip / \"indices/index.npy\"\n",
    "    columns = data_scip / \"indices/columns.npy\"\n",
    "    labels = data_scip / \"labels.parquet\"\n",
    "    hpo_full = data_scip / \"hpo\" / \"WBC_rsh_scip_full_li_xgboost.pickle\"\n",
    "    hpo_cyto = data_scip / \"hpo\" / \"WBC_rsh_scip_cyto_li_xgboost.pickle\"\n",
    "    output_confmat_full = data_scip / \"figures\" / \"WBC_scip_full_cv_confmat.png\"\n",
    "    output_confmat_cyto = data_scip / \"figures\" / \"WBC_scip_cyto_cv_confmat.png\"\n",
    "    output_metrics_full = data_scip / \"figures\" / \"WBC_scip_full_cv_metrics.png\"\n",
    "    output_metrics_cyto = data_scip / \"figures\" / \"WBC_scip_cyto_cv_metrics.png\"\n",
    ""
   ]
  },
  {
   "cell_type": "code",
   "execution_count": null,
   "id": "47c54de3-0dad-4ef3-9384-7a6ed19b00ee",
   "metadata": {},
   "outputs": [],
   "source": [
    "df_scip = pq.read_table(features).to_pandas()\n",
    "\n",
    "df_scip = df_scip[numpy.load(columns, allow_pickle=True)]\n",
    "df_scip = df_scip.loc[numpy.load(index, allow_pickle=True)]\n",
    "\n",
    "labels = pq.read_table(labels).to_pandas()\n",
    "df_scip = df_scip.merge(labels, left_index=True, right_index=True)\n",
    "# df_scip[\"meta_label\"] = pandas.Categorical(df_scip[\"meta_label\"], ordered=True)\n",
    "\n",
    "df_scip.shape\n",
    ""
   ]
  },
  {
   "cell_type": "code",
   "execution_count": null,
   "id": "df02e99f-fb44-418f-bc34-99b6d49a23d8",
   "metadata": {},
   "outputs": [],
   "source": [
    "df_scip[\"meta_label\"].value_counts()\n",
    ""
   ]
  },
  {
   "cell_type": "code",
   "execution_count": null,
   "id": "1f5943cd-2fee-42af-8c37-878acbe1603c",
   "metadata": {},
   "outputs": [],
   "source": [
    "df = df_scip\n",
    ""
   ]
  },
  {
   "cell_type": "code",
   "execution_count": null,
   "id": "a3302c61-37ef-4469-88f8-b7d655480b09",
   "metadata": {},
   "outputs": [],
   "source": [
    "df.shape\n",
    ""
   ]
  },
  {
   "cell_type": "markdown",
   "id": "fdf5f40e-400e-4b9b-82db-4f3efa161bd6",
   "metadata": {
    "tags": []
   },
   "source": [
    "## Continue with events assigned to cell states\n",
    "\n",
    "I filter out the events falling between manual gates. This is only a small amount of events"
   ]
  },
  {
   "cell_type": "code",
   "execution_count": null,
   "id": "090ea854-3527-4068-a88e-c1465d755773",
   "metadata": {},
   "outputs": [],
   "source": [
    "df = df.loc[df[\"meta_label\"] != \"unknown\"].copy()\n",
    "df.shape\n",
    ""
   ]
  },
  {
   "cell_type": "code",
   "execution_count": null,
   "id": "9acf93ec-403b-4ad9-92c4-13a4f9b4cc15",
   "metadata": {},
   "outputs": [],
   "source": [
    "df[\"meta_label\"] = df[\"meta_label\"].astype(\"category\")\n",
    ""
   ]
  },
  {
   "cell_type": "code",
   "execution_count": null,
   "id": "848b03d3-3c36-445c-8e1b-b4c5bcd63fb1",
   "metadata": {},
   "outputs": [],
   "source": [
    "enc = LabelEncoder().fit(df[\"meta_label\"])\n",
    ""
   ]
  },
  {
   "cell_type": "markdown",
   "id": "2c5c907f-b98f-463b-b43d-36e6976e041c",
   "metadata": {
    "tags": []
   },
   "source": [
    "## Classification and feature analysis using an Extreme Gradient Boosting classifier"
   ]
  },
  {
   "cell_type": "markdown",
   "id": "2b53ee82-efa7-447c-b146-a1e5e91e3666",
   "metadata": {
    "tags": []
   },
   "source": [
    "### Tuning hyper parameters\n",
    "\n",
    "We inspect the results from recursive successive halving hyper parameter optimization"
   ]
  },
  {
   "cell_type": "code",
   "execution_count": null,
   "id": "63778422-62af-464b-9855-217f8ef04a79",
   "metadata": {},
   "outputs": [],
   "source": [
    "with open(hpo_full, \"rb\") as fh:\n",
    "    grid_full = pickle.load(fh)\n",
    ""
   ]
  },
  {
   "cell_type": "code",
   "execution_count": null,
   "id": "88455650-9c99-41d0-a8ae-9a924df26457",
   "metadata": {},
   "outputs": [],
   "source": [
    "tested_values = {\n",
    "    \"xgbclassifier__max_depth\": [6, 5, 4, 3, 2],\n",
    "    \"xgbclassifier__learning_rate\": [\n",
    "        0.7,\n",
    "        0.6,\n",
    "        0.5,\n",
    "        0.4,\n",
    "        0.3,\n",
    "        0.2,\n",
    "        0.1,\n",
    "        0.05,\n",
    "        0.01,\n",
    "        0.001,\n",
    "    ],\n",
    "    \"xgbclassifier__subsample\": numpy.arange(start=0.1, stop=1.1, step=0.1),\n",
    "    \"xgbclassifier__colsample_bytree\": numpy.arange(start=0.1, stop=1.1, step=0.1),\n",
    "    \"xgbclassifier__gamma\": numpy.arange(start=0, stop=31, step=2),\n",
    "    \"xgbclassifier__min_child_weight\": numpy.arange(start=1, stop=32, step=2),\n",
    "    \"xgbclassifier__n_estimators\": numpy.arange(start=10, stop=301, step=10),\n",
    "}\n",
    ""
   ]
  },
  {
   "cell_type": "code",
   "execution_count": null,
   "id": "6d7f7d8a-46d9-4d73-a83b-0a6f9c8fa8d1",
   "metadata": {},
   "outputs": [],
   "source": [
    "pandas.set_option(\"display.max_colwidth\", 1000)\n",
    ""
   ]
  },
  {
   "cell_type": "code",
   "execution_count": null,
   "id": "7bbb66ae-86e8-4f3d-921b-29e0951ec49d",
   "metadata": {},
   "outputs": [],
   "source": [
    "tmp_df = pandas.DataFrame([e.best_params_ for e in grid_full[\"estimator\"]]).T\n",
    "for k, v in tested_values.items():\n",
    "    if type(v[0]) is numpy.float64:\n",
    "        tmp_df.loc[k, \"tested values\"] = \", \".join([\"%.2f\" % i for i in v])\n",
    "    else:\n",
    "        tmp_df.loc[k, \"tested values\"] = \", \".join([str(i) for i in v])\n",
    "tmp_df.index = [c[len(\"xgbclassifier__\") :] for c in tmp_df.index]\n",
    "print(tmp_df.to_latex(float_format=\"%.2f\", escape=False))\n",
    ""
   ]
  },
  {
   "cell_type": "code",
   "execution_count": null,
   "id": "04769072-7456-4f8e-9f36-d7e9090b1434",
   "metadata": {},
   "outputs": [],
   "source": [
    "grid_full[\"test_balanced_accuracy\"].mean(), scipy.stats.sem(\n",
    "    grid_full[\"test_balanced_accuracy\"]\n",
    ")\n",
    ""
   ]
  },
  {
   "cell_type": "code",
   "execution_count": null,
   "id": "594c75fd-c713-4510-9d15-35537285feb7",
   "metadata": {},
   "outputs": [],
   "source": [
    "grid_full[\"test_balanced_accuracy\"], grid_full[\"train_balanced_accuracy\"]\n",
    ""
   ]
  },
  {
   "cell_type": "code",
   "execution_count": null,
   "id": "8c3d6548-059b-4538-9529-5489161df9ec",
   "metadata": {},
   "outputs": [],
   "source": [
    "X = df.filter(regex=\"(BF1|BF2|SSC)$\")\n",
    "y = enc.transform(df[\"meta_label\"])\n",
    "preds = []\n",
    "true = []\n",
    "\n",
    "skf = StratifiedKFold(n_splits=5, random_state=0, shuffle=True)\n",
    "for estimator, (_, test_index) in zip(grid_full[\"estimator\"], skf.split(X, y)):\n",
    "    X_test, y_test = X.iloc[test_index], y[test_index]\n",
    "    preds.extend(estimator.predict(X_test))\n",
    "    true.extend(y_test)\n",
    "\n",
    "fig, ax = plt.subplots()\n",
    "ConfusionMatrixDisplay.from_predictions(\n",
    "    true,\n",
    "    preds,\n",
    "    labels=[3, 5, 4, 7, 2, 0, 1, 6],\n",
    "    display_labels=enc.classes_[[3, 5, 4, 7, 2, 0, 1, 6]],\n",
    "    normalize=\"true\",\n",
    "    xticks_rotation=\"vertical\",\n",
    "    values_format=\".2f\",\n",
    "    ax=ax,\n",
    ")\n",
    "plt.savefig(output_confmat_full, bbox_inches=\"tight\")\n",
    ""
   ]
  },
  {
   "cell_type": "code",
   "execution_count": null,
   "id": "983791d8-7293-4b2a-9baa-96adc163fefc",
   "metadata": {},
   "outputs": [],
   "source": [
    "grid_full_df = (\n",
    "    pandas.DataFrame(grid_full)\n",
    "    .drop(columns=[\"score_time\", \"fit_time\", \"estimator\"])\n",
    "    .melt()\n",
    ")\n",
    "grid_full_df[\"phase\"] = grid_full_df[\"variable\"].apply(lambda r: r.split(\"_\")[0])\n",
    "grid_full_df[\"metric\"] = grid_full_df[\"variable\"].apply(\n",
    "    lambda r: \" \".join(r.split(\"_\")[1:])\n",
    ")\n",
    "\n",
    "seaborn.swarmplot(data=grid_full_df, x=\"value\", y=\"metric\", hue=\"phase\")\n",
    "\n",
    "plt.savefig(output_metrics_full, bbox_inches=\"tight\")\n",
    ""
   ]
  },
  {
   "cell_type": "code",
   "execution_count": null,
   "id": "8581af7b-dfc3-483b-b501-a45ff0a6de87",
   "metadata": {},
   "outputs": [],
   "source": [
    "scores_df = grid_full_df.groupby([\"metric\", \"phase\"])[\"value\"].agg(\n",
    "    [\"mean\", scipy.stats.sem]\n",
    ")\n",
    "scores_df.index.names = [\"Metric\", \"Phase\"]\n",
    "scores_df[\"Mean (std. error)\"] = scores_df.apply(\n",
    "    lambda r: \"%.3f (%.3f)\" % (r[\"mean\"], r[\"sem\"]), axis=1\n",
    ")\n",
    "scores_df = scores_df.reset_index().pivot(\n",
    "    index=\"Metric\", values=\"Mean (std. error)\", columns=\"Phase\"\n",
    ")\n",
    "scores_df.index.name = \"\"\n",
    "\n",
    "print(scores_df.style.to_latex(hrules=True))\n",
    ""
   ]
  },
  {
   "cell_type": "code",
   "execution_count": null,
   "id": "81f884b4-ab9f-496b-b25f-6db1e83e8ca2",
   "metadata": {},
   "outputs": [],
   "source": [
    "with open(hpo_cyto, \"rb\") as fh:\n",
    "    grid_cyto = pickle.load(fh)\n",
    ""
   ]
  },
  {
   "cell_type": "code",
   "execution_count": null,
   "id": "fa64a85d-790e-4473-8640-f0d366a83deb",
   "metadata": {},
   "outputs": [],
   "source": [
    "grid_cyto[\"test_balanced_accuracy\"].mean(), scipy.stats.sem(\n",
    "    grid_cyto[\"test_balanced_accuracy\"]\n",
    ")\n",
    ""
   ]
  },
  {
   "cell_type": "code",
   "execution_count": null,
   "id": "13a36dc0-e849-4611-970c-348befbaaf7e",
   "metadata": {},
   "outputs": [],
   "source": [
    "grid_cyto[\"test_balanced_accuracy\"], grid_cyto[\"train_balanced_accuracy\"]\n",
    ""
   ]
  },
  {
   "cell_type": "code",
   "execution_count": null,
   "id": "ba2c2c89-63f8-4e65-a9ae-822670d91bb2",
   "metadata": {},
   "outputs": [],
   "source": [
    "X = (\n",
    "    df.drop(\"late\", level=\"meta_fix\")\n",
    "    .drop(0, level=\"meta_group\")\n",
    "    .filter(regex=\"(BF1|BF2|SSC)$\")\n",
    ")  # .fillna(0)\n",
    "y = enc.transform(\n",
    "    df.drop(\"late\", level=\"meta_fix\").drop(0, level=\"meta_group\")[\"meta_label\"]\n",
    ")\n",
    "preds = []\n",
    "true = []\n",
    "\n",
    "skf = StratifiedKFold(n_splits=5, random_state=0, shuffle=True)\n",
    "for estimator, (_, test_index) in zip(grid_cyto[\"estimator\"], skf.split(X, y)):\n",
    "    X_test, y_test = X.iloc[test_index], y[test_index]\n",
    "    preds.extend(estimator.predict(X_test))\n",
    "    true.extend(y_test)\n",
    "\n",
    "fig, ax = plt.subplots()\n",
    "ConfusionMatrixDisplay.from_predictions(\n",
    "    true,\n",
    "    preds,\n",
    "    labels=[3, 5, 4, 7, 2, 0, 1, 6],\n",
    "    display_labels=enc.classes_[[3, 5, 4, 7, 2, 0, 1, 6]],\n",
    "    normalize=\"true\",\n",
    "    xticks_rotation=\"vertical\",\n",
    "    values_format=\".2f\",\n",
    "    ax=ax,\n",
    ")\n",
    "plt.savefig(output_confmat_cyto, bbox_inches=\"tight\")\n",
    ""
   ]
  },
  {
   "cell_type": "code",
   "execution_count": null,
   "id": "d9ab861d-de31-4248-bdb0-1af9e8bc54ad",
   "metadata": {},
   "outputs": [],
   "source": [
    "grid_cyto_df = (\n",
    "    pandas.DataFrame(grid_cyto)\n",
    "    .drop(\n",
    "        columns=[\n",
    "            \"score_time\",\n",
    "            \"fit_time\",\n",
    "            \"estimator\",\n",
    "            \"train_recall_macro\",\n",
    "            \"test_recall_macro\",\n",
    "        ]\n",
    "    )\n",
    "    .melt()\n",
    ")\n",
    "grid_cyto_df[\"phase\"] = grid_cyto_df[\"variable\"].apply(lambda r: r.split(\"_\")[0])\n",
    "grid_cyto_df[\"metric\"] = grid_cyto_df[\"variable\"].apply(\n",
    "    lambda r: \" \".join(r.split(\"_\")[1:])\n",
    ")\n",
    "\n",
    "seaborn.swarmplot(data=grid_cyto_df, x=\"value\", y=\"metric\", hue=\"phase\")\n",
    "\n",
    "plt.savefig(output_metrics_cyto, bbox_inches=\"tight\")\n",
    ""
   ]
  },
  {
   "cell_type": "code",
   "execution_count": null,
   "id": "230cf6e0-d463-4f99-b418-486617d77116",
   "metadata": {},
   "outputs": [],
   "source": [
    "scores_df = grid_cyto_df.groupby([\"metric\", \"phase\"])[\"value\"].agg(\n",
    "    [\"mean\", scipy.stats.sem]\n",
    ")\n",
    "scores_df.index.names = [\"Metric\", \"Phase\"]\n",
    "scores_df[\"Mean (std. error)\"] = scores_df.apply(\n",
    "    lambda r: \"%.3f (%.3f)\" % (r[\"mean\"], r[\"sem\"]), axis=1\n",
    ")\n",
    "print(\n",
    "    scores_df.reset_index()\n",
    "    .pivot(index=\"Metric\", values=\"Mean (std. error)\", columns=\"Phase\")\n",
    "    .style.to_latex(hrules=True)\n",
    ")\n",
    ""
   ]
  },
  {
   "cell_type": "code",
   "execution_count": null,
   "id": "76daea3f-022f-4c98-8530-a6a2a430b70a",
   "metadata": {},
   "outputs": [],
   "source": []
  }
 ],
 "metadata": {
  "authors": [
   {
    "name": "Maxim Lippeveld"
   }
  ],
  "kernelspec": {
   "display_name": "Python 3 (ipykernel)",
   "language": "python",
   "name": "python3"
  },
  "language_info": {
   "codemirror_mode": {
    "name": "ipython",
    "version": 3
   },
   "file_extension": ".py",
   "mimetype": "text/x-python",
   "name": "python",
   "nbconvert_exporter": "python",
   "pygments_lexer": "ipython3",
   "version": "3.9.13"
  },
  "title": "Infection state prediction using generic channels",
  "vscode": {
   "interpreter": {
    "hash": "64fd0ed183a0510f919c27dddcaa3e947ee6ca74b1ed547fc7204df54d1f1271"
   }
  }
 },
 "nbformat": 4,
 "nbformat_minor": 5
}
