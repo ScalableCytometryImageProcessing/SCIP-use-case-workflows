{
 "cells": [
  {
   "cell_type": "code",
   "execution_count": 1,
   "id": "936bad0d-d725-4abf-be15-04551a1772db",
   "metadata": {},
   "outputs": [],
   "source": [
    "%load_ext autoreload\n",
    "%autoreload 2"
   ]
  },
  {
   "cell_type": "code",
   "execution_count": 2,
   "id": "89080412-7682-4902-ac4d-91c7fdc4e33a",
   "metadata": {},
   "outputs": [],
   "source": [
    "from scip_workflows.common import *\n"
   ]
  },
  {
   "cell_type": "code",
   "execution_count": 3,
   "id": "9059d707-6d41-497e-96dc-55e07c26167c",
   "metadata": {},
   "outputs": [],
   "source": [
    "import fcsparser\n",
    "import pyarrow\n"
   ]
  },
  {
   "cell_type": "code",
   "execution_count": 4,
   "id": "1572cc77-5a81-4d69-ad5b-2bb2afd14440",
   "metadata": {},
   "outputs": [],
   "source": [
    "try:\n",
    "    ideas = snakemake.input.ideas_fcs\n",
    "    output = snakemake.output[0]\n",
    "except NameError:\n",
    "    data_dir = Path(\"/home/maximl/scratch/data/vsc/datasets/wbc/ideas\")\n",
    "    ideas = data_dir / \"fcs\"\n",
    "    output = data_dir / \"WBC_features.parquet\"\n"
   ]
  },
  {
   "cell_type": "code",
   "execution_count": 5,
   "id": "50d893b7-af06-42bb-9bcd-1f34c0ae6252",
   "metadata": {},
   "outputs": [],
   "source": [
    "# ideas features\n",
    "def proc_cols(cols):\n",
    "    out = []\n",
    "    for col in cols:\n",
    "        col = col.lower()\n",
    "        for c in [\" \", \"-\", \"_\", \".\"]:\n",
    "            col = col.replace(c, \"\")\n",
    "        out.append(col)\n",
    "    return out\n",
    "\n",
    "\n",
    "tmp = []\n",
    "cols = None\n",
    "for p in ideas.glob(\"*.fcs\"):\n",
    "    meta, data = fcsparser.parse(p)\n",
    "    groups = re.search(\n",
    "        \"wbc(?P<group>[0-9])_(?P<part>[0-9])_?(?P<fix>(early|late))?.fcs\", p.name\n",
    "    ).groupdict()\n",
    "    data[\"fix\"] = groups[\"fix\"]\n",
    "    data[\"group\"] = int(groups[\"group\"])\n",
    "    data[\"part\"] = int(groups[\"part\"])\n",
    "    data.columns = proc_cols(data.columns)\n",
    "    if cols is None:\n",
    "        cols = data.columns\n",
    "    tmp.append(data[cols])\n",
    "df_ideas = pandas.concat(tmp, axis=0)\n",
    "\n",
    "ideas_meta_cols = [\"objectnumber\", \"fix\", \"group\", \"part\"]\n",
    "df_ideas = df_ideas.rename(\n",
    "    columns=lambda col: f\"meta_{col.lower()}\"\n",
    "    if col in ideas_meta_cols\n",
    "    else f\"feat_{col.lower()}\"\n",
    ")\n",
    "\n",
    "df_ideas[\"meta_object_number\"] = df_ideas[\"meta_objectnumber\"].astype(int)\n",
    "df_ideas = df_ideas.drop(columns=\"meta_objectnumber\")\n",
    "\n",
    "df_ideas = df_ideas.set_index(\n",
    "    [\"meta_group\", \"meta_part\", \"meta_fix\", \"meta_object_number\"]\n",
    ")\n"
   ]
  },
  {
   "cell_type": "code",
   "execution_count": 6,
   "id": "13ea5538-58ee-4cbb-9554-41deb4ca6f07",
   "metadata": {},
   "outputs": [
    {
     "data": {
      "text/plain": [
       "(274050, 305)"
      ]
     },
     "execution_count": 6,
     "metadata": {},
     "output_type": "execute_result"
    }
   ],
   "source": [
    "r = r\"(?i).*(uncompensated|bkgd|saturation|\\().*\"\n",
    "todrop = list(filter(lambda x: re.match(r, x), df_ideas.columns))\n",
    "df_ideas = df_ideas.drop(columns=todrop)\n",
    "df_ideas.shape\n"
   ]
  },
  {
   "cell_type": "code",
   "execution_count": 7,
   "id": "88653ca2-ebfd-470d-bea1-5cf84a73adc5",
   "metadata": {},
   "outputs": [],
   "source": [
    "df_ideas.index = df_ideas.index.set_levels([0, 1, 2], level=\"meta_group\")\n"
   ]
  },
  {
   "cell_type": "code",
   "execution_count": 10,
   "id": "e70b5fde",
   "metadata": {},
   "outputs": [
    {
     "data": {
      "text/plain": [
       "MultiIndex([(0, 1,     nan),\n",
       "            (0, 2,     nan),\n",
       "            (0, 3,     nan),\n",
       "            (1, 1, 'early'),\n",
       "            (1, 1,  'late'),\n",
       "            (1, 2, 'early'),\n",
       "            (1, 2,  'late'),\n",
       "            (1, 3, 'early'),\n",
       "            (1, 3,  'late'),\n",
       "            (2, 1, 'early'),\n",
       "            (2, 1,  'late')],\n",
       "           names=['meta_group', 'meta_part', 'meta_fix'])"
      ]
     },
     "execution_count": 10,
     "metadata": {},
     "output_type": "execute_result"
    }
   ],
   "source": [
    "df_ideas.reset_index().set_index([\"meta_group\", \"meta_part\", \"meta_fix\"]).sort_index().index.unique()"
   ]
  },
  {
   "cell_type": "code",
   "execution_count": null,
   "id": "3801ae9b-21a9-4c78-a7ae-8ac2cbf8e32b",
   "metadata": {},
   "outputs": [],
   "source": [
    "pq.write_table(pyarrow.Table.from_pandas(df_ideas), output)\n"
   ]
  }
 ],
 "metadata": {
  "kernelspec": {
   "display_name": "Python 3 (ipykernel)",
   "language": "python",
   "name": "python3"
  },
  "language_info": {
   "codemirror_mode": {
    "name": "ipython",
    "version": 3
   },
   "file_extension": ".py",
   "mimetype": "text/x-python",
   "name": "python",
   "nbconvert_exporter": "python",
   "pygments_lexer": "ipython3",
   "version": "3.10.9"
  }
 },
 "nbformat": 4,
 "nbformat_minor": 5
}
