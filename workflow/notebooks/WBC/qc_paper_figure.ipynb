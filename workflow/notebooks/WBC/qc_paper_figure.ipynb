{
 "cells": [
  {
   "cell_type": "markdown",
   "id": "9c4d8102-29a9-4630-8ac6-15de071c6a1f",
   "metadata": {},
   "source": [
    "# WBC Quality control figure for paper"
   ]
  },
  {
   "cell_type": "code",
   "execution_count": null,
   "id": "3b386f91-2043-4d43-9aa7-f74dba385d95",
   "metadata": {},
   "outputs": [],
   "source": [
    "from scip_workflows.common import *\n",
    ""
   ]
  },
  {
   "cell_type": "code",
   "execution_count": null,
   "id": "81cc8c49-d2e0-4a01-9c66-64423b304e38",
   "metadata": {},
   "outputs": [],
   "source": [
    "import matplotlib.gridspec as gridspec\n",
    "import zarr\n",
    "from matplotlib.colors import LinearSegmentedColormap, ListedColormap, Normalize\n",
    "\n",
    "from scip.masking import spot, threshold\n",
    "\n",
    "plt.rcParams[\"figure.dpi\"] = 200\n",
    ""
   ]
  },
  {
   "cell_type": "code",
   "execution_count": null,
   "id": "a457d8db",
   "metadata": {},
   "outputs": [],
   "source": [
    "try:\n",
    "    features = snakemake.input.features\n",
    "    index = snakemake.input.index\n",
    "    columns = snakemake.input.columns\n",
    "    images_parent = snakemake.config[\"images_parent\"]\n",
    "    output = snakemake.output[0]\n",
    "except NameError:\n",
    "    data_root = Path(\"/home/maximl/scratch/data/vsc/datasets/wbc/\")\n",
    "    # data_root = Path(os.environ[\"VSC_DATA_VO_USER\"]) / \"datasets/wbc\"\n",
    "    data = data_root / \"scip\" / \"20220713131400\"\n",
    "    features = data / \"features.parquet\"\n",
    "    index = data / \"indices/index.npy\"\n",
    "    columns = data / \"indices/columns.npy\"\n",
    "    images_parent = \"/home/maximl/scratch/data/vsc/datasets/wbc/images\"\n",
    "    output = data / \"figures\" / \"wbc_qc_masks.png\"\n",
    ""
   ]
  },
  {
   "cell_type": "code",
   "execution_count": null,
   "id": "ffbc6b1f-b419-4f22-a3a4-b2159e346c80",
   "metadata": {},
   "outputs": [],
   "source": [
    "df_scip = pq.read_table(features).to_pandas()\n",
    "\n",
    "df_scip = df_scip[numpy.load(columns, allow_pickle=True)]\n",
    "df_scip = df_scip.loc[numpy.load(index, allow_pickle=True)]\n",
    "df_scip.index = df_scip.index.set_levels([2, 3, 4], level=\"meta_group\")\n",
    "df_scip.shape\n",
    ""
   ]
  },
  {
   "cell_type": "code",
   "execution_count": null,
   "id": "191fdc4d-b888-42f1-8c48-87f01bd9b02f",
   "metadata": {},
   "outputs": [],
   "source": [
    "df_scip[\"meta_path\"] = df_scip[\"meta_path\"].apply(\n",
    "    lambda p: Path(images_parent).joinpath(*Path(p).parts[-2:])\n",
    ")\n",
    ""
   ]
  },
  {
   "cell_type": "code",
   "execution_count": null,
   "id": "111becbe-70e7-491d-b17c-7625be31c784",
   "metadata": {},
   "outputs": [],
   "source": [
    "channel_ind = [0, 8, 5]\n",
    "channel_names = [\"BF1\", \"BF2\", \"SSC\"]\n",
    "n = 15\n",
    ""
   ]
  },
  {
   "cell_type": "code",
   "execution_count": null,
   "id": "e6a0fca7-1152-4325-b129-69050648bd95",
   "metadata": {},
   "outputs": [],
   "source": [
    "sel1 = df_scip[\"feat_spot_area_SSC\"] < 100\n",
    "sel2 = df_scip[\"feat_spot_area_SSC\"] > 50\n",
    "\n",
    "spot_cells = df_scip[sel1 & sel2]\n",
    ""
   ]
  },
  {
   "cell_type": "code",
   "execution_count": null,
   "id": "dfefa8da-7a1e-43c9-896e-f664f9770101",
   "metadata": {},
   "outputs": [],
   "source": [
    "pixels = []\n",
    "masks = dict(threshold=[], spot=[])\n",
    "for i in range(n):\n",
    "    r = spot_cells.iloc[i]\n",
    "    print(r.meta_path, r.meta_zarr_idx)\n",
    "    z = zarr.open(r.meta_path, mode=\"r\")\n",
    "    pixels.append(\n",
    "        z[r.meta_zarr_idx].reshape(z.attrs[\"shape\"][r.meta_zarr_idx])[channel_ind]\n",
    "    )\n",
    "    masks[\"threshold\"].append(\n",
    "        threshold.get_mask(dict(pixels=pixels[-1]), 0, smooth=[0.5, 0, 0.5])[\"mask\"]\n",
    "    )\n",
    "    masks[\"spot\"].append(spot.get_mask(dict(pixels=pixels[-1]), 0, spotsize=5)[\"mask\"])\n",
    ""
   ]
  },
  {
   "cell_type": "code",
   "execution_count": null,
   "id": "54cb68d3-2628-4e84-acb6-f1e41c2c21c4",
   "metadata": {},
   "outputs": [],
   "source": [
    "# basec = plt.get_cmap(\"Reds\")(100)[:3]\n",
    "basec = (0, 0, 0)\n",
    "cm = LinearSegmentedColormap.from_list(\"test\", [basec + (0,), basec + (1,)], N=2)\n",
    ""
   ]
  },
  {
   "cell_type": "code",
   "execution_count": null,
   "id": "e69a5a6b-8fbe-4d5a-857f-ba20ea08cb43",
   "metadata": {},
   "outputs": [],
   "source": [
    "fig = plt.figure(dpi=200, figsize=(n * 0.5, len(channel_ind) * 1.7), tight_layout=True)\n",
    "grid = gridspec.GridSpec(2, 1, figure=fig)\n",
    "cmap = plt.get_cmap(\"viridis\")\n",
    "\n",
    "gs = {\n",
    "    k: grid[i, 0].subgridspec(len(channel_ind), n)\n",
    "    for i, (k, v) in enumerate(masks.items())\n",
    "}\n",
    "for k, v in masks.items():\n",
    "    for i, (mask, pixel) in enumerate(zip(v, pixels)):\n",
    "        if k == \"spot\":\n",
    "            mask = mask[[2]]\n",
    "            pixel = pixel[[2]]\n",
    "        for j, (m, p) in enumerate(zip(mask, pixel)):\n",
    "            ax = plt.Subplot(fig, gs[k][j, i])\n",
    "            ax.imshow(p)\n",
    "            ax.imshow(cm(~m), alpha=0.5)\n",
    "            ax.set_axis_off()\n",
    "            fig.add_subplot(ax)\n",
    "            if i == 0:\n",
    "                if k == \"spot\":\n",
    "                    ax.set_title(\n",
    "                        k.capitalize() + \" mask \" + channel_names[2],\n",
    "                        loc=\"left\",\n",
    "                        fontdict=dict(fontsize=9),\n",
    "                    )\n",
    "                else:\n",
    "                    ax.set_title(\n",
    "                        k.capitalize() + \" mask \" + channel_names[j],\n",
    "                        loc=\"left\",\n",
    "                        fontdict=dict(fontsize=9),\n",
    "                    )\n",
    "\n",
    "plt.savefig(output, bbox_inches=\"tight\")\n",
    ""
   ]
  },
  {
   "cell_type": "code",
   "execution_count": null,
   "id": "0678c4e7-bc2b-4d7e-808d-02e36e4cff7a",
   "metadata": {},
   "outputs": [],
   "source": []
  }
 ],
 "metadata": {
  "kernelspec": {
   "display_name": "Python 3 (ipykernel)",
   "language": "python",
   "name": "python3"
  },
  "language_info": {
   "codemirror_mode": {
    "name": "ipython",
    "version": 3
   },
   "file_extension": ".py",
   "mimetype": "text/x-python",
   "name": "python",
   "nbconvert_exporter": "python",
   "pygments_lexer": "ipython3",
   "version": "3.9.13"
  },
  "vscode": {
   "interpreter": {
    "hash": "6c19ec75b5216c81abf931859392d42d22f386772f224f44a894f50f6487f0f0"
   }
  }
 },
 "nbformat": 4,
 "nbformat_minor": 5
}
