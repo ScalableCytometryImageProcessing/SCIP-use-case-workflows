{
 "cells": [
  {
   "cell_type": "markdown",
   "id": "supported-construction",
   "metadata": {},
   "source": [
    "# Processing of SCIP features\n",
    "\n",
    "SCIP features have been computed on EhV data form the first large scale experiment, on files: H1_T7, H1_T8, H1_T9, H2_T7, H2_T8, H2_T9"
   ]
  },
  {
   "cell_type": "markdown",
   "id": "f219d671-6bd1-43d0-92f0-c7f946f90feb",
   "metadata": {
    "tags": []
   },
   "source": [
    "## Load raw split frame"
   ]
  },
  {
   "cell_type": "code",
   "execution_count": 1,
   "id": "overall-flooring",
   "metadata": {},
   "outputs": [],
   "source": [
    "%load_ext autoreload\n",
    "%autoreload 2"
   ]
  },
  {
   "cell_type": "code",
   "execution_count": 2,
   "id": "flush-assist",
   "metadata": {},
   "outputs": [],
   "source": [
    "from scip_workflows.common import *"
   ]
  },
  {
   "cell_type": "code",
   "execution_count": 3,
   "id": "expensive-study",
   "metadata": {},
   "outputs": [],
   "source": [
    "import pyarrow"
   ]
  },
  {
   "cell_type": "markdown",
   "id": "308e7fa5-e459-4a84-8d99-f633240a62e8",
   "metadata": {
    "tags": []
   },
   "source": [
    "## Load data"
   ]
  },
  {
   "cell_type": "code",
   "execution_count": 27,
   "id": "883b1676-8349-4a43-ad5d-e92a2b2298f5",
   "metadata": {},
   "outputs": [],
   "source": [
    "try:\n",
    "    population_dir = Path(snakemake.input.population_dir)\n",
    "    df = pq.read_table(snakemake.input.features).to_pandas()\n",
    "    output = snakemake.output[0]\n",
    "except NameError:\n",
    "    data_root = Path(\"/data/gent/vo/000/gvo00070/vsc42015/datasets/wbc/\")\n",
    "    data_root = Path(\"/home/maximl/scratch/data/vsc/datasets/wbc/\")\n",
    "    data_dir = data_root / \"scip\" / \"202204271347\"\n",
    "    population_dir = data_root / \"meta/\"\n",
    "    output = data_dir / \"labels.parquet\"\n",
    "    \n",
    "    df = pq.read_table(data_dir / \"features.parquet\").to_pandas()"
   ]
  },
  {
   "cell_type": "code",
   "execution_count": 28,
   "id": "e31437a8-f03e-4ae3-97d5-280b9bc6a97e",
   "metadata": {},
   "outputs": [],
   "source": [
    "cat_type = CategoricalDtype(\n",
    "    categories=sorted(df[\"meta_group\"].astype(int).unique()), ordered=True)\n",
    "df[\"meta_group\"] = df[\"meta_group\"].astype(int).astype(cat_type)\n",
    "\n",
    "cat_type = CategoricalDtype(\n",
    "    categories=sorted(df[\"meta_part\"].astype(int).unique()), ordered=True)\n",
    "df[\"meta_part\"] = df[\"meta_part\"].astype(int).astype(cat_type)\n",
    "\n",
    "df = df.set_index([\"meta_group\", \"meta_part\", \"meta_fix\", \"meta_object_number\"])"
   ]
  },
  {
   "cell_type": "code",
   "execution_count": 29,
   "id": "001f1983-e473-45f0-a810-24c3568b7335",
   "metadata": {},
   "outputs": [],
   "source": [
    "def find_nth(haystack, needle, n):\n",
    "    start = haystack.find(needle)\n",
    "    while start >= 0 and n > 1:\n",
    "        start = haystack.find(needle, start+len(needle))\n",
    "        n -= 1\n",
    "    return start\n",
    "\n",
    "pop_files = list(Path(population_dir).glob(\"*.pop\"))\n",
    "pops = {}\n",
    "for sample in df[\"meta_sample\"].unique():\n",
    "    pops[sample] = {}\n",
    "\n",
    "    for f in pop_files:\n",
    "        if f.name.startswith(sample):\n",
    "            pop_file = f\n",
    "            with open(pop_file, \"r\") as fh:\n",
    "                content = fh.read()\n",
    "                if len(content) > 0:\n",
    "                    indices = content[:-2].replace(\"\\n\", \"\").replace(\" \", \"\").strip().split(\",\")\n",
    "                    for idx in indices:\n",
    "                        if (\"early\" in pop_file.stem) or (\"late\" in pop_file.stem):\n",
    "                            pops[sample][int(idx)] = pop_file.stem[find_nth(pop_file.stem, \"_\", 3)+1:]\n",
    "                        else:\n",
    "                            pops[sample][int(idx)] = pop_file.stem[find_nth(pop_file.stem, \"_\", 2)+1:]"
   ]
  },
  {
   "cell_type": "code",
   "execution_count": 30,
   "id": "a4c53ea0-2abc-4ab7-900d-849411af0c00",
   "metadata": {},
   "outputs": [],
   "source": [
    "def map_to_class(x):\n",
    "    try:\n",
    "        s = pops[x.meta_sample]\n",
    "        return s[x.meta_object_number]\n",
    "    except:\n",
    "        return \"unknown\"\n",
    "\n",
    "labels = pandas.concat([df.index.to_frame(), df[\"meta_sample\"]], axis=1).apply(map_to_class, axis=1)\n",
    "labels.name = \"meta_label\""
   ]
  },
  {
   "cell_type": "code",
   "execution_count": 31,
   "id": "a1a18dba-fdc7-4c96-a772-82d33d107600",
   "metadata": {},
   "outputs": [
    {
     "data": {
      "text/plain": [
       "<AxesSubplot:xlabel='count', ylabel='meta_group'>"
      ]
     },
     "execution_count": 31,
     "metadata": {},
     "output_type": "execute_result"
    },
    {
     "data": {
      "image/png": "[encoded data removed]",
      "text/plain": [
       "<Figure size 600x400 with 1 Axes>"
      ]
     },
     "metadata": {
      "needs_background": "light"
     },
     "output_type": "display_data"
    }
   ],
   "source": [
    "fig, ax = plt.subplots(dpi=100)\n",
    "seaborn.countplot(ax=ax, data=labels.reset_index(), y=\"meta_group\", hue=\"meta_label\")"
   ]
  },
  {
   "cell_type": "code",
   "execution_count": 32,
   "id": "e1494579-56b6-45ae-bf17-23282b08ea05",
   "metadata": {},
   "outputs": [
    {
     "data": {
      "text/plain": [
       "CD15 + Neutrophils    163421\n",
       "CD4 T cells            39840\n",
       "unknown                18560\n",
       "CD8 T cell             17282\n",
       "CD19 pos B cells       10438\n",
       "CD56+ NK Cells          7744\n",
       "CD14+ Monocyte          6207\n",
       "NK T cells              5775\n",
       "Eosinophils             4783\n",
       "Name: meta_label, dtype: int64"
      ]
     },
     "execution_count": 32,
     "metadata": {},
     "output_type": "execute_result"
    }
   ],
   "source": [
    "labels.value_counts()"
   ]
  },
  {
   "cell_type": "code",
   "execution_count": 33,
   "id": "89cdcfc2-dd0b-412d-88c5-c918889e7a61",
   "metadata": {},
   "outputs": [
    {
     "data": {
      "text/plain": [
       "(274050, 2515)"
      ]
     },
     "execution_count": 33,
     "metadata": {},
     "output_type": "execute_result"
    }
   ],
   "source": [
    "df.shape"
   ]
  },
  {
   "cell_type": "code",
   "execution_count": 34,
   "id": "a36b48dd-d22c-47dc-94a1-3478435df488",
   "metadata": {},
   "outputs": [],
   "source": [
    "pq.write_table(pyarrow.Table.from_pandas(labels.astype('category').to_frame()), output)"
   ]
  },
  {
   "cell_type": "code",
   "execution_count": null,
   "id": "f772a74c-750e-4c4d-8bd3-d3c8546fe5b7",
   "metadata": {},
   "outputs": [],
   "source": []
  }
 ],
 "metadata": {
  "kernelspec": {
   "display_name": "Python 3.9.13 ('scip')",
   "language": "python",
   "name": "python3"
  },
  "language_info": {
   "codemirror_mode": {
    "name": "ipython",
    "version": 3
   },
   "file_extension": ".py",
   "mimetype": "text/x-python",
   "name": "python",
   "nbconvert_exporter": "python",
   "pygments_lexer": "ipython3",
   "version": "3.9.13"
  },
  "vscode": {
   "interpreter": {
    "hash": "6c19ec75b5216c81abf931859392d42d22f386772f224f44a894f50f6487f0f0"
   }
  }
 },
 "nbformat": 4,
 "nbformat_minor": 5
}
