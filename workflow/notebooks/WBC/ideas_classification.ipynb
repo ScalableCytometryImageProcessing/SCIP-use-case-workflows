{
 "cells": [
  {
   "cell_type": "markdown",
   "id": "8e598160-a595-48db-b2aa-9b3fb8bc76ea",
   "metadata": {},
   "source": [
    "# Label-free classification using IDEAS features"
   ]
  },
  {
   "cell_type": "code",
   "execution_count": null,
   "id": "fb62373f-ebfa-459e-8549-07a3e8250647",
   "metadata": {},
   "outputs": [],
   "source": [
    "%load_ext autoreload\n",
    "%autoreload 2"
   ]
  },
  {
   "cell_type": "code",
   "execution_count": null,
   "id": "6264d5e6-7208-43d8-bf9c-c95b1cb0c9e3",
   "metadata": {},
   "outputs": [],
   "source": [
    "from scip_workflows.common import *\n",
    ""
   ]
  },
  {
   "cell_type": "code",
   "execution_count": null,
   "id": "2d25561b-d2f1-44a9-8749-96349f33d63b",
   "metadata": {},
   "outputs": [],
   "source": [
    "import fcsparser\n",
    "import seaborn\n",
    "from imblearn.over_sampling import RandomOverSampler\n",
    "from imblearn.pipeline import make_pipeline\n",
    "from imblearn.under_sampling import RandomUnderSampler\n",
    "from scipy.stats import pearsonr, spearmanr\n",
    "from sklearn.metrics import ConfusionMatrixDisplay\n",
    "from sklearn.model_selection import StratifiedKFold, cross_validate\n",
    "from sklearn.preprocessing import LabelEncoder, scale\n",
    "from sklearn.tree import DecisionTreeClassifier\n",
    "from xgboost import XGBClassifier\n",
    "\n",
    "from scip_workflows import core\n",
    ""
   ]
  },
  {
   "cell_type": "code",
   "execution_count": null,
   "id": "af5195af-13a5-41b0-8816-d91112786817",
   "metadata": {},
   "outputs": [],
   "source": [
    "plt.rcParams[\"figure.dpi\"] = 200\n",
    ""
   ]
  },
  {
   "cell_type": "markdown",
   "id": "779632f5-a6a5-49ce-9691-4566c5ce7fe3",
   "metadata": {
    "tags": [],
    "toc-hr-collapsed": true
   },
   "source": [
    "# Data"
   ]
  },
  {
   "cell_type": "code",
   "execution_count": null,
   "id": "108c98ef-8ae7-4315-a030-e1677562a2d5",
   "metadata": {},
   "outputs": [],
   "source": [
    "try:\n",
    "    features = snakemake.input.features\n",
    "    labels = snakemake.input.labels\n",
    "    hpo_cyto = snakemake.input.hpo_cyto\n",
    "    output_confmat = snakemake.output.confmat\n",
    "    output_metrics = snakemake.output.metrics\n",
    "except NameError:\n",
    "    data_dir = Path(\"/home/maximl/scratch/data/vsc/datasets/wbc/ideas/\")\n",
    "    features = data_dir / \"WBC_ideas_features.parquet\"\n",
    "    labels = data_dir / \"labels.parquet\"\n",
    "    hpo_cyto = data_dir / \"hpo\" / \"WBC_rsh_ideas_cyto_li_xgboost.pickle\"\n",
    "    output_confmat = data_dir / \"figures\" / \"WBC_ideas_cv_confmat.png\"\n",
    "    output_metrics = data_dir / \"figures\" / \"WBC_ideas_cv_metrics.png\"\n",
    ""
   ]
  },
  {
   "cell_type": "code",
   "execution_count": null,
   "id": "5eb9b86c-82e8-4405-b776-99e94d06f231",
   "metadata": {},
   "outputs": [],
   "source": [
    "df = pq.read_table(features).to_pandas()\n",
    "labels = pq.read_table(labels).to_pandas()\n",
    "df = df.merge(labels, left_index=True, right_index=True)\n",
    ""
   ]
  },
  {
   "cell_type": "code",
   "execution_count": null,
   "id": "17987b40-5c03-46d2-9452-21d3aaa065fe",
   "metadata": {},
   "outputs": [],
   "source": [
    "r = r\"(?i).*(uncompensated|bkgd|saturation|\\().*\"\n",
    "todrop = list(filter(lambda x: re.match(r, x), df.columns))\n",
    "df = df.drop(columns=todrop)\n",
    "df.shape\n",
    ""
   ]
  },
  {
   "cell_type": "markdown",
   "id": "04b659e4-a9e7-44a8-9e62-9c25814e584b",
   "metadata": {},
   "source": [
    "# HPO results"
   ]
  },
  {
   "cell_type": "code",
   "execution_count": null,
   "id": "1debc65c-6406-431f-82c4-ad3208146832",
   "metadata": {},
   "outputs": [],
   "source": [
    "with open(hpo_cyto, \"rb\") as fh:\n",
    "    grid = pickle.load(fh)\n",
    ""
   ]
  },
  {
   "cell_type": "code",
   "execution_count": null,
   "id": "1f3ac23f-2c4e-4471-8f3c-2a57d4dca7b5",
   "metadata": {},
   "outputs": [],
   "source": [
    "grid[\"test_balanced_accuracy\"].mean(), scipy.stats.sem(grid[\"test_balanced_accuracy\"])\n",
    ""
   ]
  },
  {
   "cell_type": "code",
   "execution_count": null,
   "id": "84b22554-87e9-4707-a1eb-86a692e46ae4",
   "metadata": {},
   "outputs": [],
   "source": [
    "grid[\"test_balanced_accuracy\"], grid[\"train_balanced_accuracy\"]\n",
    ""
   ]
  },
  {
   "cell_type": "markdown",
   "id": "488197bb-9b97-4e63-a8c3-ad7b7098e778",
   "metadata": {},
   "source": [
    "# Classification"
   ]
  },
  {
   "cell_type": "code",
   "execution_count": null,
   "id": "a210aab5-6adc-45c3-886e-c0e34172eb56",
   "metadata": {},
   "outputs": [],
   "source": [
    "enc = LabelEncoder().fit(df[\"meta_label\"])\n",
    "y = enc.transform(df[\"meta_label\"])\n",
    ""
   ]
  },
  {
   "cell_type": "code",
   "execution_count": null,
   "id": "ac0d4462-e151-4fb1-a3da-32869348508e",
   "metadata": {},
   "outputs": [],
   "source": [
    "X = (\n",
    "    df.filter(regex=\"(bf420nm480nm|bf570nm595nm|m01|m06|m09|ssc)$\")\n",
    "    .drop(2, level=\"meta_group\")\n",
    "    .drop(\"late\", level=\"meta_fix\")\n",
    ")\n",
    "\n",
    "y = enc.transform(\n",
    "    df.drop(2, level=\"meta_group\").drop(\"late\", level=\"meta_fix\")[\"meta_label\"]\n",
    ")\n",
    "preds = []\n",
    "true = []\n",
    "\n",
    "skf = StratifiedKFold(n_splits=5, random_state=0, shuffle=True)\n",
    "for estimator, (_, test_index) in zip(grid[\"estimator\"], skf.split(X, y)):\n",
    "    X_test, y_test = X.iloc[test_index], y[test_index]\n",
    "    preds.extend(estimator.predict(X_test))\n",
    "    true.extend(y_test)\n",
    "\n",
    "fig, ax = plt.subplots()\n",
    "ConfusionMatrixDisplay.from_predictions(\n",
    "    true,\n",
    "    preds,\n",
    "    labels=[3, 5, 4, 7, 2, 0, 1, 6],\n",
    "    display_labels=enc.classes_[[3, 5, 4, 7, 2, 0, 1, 6]],\n",
    "    normalize=\"true\",\n",
    "    xticks_rotation=\"vertical\",\n",
    "    values_format=\".2f\",\n",
    "    ax=ax,\n",
    ")\n",
    "plt.savefig(output_confmat, bbox_inches=\"tight\")\n",
    ""
   ]
  },
  {
   "cell_type": "code",
   "execution_count": null,
   "id": "6c834f6c-ac01-4f9b-8fe2-764056598160",
   "metadata": {},
   "outputs": [],
   "source": []
  }
 ],
 "metadata": {
  "kernelspec": {
   "display_name": "Python 3 (ipykernel)",
   "language": "python",
   "name": "python3"
  },
  "language_info": {
   "codemirror_mode": {
    "name": "ipython",
    "version": 3
   },
   "file_extension": ".py",
   "mimetype": "text/x-python",
   "name": "python",
   "nbconvert_exporter": "python",
   "pygments_lexer": "ipython3",
   "version": "3.9.13"
  },
  "vscode": {
   "interpreter": {
    "hash": "6c19ec75b5216c81abf931859392d42d22f386772f224f44a894f50f6487f0f0"
   }
  }
 },
 "nbformat": 4,
 "nbformat_minor": 5
}
