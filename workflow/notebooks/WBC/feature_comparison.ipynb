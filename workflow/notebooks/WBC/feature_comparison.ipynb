{
 "cells": [
  {
   "cell_type": "markdown",
   "id": "219fc20f-c034-45a3-a20a-b02e2887631c",
   "metadata": {},
   "source": [
    "# Feature comparison between IDEAS, CP and SCIP features\n",
    "\n",
    "In this notebook, we will compare feature sets generated using IDEAS, CellProfiler and SCIP. "
   ]
  },
  {
   "cell_type": "code",
   "execution_count": null,
   "id": "9dd66ad6-58cd-4fd7-945e-84a813a47a42",
   "metadata": {},
   "outputs": [],
   "source": [
    "%load_ext autoreload\n",
    "%autoreload 2"
   ]
  },
  {
   "cell_type": "code",
   "execution_count": null,
   "id": "4db79560-c5cd-4747-a84f-eb9d713c5fff",
   "metadata": {},
   "outputs": [],
   "source": [
    "from scip_workflows.common import *\n",
    ""
   ]
  },
  {
   "cell_type": "code",
   "execution_count": null,
   "id": "656ad41d-5c37-44b0-8318-7a780dd48fc7",
   "metadata": {},
   "outputs": [],
   "source": [
    "import seaborn\n",
    "from scipy.stats import pearsonr, spearmanr\n",
    "from sklearn.preprocessing import scale\n",
    "\n",
    "from scip_workflows import core\n",
    ""
   ]
  },
  {
   "cell_type": "markdown",
   "id": "457859e7-fc57-4646-9bbc-3bbf8ade7966",
   "metadata": {
    "tags": [],
    "toc-hr-collapsed": true
   },
   "source": [
    "## Loading IDEAS and SCIP feature sets"
   ]
  },
  {
   "cell_type": "code",
   "execution_count": null,
   "id": "53e39081",
   "metadata": {},
   "outputs": [],
   "source": [
    "try:\n",
    "    features = snakemake.input.features\n",
    "    index = snakemake.input.index\n",
    "    columns = snakemake.input.columns\n",
    "    ideas = snakemake.input.ideas\n",
    "    labels = snakemake.input.labels\n",
    "except NameError:\n",
    "    data_root = Path(\"/home/maximl/scratch/data/vsc/datasets/wbc/\")\n",
    "    # data_root = Path(os.environ[\"VSC_DATA_VO_USER\"]) / \"datasets/wbc\"\n",
    "    data_scip = data_root / \"scip/131020222139/\"\n",
    "    features = data_scip / \"WBC_features.parquet\"\n",
    "    labels = data_scip / \"labels.parquet\"\n",
    "    index = data_scip / \"indices/index.npy\"\n",
    "    columns = data_scip / \"indices/columns.npy\"\n",
    "    ideas = data_root / \"ideas\" / \"WBC_ideas_features.parquet\"\n",
    ""
   ]
  },
  {
   "cell_type": "code",
   "execution_count": null,
   "id": "377ceae7-1623-4d1f-812a-4a35fc040735",
   "metadata": {},
   "outputs": [],
   "source": [
    "df_scip = pq.read_table(features).to_pandas()\n",
    "\n",
    "df_scip = df_scip[numpy.load(columns, allow_pickle=True)]\n",
    "df_scip = df_scip.loc[numpy.load(index, allow_pickle=True)]\n",
    "\n",
    "labels = pq.read_table(labels).to_pandas()\n",
    "df_scip = df_scip.merge(labels, left_index=True, right_index=True)\n",
    "# df_scip[\"meta_label\"] = pandas.Categorical(df_scip[\"meta_label\"], ordered=True)\n",
    "\n",
    "df_scip.shape\n",
    ""
   ]
  },
  {
   "cell_type": "code",
   "execution_count": null,
   "id": "8cd34142-4c28-4752-99cd-4c69cb0129cf",
   "metadata": {},
   "outputs": [],
   "source": [
    "df_ideas = pq.read_table(ideas).to_pandas()\n",
    ""
   ]
  },
  {
   "cell_type": "markdown",
   "id": "f2f120df-2eb3-4fd2-af25-a6183e1a8937",
   "metadata": {},
   "source": [
    "# Comparing features between IDEAS and SCIP"
   ]
  },
  {
   "cell_type": "code",
   "execution_count": null,
   "id": "75396e94-e97a-4835-aa11-2699da8c315f",
   "metadata": {},
   "outputs": [],
   "source": [
    "df_joined = df_scip.rename(columns=lambda a: \"scip_\" + a).join(\n",
    "    df_ideas.rename(columns=lambda a: \"ideas_\" + a), how=\"inner\"\n",
    ")\n",
    "df_joined.shape\n",
    ""
   ]
  },
  {
   "cell_type": "code",
   "execution_count": null,
   "id": "60dbe41f-19ea-4d7b-b98a-5933730c7bb5",
   "metadata": {},
   "outputs": [],
   "source": [
    "def rename(c):\n",
    "    if c.startswith(\"scip_meta\"):\n",
    "        return \"meta_\" + c[10:]\n",
    "    return c\n",
    "\n",
    "\n",
    "df_joined = df_joined.rename(columns=rename)\n",
    ""
   ]
  },
  {
   "cell_type": "code",
   "execution_count": null,
   "id": "ca704469-87e4-4115-99ce-34a2781d67df",
   "metadata": {},
   "outputs": [],
   "source": [
    "def compare_features(df, x1, x2):\n",
    "    fig, ax = plt.subplots(dpi=150)\n",
    "    ax.set_xlabel(x1)\n",
    "    ax.set_ylabel(x2)\n",
    "    sorted_index = df[x1].sort_values().index\n",
    "    z1 = df[x1]\n",
    "    z2 = df[x2]\n",
    "\n",
    "    # sorted_index = numpy.argsort(z1)\n",
    "    # z = numpy.polyfit(z1, z2, 1)\n",
    "    # y_hat = numpy.poly1d(z)(z1[sorted_index])\n",
    "    # ax.plot(z1[sorted_index], y_hat, \"--\", lw=0.5, color=\"grey\")\n",
    "    ax.scatter(\n",
    "        z1.loc[sorted_index], z2.loc[sorted_index], s=0.5, alpha=0.5, edgecolors=\"none\"\n",
    "    )\n",
    "    # ax.set_title(r'pearson = %.4f, spearman = %.4f' % (pearsonr(z1,z2)[0], spearmanr(z1,z2)[0]))\n",
    "\n",
    "    return ax\n",
    ""
   ]
  },
  {
   "cell_type": "markdown",
   "id": "745bef1f-25a1-4e36-afb6-db0374d9b98c",
   "metadata": {
    "tags": []
   },
   "source": [
    "### Texture"
   ]
  },
  {
   "cell_type": "code",
   "execution_count": null,
   "id": "14283b31-e551-4462-ba31-c5cccb45f901",
   "metadata": {},
   "outputs": [],
   "source": [
    "compare_features(\n",
    "    df_joined,\n",
    "    \"ideas_feat_hcontrastmeanm06ssc5\",\n",
    "    \"scip_feat_li_glcm_mean_homogeneity_5_SSC\",\n",
    ")\n",
    ""
   ]
  },
  {
   "cell_type": "markdown",
   "id": "1a383b25-99ca-490a-b80f-3faa0144a321",
   "metadata": {
    "tags": []
   },
   "source": [
    "### Shape"
   ]
  },
  {
   "cell_type": "code",
   "execution_count": null,
   "id": "3153ead0-1229-4630-9acd-4180f7f94896",
   "metadata": {},
   "outputs": [],
   "source": [
    "compare_features(\n",
    "    df_joined, \"ideas_feat_circularitym01\", \"scip_feat_li_eccentricity_BF1\"\n",
    ")\n",
    ""
   ]
  },
  {
   "cell_type": "code",
   "execution_count": null,
   "id": "e5480f30-c80c-40a6-9db5-5158e115d7e9",
   "metadata": {},
   "outputs": [],
   "source": [
    "compare_features(\n",
    "    df_joined, \"ideas_feat_majoraxism01\", \"scip_feat_li_major_axis_length_BF1\"\n",
    ")\n",
    ""
   ]
  },
  {
   "cell_type": "code",
   "execution_count": null,
   "id": "c9d6bb12-14f5-4ea1-b5ee-cdf7f65af3fb",
   "metadata": {},
   "outputs": [],
   "source": [
    "compare_features(df_joined, \"ideas_feat_aream01\", \"scip_feat_li_area_BF1\")\n",
    ""
   ]
  },
  {
   "cell_type": "code",
   "execution_count": null,
   "id": "7ddeebbf-2d35-4568-8f5d-b5f43f04f154",
   "metadata": {},
   "outputs": [],
   "source": [
    "compare_features(df_joined, \"ideas_feat_aream02\", \"scip_feat_li_area_CD15\")\n",
    ""
   ]
  },
  {
   "cell_type": "code",
   "execution_count": null,
   "id": "692b83b2-40cf-466d-b741-f4a640c5213d",
   "metadata": {},
   "outputs": [],
   "source": [
    "compare_features(df_joined, \"ideas_feat_aream03\", \"scip_feat_li_area_Siglec8\")\n",
    ""
   ]
  },
  {
   "cell_type": "code",
   "execution_count": null,
   "id": "ef2b1fa6-331a-4204-9976-41343c0dab19",
   "metadata": {},
   "outputs": [],
   "source": [
    "compare_features(df_joined, \"ideas_feat_perimeterm01\", \"scip_feat_li_perimeter_BF1\")\n",
    ""
   ]
  },
  {
   "cell_type": "code",
   "execution_count": null,
   "id": "cd51dab7-4c78-47cf-b73d-4357bd068907",
   "metadata": {},
   "outputs": [],
   "source": [
    "compare_features(\n",
    "    df_joined, \"ideas_feat_majoraxism06\", \"scip_feat_li_major_axis_length_SSC\"\n",
    ")\n",
    ""
   ]
  },
  {
   "cell_type": "code",
   "execution_count": null,
   "id": "2f7da81c-d4c0-44fd-979a-dad47367a1a8",
   "metadata": {},
   "outputs": [],
   "source": [
    "compare_features(\n",
    "    df_joined, \"ideas_feat_perimeterm01\", \"scip_feat_li_perimeter_crofton_BF1\"\n",
    ")\n",
    ""
   ]
  },
  {
   "cell_type": "code",
   "execution_count": null,
   "id": "d58b45ff-12b3-41f3-8d6b-49f19795f6d5",
   "metadata": {},
   "outputs": [],
   "source": [
    "compare_features(df_joined, \"ideas_feat_aream07\", \"scip_feat_li_area_CD3\")\n",
    ""
   ]
  },
  {
   "cell_type": "markdown",
   "id": "600a4a22-28d7-48fd-aa21-1f8080c7a93c",
   "metadata": {},
   "source": [
    "### Intensity features"
   ]
  },
  {
   "cell_type": "code",
   "execution_count": null,
   "id": "773dfeef-bd0f-4a16-97c5-a9d6b012ad0e",
   "metadata": {},
   "outputs": [],
   "source": [
    "compare_features(df_joined, \"ideas_feat_rawintensitym06ssc\", \"scip_feat_li_sum_SSC\")\n",
    ""
   ]
  },
  {
   "cell_type": "code",
   "execution_count": null,
   "id": "1229a6df-54af-4abc-a0b6-63e93c395041",
   "metadata": {},
   "outputs": [],
   "source": [
    "compare_features(\n",
    "    df_joined, \"ideas_feat_intensitym01bf420nm480nm\", \"scip_feat_li_bgcorr_sum_BF1\"\n",
    ")\n",
    ""
   ]
  },
  {
   "cell_type": "code",
   "execution_count": null,
   "id": "ddb69ef7-04dc-4674-b9ff-4acc75d8e231",
   "metadata": {},
   "outputs": [],
   "source": [
    "compare_features(\n",
    "    df_joined, \"ideas_feat_rawintensitym01bf420nm480nm\", \"scip_feat_li_sum_BF1\"\n",
    ")\n",
    ""
   ]
  },
  {
   "cell_type": "code",
   "execution_count": null,
   "id": "32d3a236-e022-449d-9029-8eea49db036b",
   "metadata": {},
   "outputs": [],
   "source": [
    "compare_features(\n",
    "    df_joined, \"ideas_feat_intensitymccd15fitc\", \"scip_feat_li_combined_bgcorr_sum_CD15\"\n",
    ")\n",
    ""
   ]
  },
  {
   "cell_type": "code",
   "execution_count": null,
   "id": "b0e8ccf9-5efc-46c4-823f-5ff8c92913c9",
   "metadata": {},
   "outputs": [],
   "source": [
    "compare_features(\n",
    "    df_joined, \"ideas_feat_intensitymccd3bv421\", \"scip_feat_li_combined_bgcorr_sum_CD3\"\n",
    ")\n",
    ""
   ]
  },
  {
   "cell_type": "code",
   "execution_count": null,
   "id": "7c6940d7-64fb-456d-b6dc-7e8b2fddc954",
   "metadata": {},
   "outputs": [],
   "source": []
  }
 ],
 "metadata": {
  "kernelspec": {
   "display_name": "Python 3 (ipykernel)",
   "language": "python",
   "name": "python3"
  },
  "language_info": {
   "codemirror_mode": {
    "name": "ipython",
    "version": 3
   },
   "file_extension": ".py",
   "mimetype": "text/x-python",
   "name": "python",
   "nbconvert_exporter": "python",
   "pygments_lexer": "ipython3",
   "version": "3.9.13"
  },
  "vscode": {
   "interpreter": {
    "hash": "6c19ec75b5216c81abf931859392d42d22f386772f224f44a894f50f6487f0f0"
   }
  }
 },
 "nbformat": 4,
 "nbformat_minor": 5
}
