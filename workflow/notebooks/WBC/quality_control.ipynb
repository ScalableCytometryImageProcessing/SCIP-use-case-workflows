{
 "cells": [
  {
   "cell_type": "markdown",
   "id": "a513a0ba-52ec-4a77-bbfe-78b85322b5d6",
   "metadata": {},
   "source": [
    "# WBC Quality control"
   ]
  },
  {
   "cell_type": "code",
   "execution_count": null,
   "id": "4daf8d22-8bb9-41af-935f-8c4f22684dbc",
   "metadata": {},
   "outputs": [],
   "source": [
    "%load_ext autoreload\n",
    "%autoreload 2"
   ]
  },
  {
   "cell_type": "code",
   "execution_count": null,
   "id": "ea679861-657e-4288-b49f-c564f47a8b57",
   "metadata": {},
   "outputs": [],
   "source": [
    "from scip_workflows.common import *\n",
    "from scip_workflows.core import plot_gate_zarr, plot_gate_zarr_channels\n",
    ""
   ]
  },
  {
   "cell_type": "code",
   "execution_count": null,
   "id": "28b28ef8-0fbb-4d40-808c-ac6009874e5e",
   "metadata": {},
   "outputs": [],
   "source": [
    "import zarr\n",
    "from scip.features import texture\n",
    ""
   ]
  },
  {
   "cell_type": "markdown",
   "id": "aa8f8632-c3db-4efb-9291-502ebd996b3d",
   "metadata": {
    "tags": []
   },
   "source": [
    "## Load processed frame"
   ]
  },
  {
   "cell_type": "code",
   "execution_count": null,
   "id": "7f628018-e9bc-4d90-8add-e1e051cdd0ea",
   "metadata": {},
   "outputs": [],
   "source": [
    "try:\n",
    "    df = pq.read_table(snakemake.input[0]).to_pandas()\n",
    "\n",
    "    if \"image_root\" in snakemake.config:\n",
    "        image_root = Path(snakemake.config[\"image_root\"])\n",
    "        df[\"meta_path\"] = df[\"meta_path\"].apply(\n",
    "            lambda p: image_root.joinpath(\n",
    "                *Path(p).parts[Path(p).parts.index(\"images\") + 1 :]\n",
    "            )\n",
    "        )\n",
    "\n",
    "    output_index = snakemake.output.index\n",
    "    output_cols = snakemake.output.columns\n",
    "except NameError:\n",
    "    # data_dir = Path(\"/data/gent/vo/000/gvo00070/vsc42015/datasets/wbc/scip/20220713131400/\")\n",
    "    data_dir = Path(\"/home/maximl/scratch/data/vsc/datasets/wbc/scip/131020222139/\")\n",
    "    df = pq.read_table(data_dir / \"features.parquet\").to_pandas()\n",
    "\n",
    "    image_root = Path(\"/home/maximl/scratch/data/vsc/datasets/wbc/images/\")\n",
    "    df[\"meta_path\"] = df[\"meta_path\"].apply(\n",
    "        lambda p: image_root.joinpath(\n",
    "            *Path(p).parts[Path(p).parts.index(\"images\") + 1 :]\n",
    "        )\n",
    "    )\n",
    "\n",
    "    output_index = data_dir / \"indices/index.npy\"\n",
    "    output_cols = data_dir / \"indices/columns.npy\"\n",
    ""
   ]
  },
  {
   "cell_type": "markdown",
   "id": "0a7cd59a-0300-4704-bf34-99373ace16cd",
   "metadata": {
    "tags": []
   },
   "source": [
    "# Filter on number of regions"
   ]
  },
  {
   "cell_type": "code",
   "execution_count": null,
   "id": "a4480847-8dc7-4ae7-a4ae-86602a5383d6",
   "metadata": {},
   "outputs": [],
   "source": [
    "sel = (\n",
    "    (df[\"meta_li_regions_BF1\"] == 1)\n",
    "    & (df[\"meta_li_regions_BF2\"] == 1)\n",
    "    & (df[\"meta_li_regions_SSC\"] >= 1)\n",
    ")\n",
    ""
   ]
  },
  {
   "cell_type": "code",
   "execution_count": null,
   "id": "4faa7fce-2aa2-4cfd-9e3b-3ac9de446985",
   "metadata": {},
   "outputs": [],
   "source": [
    "df = df[sel]\n",
    "df.shape\n",
    ""
   ]
  },
  {
   "cell_type": "markdown",
   "id": "f8236b57",
   "metadata": {},
   "source": [
    "# NaN values"
   ]
  },
  {
   "cell_type": "code",
   "execution_count": null,
   "id": "2de2b744",
   "metadata": {},
   "outputs": [],
   "source": [
    "# show all NaN columns\n",
    "df.columns[df.isna().all(axis=0)]\n",
    ""
   ]
  },
  {
   "cell_type": "markdown",
   "id": "56422ae6-87eb-4e04-a89e-e2f38a6a95cd",
   "metadata": {
    "tags": []
   },
   "source": [
    "# Detecting multiplets that are missed during segmentation"
   ]
  },
  {
   "cell_type": "code",
   "execution_count": null,
   "id": "6c18b91b-27c3-4588-954f-65abc1192497",
   "metadata": {},
   "outputs": [],
   "source": [
    "feat_majorminor_ratio = (\n",
    "    df[\"feat_li_major_axis_length_BF1\"] / df[\"feat_li_minor_axis_length_BF1\"]\n",
    ")\n",
    "ax = seaborn.displot(data=feat_majorminor_ratio)\n",
    ""
   ]
  },
  {
   "cell_type": "code",
   "execution_count": null,
   "id": "c7bde79d-04f6-42a2-b43b-42b9956abf86",
   "metadata": {},
   "outputs": [],
   "source": [
    "sel1 = feat_majorminor_ratio > 2\n",
    "plot_gate_zarr(sel1, df, \"li\")\n",
    ""
   ]
  },
  {
   "cell_type": "code",
   "execution_count": null,
   "id": "bfbdd1dc-7d00-41eb-b520-aaa8e9707509",
   "metadata": {},
   "outputs": [],
   "source": [
    "df = df[~sel1]\n",
    "df.shape\n",
    ""
   ]
  },
  {
   "cell_type": "code",
   "execution_count": null,
   "id": "dbaee8a1-c1ff-4007-91da-425482de84d8",
   "metadata": {},
   "outputs": [],
   "source": [
    "seaborn.displot(data=df[\"feat_li_area_BF1\"] - df[\"feat_li_convex_area_BF1\"], bins=100)\n",
    ""
   ]
  },
  {
   "cell_type": "code",
   "execution_count": null,
   "id": "e9822569-aaf4-49b6-ae7f-1f16049e7a9f",
   "metadata": {},
   "outputs": [],
   "source": [
    "sel1 = (df[\"feat_li_area_BF1\"] - df[\"feat_li_convex_area_BF1\"]) < -200\n",
    "plot_gate_zarr(sel1, df, \"li\", maxn=20)\n",
    ""
   ]
  },
  {
   "cell_type": "code",
   "execution_count": null,
   "id": "65f3b869-4a0d-473f-aa18-e027da81c90d",
   "metadata": {},
   "outputs": [],
   "source": [
    "df = df[~sel1]\n",
    "df.shape\n",
    ""
   ]
  },
  {
   "cell_type": "code",
   "execution_count": null,
   "id": "3ed13e17-858b-419f-8c58-0eeb067465d5",
   "metadata": {},
   "outputs": [],
   "source": [
    "plt.hist(df[\"feat_li_eccentricity_BF1\"], bins=100)\n",
    ""
   ]
  },
  {
   "cell_type": "code",
   "execution_count": null,
   "id": "011a3151-49bb-4e35-a7e5-f7983f8894fc",
   "metadata": {},
   "outputs": [],
   "source": [
    "sel1 = df[\"feat_li_eccentricity_BF1\"] > 0.75\n",
    "plot_gate_zarr(sel1, df, \"li\", maxn=50)\n",
    ""
   ]
  },
  {
   "cell_type": "code",
   "execution_count": null,
   "id": "cb044007-1094-4f38-9ccb-7d74a8509fc4",
   "metadata": {},
   "outputs": [],
   "source": [
    "df = df[~sel1]\n",
    "df.shape\n",
    ""
   ]
  },
  {
   "cell_type": "markdown",
   "id": "7106afc6-866c-4874-bd44-b563b139ec2d",
   "metadata": {},
   "source": [
    "# Identifying zero-variance features"
   ]
  },
  {
   "cell_type": "code",
   "execution_count": null,
   "id": "02197dc1-80aa-462c-b419-61562fea6156",
   "metadata": {},
   "outputs": [],
   "source": [
    "low_var = df.filter(regex=\"feat\").columns[df.filter(regex=\"feat\").var() < 0.001]\n",
    ""
   ]
  },
  {
   "cell_type": "code",
   "execution_count": null,
   "id": "3dce85d3-566d-412d-8939-e7a55103dc96",
   "metadata": {},
   "outputs": [],
   "source": [
    "len(low_var)\n",
    ""
   ]
  },
  {
   "cell_type": "code",
   "execution_count": null,
   "id": "a73ee0f3-525c-4f26-9ac7-56f22047e15e",
   "metadata": {},
   "outputs": [],
   "source": [
    "df = df.drop(columns=low_var)\n",
    ""
   ]
  },
  {
   "cell_type": "markdown",
   "id": "5931215c-086c-48f3-8ab2-5bc63fcf797c",
   "metadata": {},
   "source": [
    "# Export"
   ]
  },
  {
   "cell_type": "code",
   "execution_count": null,
   "id": "9c08c6af-4b5b-4af8-9ff7-39a93b9a9d4c",
   "metadata": {},
   "outputs": [],
   "source": [
    "numpy.save(output_index, df.index.values)\n",
    ""
   ]
  },
  {
   "cell_type": "code",
   "execution_count": null,
   "id": "446fc54f-a4cb-4440-bff6-7de63df91989",
   "metadata": {},
   "outputs": [],
   "source": [
    "numpy.save(output_cols, df.columns.values)\n",
    ""
   ]
  },
  {
   "cell_type": "code",
   "execution_count": null,
   "id": "b8d42cf0",
   "metadata": {},
   "outputs": [],
   "source": []
  }
 ],
 "metadata": {
  "kernelspec": {
   "display_name": "Python 3 (ipykernel)",
   "language": "python",
   "name": "python3"
  },
  "language_info": {
   "codemirror_mode": {
    "name": "ipython",
    "version": 3
   },
   "file_extension": ".py",
   "mimetype": "text/x-python",
   "name": "python",
   "nbconvert_exporter": "python",
   "pygments_lexer": "ipython3",
   "version": "3.9.13"
  },
  "vscode": {
   "interpreter": {
    "hash": "6c19ec75b5216c81abf931859392d42d22f386772f224f44a894f50f6487f0f0"
   }
  }
 },
 "nbformat": 4,
 "nbformat_minor": 5
}
