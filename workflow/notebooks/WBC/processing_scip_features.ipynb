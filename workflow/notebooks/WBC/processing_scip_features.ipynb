{
 "cells": [
  {
   "cell_type": "markdown",
   "id": "supported-construction",
   "metadata": {},
   "source": [
    "# Processing of SCIP features\n",
    "\n",
    "SCIP features have been computed on EhV data form the first large scale experiment, on files: H1_T7, H1_T8, H1_T9, H2_T7, H2_T8, H2_T9"
   ]
  },
  {
   "cell_type": "markdown",
   "id": "f219d671-6bd1-43d0-92f0-c7f946f90feb",
   "metadata": {
    "tags": []
   },
   "source": [
    "## Load raw split frame"
   ]
  },
  {
   "cell_type": "code",
   "execution_count": 1,
   "id": "overall-flooring",
   "metadata": {},
   "outputs": [],
   "source": [
    "%load_ext autoreload\n",
    "%autoreload 2"
   ]
  },
  {
   "cell_type": "code",
   "execution_count": 2,
   "id": "flush-assist",
   "metadata": {},
   "outputs": [],
   "source": [
    "from scip_workflows.common import *"
   ]
  },
  {
   "cell_type": "code",
   "execution_count": 3,
   "id": "expensive-study",
   "metadata": {},
   "outputs": [],
   "source": [
    "import pyarrow"
   ]
  },
  {
   "cell_type": "markdown",
   "id": "308e7fa5-e459-4a84-8d99-f633240a62e8",
   "metadata": {
    "tags": []
   },
   "source": [
    "## Load data"
   ]
  },
  {
   "cell_type": "code",
   "execution_count": 4,
   "id": "883b1676-8349-4a43-ad5d-e92a2b2298f5",
   "metadata": {},
   "outputs": [],
   "source": [
    "try:\n",
    "    paths = snakemake.input\n",
    "    output = snakemake.output[0]\n",
    "except NameError:\n",
    "    data_root = Path(\"/data/gent/vo/000/gvo00070/vsc42015/datasets/wbc/\")\n",
    "    data_root = Path(\"/home/maximl/scratch/data/vsc/datasets/wbc/\")\n",
    "    data_dir = data_root / \"scip\" / \"131020222139\"\n",
    "    output = data_dir / \"features.parquet\"\n",
    "    paths = data_dir.glob(\"*.*.parquet\")"
   ]
  },
  {
   "cell_type": "code",
   "execution_count": 5,
   "id": "502cedfc-b74f-4f07-9550-62968afb051c",
   "metadata": {},
   "outputs": [],
   "source": [
    "df = pandas.concat([\n",
    "    pq.read_table(p).to_pandas()\n",
    "    for p in paths\n",
    "], axis=0)"
   ]
  },
  {
   "cell_type": "code",
   "execution_count": 9,
   "id": "f51bf60e-2f46-424f-b794-92d7c7e3670c",
   "metadata": {},
   "outputs": [],
   "source": [
    "cat_type = CategoricalDtype(categories=sorted(df[\"meta_group\"].astype(int).unique()), ordered=True)\n",
    "df[\"meta_group\"] = df[\"meta_group\"].astype(int).astype(cat_type)\n",
    "cat_type = CategoricalDtype(categories=sorted(df[\"meta_part\"].astype(int).unique()), ordered=True)\n",
    "df[\"meta_part\"] = df[\"meta_part\"].astype(int).astype(cat_type)\n",
    "\n",
    "df = df.set_index([\"meta_group\", \"meta_part\", \"meta_fix\", \"meta_object_number\"])"
   ]
  },
  {
   "cell_type": "code",
   "execution_count": 10,
   "id": "01a23640-6c30-4fce-b174-b5755df403c1",
   "metadata": {},
   "outputs": [],
   "source": [
    "def map_to_name(r):\n",
    "    return \"wbc{group}_{part}{fix}\".format(group=int(r.meta_group)+2, part=r.meta_part, fix=\"\" if r.meta_fix is numpy.nan else \"_\"+r.meta_fix)\n",
    "df[\"meta_sample\"] = df.index.to_frame().apply(map_to_name, axis=1)"
   ]
  },
  {
   "cell_type": "code",
   "execution_count": 11,
   "id": "ac3a1c1c-915f-4047-a588-d10e26e77f1c",
   "metadata": {},
   "outputs": [
    {
     "data": {
      "text/plain": [
       "(274050, 6992)"
      ]
     },
     "execution_count": 11,
     "metadata": {},
     "output_type": "execute_result"
    }
   ],
   "source": [
    "df.shape"
   ]
  },
  {
   "cell_type": "code",
   "execution_count": 12,
   "id": "21028ea5-4599-4b39-872f-5cb8671ad0ba",
   "metadata": {},
   "outputs": [
    {
     "data": {
      "text/plain": [
       "(104597, 6992)"
      ]
     },
     "execution_count": 12,
     "metadata": {},
     "output_type": "execute_result"
    }
   ],
   "source": [
    "df.loc[([1, 2], slice(None), \"early\"), :].shape"
   ]
  },
  {
   "cell_type": "code",
   "execution_count": 14,
   "id": "c9e5563b-0d99-44ed-8d30-3164e0c75ef6",
   "metadata": {},
   "outputs": [],
   "source": [
    "pq.write_table(pyarrow.Table.from_pandas(df), output)"
   ]
  }
 ],
 "metadata": {
  "kernelspec": {
   "display_name": "Python 3 (ipykernel)",
   "language": "python",
   "name": "python3"
  },
  "language_info": {
   "codemirror_mode": {
    "name": "ipython",
    "version": 3
   },
   "file_extension": ".py",
   "mimetype": "text/x-python",
   "name": "python",
   "nbconvert_exporter": "python",
   "pygments_lexer": "ipython3",
   "version": "3.9.13"
  },
  "vscode": {
   "interpreter": {
    "hash": "6c19ec75b5216c81abf931859392d42d22f386772f224f44a894f50f6487f0f0"
   }
  }
 },
 "nbformat": 4,
 "nbformat_minor": 5
}
