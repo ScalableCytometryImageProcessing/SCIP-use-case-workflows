{
 "cells": [
  {
   "cell_type": "code",
   "execution_count": null,
   "id": "02e496a6-d2fb-40de-bdc0-392305ffcde9",
   "metadata": {},
   "outputs": [],
   "source": [
    "%load_ext autoreload\n",
    "%autoreload 2"
   ]
  },
  {
   "cell_type": "code",
   "execution_count": null,
   "id": "c5d1c8b6-ee38-4765-8dc8-7decec479eda",
   "metadata": {},
   "outputs": [],
   "source": [
    "from scip_workflows.common import *\n",
    ""
   ]
  },
  {
   "cell_type": "code",
   "execution_count": null,
   "id": "b7651e57-86bd-4ba3-90f5-32939268e8cd",
   "metadata": {},
   "outputs": [],
   "source": [
    "try:\n",
    "    hpo_scip_path = snakemake.input.hpo_scip\n",
    "    hpo_ideas_path = snakemake.input.hpo_ideas\n",
    "    output_metrics = snakemake.output.metrics\n",
    "    output_table = snakemake.output.table\n",
    "except NameError:\n",
    "    data_dir = Path(\"/home/maximl/scratch/data/vsc/datasets/wbc/scip/20220713131400/\")\n",
    "    hpo_scip_path = data_dir / \"hpo\" / \"WBC_rsh_scip_cyto_li_xgboost.pickle\"\n",
    "    hpo_ideas_path = (\n",
    "        data_dir.parent.parent\n",
    "        / \"ideas\"\n",
    "        / \"hpo\"\n",
    "        / \"WBC_rsh_ideas_cyto_li_xgboost.pickle\"\n",
    "    )\n",
    "    output_metrics = data_dir / \"figures\" / \"classification_comparison.png\"\n",
    "    output_table = data_dir / \"tables\" / \"WBC_classification_comparison.tex\"\n",
    ""
   ]
  },
  {
   "cell_type": "code",
   "execution_count": null,
   "id": "a67c6bd1-7d75-40ae-b044-a2b2576a7107",
   "metadata": {},
   "outputs": [],
   "source": [
    "with open(hpo_scip_path, \"rb\") as fh:\n",
    "    hpo_scip = pickle.load(fh)\n",
    "with open(hpo_ideas_path, \"rb\") as fh:\n",
    "    hpo_ideas = pickle.load(fh)\n",
    ""
   ]
  },
  {
   "cell_type": "code",
   "execution_count": null,
   "id": "cc6d9946-a4ad-4f05-b7ea-fcd58b969405",
   "metadata": {},
   "outputs": [],
   "source": [
    "scip_df = (\n",
    "    pandas.DataFrame(hpo_scip)\n",
    "    .drop(\n",
    "        columns=[\n",
    "            \"score_time\",\n",
    "            \"fit_time\",\n",
    "            \"estimator\",\n",
    "            \"train_recall_macro\",\n",
    "            \"test_recall_macro\",\n",
    "        ]\n",
    "    )\n",
    "    .melt()\n",
    ")\n",
    "scip_df[\"software\"] = \"SCIP\"\n",
    "ideas_df = (\n",
    "    pandas.DataFrame(hpo_ideas)\n",
    "    .drop(\n",
    "        columns=[\n",
    "            \"score_time\",\n",
    "            \"fit_time\",\n",
    "            \"estimator\",\n",
    "            \"train_recall_macro\",\n",
    "            \"test_recall_macro\",\n",
    "        ]\n",
    "    )\n",
    "    .melt()\n",
    ")\n",
    "ideas_df[\"software\"] = \"IDEAS\"\n",
    "\n",
    "df = pandas.concat([scip_df, ideas_df])\n",
    "df[\"phase\"] = df[\"variable\"].apply(lambda r: r.split(\"_\")[0])\n",
    "df[\"metric\"] = df[\"variable\"].apply(lambda r: \" \".join(r.split(\"_\")[1:]))\n",
    ""
   ]
  },
  {
   "cell_type": "code",
   "execution_count": null,
   "id": "8adf0321-0a20-48c4-929c-463f536106a4",
   "metadata": {},
   "outputs": [],
   "source": [
    "g = seaborn.catplot(\n",
    "    data=df,\n",
    "    x=\"value\",\n",
    "    y=\"software\",\n",
    "    col=\"metric\",\n",
    "    dodge=True,\n",
    "    hue=\"phase\",\n",
    "    kind=\"strip\",\n",
    ")\n",
    "for ax in g.axes.ravel():\n",
    "    ax.set_box_aspect(0.4)\n",
    "\n",
    "plt.savefig(output_metrics, bbox_inches=\"tight\")\n",
    ""
   ]
  },
  {
   "cell_type": "code",
   "execution_count": null,
   "id": "3557fa75-51e8-46e7-87fc-9033b9689ccb",
   "metadata": {},
   "outputs": [],
   "source": [
    "scores_df = df.groupby([\"metric\", \"phase\", \"software\"])[\"value\"].agg(\n",
    "    [\"mean\", scipy.stats.sem]\n",
    ")\n",
    "\n",
    "scores_df.index.names = [c.capitalize() for c in scores_df.index.names]\n",
    "scores_df[\"Mean (std. error)\"] = scores_df.apply(\n",
    "    lambda r: \"%.3f (%.3f)\" % (r[\"mean\"], r[\"sem\"]), axis=1\n",
    ")\n",
    ""
   ]
  },
  {
   "cell_type": "code",
   "execution_count": null,
   "id": "c727ee98-53ac-4ecf-821c-56482054bae1",
   "metadata": {},
   "outputs": [],
   "source": [
    "scores = scores_df.reset_index().pivot(\n",
    "    index=[\"Metric\", \"Software\"], values=\"Mean (std. error)\", columns=\"Phase\"\n",
    ")\n",
    ""
   ]
  },
  {
   "cell_type": "code",
   "execution_count": null,
   "id": "53969531-8151-4157-9914-a4b93ed78db2",
   "metadata": {},
   "outputs": [],
   "source": [
    "scores.columns.name = \"\"\n",
    "scores.columns = [c.capitalize() for c in scores.columns]\n",
    ""
   ]
  },
  {
   "cell_type": "code",
   "execution_count": null,
   "id": "27932af9-9701-4ffc-9ff4-6a2182eea176",
   "metadata": {},
   "outputs": [],
   "source": [
    "scores.T\n",
    ""
   ]
  },
  {
   "cell_type": "code",
   "execution_count": null,
   "id": "3758d36c-02f0-4bc6-8c0b-060bb5903662",
   "metadata": {},
   "outputs": [],
   "source": [
    "print(scores.T.style.to_latex(hrules=True, multicol_align=\"l\"))\n",
    ""
   ]
  },
  {
   "cell_type": "code",
   "execution_count": null,
   "id": "05103c6f-ce11-474e-b742-db17dce550c6",
   "metadata": {},
   "outputs": [],
   "source": [
    "with open(output_table, \"w\") as fh:neutrophilsneutrophilsneutrophilsneutrophils\n",
    "    fh.write(scores.T.style.to_latex(hrules=True, multicol_align=\"l\"))"
   ]
  },
  {
   "cell_type": "code",
   "execution_count": null,
   "id": "38cfa65d-0ed4-4574-b30b-c45ed08a1bb7",
   "metadata": {},
   "outputs": [],
   "source": []
  }
 ],
 "metadata": {
  "kernelspec": {
   "display_name": "Python 3 (ipykernel)",
   "language": "python",
   "name": "python3"
  },
  "language_info": {
   "codemirror_mode": {
    "name": "ipython",
    "version": 3
   },
   "file_extension": ".py",
   "mimetype": "text/x-python",
   "name": "python",
   "nbconvert_exporter": "python",
   "pygments_lexer": "ipython3",
   "version": "3.9.13"
  }
 },
 "nbformat": 4,
 "nbformat_minor": 5
}
