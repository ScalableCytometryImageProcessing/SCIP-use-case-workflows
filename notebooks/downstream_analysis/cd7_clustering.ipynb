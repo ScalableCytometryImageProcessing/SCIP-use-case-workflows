{
 "cells": [
  {
   "cell_type": "markdown",
   "id": "62685930-3293-4ac2-8d8f-337a33f5062e",
   "metadata": {},
   "source": [
    "# CD7: clustering\n",
    "\n",
    "In this notebook, we perform a clustering analysis of the CD7 data on features extracted from SCIP."
   ]
  },
  {
   "cell_type": "code",
   "execution_count": 11,
   "id": "4c298ece-0fe4-4076-a6ca-851d1c2647bd",
   "metadata": {},
   "outputs": [],
   "source": [
    "import pyarrow.parquet as pq\n",
    "from ehv.correlation import Correlation"
   ]
  },
  {
   "cell_type": "code",
   "execution_count": 8,
   "id": "650f62b2-2c59-45a7-9e88-433ef6d84177",
   "metadata": {},
   "outputs": [
    {
     "data": {
      "text/plain": [
       "'/data/gent/vo/000/gvo00070/vsc42015'"
      ]
     },
     "execution_count": 8,
     "metadata": {},
     "output_type": "execute_result"
    }
   ],
   "source": [
    "import os\n",
    "os.environ[\"VSC_DATA_VO_USER\"]"
   ]
  },
  {
   "cell_type": "code",
   "execution_count": 9,
   "id": "fc61521e-fe0f-4edc-9f5b-eaeb08d3085f",
   "metadata": {},
   "outputs": [],
   "source": [
    "df = pq.read_table(\"/data/gent/vo/000/gvo00070/vsc42015/datasets/CD7/results/scip/202112151458/features.parquet\")"
   ]
  },
  {
   "cell_type": "code",
   "execution_count": 10,
   "id": "0b97bcea-1246-4315-9d18-ce09f5eda7b5",
   "metadata": {},
   "outputs": [
    {
     "data": {
      "text/plain": [
       "(136951, 1290)"
      ]
     },
     "execution_count": 10,
     "metadata": {},
     "output_type": "execute_result"
    }
   ],
   "source": [
    "df.shape"
   ]
  },
  {
   "cell_type": "markdown",
   "id": "f0f01abd-b196-43de-9fc0-e7673ef47c94",
   "metadata": {},
   "source": [
    "## Reduce input dimensionality\n",
    "\n",
    "The original dataframe has 1290 features. This is too high for a clustering analysis. I will reduce the input dimensionality with a correlation analysis and a dimensionality reduction."
   ]
  },
  {
   "cell_type": "code",
   "execution_count": null,
   "id": "56c3fbc7-d359-4422-8622-b0bf27597eef",
   "metadata": {},
   "outputs": [],
   "source": []
  },
  {
   "cell_type": "code",
   "execution_count": null,
   "id": "d7f629df-0fb0-4526-a077-5c5c138fe28c",
   "metadata": {},
   "outputs": [],
   "source": [
    "corr = Correlation(0.8)"
   ]
  }
 ],
 "metadata": {
  "kernelspec": {
   "display_name": "Python 3 (ipykernel)",
   "language": "python",
   "name": "python3"
  },
  "language_info": {
   "codemirror_mode": {
    "name": "ipython",
    "version": 3
   },
   "file_extension": ".py",
   "mimetype": "text/x-python",
   "name": "python",
   "nbconvert_exporter": "python",
   "pygments_lexer": "ipython3",
   "version": "3.9.7"
  }
 },
 "nbformat": 4,
 "nbformat_minor": 5
}
