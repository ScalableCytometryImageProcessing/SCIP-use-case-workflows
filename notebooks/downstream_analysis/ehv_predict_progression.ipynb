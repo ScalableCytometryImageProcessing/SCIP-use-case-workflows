{
 "cells": [
  {
   "cell_type": "markdown",
   "id": "011d5b45-980e-42c0-b873-6f6ad19582a1",
   "metadata": {},
   "source": [
    "# Predict infection progression"
   ]
  },
  {
   "cell_type": "code",
   "execution_count": 2,
   "id": "bb032abc-5cf4-4184-9a9b-aa60084e8f19",
   "metadata": {},
   "outputs": [],
   "source": [
    "%load_ext autoreload\n",
    "%autoreload 2"
   ]
  },
  {
   "cell_type": "code",
   "execution_count": 4,
   "id": "ac0f6f6b-43de-4d91-bb4c-ed1611671139",
   "metadata": {},
   "outputs": [],
   "source": [
    "# %load ../common_.py\n",
    "import sys\n",
    "sys.path.append(\"..\")\n",
    "from common import *"
   ]
  },
  {
   "cell_type": "code",
   "execution_count": 1,
   "id": "65230553-36e6-4d5d-a7fb-81837bf94bd9",
   "metadata": {},
   "outputs": [
    {
     "ename": "NameError",
     "evalue": "name 'Path' is not defined",
     "output_type": "error",
     "traceback": [
      "\u001b[0;31m---------------------------------------------------------------------------\u001b[0m",
      "\u001b[0;31mNameError\u001b[0m                                 Traceback (most recent call last)",
      "\u001b[0;32m/tmp/ipykernel_3040769/1960566913.py\u001b[0m in \u001b[0;36m<cell line: 1>\u001b[0;34m()\u001b[0m\n\u001b[0;32m----> 1\u001b[0;31m \u001b[0mdata_dir\u001b[0m \u001b[0;34m=\u001b[0m \u001b[0mPath\u001b[0m\u001b[0;34m(\u001b[0m\u001b[0mos\u001b[0m\u001b[0;34m.\u001b[0m\u001b[0menviron\u001b[0m\u001b[0;34m[\u001b[0m\u001b[0;34m\"VSC_DATA_VO_USER\"\u001b[0m\u001b[0;34m]\u001b[0m\u001b[0;34m)\u001b[0m \u001b[0;34m/\u001b[0m \u001b[0;34m\"datasets/weizmann/EhV/v2/results/scip/202202071958/\"\u001b[0m\u001b[0;34m\u001b[0m\u001b[0;34m\u001b[0m\u001b[0m\n\u001b[0m",
      "\u001b[0;31mNameError\u001b[0m: name 'Path' is not defined"
     ]
    }
   ],
   "source": [
    "data_dir = Path(os.environ[\"VSC_DATA_VO_USER\"]) / \"datasets/weizmann/EhV/v2/results/scip/202202071958/\""
   ]
  },
  {
   "cell_type": "code",
   "execution_count": null,
   "id": "07826546-09d5-475a-8924-a80ee3267ed2",
   "metadata": {},
   "outputs": [],
   "source": [
    "df = pq.read_table(data_dir / \"features.parquet\").to_pandas()\n",
    "cat_type = CategoricalDtype(categories=sorted(df[\"meta_group\"].astype(int).unique()), ordered=True)\n",
    "df[\"meta_group\"] = df[\"meta_group\"].astype(int).astype(cat_type)\n",
    "df[\"meta_replicate\"] = df[\"meta_replicate\"].astype(int)\n",
    "\n",
    "df = df.set_index([\"meta_type\", \"meta_object_number\", \"meta_replicate\", \"meta_suffix\", \"meta_group\"])\n",
    "\n",
    "df = df[numpy.load(data_dir / \"indices/columns.npy\", allow_pickle=True)]\n",
    "df = df.loc[numpy.load(data_dir / \"indices/iso.npy\", allow_pickle=True)]\n",
    "\n",
    "df = df[df[\"meta_label\"] != \"unknown\"]\n",
    "df[\"meta_label\"] = pandas.Categorical(df[\"meta_label\"], categories=[\"mcp-_psba+\", \"mcp+_psba+\", \"mcp+_psba-\", \"mcp-_psba-\"], ordered=True)\n",
    "df.shape"
   ]
  }
 ],
 "metadata": {
  "kernelspec": {
   "display_name": "Python 3 (ipykernel)",
   "language": "python",
   "name": "python3"
  },
  "language_info": {
   "codemirror_mode": {
    "name": "ipython",
    "version": 3
   },
   "file_extension": ".py",
   "mimetype": "text/x-python",
   "name": "python",
   "nbconvert_exporter": "python",
   "pygments_lexer": "ipython3",
   "version": "3.9.6"
  }
 },
 "nbformat": 4,
 "nbformat_minor": 5
}
