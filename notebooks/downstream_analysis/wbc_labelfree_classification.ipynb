{
 "cells": [
  {
   "cell_type": "markdown",
   "id": "b863c3aa-8d9f-45cc-9466-0155b4014116",
   "metadata": {},
   "source": [
    "# Label-free prediction of white blood cells"
   ]
  },
  {
   "cell_type": "code",
   "execution_count": 1,
   "id": "544714ab-8b2c-4757-b1cc-9a810f3b695a",
   "metadata": {},
   "outputs": [],
   "source": [
    "%load_ext autoreload\n",
    "%autoreload 2"
   ]
  },
  {
   "cell_type": "code",
   "execution_count": 2,
   "id": "42451de4-e8ae-41fb-8a98-070bbc1956d0",
   "metadata": {},
   "outputs": [],
   "source": [
    "# %load ../common_.py\n",
    "import sys\n",
    "sys.path.append(\"..\")\n",
    "from common import *"
   ]
  },
  {
   "cell_type": "code",
   "execution_count": 3,
   "id": "a9938d74-a6b0-4307-934d-9a0101b522b6",
   "metadata": {},
   "outputs": [],
   "source": [
    "from sklearn.preprocessing import LabelEncoder, StandardScaler\n",
    "from sklearn.model_selection import cross_validate\n",
    "from sklearn.pipeline import make_pipeline"
   ]
  },
  {
   "cell_type": "code",
   "execution_count": 4,
   "id": "6b5eb47f-7219-4d06-98c7-532bb1bfdb29",
   "metadata": {},
   "outputs": [],
   "source": [
    "data_dir = Path(os.environ[\"VSC_DATA_VO_USER\"]) / \"datasets/wbc\""
   ]
  },
  {
   "cell_type": "code",
   "execution_count": 59,
   "id": "faaf96cc-e8ce-44fa-a433-e746ed6939a9",
   "metadata": {},
   "outputs": [],
   "source": [
    "df = pq.read_table(data_dir / f\"results/scip/202201141724/features.parquet\").to_pandas()"
   ]
  },
  {
   "cell_type": "code",
   "execution_count": 60,
   "id": "7d245f7d-b6cb-4a8f-974d-c8acbad16637",
   "metadata": {},
   "outputs": [
    {
     "data": {
      "text/plain": [
       "(247993, 2519)"
      ]
     },
     "execution_count": 60,
     "metadata": {},
     "output_type": "execute_result"
    }
   ],
   "source": [
    "cols = numpy.load(data_dir / \"results/scip/202201141724/columns.npy\", allow_pickle=True)\n",
    "df = df[cols]\n",
    "\n",
    "index = numpy.load(data_dir / \"results/scip/202201141724/index.npy\", allow_pickle=True)\n",
    "df = df.loc[index]\n",
    "\n",
    "df.shape"
   ]
  },
  {
   "cell_type": "code",
   "execution_count": 62,
   "id": "acbac75f-da7b-4674-8233-2a6d2cbe17d3",
   "metadata": {},
   "outputs": [],
   "source": [
    "glcms = set(df.filter(regex=\".*glcm.*(BF1|BF2|SSC)$\").columns)\n",
    "combined_glcms = set(df.filter(regex=\".*combined.*glcm.*(BF1|BF2|SSC)$\").columns)\n",
    "noncomb_glcms = glcms - combined_glcms\n",
    "\n",
    "df = df.drop(columns=noncomb_glcms)"
   ]
  },
  {
   "cell_type": "code",
   "execution_count": 67,
   "id": "41f46121-7d79-4264-b766-903023d661f8",
   "metadata": {},
   "outputs": [
    {
     "data": {
      "text/plain": [
       "(246928, 2447)"
      ]
     },
     "execution_count": 67,
     "metadata": {},
     "output_type": "execute_result"
    }
   ],
   "source": [
    "df = df[~df.filter(regex=\"(BF1|BF2|SSC)$\").isna().any(axis=1)]\n",
    "df.shape"
   ]
  },
  {
   "cell_type": "code",
   "execution_count": 68,
   "id": "9db9fcc0-4f3a-4bc1-88a4-7d3c0dd04002",
   "metadata": {},
   "outputs": [],
   "source": [
    "def predict_gates(X, y, model, seed=42):\n",
    "    numpy.random.seed(seed)\n",
    "    \n",
    "    scoring = ('balanced_accuracy', 'f1_macro', 'f1_micro', 'precision_macro', 'precision_micro', 'recall_macro', 'recall_micro')\n",
    "    cv_results = cross_validate(\n",
    "        estimator=model,\n",
    "        X=X.values, y=y, cv=5,\n",
    "        scoring=scoring,\n",
    "        return_train_score=True,\n",
    "        return_estimator=True,\n",
    "        n_jobs=5,\n",
    "        verbose=0\n",
    "    )\n",
    "    cv_df = pandas.DataFrame(\n",
    "        data = {\n",
    "            **{\"phase\": [\"train\"] * 5 + [\"test\"] * 5},\n",
    "            **{k: numpy.concatenate([cv_results[f\"train_{k}\"], cv_results[f\"test_{k}\"]]) for k in scoring}\n",
    "        }\n",
    "    ).melt(id_vars=[\"phase\"])\n",
    "    seaborn.stripplot(data=cv_df, y=\"variable\", x=\"value\", hue=\"phase\", jitter=0)\n",
    "    return cv_df"
   ]
  },
  {
   "cell_type": "code",
   "execution_count": 69,
   "id": "d3ef7021-6b08-430d-afbb-a2fe20108595",
   "metadata": {},
   "outputs": [
    {
     "data": {
      "text/plain": [
       "<matplotlib.axes._subplots.AxesSubplot at 0x2b4ccf833be0>"
      ]
     },
     "execution_count": 69,
     "metadata": {},
     "output_type": "execute_result"
    },
    {
     "data": {
      "image/png": "[encoded data removed]",
      "text/plain": [
       "<Figure size 432x288 with 1 Axes>"
      ]
     },
     "metadata": {},
     "output_type": "display_data"
    }
   ],
   "source": [
    "seaborn.countplot(x=df[\"meta_label\"])"
   ]
  },
  {
   "cell_type": "code",
   "execution_count": 75,
   "id": "69c9a62d-0b58-46d1-bfe7-7245387fcaeb",
   "metadata": {},
   "outputs": [
    {
     "data": {
      "text/plain": [
       "CD15 + Neutrophils    46326\n",
       "CD4 T cells           36578\n",
       "unknown               16630\n",
       "CD8 T cell            15868\n",
       "CD19 pos B cells       9574\n",
       "CD56+ NK Cells         7135\n",
       "CD14+ Monocyte         5373\n",
       "NK T cells             5185\n",
       "Eosinophils            3179\n",
       "Eos                    1080\n",
       "Name: meta_label, dtype: int64"
      ]
     },
     "execution_count": 75,
     "metadata": {},
     "output_type": "execute_result"
    }
   ],
   "source": [
    "df[\"meta_label\"].value_counts()"
   ]
  },
  {
   "cell_type": "code",
   "execution_count": 70,
   "id": "e7971e14-ef92-4c11-8081-bcd25e08f36f",
   "metadata": {},
   "outputs": [],
   "source": [
    "neuts = df[df[\"meta_label\"] == \"CD15 + Neutrophils\"].sample(n=100000).index"
   ]
  },
  {
   "cell_type": "code",
   "execution_count": 71,
   "id": "26cb2a4a-c76a-4b2c-bab0-56d338bc82bc",
   "metadata": {},
   "outputs": [],
   "source": [
    "df = df.drop(labels=neuts)"
   ]
  },
  {
   "cell_type": "code",
   "execution_count": 72,
   "id": "72013dda-0aa0-4c34-9cac-069b4466b46f",
   "metadata": {},
   "outputs": [
    {
     "data": {
      "text/plain": [
       "<matplotlib.axes._subplots.AxesSubplot at 0x2b4ccf86f520>"
      ]
     },
     "execution_count": 72,
     "metadata": {},
     "output_type": "execute_result"
    },
    {
     "data": {
      "image/png": "[encoded data removed]",
      "text/plain": [
       "<Figure size 432x288 with 1 Axes>"
      ]
     },
     "metadata": {},
     "output_type": "display_data"
    }
   ],
   "source": [
    "seaborn.countplot(x=df[\"meta_label\"])"
   ]
  },
  {
   "cell_type": "code",
   "execution_count": 73,
   "id": "a210aab5-6adc-45c3-886e-c0e34172eb56",
   "metadata": {},
   "outputs": [],
   "source": [
    "enc = LabelEncoder().fit(df[\"meta_label\"])\n",
    "y = enc.transform(df[\"meta_label\"])"
   ]
  },
  {
   "cell_type": "code",
   "execution_count": 74,
   "id": "d09ffefc-011b-4366-afca-10deb4975243",
   "metadata": {},
   "outputs": [
    {
     "name": "stdout",
     "output_type": "stream",
     "text": [
      "CPU times: user 929 ms, sys: 1.89 s, total: 2.82 s\n",
      "Wall time: 5min 11s\n"
     ]
    },
    {
     "data": {
      "image/png": "[encoded data removed]",
      "text/plain": [
       "<Figure size 432x288 with 1 Axes>"
      ]
     },
     "metadata": {},
     "output_type": "display_data"
    }
   ],
   "source": [
    "%%time\n",
    "from sklearn import tree\n",
    "model = tree.DecisionTreeClassifier(class_weight=\"balanced\")\n",
    "_ = predict_gates(\n",
    "    df.filter(regex=\"(BF1|BF2|SSC)$\"), y, \n",
    "    model\n",
    ")"
   ]
  },
  {
   "cell_type": "code",
   "execution_count": null,
   "id": "0f0a5fbd-997b-4f39-89b4-494347bae62f",
   "metadata": {},
   "outputs": [],
   "source": []
  }
 ],
 "metadata": {
  "kernelspec": {
   "display_name": "Python 3 (ipykernel)",
   "language": "python",
   "name": "python3"
  },
  "language_info": {
   "codemirror_mode": {
    "name": "ipython",
    "version": 3
   },
   "file_extension": ".py",
   "mimetype": "text/x-python",
   "name": "python",
   "nbconvert_exporter": "python",
   "pygments_lexer": "ipython3",
   "version": "3.9.7"
  }
 },
 "nbformat": 4,
 "nbformat_minor": 5
}
