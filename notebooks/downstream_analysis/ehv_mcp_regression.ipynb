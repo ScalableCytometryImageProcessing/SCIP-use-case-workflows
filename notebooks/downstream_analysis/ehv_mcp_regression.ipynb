{
 "cells": [
  {
   "cell_type": "markdown",
   "id": "union-expense",
   "metadata": {},
   "source": [
    "# MCP regression"
   ]
  },
  {
   "cell_type": "code",
   "execution_count": 1,
   "id": "administrative-christian",
   "metadata": {},
   "outputs": [],
   "source": [
    "%load_ext autoreload\n",
    "%autoreload 2"
   ]
  },
  {
   "cell_type": "code",
   "execution_count": 2,
   "id": "stunning-package",
   "metadata": {},
   "outputs": [],
   "source": [
    "# %load common_.py\n",
    "from common import *"
   ]
  },
  {
   "cell_type": "code",
   "execution_count": 3,
   "id": "abstract-configuration",
   "metadata": {},
   "outputs": [],
   "source": [
    "from sklearn.feature_selection import VarianceThreshold\n",
    "from sklearn.model_selection import LeaveOneGroupOut, KFold\n",
    "from ehv import correlation\n",
    "from sklearn.preprocessing import scale, minmax_scale\n",
    "from sklearn import metrics\n",
    "import multiprocessing"
   ]
  },
  {
   "cell_type": "code",
   "execution_count": 4,
   "id": "first-christianity",
   "metadata": {},
   "outputs": [],
   "source": [
    "samples = None\n",
    "df = e_load.load_raw_ideas_dir(\n",
    "    Path(\"/data/weizmann/EhV/high_time_res\"), \n",
    "    Path(\"/data/weizmann/EhV/weizmann-ehv-metadata/representations/ideas_features/\"), \n",
    "    \"ALL\", \n",
    "    Path(\"/data/weizmann/EhV/weizmann-ehv-metadata/cell_populations/manual_gating/\"),\n",
    "    samples, \"Low/*.cif\")\n",
    "df = e_load.remove_unwanted_features(df)\n",
    "df = e_load.tag_columns(df)\n",
    "df = e_load.clean_column_names(df)"
   ]
  },
  {
   "cell_type": "code",
   "execution_count": 5,
   "id": "changing-flight",
   "metadata": {},
   "outputs": [
    {
     "data": {
      "text/plain": [
       "(339045, 113)"
      ]
     },
     "execution_count": 5,
     "metadata": {},
     "output_type": "execute_result"
    }
   ],
   "source": [
    "df = df[df[\"meta_label_coi\"]]\n",
    "df.shape"
   ]
  },
  {
   "cell_type": "code",
   "execution_count": 6,
   "id": "protecting-barrier",
   "metadata": {},
   "outputs": [],
   "source": [
    "with open(\"data/selected_features_low.txt\") as fh:\n",
    "    features = [i.lower() for i in fh.read().split(\",\")]\n",
    "features.extend(df.filter(regex=\"meta\").columns.values.tolist())\n",
    "\n",
    "df = df[features]"
   ]
  },
  {
   "cell_type": "code",
   "execution_count": 7,
   "id": "italian-trash",
   "metadata": {},
   "outputs": [],
   "source": [
    "import re\n",
    "reg = r\"^meta_label_(.+)$\"\n",
    "label_vec = numpy.full((df.shape[0]), fill_value=\"unknown\", dtype=object)\n",
    "for col in df.filter(regex=\"(?i)meta_label_.*psba.*\"):\n",
    "    label_vec[df[col].values] = re.match(reg, col).groups(1)\n",
    "    \n",
    "df[\"meta_label\"] = label_vec"
   ]
  },
  {
   "cell_type": "code",
   "execution_count": 8,
   "id": "skilled-prairie",
   "metadata": {},
   "outputs": [],
   "source": [
    "def do_low_variance_filter(df):\n",
    "    v = VarianceThreshold(0.01).fit(df.filter(regex=\"feat\"))\n",
    "    cols = df.filter(regex=\"feat\").columns[v.get_support()]\n",
    "    cols = cols.append(df.filter(regex=\"meta\").columns)\n",
    "    return df[cols]\n",
    "\n",
    "df = do_low_variance_filter(df)"
   ]
  },
  {
   "cell_type": "code",
   "execution_count": 9,
   "id": "broadband-exhibition",
   "metadata": {},
   "outputs": [
    {
     "data": {
      "text/plain": [
       "(339045, 77)"
      ]
     },
     "execution_count": 9,
     "metadata": {},
     "output_type": "execute_result"
    }
   ],
   "source": [
    "df.shape"
   ]
  },
  {
   "cell_type": "code",
   "execution_count": 10,
   "id": "wrong-world",
   "metadata": {},
   "outputs": [
    {
     "data": {
      "text/plain": [
       "(339045, 60)"
      ]
     },
     "execution_count": 10,
     "metadata": {},
     "output_type": "execute_result"
    }
   ],
   "source": [
    "correlated_features = correlation.get_correlated_features(df.filter(regex=\"feat\"), thresh=0.89)\n",
    "df = df.drop(columns=correlated_features)\n",
    "df.shape"
   ]
  },
  {
   "cell_type": "code",
   "execution_count": 11,
   "id": "exotic-panama",
   "metadata": {},
   "outputs": [],
   "source": [
    "cv = LeaveOneGroupOut()"
   ]
  },
  {
   "cell_type": "code",
   "execution_count": 27,
   "id": "noted-laptop",
   "metadata": {},
   "outputs": [],
   "source": [
    "def do_minmax_scale(df):\n",
    "    df[df.filter(regex=\"feat\").columns] = minmax_scale(df.filter(regex=\"feat\"))\n",
    "    return df\n",
    "\n",
    "scaled_df = df.groupby([\"meta_timepoint\", \"meta_replicate\"]).apply(do_minmax_scale)"
   ]
  },
  {
   "cell_type": "code",
   "execution_count": 28,
   "id": "final-george",
   "metadata": {},
   "outputs": [],
   "source": [
    "def do_zscore_scale(df):\n",
    "    df[df.filter(regex=\"feat\").columns] = scale(df.filter(regex=\"feat\"))\n",
    "    return df\n",
    "\n",
    "scaled_df = scaled_df.groupby([\"meta_timepoint\", \"meta_replicate\"]).apply(do_zscore_scale)"
   ]
  },
  {
   "cell_type": "code",
   "execution_count": 29,
   "id": "explicit-likelihood",
   "metadata": {},
   "outputs": [],
   "source": [
    "mcp_df = scaled_df.filter(regex=\"ch11|m11|mcp\")\n",
    "X = scaled_df.drop(columns=mcp_df.columns).filter(regex=\"feat\")"
   ]
  },
  {
   "cell_type": "code",
   "execution_count": 30,
   "id": "cosmetic-match",
   "metadata": {},
   "outputs": [],
   "source": [
    "from sklearn.linear_model import LassoCV\n",
    "def lasso_func(X, y):\n",
    "    cv = KFold(n_splits=5)\n",
    "    model = LassoCV(cv=cv).fit(X, y)"
   ]
  },
  {
   "cell_type": "code",
   "execution_count": 31,
   "id": "interesting-combining",
   "metadata": {},
   "outputs": [],
   "source": [
    "from sklearn.ensemble import RandomForestRegressor\n",
    "def rf_func(X, y):\n",
    "    return RandomForestRegressor(n_estimators=50).fit(X, y)"
   ]
  },
  {
   "cell_type": "code",
   "execution_count": 32,
   "id": "through-attribute",
   "metadata": {},
   "outputs": [
    {
     "name": "stdout",
     "output_type": "stream",
     "text": [
      "0 1 2 3 4 5 6 7 8 9 10 11 12 13 14 15 \n",
      "CPU times: user 1.68 s, sys: 2.26 s, total: 3.93 s\n",
      "Wall time: 49min 58s\n"
     ]
    }
   ],
   "source": [
    "%%time\n",
    "def fold_func(X, y, index_tuple, fit_func):\n",
    "    numpy.random.seed(42)\n",
    "    \n",
    "    # select data\n",
    "    train_index, test_index = index_tuple\n",
    "    X_train, X_test = X[train_index], X[test_index]\n",
    "    y_train, y_test = y[train_index], y[test_index]\n",
    "    \n",
    "    # fit model\n",
    "    model = fit_func(X_train, y_train)\n",
    "    \n",
    "    # evaluate model\n",
    "    y_preds = model.predict(X_test)\n",
    "    \n",
    "    # return metric\n",
    "    return {\n",
    "        \"mse\": metrics.mean_squared_error(y_test, y_preds),\n",
    "        \"r2\": metrics.r2_score(y_test, y_preds),\n",
    "#         \"alpha\": model.alpha_\n",
    "    }\n",
    "    \n",
    "futures = []\n",
    "with multiprocessing.Pool(processes=12) as pool:\n",
    "    for idx_tuple in cv.split(X=numpy.arange(len(df)), groups=df[\"meta_timepoint\"]):\n",
    "        futures.append(\n",
    "            pool.apply_async(\n",
    "                fold_func, \n",
    "                (X.values, mcp_df[\"feat_intensity_mc_ch11\"].values.ravel(), idx_tuple, rf_func)\n",
    "            ))\n",
    "    \n",
    "    results = []\n",
    "    for i, future in enumerate(futures):\n",
    "        results.append(future.get())\n",
    "        print(i, end=\" \")\n",
    "    print(\"\")"
   ]
  },
  {
   "cell_type": "code",
   "execution_count": 33,
   "id": "parliamentary-creek",
   "metadata": {},
   "outputs": [
    {
     "data": {
      "text/plain": [
       "[{'mse': 0.45950532245227405, 'r2': 0.5330349736269804},\n",
       " {'mse': 0.45827095018111086, 'r2': 0.540037382767812},\n",
       " {'mse': 0.45793960801278344, 'r2': 0.5405480915970806},\n",
       " {'mse': 0.4336985370316852, 'r2': 0.5440537756026762},\n",
       " {'mse': 0.4715248162819179, 'r2': 0.5638771523882183},\n",
       " {'mse': 0.5015918078926649, 'r2': 0.5268765624983646},\n",
       " {'mse': 0.4641030455744703, 'r2': 0.5234009220627578},\n",
       " {'mse': 0.4460424393423345, 'r2': 0.5378470426129254},\n",
       " {'mse': 0.46586476833502216, 'r2': 0.5330418361012256},\n",
       " {'mse': 0.4814143033614943, 'r2': 0.5250522372857627},\n",
       " {'mse': 0.4548481761581075, 'r2': 0.5408435269331395},\n",
       " {'mse': 0.46245092123818987, 'r2': 0.5393679906267526},\n",
       " {'mse': 0.4870910431437364, 'r2': 0.5127051461860819},\n",
       " {'mse': 0.4447723530378455, 'r2': 0.5613442617222701},\n",
       " {'mse': 0.47509290111590147, 'r2': 0.5236659484726676},\n",
       " {'mse': 0.4658868171334138, 'r2': 0.5186245155495919}]"
      ]
     },
     "execution_count": 33,
     "metadata": {},
     "output_type": "execute_result"
    }
   ],
   "source": [
    "results"
   ]
  },
  {
   "cell_type": "code",
   "execution_count": 34,
   "id": "pressing-closing",
   "metadata": {},
   "outputs": [],
   "source": [
    "pandas.DataFrame(results).to_csv(\"/data/weizmann/EhV/weizmann-ehv-metadata/regression/Low/%s.csv\" % uuid.uuid4(), index=False)"
   ]
  },
  {
   "cell_type": "code",
   "execution_count": null,
   "id": "square-place",
   "metadata": {},
   "outputs": [],
   "source": []
  }
 ],
 "metadata": {
  "kernelspec": {
   "display_name": "Python 3",
   "language": "python",
   "name": "python3"
  },
  "language_info": {
   "codemirror_mode": {
    "name": "ipython",
    "version": 3
   },
   "file_extension": ".py",
   "mimetype": "text/x-python",
   "name": "python",
   "nbconvert_exporter": "python",
   "pygments_lexer": "ipython3",
   "version": "3.8.8"
  }
 },
 "nbformat": 4,
 "nbformat_minor": 5
}
