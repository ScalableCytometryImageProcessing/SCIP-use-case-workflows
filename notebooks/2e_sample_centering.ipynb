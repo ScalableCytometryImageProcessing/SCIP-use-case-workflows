{
 "cells": [
  {
   "cell_type": "markdown",
   "id": "preceding-handling",
   "metadata": {},
   "source": [
    "# Sample centering\n",
    "\n",
    "In a downstream analysis I wish to apply the Slingshot trajectory inference algorithm. This requires dimensionality reduction of the data with independent component analysis. There are other approaches, but ICA is a promising choice. Input for ICA should be centered and whitened. In this notebook I will look at how to best perform the centering of the samples."
   ]
  },
  {
   "cell_type": "code",
   "execution_count": 1,
   "id": "adequate-noise",
   "metadata": {},
   "outputs": [],
   "source": [
    "%load_ext autoreload\n",
    "%autoreload 2"
   ]
  },
  {
   "cell_type": "code",
   "execution_count": 2,
   "id": "extraordinary-battery",
   "metadata": {},
   "outputs": [],
   "source": [
    "# %load common_.py\n",
    "from common import *"
   ]
  },
  {
   "cell_type": "code",
   "execution_count": 34,
   "id": "beautiful-baghdad",
   "metadata": {},
   "outputs": [],
   "source": [
    "# export\n",
    "from ehv import core, load as e_load, correlation\n",
    "from matplotlib import cm\n",
    "import matplotlib\n",
    "from sklearn.preprocessing import scale, robust_scale, minmax_scale\n",
    "from sklearn.decomposition import PCA"
   ]
  },
  {
   "cell_type": "code",
   "execution_count": 11,
   "id": "vital-chapel",
   "metadata": {},
   "outputs": [],
   "source": [
    "samples = None\n",
    "# samples = pandas.read_csv(\"data/selected_samples.csv\")\n",
    "df = e_load.load_raw_ideas_dir(\n",
    "    Path(\"/data/weizmann/EhV/high_time_res\"), \n",
    "    Path(\"/data/weizmann/EhV/weizmann-ehv-metadata/representations/ideas_features/\"), \n",
    "    \"ALL\", \n",
    "    Path(\"/data/weizmann/EhV/weizmann-ehv-metadata/cell_populations/manual_gating/\"),\n",
    "    samples, \"Low/*.cif\")\n",
    "df = e_load.remove_unwanted_features(df)\n",
    "df = e_load.tag_columns(df)\n",
    "df = e_load.clean_column_names(df)\n",
    "\n",
    "df = df[df[\"meta_label_coi\"]]\n",
    "df.shape\n",
    "\n",
    "import re\n",
    "reg = r\"^meta_label_(.+)$\"\n",
    "label_vec = numpy.full((df.shape[0]), fill_value=\"unknown\", dtype=object)\n",
    "for col in df.filter(regex=\"(?i)meta_label_.*psba.*\"):\n",
    "    label_vec[df[col].values] = re.match(reg, col).groups(1)\n",
    "    \n",
    "df[\"meta_label\"] = label_vec"
   ]
  },
  {
   "cell_type": "markdown",
   "id": "attached-calgary",
   "metadata": {},
   "source": [
    "## Mean centering"
   ]
  },
  {
   "cell_type": "code",
   "execution_count": 64,
   "id": "involved-touch",
   "metadata": {},
   "outputs": [],
   "source": [
    "diff = df.filter(regex=\"(meta_timepoint|feat)\").groupby([\"meta_timepoint\"]).mean() - df.filter(regex=\"feat\").mean()"
   ]
  },
  {
   "cell_type": "code",
   "execution_count": 65,
   "id": "monetary-assistant",
   "metadata": {},
   "outputs": [],
   "source": [
    "diff = diff.reset_index()"
   ]
  },
  {
   "cell_type": "code",
   "execution_count": 68,
   "id": "perceived-loading",
   "metadata": {},
   "outputs": [
    {
     "data": {
      "text/plain": [
       "-233.62424"
      ]
     },
     "execution_count": 68,
     "metadata": {},
     "output_type": "execute_result"
    }
   ],
   "source": [
    "diff.filter(regex=\"feat\").mean().mean()"
   ]
  },
  {
   "cell_type": "code",
   "execution_count": 12,
   "id": "independent-peoples",
   "metadata": {},
   "outputs": [],
   "source": [
    "centered_df = df.copy()"
   ]
  },
  {
   "cell_type": "code",
   "execution_count": 13,
   "id": "textile-gather",
   "metadata": {},
   "outputs": [],
   "source": [
    "def mean_center(df):\n",
    "    cols = df.filter(regex=\"feat\").columns\n",
    "    df[cols] = df[cols] - df[cols].mean()\n",
    "    return df\n",
    "\n",
    "centered_df = centered_df.groupby([\"meta_timepoint\"]).apply(mean_center)"
   ]
  },
  {
   "cell_type": "code",
   "execution_count": 16,
   "id": "convertible-wrist",
   "metadata": {},
   "outputs": [
    {
     "data": {
      "text/plain": [
       "1.6232061e-05"
      ]
     },
     "execution_count": 16,
     "metadata": {},
     "output_type": "execute_result"
    }
   ],
   "source": [
    "centered_df.filter(regex=\"feat\").mean().mean()"
   ]
  },
  {
   "cell_type": "code",
   "execution_count": 19,
   "id": "straight-speaking",
   "metadata": {},
   "outputs": [
    {
     "data": {
      "text/plain": [
       "4.3586856e-06"
      ]
     },
     "execution_count": 19,
     "metadata": {},
     "output_type": "execute_result"
    }
   ],
   "source": [
    "(centered_df.filter(regex=\"feat\") - centered_df.filter(regex=\"feat\").mean()).mean().mean()"
   ]
  },
  {
   "cell_type": "markdown",
   "id": "broken-minimum",
   "metadata": {},
   "source": [
    "## Median centering"
   ]
  },
  {
   "cell_type": "code",
   "execution_count": 69,
   "id": "endangered-mileage",
   "metadata": {},
   "outputs": [],
   "source": [
    "diff = df.filter(regex=\"(meta_timepoint|feat)\").groupby([\"meta_timepoint\"]).median() - df.filter(regex=\"feat\").median()"
   ]
  },
  {
   "cell_type": "code",
   "execution_count": 70,
   "id": "moral-regression",
   "metadata": {},
   "outputs": [],
   "source": [
    "diff = diff.reset_index()"
   ]
  },
  {
   "cell_type": "code",
   "execution_count": 71,
   "id": "helpful-continuity",
   "metadata": {},
   "outputs": [
    {
     "data": {
      "text/plain": [
       "134.28098"
      ]
     },
     "execution_count": 71,
     "metadata": {},
     "output_type": "execute_result"
    }
   ],
   "source": [
    "diff.filter(regex=\"feat\").mean().mean()"
   ]
  },
  {
   "cell_type": "code",
   "execution_count": null,
   "id": "baking-humor",
   "metadata": {},
   "outputs": [],
   "source": []
  }
 ],
 "metadata": {
  "kernelspec": {
   "display_name": "Python 3",
   "language": "python",
   "name": "python3"
  },
  "language_info": {
   "codemirror_mode": {
    "name": "ipython",
    "version": 3
   },
   "file_extension": ".py",
   "mimetype": "text/x-python",
   "name": "python",
   "nbconvert_exporter": "python",
   "pygments_lexer": "ipython3",
   "version": "3.8.8"
  }
 },
 "nbformat": 4,
 "nbformat_minor": 5
}
