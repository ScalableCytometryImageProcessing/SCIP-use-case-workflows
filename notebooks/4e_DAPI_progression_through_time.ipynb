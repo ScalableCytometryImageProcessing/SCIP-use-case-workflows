{
 "cells": [
  {
   "cell_type": "markdown",
   "id": "exterior-token",
   "metadata": {},
   "source": [
    "# Progression of DAPI stain properties through time"
   ]
  },
  {
   "cell_type": "code",
   "execution_count": 1,
   "id": "valuable-thailand",
   "metadata": {},
   "outputs": [],
   "source": [
    "%load_ext autoreload\n",
    "%autoreload 2"
   ]
  },
  {
   "cell_type": "code",
   "execution_count": 2,
   "id": "warming-presence",
   "metadata": {},
   "outputs": [],
   "source": [
    "# %load common_.py\n",
    "from common import *"
   ]
  },
  {
   "cell_type": "code",
   "execution_count": 3,
   "id": "compliant-murder",
   "metadata": {},
   "outputs": [],
   "source": [
    "import umap\n",
    "import dask.dataframe as dd\n",
    "from ehv import core, load as e_load\n",
    "from joblib import dump, load\n",
    "from pathlib import Path\n",
    "from matplotlib import cm\n",
    "import matplotlib"
   ]
  },
  {
   "cell_type": "code",
   "execution_count": null,
   "id": "bulgarian-hudson",
   "metadata": {},
   "outputs": [],
   "source": []
  },
  {
   "cell_type": "markdown",
   "id": "external-swiss",
   "metadata": {},
   "source": [
    "## Does DAPI circularity change through time?"
   ]
  },
  {
   "cell_type": "code",
   "execution_count": null,
   "id": "japanese-spoke",
   "metadata": {},
   "outputs": [],
   "source": []
  }
 ],
 "metadata": {
  "kernelspec": {
   "display_name": "Python 3",
   "language": "python",
   "name": "python3"
  },
  "language_info": {
   "codemirror_mode": {
    "name": "ipython",
    "version": 3
   },
   "file_extension": ".py",
   "mimetype": "text/x-python",
   "name": "python",
   "nbconvert_exporter": "python",
   "pygments_lexer": "ipython3",
   "version": "3.8.6"
  }
 },
 "nbformat": 4,
 "nbformat_minor": 5
}
