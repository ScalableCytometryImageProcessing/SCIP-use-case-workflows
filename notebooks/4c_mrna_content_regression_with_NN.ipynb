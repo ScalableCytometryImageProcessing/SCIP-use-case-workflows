{
 "cells": [
  {
   "cell_type": "code",
   "execution_count": 3,
   "metadata": {},
   "outputs": [],
   "source": [
    "# default_exp mrna_content"
   ]
  },
  {
   "cell_type": "markdown",
   "metadata": {},
   "source": [
    "# mRNA content regression\n",
    "\n",
    "> API details."
   ]
  },
  {
   "cell_type": "code",
   "execution_count": 4,
   "metadata": {},
   "outputs": [],
   "source": [
    "#hide\n",
    "from nbdev.showdoc import *"
   ]
  },
  {
   "cell_type": "code",
   "execution_count": 5,
   "metadata": {},
   "outputs": [],
   "source": [
    "# %load common.py\n",
    "# export\n",
    "\n",
    "import pandas\n",
    "import os\n",
    "import numpy\n",
    "import seaborn\n",
    "import logging\n",
    "import matplotlib.pyplot as plt\n",
    "from importlib import reload\n",
    "from joblib import load, dump\n",
    "from sklearn.model_selection import PredefinedSplit\n",
    "from sklearn import metrics\n",
    "\n",
    "numpy.random.seed(42)"
   ]
  },
  {
   "cell_type": "code",
   "execution_count": 6,
   "metadata": {},
   "outputs": [],
   "source": [
    "# export\n",
    "\n",
    "import time\n",
    "import fcsparser\n",
    "import sklearn.linear_model\n",
    "import sklearn.model_selection\n",
    "from calibration_singlecell import classification\n",
    "from functools import partial\n",
    "from ehv import mrna_content_regression\n",
    "import scipy.stats"
   ]
  },
  {
   "cell_type": "code",
   "execution_count": 7,
   "metadata": {},
   "outputs": [],
   "source": [
    "meta, df = fcsparser.parse(\"D:/Experiment_data/weizmann/EhV/201/aggregates/non_intensity_T0234567_R123.fcs\")\n",
    "df_meta = df[[\"label\", \"replicate\", \"timepoint\"]].astype(int)\n",
    "df_meta[\"timepoint\"] = df_meta[\"timepoint\"].map(lambda a: meta[\"timepoint\"].split(\",\")[a])\n",
    "df_meta[\"replicate\"] = df_meta[\"replicate\"].map(lambda a: meta[\"replicate\"].split(\",\")[a])\n",
    "df = df.drop(columns=[\"label\", \"replicate\", \"timepoint\"])"
   ]
  },
  {
   "cell_type": "code",
   "execution_count": 11,
   "metadata": {},
   "outputs": [],
   "source": [
    "_, fluor_df = fcsparser.parse(\"D:/Experiment_data/weizmann/EhV/201/aggregates/fluor_T0234567_R123.fcs\")"
   ]
  },
  {
   "cell_type": "code",
   "execution_count": 8,
   "metadata": {},
   "outputs": [],
   "source": [
    "metric_funcs = [\n",
    "    metrics.explained_variance_score,\n",
    "    metrics.max_error,\n",
    "    metrics.mean_absolute_error,\n",
    "    metrics.mean_squared_error,\n",
    "    metrics.mean_squared_error,\n",
    "    metrics.median_absolute_error,\n",
    "    metrics.r2_score\n",
    "]"
   ]
  },
  {
   "cell_type": "markdown",
   "metadata": {},
   "source": [
    "# BF regression on targets"
   ]
  },
  {
   "cell_type": "code",
   "execution_count": 12,
   "metadata": {},
   "outputs": [],
   "source": [
    "bf_df = df.filter(regex=\"(i?).*BF.*\")"
   ]
  },
  {
   "cell_type": "markdown",
   "metadata": {},
   "source": [
    "# Prepare folds"
   ]
  },
  {
   "cell_type": "code",
   "execution_count": 13,
   "metadata": {},
   "outputs": [],
   "source": [
    "Xy_train = []\n",
    "Xy_nested_train = []\n",
    "Xy_test = []\n",
    "\n",
    "target_col = \"IntensityMCTMRlogicle\"\n",
    "\n",
    "test_fold, nested_test_folds = load(\"D:/Experiment_data/weizmann/EhV/201/5x3_samplesplit.dat\")\n",
    "\n",
    "for i, (train_idx, test_idx) in enumerate(PredefinedSplit(test_fold).split()):\n",
    "    \n",
    "    X = bf_df.iloc[train_idx]\n",
    "    mean, std = X.mean(), X.std()\n",
    "    \n",
    "    y_mean = fluor_df[target_col].iloc[train_idx].mean()\n",
    "    \n",
    "    Xy_train.append(((X - mean) / std, fluor_df[target_col].iloc[train_idx] - y_mean))\n",
    "    Xy_test.append(((bf_df.iloc[test_idx] - mean) / std, fluor_df[target_col].iloc[test_idx] - y_mean))\n",
    "    \n",
    "    Xy_train_tmp = []\n",
    "    for nested_train_idx, nested_val_idx in PredefinedSplit(nested_test_folds[i]).split():\n",
    "        \n",
    "        X_train = bf_df.iloc[train_idx[nested_train_idx]]\n",
    "        mean, std = X.mean(), X.std()\n",
    "        \n",
    "        X_val = bf_df.iloc[train_idx[nested_val_idx]]\n",
    "        \n",
    "        y_mean = fluor_df[target_col].iloc[train_idx[nested_train_idx]].mean()\n",
    "        \n",
    "        Xy_train_tmp.append((\n",
    "            ((X_train - mean) / std, fluor_df[target_col].iloc[train_idx[nested_train_idx]] - y_mean),\n",
    "            ((X_val - mean) / std, fluor_df[target_col].iloc[train_idx[nested_val_idx]] - y_mean)\n",
    "        ))\n",
    "        \n",
    "    Xy_nested_train.append(Xy_train_tmp)"
   ]
  },
  {
   "cell_type": "code",
   "execution_count": null,
   "metadata": {},
   "outputs": [],
   "source": []
  }
 ],
 "metadata": {
  "kernelspec": {
   "display_name": "Python 3",
   "language": "python",
   "name": "python3"
  },
  "language_info": {
   "codemirror_mode": {
    "name": "ipython",
    "version": 3
   },
   "file_extension": ".py",
   "mimetype": "text/x-python",
   "name": "python",
   "nbconvert_exporter": "python",
   "pygments_lexer": "ipython3",
   "version": "3.8.5"
  }
 },
 "nbformat": 4,
 "nbformat_minor": 4
}
