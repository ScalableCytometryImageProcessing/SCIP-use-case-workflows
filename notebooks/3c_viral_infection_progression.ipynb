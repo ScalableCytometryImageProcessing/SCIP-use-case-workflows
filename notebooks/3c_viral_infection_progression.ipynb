{
 "cells": [
  {
   "cell_type": "markdown",
   "id": "reliable-reproduction",
   "metadata": {},
   "source": [
    "# Inspect viral infection progression\n",
    "\n",
    "We do this based on MCP and psbA expression derived from channels 4 (TMR) and 11 (Cy5)"
   ]
  },
  {
   "cell_type": "code",
   "execution_count": 1,
   "id": "respective-edgar",
   "metadata": {},
   "outputs": [],
   "source": [
    "%load_ext autoreload\n",
    "%autoreload 2"
   ]
  },
  {
   "cell_type": "code",
   "execution_count": 2,
   "id": "complex-wagon",
   "metadata": {},
   "outputs": [],
   "source": [
    "# %load common_.py\n",
    "from common import *"
   ]
  },
  {
   "cell_type": "code",
   "execution_count": 3,
   "id": "reasonable-center",
   "metadata": {},
   "outputs": [],
   "source": [
    "from ehv import load\n",
    "from pathlib import Path\n",
    "import flowkit"
   ]
  },
  {
   "cell_type": "code",
   "execution_count": 4,
   "id": "italic-heater",
   "metadata": {},
   "outputs": [],
   "source": [
    "df = load.load_raw_ideas_dir(\n",
    "    Path(\"/data/weizmann/EhV/high_time_res\"), \n",
    "    Path(\"/data/weizmann/EhV/weizmann-ehv-metadata/representations/ideas_features/\"), \n",
    "    \"ALL\", \n",
    "    Path(\"/data/weizmann/EhV/weizmann-ehv-metadata/cell_populations/manual_gating/\"))\n",
    "\n",
    "df = load.remove_unwanted_features(df)\n",
    "df = load.tag_columns(df)"
   ]
  },
  {
   "cell_type": "code",
   "execution_count": 5,
   "id": "harmful-finland",
   "metadata": {},
   "outputs": [
    {
     "data": {
      "text/plain": [
       "(2352327, 127)"
      ]
     },
     "execution_count": 5,
     "metadata": {},
     "output_type": "execute_result"
    }
   ],
   "source": [
    "df.shape"
   ]
  },
  {
   "cell_type": "code",
   "execution_count": 6,
   "id": "agricultural-plumbing",
   "metadata": {},
   "outputs": [],
   "source": [
    "df = df[df[\"meta_label_COI\"] == True]"
   ]
  },
  {
   "cell_type": "code",
   "execution_count": 13,
   "id": "documentary-reservoir",
   "metadata": {},
   "outputs": [],
   "source": [
    "feat_cols = df.filter(regex=\".*feat.*\").columns\n",
    "for (t_idx, r_idx), gdf in df.groupby([\"meta_timepoint\", \"meta_replicate\"]):\n",
    "    col_mins = gdf[feat_cols].quantile(0.01)\n",
    "    col_maxs = gdf[feat_cols].quantile(0.99)\n",
    "    \n",
    "    df.loc[\n",
    "        (df[\"meta_timepoint\"] == t_idx) & (df[\"meta_replicate\"] == r_idx),\n",
    "        feat_cols\n",
    "    ] = (gdf[feat_cols] - col_mins) / (col_maxs - col_mins)"
   ]
  },
  {
   "cell_type": "code",
   "execution_count": 22,
   "id": "thorough-microwave",
   "metadata": {},
   "outputs": [],
   "source": [
    "xform = flowkit.transforms.LogicleTransform('logicle', param_t=10000, param_w=0.5, param_m=4.5, param_a=0)\n",
    "samples = []\n",
    "for (t_idx, r_idx), gdf in df[df[\"meta_group\"] == \"High\"].groupby([\"meta_timepoint\", \"meta_replicate\"]):\n",
    "    sample = flowkit.Sample(gdf[[\"feat_Intensity_MC_Ch04\", \"feat_Intensity_MC_Ch11\", \"feat_Intensity_MC_Ch7\"]])\n",
    "    sample.apply_transform(xform)\n",
    "    sample_df = sample.as_dataframe(source=\"xform\").set_index(gdf.index)\n",
    "    sample_df.columns = sample_df.columns.get_level_values(0)\n",
    "    sample_df = pandas.concat([sample_df, gdf.filter(regex=\"meta_.*\")], axis=1)\n",
    "    samples.append(sample_df)\n",
    "\n",
    "df_logicle = pandas.concat(samples)"
   ]
  },
  {
   "cell_type": "code",
   "execution_count": 23,
   "id": "mysterious-welding",
   "metadata": {},
   "outputs": [
    {
     "data": {
      "text/plain": [
       "(-2.005942262710321, 6.131139465069176, -1.595582758535039, 17.95665476237644)"
      ]
     },
     "execution_count": 23,
     "metadata": {},
     "output_type": "execute_result"
    },
    {
     "data": {
      "image/png": "[encoded data removed]",
      "text/plain": [
       "<Figure size 432x432 with 3 Axes>"
      ]
     },
     "metadata": {},
     "output_type": "display_data"
    }
   ],
   "source": [
    "fig = seaborn.jointplot(\n",
    "    data=df_logicle, y=\"feat_Intensity_MC_Ch04\", x=\"feat_Intensity_MC_Ch11\", \n",
    "    hue=\"meta_timepoint\", hue_order=df_logicle[\"meta_timepoint\"].unique(), \n",
    "    s=0.5, palette=\"flare\", legend=False)\n",
    "# fig.ax_joint.legend(bbox_to_anchor=(1.22, 1), loc=2, borderaxespad=0.)\n",
    "fig.ax_joint.axis(\"off\")\n",
    "# plt.savefig(\"figs/features/HTR_High_viral_progression.png\", dpi=300, transparent=True, bbox_inches = \"tight\")"
   ]
  },
  {
   "cell_type": "code",
   "execution_count": null,
   "id": "failing-anniversary",
   "metadata": {},
   "outputs": [],
   "source": []
  }
 ],
 "metadata": {
  "kernelspec": {
   "display_name": "Python 3",
   "language": "python",
   "name": "python3"
  },
  "language_info": {
   "codemirror_mode": {
    "name": "ipython",
    "version": 3
   },
   "file_extension": ".py",
   "mimetype": "text/x-python",
   "name": "python",
   "nbconvert_exporter": "python",
   "pygments_lexer": "ipython3",
   "version": "3.8.6"
  }
 },
 "nbformat": 4,
 "nbformat_minor": 5
}
