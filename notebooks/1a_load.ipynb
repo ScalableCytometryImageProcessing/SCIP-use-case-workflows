{
 "cells": [
  {
   "cell_type": "code",
   "execution_count": 8,
   "metadata": {
    "hide_input": true
   },
   "outputs": [],
   "source": [
    "from nbdev import *"
   ]
  },
  {
   "cell_type": "code",
   "execution_count": 9,
   "metadata": {},
   "outputs": [],
   "source": [
    "#default_exp load"
   ]
  },
  {
   "cell_type": "markdown",
   "metadata": {},
   "source": [
    "# Load\n",
    "\n",
    "> API details."
   ]
  },
  {
   "cell_type": "code",
   "execution_count": 10,
   "metadata": {},
   "outputs": [],
   "source": [
    "#hide\n",
    "from nbdev.showdoc import *"
   ]
  },
  {
   "cell_type": "code",
   "execution_count": 11,
   "metadata": {},
   "outputs": [],
   "source": [
    "# %load common.py\n",
    "# export\n",
    "\n",
    "import pandas\n",
    "import os\n",
    "import numpy\n",
    "import seaborn\n",
    "import logging"
   ]
  },
  {
   "cell_type": "code",
   "execution_count": 12,
   "metadata": {},
   "outputs": [],
   "source": [
    "#export\n",
    "import fcsparser\n",
    "from pathlib import Path\n",
    "import dask.dataframe as dd\n",
    "from dask.delayed import delayed"
   ]
  },
  {
   "cell_type": "code",
   "execution_count": 13,
   "metadata": {},
   "outputs": [],
   "source": [
    "logging.basicConfig(level=logging.INFO)"
   ]
  },
  {
   "cell_type": "markdown",
   "metadata": {},
   "source": [
    "## Load EhV IDEAS exports"
   ]
  },
  {
   "cell_type": "code",
   "execution_count": 14,
   "metadata": {},
   "outputs": [],
   "source": [
    "# export\n",
    "\n",
    "def load_raw_ideas_tree(tree_path, load_labels=False):\n",
    "    logger = logging.getLogger(__name__)\n",
    "\n",
    "    data = []\n",
    "    columns = set()\n",
    "\n",
    "    for timepoint_path in [p for p in os.listdir(tree_path) if os.path.isdir(os.path.join(tree_path, p))]:\n",
    "        for replicate_path in os.listdir(os.path.join(tree_path, timepoint_path)):\n",
    "            path = os.path.join(tree_path, timepoint_path, replicate_path)\n",
    "\n",
    "            if not os.path.isfile(os.path.join(path, \"focused.fcs\")):\n",
    "                continue\n",
    "\n",
    "            logger.info(f\"Loading dir {path}\")\n",
    "\n",
    "            meta, features = fcsparser.parse(os.path.join(path, \"focused.fcs\"))\n",
    "            features[\"meta_timepoint\"] = \"\".join(filter(str.isdigit, timepoint_path))\n",
    "            features[\"meta_replicate\"] = replicate_path\n",
    "\n",
    "            if load_labels:\n",
    "                features[\"meta_label\"] = \"unknown\"\n",
    "                for file in [p for p in os.listdir(path) if p.endswith(\".txt\")]:\n",
    "                    label = os.path.splitext(file)[0]\n",
    "                    object_numbers = pandas.read_csv(os.path.join(path, file), skiprows=1, delimiter=\"\\t\", index_col=0).index\n",
    "                    features.loc[object_numbers, \"meta_label\"] = label\n",
    "\n",
    "            logger.debug(f\"Loaded dataframe with shape {features.shape}\")\n",
    "\n",
    "            if len(columns) == 0:\n",
    "                columns |= set(features.columns.values.tolist())\n",
    "            else:\n",
    "                columns &= set(features.columns.values.tolist())\n",
    "\n",
    "            data.append(features)\n",
    "\n",
    "    return pandas.concat(data)[columns]"
   ]
  },
  {
   "cell_type": "code",
   "execution_count": null,
   "metadata": {},
   "outputs": [],
   "source": [
    "df_201 = load_raw_ideas(\"D:/Experiment_data/weizmann/EhV/201\", load_labels=True)\n",
    "df_control = load_raw_ideas(\"D:/Experiment_data/weizmann/EhV/control\", load_labels=False)"
   ]
  },
  {
   "cell_type": "code",
   "execution_count": 15,
   "metadata": {},
   "outputs": [],
   "source": [
    "# export\n",
    "\n",
    "def check_should_load(cif, load_df):\n",
    "    tmp = {}\n",
    "    tmp[\"meta_timepoint\"] = int(\"\".join(filter(str.isdigit, cif.parts[-1].split(\"_\")[1])))\n",
    "    tmp[\"meta_replicate\"] = \"R\"+cif.parts[-1].split(\"_\")[0][1]\n",
    "    tmp[\"meta_group\"] = cif.parts[-2]\n",
    "    \n",
    "    sel = load_df[\n",
    "        (load_df[\"meta_timepoint\"] == tmp[\"meta_timepoint\"]) &\n",
    "        (load_df[\"meta_replicate\"] == tmp[\"meta_replicate\"]) & \n",
    "        (load_df[\"meta_group\"] == tmp[\"meta_group\"])\n",
    "    ]\n",
    "    return len(sel) != 0\n",
    "\n",
    "def load_raw_ideas_fcs(cif, feature_dir, feature_postfix, label_dir):\n",
    "    \n",
    "    fcs = (feature_dir / cif.parts[-2] / (str(cif.stem) + \"_%s\" % feature_postfix)).with_suffix(\".fcs\")\n",
    "    meta, features = fcsparser.parse(fcs)\n",
    "    features[\"Object Number\"] = features[\"Object Number\"].astype(int)\n",
    "    features = features.set_index(\"Object Number\")\n",
    "    features[\"meta_timepoint\"] = int(\"\".join(filter(str.isdigit, cif.parts[-1].split(\"_\")[1])))\n",
    "    features[\"meta_replicate\"] = \"R\"+cif.parts[-1].split(\"_\")[0][1]\n",
    "    features[\"meta_group\"] = cif.parts[-2]\n",
    "    \n",
    "    csv = label_dir / cif.parts[-2] / cif.with_suffix(\".csv\").parts[-1]\n",
    "    labels = pandas.read_csv(csv).set_index(\"Object Number\")\n",
    "    labels.columns = [\"meta_label_\"+c for c in labels.columns]\n",
    "    \n",
    "    return features.join(labels, how=\"inner\").reset_index()\n",
    "\n",
    "def load_raw_ideas_dir(path: Path, feature_dir: Path, feature_postfix: Path, label_dir: Path, load_df:pandas.DataFrame=None, glob: str=\"*.cif\"):\n",
    "    logger = logging.getLogger(__name__)\n",
    "    \n",
    "    path = Path(path)\n",
    "    dfs = []\n",
    "    for cif in path.rglob(glob):\n",
    "        logger.info(cif)\n",
    "        if (load_df is None) or check_should_load(cif, load_df):\n",
    "            features = load_raw_ideas_fcs(cif, feature_dir, feature_postfix, label_dir)\n",
    "            dfs.append(features)\n",
    "    \n",
    "    return pandas.concat(dfs)"
   ]
  },
  {
   "cell_type": "code",
   "execution_count": null,
   "metadata": {},
   "outputs": [],
   "source": [
    "df = load_raw_ideas_dir(\n",
    "    Path(\"/data/weizmann/EhV/high_time_res\"), \n",
    "    Path(\"/data/weizmann/EhV/weizmann-ehv-metadata/representations/ideas_features/\"), \n",
    "    \"ALL\", \n",
    "    Path(\"/data/weizmann/EhV/weizmann-ehv-metadata/cell_populations/manual_gating/\"))"
   ]
  },
  {
   "cell_type": "code",
   "execution_count": null,
   "metadata": {},
   "outputs": [],
   "source": [
    "df.shape"
   ]
  },
  {
   "cell_type": "code",
   "execution_count": 16,
   "metadata": {},
   "outputs": [
    {
     "name": "stderr",
     "output_type": "stream",
     "text": [
      "INFO:__main__:/data/weizmann/EhV/high_time_res/Low/L1_T0_1.cif\n",
      "INFO:__main__:/data/weizmann/EhV/high_time_res/Low/L1_T11_11.cif\n",
      "INFO:__main__:/data/weizmann/EhV/high_time_res/Low/L1_T12_12.cif\n",
      "INFO:__main__:/data/weizmann/EhV/high_time_res/Low/L1_T13_13.cif\n",
      "INFO:__main__:/data/weizmann/EhV/high_time_res/Low/L1_T14_14.cif\n",
      "INFO:__main__:/data/weizmann/EhV/high_time_res/Low/L1_T15_15.cif\n",
      "INFO:__main__:/data/weizmann/EhV/high_time_res/Low/L1_T16_16.cif\n",
      "INFO:__main__:/data/weizmann/EhV/high_time_res/Low/L1_T1_2.cif\n",
      "INFO:__main__:/data/weizmann/EhV/high_time_res/Low/L1_T2_3.cif\n",
      "INFO:__main__:/data/weizmann/EhV/high_time_res/Low/L1_T3_4.cif\n",
      "INFO:__main__:/data/weizmann/EhV/high_time_res/Low/L1_T4_5.cif\n",
      "INFO:__main__:/data/weizmann/EhV/high_time_res/Low/L1_T5_6.cif\n",
      "INFO:__main__:/data/weizmann/EhV/high_time_res/Low/L1_T6_7.cif\n",
      "INFO:__main__:/data/weizmann/EhV/high_time_res/Low/L1_T7_8.cif\n",
      "INFO:__main__:/data/weizmann/EhV/high_time_res/Low/L1_T8_9.cif\n",
      "INFO:__main__:/data/weizmann/EhV/high_time_res/Low/L1_T9_10.cif\n",
      "INFO:__main__:/data/weizmann/EhV/high_time_res/Low/L2_T0_17.cif\n",
      "INFO:__main__:/data/weizmann/EhV/high_time_res/Low/L2_T11_27.cif\n",
      "INFO:__main__:/data/weizmann/EhV/high_time_res/Low/L2_T12_28.cif\n",
      "INFO:__main__:/data/weizmann/EhV/high_time_res/Low/L2_T13_29.cif\n",
      "INFO:__main__:/data/weizmann/EhV/high_time_res/Low/L2_T14_30.cif\n",
      "INFO:__main__:/data/weizmann/EhV/high_time_res/Low/L2_T15_31.cif\n",
      "INFO:__main__:/data/weizmann/EhV/high_time_res/Low/L2_T16_32.cif\n",
      "INFO:__main__:/data/weizmann/EhV/high_time_res/Low/L2_T1_18.cif\n",
      "INFO:__main__:/data/weizmann/EhV/high_time_res/Low/L2_T2_19.cif\n",
      "INFO:__main__:/data/weizmann/EhV/high_time_res/Low/L2_T3_20.cif\n",
      "INFO:__main__:/data/weizmann/EhV/high_time_res/Low/L2_T4_21.cif\n",
      "INFO:__main__:/data/weizmann/EhV/high_time_res/Low/L2_T5_22.cif\n",
      "INFO:__main__:/data/weizmann/EhV/high_time_res/Low/L2_T6_23.cif\n",
      "INFO:__main__:/data/weizmann/EhV/high_time_res/Low/L2_T7_24.cif\n",
      "INFO:__main__:/data/weizmann/EhV/high_time_res/Low/L2_T8_25.cif\n",
      "INFO:__main__:/data/weizmann/EhV/high_time_res/Low/L2_T9_26.cif\n",
      "INFO:__main__:/data/weizmann/EhV/high_time_res/Low/L3_T0_33.cif\n",
      "INFO:__main__:/data/weizmann/EhV/high_time_res/Low/L3_T11_43.cif\n",
      "INFO:__main__:/data/weizmann/EhV/high_time_res/Low/L3_T12_44.cif\n",
      "INFO:__main__:/data/weizmann/EhV/high_time_res/Low/L3_T13_45.cif\n",
      "INFO:__main__:/data/weizmann/EhV/high_time_res/Low/L3_T14_46.cif\n",
      "INFO:__main__:/data/weizmann/EhV/high_time_res/Low/L3_T15_47.cif\n",
      "INFO:__main__:/data/weizmann/EhV/high_time_res/Low/L3_T16_48.cif\n",
      "INFO:__main__:/data/weizmann/EhV/high_time_res/Low/L3_T1_34.cif\n",
      "INFO:__main__:/data/weizmann/EhV/high_time_res/Low/L3_T2_35.cif\n",
      "INFO:__main__:/data/weizmann/EhV/high_time_res/Low/L3_T3_36.cif\n",
      "INFO:__main__:/data/weizmann/EhV/high_time_res/Low/L3_T4_37.cif\n",
      "INFO:__main__:/data/weizmann/EhV/high_time_res/Low/L3_T5_38.cif\n",
      "INFO:__main__:/data/weizmann/EhV/high_time_res/Low/L3_T6_39.cif\n",
      "INFO:__main__:/data/weizmann/EhV/high_time_res/Low/L3_T7_40.cif\n",
      "INFO:__main__:/data/weizmann/EhV/high_time_res/Low/L3_T8_41.cif\n",
      "INFO:__main__:/data/weizmann/EhV/high_time_res/Low/L3_T9_42.cif\n"
     ]
    }
   ],
   "source": [
    "df = load_raw_ideas_dir(\n",
    "    Path(\"/data/weizmann/EhV/high_time_res\"), \n",
    "    Path(\"/data/weizmann/EhV/weizmann-ehv-metadata/representations/ideas_features/\"), \n",
    "    \"ALL\", \n",
    "    Path(\"/data/weizmann/EhV/weizmann-ehv-metadata/cell_populations/manual_gating/\"),\n",
    "    pandas.read_csv(\"data/selected_samples.csv\"), \"Low/*.cif\")"
   ]
  },
  {
   "cell_type": "code",
   "execution_count": 17,
   "metadata": {},
   "outputs": [
    {
     "data": {
      "text/plain": [
       "(691705, 150)"
      ]
     },
     "execution_count": 17,
     "metadata": {},
     "output_type": "execute_result"
    }
   ],
   "source": [
    "df.shape"
   ]
  },
  {
   "cell_type": "code",
   "execution_count": null,
   "metadata": {},
   "outputs": [],
   "source": [
    "# export\n",
    "def load_raw_ideas_dir_dask(path: Path, feature_dir: Path, feature_postfix: Path, label_dir: Path, load_df: pandas.DataFrame, glob: str = \"*.cif\"):\n",
    "    logger = logging.getLogger(__name__)\n",
    "    \n",
    "    path = Path(path)\n",
    "    dfs = []\n",
    "    for cif in path.rglob(glob):\n",
    "        if (load_df is None) or check_should_load(cif, load_df):\n",
    "            dfs.append(delayed(load_raw_ideas_fcs)(cif, feature_dir, feature_postfix, label_dir))\n",
    "\n",
    "    return dd.from_delayed(dfs)"
   ]
  },
  {
   "cell_type": "code",
   "execution_count": null,
   "metadata": {},
   "outputs": [],
   "source": [
    "df = load_raw_ideas_dir_dask(\n",
    "    Path(\"/data/weizmann/EhV/high_time_res\"), \n",
    "    Path(\"/data/weizmann/EhV/weizmann-ehv-metadata/representations/ideas_features/\"), \n",
    "    \"ALL\", \n",
    "    Path(\"/data/weizmann/EhV/weizmann-ehv-metadata/cell_populations/manual_gating/\"))"
   ]
  },
  {
   "cell_type": "code",
   "execution_count": null,
   "metadata": {},
   "outputs": [],
   "source": [
    "df.shape[0].compute()"
   ]
  },
  {
   "cell_type": "markdown",
   "metadata": {},
   "source": [
    "## Feature organization"
   ]
  },
  {
   "cell_type": "markdown",
   "metadata": {},
   "source": [
    "### Raw features\n",
    "Contain values that are not corrected for camera background intensity."
   ]
  },
  {
   "cell_type": "code",
   "execution_count": null,
   "metadata": {},
   "outputs": [],
   "source": [
    "# export\n",
    "def remove_unwanted_features(df):\n",
    "    todrop = df.filter(regex=\"(?i).*(raw|bkgd|saturation).*\").columns\n",
    "\n",
    "    return df.drop(columns=todrop)"
   ]
  },
  {
   "cell_type": "code",
   "execution_count": null,
   "metadata": {},
   "outputs": [],
   "source": [
    "df_201 = remove_unwanted_features(df_201)\n",
    "df_control = remove_unwanted_features(df_control)"
   ]
  },
  {
   "cell_type": "code",
   "execution_count": null,
   "metadata": {},
   "outputs": [],
   "source": [
    "df = remove_unwanted_features(df)"
   ]
  },
  {
   "cell_type": "code",
   "execution_count": null,
   "metadata": {},
   "outputs": [],
   "source": [
    "# export\n",
    "\n",
    "def tag_columns(df):\n",
    "    columns = df.columns.values.tolist()\n",
    "    system_cols = [\"Flow Speed\", \"Time\", \"Object Number\"]\n",
    "    for c in system_cols:\n",
    "        if c in columns:\n",
    "            columns[columns.index(c)] = \"meta_\"+c\n",
    "        \n",
    "    for c in columns:\n",
    "        if not \"meta_\" in c:\n",
    "            columns[columns.index(c)] = \"feat_\"+c\n",
    "            \n",
    "    df.columns = columns\n",
    "    return df"
   ]
  },
  {
   "cell_type": "code",
   "execution_count": null,
   "metadata": {},
   "outputs": [],
   "source": [
    "tag_columns(df).head()"
   ]
  },
  {
   "cell_type": "code",
   "execution_count": null,
   "metadata": {},
   "outputs": [],
   "source": [
    "df = df.map_partitions(tag_columns)"
   ]
  },
  {
   "cell_type": "code",
   "execution_count": null,
   "metadata": {},
   "outputs": [],
   "source": [
    "# export\n",
    "\n",
    "def add_merged_col(df, cols):\n",
    "    df[\"meta_id\"] = df[cols].astype(str).agg(''.join, axis=1)\n",
    "    return df"
   ]
  },
  {
   "cell_type": "code",
   "execution_count": null,
   "metadata": {},
   "outputs": [],
   "source": [
    "df = df.map_partitions(add_merged_col, cols=[\"meta_group\", \"meta_timepoint\", \"meta_replicate\", \"meta_Object Number\"])"
   ]
  },
  {
   "cell_type": "code",
   "execution_count": null,
   "metadata": {},
   "outputs": [],
   "source": [
    "df.head()"
   ]
  },
  {
   "cell_type": "code",
   "execution_count": null,
   "metadata": {},
   "outputs": [],
   "source": [
    "# export\n",
    "\n",
    "def clean_column_names(df):\n",
    "    df.columns = df.columns.map(lambda c: c.lower().replace(\" \", \"_\"))\n",
    "    return df"
   ]
  },
  {
   "cell_type": "code",
   "execution_count": null,
   "metadata": {},
   "outputs": [],
   "source": [
    "df = clean_column_names(df)"
   ]
  },
  {
   "cell_type": "markdown",
   "metadata": {},
   "source": [
    "# Stats"
   ]
  },
  {
   "cell_type": "code",
   "execution_count": null,
   "metadata": {},
   "outputs": [],
   "source": [
    "df_201.shape"
   ]
  },
  {
   "cell_type": "code",
   "execution_count": null,
   "metadata": {},
   "outputs": [],
   "source": [
    "df_control.shape"
   ]
  },
  {
   "cell_type": "markdown",
   "metadata": {},
   "source": [
    "## Number of cells in controls per replicate and timepoint"
   ]
  },
  {
   "cell_type": "code",
   "execution_count": null,
   "metadata": {},
   "outputs": [],
   "source": [
    "seaborn.countplot(x=\"replicate\", hue=\"timepoint\", data=df_control)"
   ]
  },
  {
   "cell_type": "markdown",
   "metadata": {},
   "source": [
    "## MCP/PSBA labels per replicate and timepoint"
   ]
  },
  {
   "cell_type": "code",
   "execution_count": null,
   "metadata": {},
   "outputs": [],
   "source": [
    "seaborn.catplot(x=\"label\", hue=\"replicate\", col=\"timepoint\", data=df_201[df_201[\"label\"] != \"unknown\"], kind=\"count\")"
   ]
  },
  {
   "cell_type": "code",
   "execution_count": null,
   "metadata": {},
   "outputs": [],
   "source": []
  }
 ],
 "metadata": {
  "kernelspec": {
   "display_name": "Python 3",
   "language": "python",
   "name": "python3"
  },
  "language_info": {
   "codemirror_mode": {
    "name": "ipython",
    "version": 3
   },
   "file_extension": ".py",
   "mimetype": "text/x-python",
   "name": "python",
   "nbconvert_exporter": "python",
   "pygments_lexer": "ipython3",
   "version": "3.8.6"
  }
 },
 "nbformat": 4,
 "nbformat_minor": 4
}
