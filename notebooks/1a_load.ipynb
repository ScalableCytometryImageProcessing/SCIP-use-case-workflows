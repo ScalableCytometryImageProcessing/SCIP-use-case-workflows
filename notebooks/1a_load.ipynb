{
 "cells": [
  {
   "cell_type": "code",
   "execution_count": 63,
   "metadata": {},
   "outputs": [],
   "source": [
    "# default_exp load"
   ]
  },
  {
   "cell_type": "markdown",
   "metadata": {},
   "source": [
    "# Load\n",
    "\n",
    "> API details."
   ]
  },
  {
   "cell_type": "code",
   "execution_count": 64,
   "metadata": {},
   "outputs": [],
   "source": [
    "#hide\n",
    "from nbdev.showdoc import *"
   ]
  },
  {
   "cell_type": "code",
   "execution_count": 65,
   "metadata": {},
   "outputs": [],
   "source": [
    "# %load common.py\n",
    "# export\n",
    "\n",
    "import pandas\n",
    "import os\n",
    "import numpy\n",
    "import seaborn\n",
    "import logging"
   ]
  },
  {
   "cell_type": "code",
   "execution_count": 66,
   "metadata": {},
   "outputs": [],
   "source": [
    "# export\n",
    "import fcsparser"
   ]
  },
  {
   "cell_type": "code",
   "execution_count": 67,
   "metadata": {},
   "outputs": [],
   "source": [
    "logging.basicConfig(level=logging.INFO)"
   ]
  },
  {
   "cell_type": "markdown",
   "metadata": {},
   "source": [
    "## Load EhV IDEAS exports"
   ]
  },
  {
   "cell_type": "code",
   "execution_count": 68,
   "metadata": {},
   "outputs": [],
   "source": [
    "# export\n",
    "\n",
    "def load_raw_ideas(tree_path, load_labels=False):\n",
    "    \n",
    "    data = []\n",
    "    columns = set()\n",
    "    \n",
    "    for timepoint_path in os.listdir(tree_path):\n",
    "        for replicate_path in os.listdir(os.path.join(tree_path, timepoint_path)):\n",
    "            path = os.path.join(tree_path, timepoint_path, replicate_path)\n",
    "            \n",
    "            if not os.path.isfile(os.path.join(path, \"focused.fcs\")):\n",
    "                continue\n",
    "                \n",
    "            logging.info(f\"Loading dir {path}\")\n",
    "            \n",
    "            meta, features = fcsparser.parse(os.path.join(path, \"focused.fcs\"))\n",
    "            features = features.set_index(\"Object Number\")\n",
    "            features.index = features.index.astype(numpy.uint64)\n",
    "            features[\"timepoint\"] = timepoint_path\n",
    "            features[\"replicate\"] = replicate_path\n",
    "            \n",
    "            if load_labels:\n",
    "                features[\"label\"] = \"unknown\"\n",
    "                for file in [p for p in os.listdir(path) if p.endswith(\".txt\")]:\n",
    "                    label = os.path.splitext(file)[0]\n",
    "                    object_numbers = pandas.read_csv(os.path.join(path, file), skiprows=1, delimiter=\"\\t\", index_col=0).index\n",
    "                    features.loc[object_numbers, \"label\"] = label\n",
    "                    \n",
    "            logging.debug(f\"Loaded dataframe with shape {features.shape}\")\n",
    "            \n",
    "            if len(columns) == 0:\n",
    "                columns |= set(features.columns.values.tolist())\n",
    "            else:\n",
    "                columns &= set(features.columns.values.tolist())\n",
    "                    \n",
    "            data.append(features)\n",
    "            \n",
    "    return pandas.concat(data)[columns]"
   ]
  },
  {
   "cell_type": "code",
   "execution_count": 69,
   "metadata": {},
   "outputs": [
    {
     "name": "stderr",
     "output_type": "stream",
     "text": [
      "INFO:root:Loading dir D:/Experiment_data/weizmann/EhV/201\\T0\\R1\n",
      "INFO:root:Loading dir D:/Experiment_data/weizmann/EhV/201\\T0\\R2\n",
      "INFO:root:Loading dir D:/Experiment_data/weizmann/EhV/201\\T0\\R3\n",
      "INFO:root:Loading dir D:/Experiment_data/weizmann/EhV/201\\T4\\R1\n",
      "INFO:root:Loading dir D:/Experiment_data/weizmann/EhV/201\\T4\\R2\n",
      "INFO:root:Loading dir D:/Experiment_data/weizmann/EhV/201\\T4\\R3\n",
      "INFO:root:Loading dir D:/Experiment_data/weizmann/EhV/201\\T5\\R1\n",
      "INFO:root:Loading dir D:/Experiment_data/weizmann/EhV/201\\T5\\R2\n",
      "INFO:root:Loading dir D:/Experiment_data/weizmann/EhV/201\\T5\\R3\n",
      "INFO:root:Loading dir D:/Experiment_data/weizmann/EhV/201\\T6\\R1\n",
      "INFO:root:Loading dir D:/Experiment_data/weizmann/EhV/201\\T6\\R2\n",
      "INFO:root:Loading dir D:/Experiment_data/weizmann/EhV/201\\T6\\R3\n",
      "INFO:root:Loading dir D:/Experiment_data/weizmann/EhV/201\\T7\\R1\n",
      "INFO:root:Loading dir D:/Experiment_data/weizmann/EhV/201\\T7\\R2\n",
      "INFO:root:Loading dir D:/Experiment_data/weizmann/EhV/201\\T7\\R3\n",
      "INFO:root:Loading dir D:/Experiment_data/weizmann/EhV/control\\T0\\R2\n",
      "INFO:root:Loading dir D:/Experiment_data/weizmann/EhV/control\\T0\\R3\n",
      "INFO:root:Loading dir D:/Experiment_data/weizmann/EhV/control\\T4\\R2\n",
      "INFO:root:Loading dir D:/Experiment_data/weizmann/EhV/control\\T4\\R3\n",
      "INFO:root:Loading dir D:/Experiment_data/weizmann/EhV/control\\T5\\R2\n",
      "INFO:root:Loading dir D:/Experiment_data/weizmann/EhV/control\\T5\\R3\n",
      "INFO:root:Loading dir D:/Experiment_data/weizmann/EhV/control\\T6\\R2\n",
      "INFO:root:Loading dir D:/Experiment_data/weizmann/EhV/control\\T6\\R3\n",
      "INFO:root:Loading dir D:/Experiment_data/weizmann/EhV/control\\T7\\R2\n",
      "INFO:root:Loading dir D:/Experiment_data/weizmann/EhV/control\\T7\\R3\n"
     ]
    }
   ],
   "source": [
    "df_201 = load_raw_ideas(\"D:/Experiment_data/weizmann/EhV/201\", load_labels=True)\n",
    "df_control = load_raw_ideas(\"D:/Experiment_data/weizmann/EhV/control\", load_labels=False)"
   ]
  },
  {
   "cell_type": "markdown",
   "metadata": {},
   "source": [
    "## Unwanted features"
   ]
  },
  {
   "cell_type": "markdown",
   "metadata": {},
   "source": [
    "### Raw features\n",
    "Contain values that are not corrected for camera background intensity."
   ]
  },
  {
   "cell_type": "code",
   "execution_count": 70,
   "metadata": {},
   "outputs": [],
   "source": [
    "# export\n",
    "def remove_unwanted_features(df):\n",
    "    todrop = df.filter(regex=\"(?i).*(raw|bkgd).*\").columns\n",
    "       \n",
    "    return df.drop(columns=todrop)"
   ]
  },
  {
   "cell_type": "code",
   "execution_count": 71,
   "metadata": {},
   "outputs": [],
   "source": [
    "df_201 = remove_unwanted_features(df_201)\n",
    "df_control = remove_unwanted_features(df_control)"
   ]
  },
  {
   "cell_type": "markdown",
   "metadata": {},
   "source": [
    "# Stats"
   ]
  },
  {
   "cell_type": "code",
   "execution_count": 73,
   "metadata": {},
   "outputs": [
    {
     "data": {
      "text/plain": [
       "(88514, 137)"
      ]
     },
     "execution_count": 73,
     "metadata": {},
     "output_type": "execute_result"
    }
   ],
   "source": [
    "df_201.shape"
   ]
  },
  {
   "cell_type": "code",
   "execution_count": 74,
   "metadata": {},
   "outputs": [
    {
     "data": {
      "text/plain": [
       "(63376, 136)"
      ]
     },
     "execution_count": 74,
     "metadata": {},
     "output_type": "execute_result"
    }
   ],
   "source": [
    "df_control.shape"
   ]
  },
  {
   "cell_type": "markdown",
   "metadata": {},
   "source": [
    "## Number of cells in controls per replicate and timepoint"
   ]
  },
  {
   "cell_type": "code",
   "execution_count": 60,
   "metadata": {},
   "outputs": [
    {
     "data": {
      "text/plain": [
       "<AxesSubplot:xlabel='replicate', ylabel='count'>"
      ]
     },
     "execution_count": 60,
     "metadata": {},
     "output_type": "execute_result"
    },
    {
     "data": {
      "image/png": "[encoded data removed]",
      "text/plain": [
       "<Figure size 432x288 with 1 Axes>"
      ]
     },
     "metadata": {
      "needs_background": "light"
     },
     "output_type": "display_data"
    }
   ],
   "source": [
    "seaborn.countplot(x=\"replicate\", hue=\"timepoint\", data=df_control)"
   ]
  },
  {
   "cell_type": "markdown",
   "metadata": {},
   "source": [
    "## MCP/PSBA labels per replicate and timepoint"
   ]
  },
  {
   "cell_type": "code",
   "execution_count": 61,
   "metadata": {},
   "outputs": [
    {
     "data": {
      "text/plain": [
       "<seaborn.axisgrid.FacetGrid at 0x28c151d17f0>"
      ]
     },
     "execution_count": 61,
     "metadata": {},
     "output_type": "execute_result"
    },
    {
     "data": {
      "image/png": "[encoded data removed]",
      "text/plain": [
       "<Figure size 1851.62x360 with 5 Axes>"
      ]
     },
     "metadata": {
      "needs_background": "light"
     },
     "output_type": "display_data"
    }
   ],
   "source": [
    "seaborn.catplot(x=\"label\", hue=\"replicate\", col=\"timepoint\", data=df_201[df_201[\"label\"] != \"unknown\"], kind=\"count\")"
   ]
  },
  {
   "cell_type": "code",
   "execution_count": null,
   "metadata": {},
   "outputs": [],
   "source": []
  }
 ],
 "metadata": {
  "kernelspec": {
   "display_name": "Python 3",
   "language": "python",
   "name": "python3"
  },
  "language_info": {
   "codemirror_mode": {
    "name": "ipython",
    "version": 3
   },
   "file_extension": ".py",
   "mimetype": "text/x-python",
   "name": "python",
   "nbconvert_exporter": "python",
   "pygments_lexer": "ipython3",
   "version": "3.8.5"
  }
 },
 "nbformat": 4,
 "nbformat_minor": 4
}
