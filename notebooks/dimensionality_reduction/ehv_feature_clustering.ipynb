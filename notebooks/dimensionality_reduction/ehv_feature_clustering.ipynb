{
 "cells": [
  {
   "cell_type": "markdown",
   "id": "c221c4d2-16ad-4bc4-81c5-970048b4650f",
   "metadata": {
    "tags": []
   },
   "source": [
    "# EhV"
   ]
  },
  {
   "cell_type": "markdown",
   "id": "e49f9108-2733-4ba2-90a8-ac64b46c78b3",
   "metadata": {
    "tags": []
   },
   "source": [
    "# Package imports"
   ]
  },
  {
   "cell_type": "code",
   "execution_count": 2,
   "id": "fda41c30-203b-40f1-9e74-4f9d9502e4fe",
   "metadata": {},
   "outputs": [],
   "source": [
    "%load_ext autoreload\n",
    "%autoreload 2"
   ]
  },
  {
   "cell_type": "code",
   "execution_count": 3,
   "id": "149ac56d-c36b-4558-a4f3-2b280e02c88b",
   "metadata": {},
   "outputs": [],
   "source": [
    "%matplotlib inline"
   ]
  },
  {
   "cell_type": "code",
   "execution_count": 4,
   "id": "99a9bb96-c638-459a-9732-3cbca416c3b2",
   "metadata": {},
   "outputs": [],
   "source": [
    "# %load ../common_.py\n",
    "import sys\n",
    "sys.path.append(\"..\")\n",
    "from common import *"
   ]
  },
  {
   "cell_type": "code",
   "execution_count": 5,
   "id": "b5ba0f55-287e-474e-bf26-8d266dee107e",
   "metadata": {},
   "outputs": [],
   "source": [
    "import joblib\n",
    "\n",
    "import scipy.stats\n",
    "from scipy.cluster import hierarchy\n",
    "from scipy.spatial.distance import squareform\n",
    "\n",
    "from sklearn.model_selection import train_test_split\n",
    "from scipy.cluster.hierarchy import fcluster\n",
    "from xgboost import XGBClassifier\n",
    "from imblearn.pipeline import make_pipeline\n",
    "from imblearn.over_sampling import RandomOverSampler\n",
    "from sklearn.inspection import permutation_importance\n",
    "from sklearn.metrics import balanced_accuracy_score\n",
    "\n",
    "import pickle"
   ]
  },
  {
   "cell_type": "code",
   "execution_count": 6,
   "id": "904a9bd4-417f-4873-9ff8-c5d998467d6e",
   "metadata": {},
   "outputs": [],
   "source": [
    "data_dir = Path(os.environ[\"VSC_DATA_VO_USER\"]) / \"datasets/weizmann/EhV/v2/results/scip/202202071958/\""
   ]
  },
  {
   "cell_type": "code",
   "execution_count": 7,
   "id": "7b9c3232-7b79-4687-98ed-12a432983f30",
   "metadata": {},
   "outputs": [
    {
     "data": {
      "text/plain": [
       "(103775, 914)"
      ]
     },
     "execution_count": 7,
     "metadata": {},
     "output_type": "execute_result"
    }
   ],
   "source": [
    "df = pq.read_table(data_dir / \"features.parquet\").to_pandas()\n",
    "cat_type = CategoricalDtype(categories=sorted(df[\"meta_group\"].astype(int).unique()), ordered=True)\n",
    "df[\"meta_group\"] = df[\"meta_group\"].astype(int).astype(cat_type)\n",
    "df[\"meta_replicate\"] = df[\"meta_replicate\"].astype(int)\n",
    "df = df.set_index([\"meta_type\", \"meta_object_number\", \"meta_replicate\", \"meta_suffix\", \"meta_group\"])\n",
    "df = df[numpy.load(data_dir / \"indices/columns.npy\", allow_pickle=True)]\n",
    "df = df.loc[numpy.load(data_dir / \"indices/iso.npy\", allow_pickle=True)]\n",
    "df = df[df[\"meta_label\"] != \"unknown\"]\n",
    "df[\"meta_label\"] = pandas.Categorical(df[\"meta_label\"], categories=[\"mcp-_psba+\", \"mcp+_psba+\", \"mcp+_psba-\", \"mcp-_psba-\"], ordered=True)\n",
    "df.shape"
   ]
  },
  {
   "cell_type": "code",
   "execution_count": 8,
   "id": "1f55a0ab-25b1-465b-bcf9-0c579a05273f",
   "metadata": {},
   "outputs": [],
   "source": [
    "with open(data_dir / \"rfe/xgb_features.txt\", \"r\") as fh:\n",
    "    selected = [col[len(\"scip_\"):] for col in fh.read().split(\",\")]"
   ]
  },
  {
   "cell_type": "code",
   "execution_count": 9,
   "id": "de587fff-22b0-47d3-afe8-75f3fa2aa50b",
   "metadata": {},
   "outputs": [],
   "source": [
    "df = pandas.concat([df.filter(regex=\"meta\"), df[selected]], axis=1)"
   ]
  },
  {
   "cell_type": "code",
   "execution_count": 10,
   "id": "10ee0258-4167-4c45-9759-75f6324898a6",
   "metadata": {},
   "outputs": [
    {
     "data": {
      "text/plain": [
       "(29731, 111)"
      ]
     },
     "execution_count": 10,
     "metadata": {},
     "output_type": "execute_result"
    }
   ],
   "source": [
    "# selection of the generic channel features for SCIP\n",
    "to_keep = df.filter(regex=\"feat.*(BF1|BF2|DAPI|SSC)$\").columns\n",
    "Xs = df.loc[\"Inf\"][to_keep]\n",
    "Xs.shape"
   ]
  },
  {
   "cell_type": "code",
   "execution_count": 11,
   "id": "db6b350a-f0e1-4d58-aea5-a3603ff44f75",
   "metadata": {},
   "outputs": [],
   "source": [
    "y = df.loc[\"Inf\"][\"meta_label\"]"
   ]
  },
  {
   "cell_type": "code",
   "execution_count": 12,
   "id": "6c841e26-a0ac-4366-bcc4-f8836c90d336",
   "metadata": {},
   "outputs": [],
   "source": [
    "Xs_train, Xs_test, y_train, y_test = train_test_split(Xs, y, stratify=y, test_size=0.1, random_state=0)"
   ]
  },
  {
   "cell_type": "code",
   "execution_count": 14,
   "id": "5668913a-68e9-4d70-904d-dc1677c5905c",
   "metadata": {},
   "outputs": [],
   "source": [
    "corr = scipy.stats.spearmanr(Xs_train).correlation\n",
    "\n",
    "# Ensure the correlation matrix is symmetric\n",
    "corr = (corr + corr.T) / 2\n",
    "numpy.fill_diagonal(corr, 1)\n",
    "\n",
    "# We convert the correlation matrix to a distance matrix before performing\n",
    "# hierarchical clustering using Ward's linkage.\n",
    "distance_matrix = 1 - numpy.abs(corr)\n",
    "dist_linkage = hierarchy.ward(squareform(distance_matrix))"
   ]
  },
  {
   "cell_type": "code",
   "execution_count": 15,
   "id": "64877482-1938-47ef-a2a6-f9ec46c61d5f",
   "metadata": {},
   "outputs": [],
   "source": [
    "clusters = fcluster(dist_linkage, 0.5, criterion=\"distance\").ravel().tolist()\n",
    "indices = [clusters.index(c) for c in numpy.unique(clusters)]\n",
    "features = [Xs_train.columns[i] for i in indices]"
   ]
  },
  {
   "cell_type": "code",
   "execution_count": 29,
   "id": "cef02a5a-6d0a-495b-a40b-7c51c3044a51",
   "metadata": {},
   "outputs": [
    {
     "data": {
      "text/plain": [
       "<seaborn.matrix.ClusterGrid at 0x1498d01605e0>"
      ]
     },
     "execution_count": 29,
     "metadata": {},
     "output_type": "execute_result"
    },
    {
     "data": {
      "image/png": "[encoded data removed]",
      "text/plain": [
       "<Figure size 720x720 with 4 Axes>"
      ]
     },
     "metadata": {},
     "output_type": "display_data"
    }
   ],
   "source": [
    "seaborn.clustermap(corr[indices, :][:, indices], vmin=-1, vmax=1, center=0)"
   ]
  },
  {
   "cell_type": "code",
   "execution_count": null,
   "id": "6e81a49b-6025-49a3-b0f2-bafc9a8efc88",
   "metadata": {},
   "outputs": [],
   "source": [
    "model = make_pipeline(\n",
    "    RandomOverSampler(random_state=0),\n",
    "    XGBClassifier(\n",
    "        booster=\"gbtree\",  \n",
    "        objective=\"multi:softmax\", \n",
    "        eval_metric=\"merror\",\n",
    "        tree_method=\"gpu_hist\",\n",
    "        use_label_encoder=False,\n",
    "        subsample=0.9,\n",
    "        n_estimators=1458,\n",
    "        learning_rate=0.7,\n",
    "        max_depth=7,\n",
    "        colsample_bytree=1\n",
    "    )\n",
    ").fit(Xs_train[features], y_train)"
   ]
  },
  {
   "cell_type": "code",
   "execution_count": null,
   "id": "2a6edd88-600b-452b-a545-53a99969662c",
   "metadata": {},
   "outputs": [],
   "source": [
    "balanced_accuracy_score(model.predict(Xs_test), y_test)"
   ]
  },
  {
   "cell_type": "code",
   "execution_count": 141,
   "id": "cd80e7e3-98c6-4509-9aa2-79713ea23105",
   "metadata": {},
   "outputs": [
    {
     "data": {
      "text/plain": [
       "['feat_area_BF1',\n",
       " 'feat_mean_BF1',\n",
       " 'feat_mad_BF1',\n",
       " 'feat_sum_SSC',\n",
       " 'feat_mean_DAPI']"
      ]
     },
     "execution_count": 141,
     "metadata": {},
     "output_type": "execute_result"
    }
   ],
   "source": [
    "r = permutation_importance(\n",
    "    model, \n",
    "    Xs_test, y_test, \n",
    "    scoring=\"balanced_accuracy\",\n",
    "    n_jobs=32, n_repeats=10, \n",
    "    random_state=0\n",
    ")"
   ]
  },
  {
   "cell_type": "code",
   "execution_count": null,
   "id": "7f732f31-d63f-43c7-8868-eb93ca86d64a",
   "metadata": {},
   "outputs": [],
   "source": [
    "with open(data_dir / \"importance/pi.pickle\", \"wb\") as fh:\n",
    "    pickle.dump(fh, r)"
   ]
  }
 ],
 "metadata": {
  "kernelspec": {
   "display_name": "Python 3 (ipykernel)",
   "language": "python",
   "name": "python3"
  },
  "language_info": {
   "codemirror_mode": {
    "name": "ipython",
    "version": 3
   },
   "file_extension": ".py",
   "mimetype": "text/x-python",
   "name": "python",
   "nbconvert_exporter": "python",
   "pygments_lexer": "ipython3",
   "version": "3.9.6"
  }
 },
 "nbformat": 4,
 "nbformat_minor": 5
}
