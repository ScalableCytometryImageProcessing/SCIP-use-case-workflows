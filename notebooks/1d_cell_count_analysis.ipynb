{
 "cells": [
  {
   "cell_type": "code",
   "execution_count": 2,
   "metadata": {
    "hide_input": true
   },
   "outputs": [],
   "source": [
    "from nbdev import *"
   ]
  },
  {
   "cell_type": "markdown",
   "metadata": {},
   "source": [
    "# Cell count analysis"
   ]
  },
  {
   "cell_type": "code",
   "execution_count": 1,
   "metadata": {},
   "outputs": [],
   "source": [
    "# %load common_.py\n",
    "from common import *"
   ]
  },
  {
   "cell_type": "code",
   "execution_count": 3,
   "metadata": {},
   "outputs": [],
   "source": [
    "logging.basicConfig(level=logging.INFO)\n",
    "logger = logging.getLogger(__name__)"
   ]
  },
  {
   "cell_type": "code",
   "execution_count": 4,
   "metadata": {},
   "outputs": [],
   "source": [
    "import glob\n",
    "import multiprocessing"
   ]
  },
  {
   "cell_type": "code",
   "execution_count": 5,
   "metadata": {},
   "outputs": [],
   "source": [
    "DIR = \"/data/weizmann/EhV/high_time_res\""
   ]
  },
  {
   "cell_type": "code",
   "execution_count": 8,
   "metadata": {},
   "outputs": [],
   "source": [
    "data = {\n",
    "    \"index\": [],\n",
    "    \"file\": [],\n",
    "}\n",
    "\n",
    "classes = [\"coi\"]\n",
    "for c in classes:\n",
    "    data.update({c: []})"
   ]
  },
  {
   "cell_type": "code",
   "execution_count": 7,
   "metadata": {},
   "outputs": [
    {
     "name": "stderr",
     "output_type": "stream",
     "text": [
      "INFO:__main__:Submitted 120\n",
      "INFO:__main__:/data/weizmann/EhV/high_time_res/Ctrl/C1_T0_49_ALL.txt\n",
      "INFO:__main__:/data/weizmann/EhV/high_time_res/Ctrl/C1_T11_55_ALL.txt\n",
      "INFO:__main__:/data/weizmann/EhV/high_time_res/Ctrl/C1_T13_56_ALL.txt\n",
      "INFO:__main__:/data/weizmann/EhV/high_time_res/Ctrl/C1_T15_57_ALL.txt\n",
      "INFO:__main__:/data/weizmann/EhV/high_time_res/Ctrl/C1_T3_50_ALL.txt\n",
      "INFO:__main__:/data/weizmann/EhV/high_time_res/Ctrl/C1_T4_51_ALL.txt\n",
      "INFO:__main__:/data/weizmann/EhV/high_time_res/Ctrl/C1_T5_52_ALL.txt\n",
      "INFO:__main__:/data/weizmann/EhV/high_time_res/Ctrl/C1_T6_53_ALL.txt\n",
      "INFO:__main__:/data/weizmann/EhV/high_time_res/Ctrl/C1_T7_54_ALL.txt\n",
      "INFO:__main__:/data/weizmann/EhV/high_time_res/Ctrl/C2_T0_58_ALL.txt\n",
      "INFO:__main__:/data/weizmann/EhV/high_time_res/Ctrl/C2_T11_64_ALL.txt\n",
      "INFO:__main__:/data/weizmann/EhV/high_time_res/Ctrl/C2_T13_65_ALL.txt\n",
      "INFO:__main__:/data/weizmann/EhV/high_time_res/Ctrl/C2_T3_59_ALL.txt\n",
      "INFO:__main__:/data/weizmann/EhV/high_time_res/Ctrl/C2_T4_60_ALL.txt\n",
      "INFO:__main__:/data/weizmann/EhV/high_time_res/Ctrl/C2_T5_61_ALL.txt\n",
      "INFO:__main__:/data/weizmann/EhV/high_time_res/Ctrl/C2_T6_62_ALL.txt\n",
      "INFO:__main__:/data/weizmann/EhV/high_time_res/Ctrl/C2_T7_63_ALL.txt\n",
      "INFO:__main__:/data/weizmann/EhV/high_time_res/Ctrl/C3_T0_66_ALL.txt\n",
      "INFO:__main__:/data/weizmann/EhV/high_time_res/Ctrl/C3_T11_72_ALL.txt\n",
      "INFO:__main__:/data/weizmann/EhV/high_time_res/Ctrl/C3_T13_73_ALL.txt\n",
      "INFO:__main__:/data/weizmann/EhV/high_time_res/Ctrl/C3_T3_67_ALL.txt\n",
      "INFO:__main__:/data/weizmann/EhV/high_time_res/Ctrl/C3_T4_68_ALL.txt\n",
      "INFO:__main__:/data/weizmann/EhV/high_time_res/Ctrl/C3_T5_69_ALL.txt\n",
      "INFO:__main__:/data/weizmann/EhV/high_time_res/Ctrl/C3_T6_70_ALL.txt\n",
      "INFO:__main__:/data/weizmann/EhV/high_time_res/Ctrl/C3_T7_71_ALL.txt\n",
      "INFO:__main__:/data/weizmann/EhV/high_time_res/High/H1_T0_1_ALL.txt\n",
      "INFO:__main__:/data/weizmann/EhV/high_time_res/High/H1_T11_11_ALL.txt\n",
      "INFO:__main__:/data/weizmann/EhV/high_time_res/High/H1_T12_12_ALL.txt\n",
      "INFO:__main__:/data/weizmann/EhV/high_time_res/High/H1_T13_13_ALL.txt\n",
      "INFO:__main__:/data/weizmann/EhV/high_time_res/High/H1_T14_14_ALL.txt\n",
      "INFO:__main__:/data/weizmann/EhV/high_time_res/High/H1_T15_15_ALL.txt\n",
      "INFO:__main__:/data/weizmann/EhV/high_time_res/High/H1_T16_16_ALL.txt\n",
      "INFO:__main__:/data/weizmann/EhV/high_time_res/High/H1_T1_2_ALL.txt\n",
      "INFO:__main__:/data/weizmann/EhV/high_time_res/High/H1_T2_3_ALL.txt\n",
      "INFO:__main__:/data/weizmann/EhV/high_time_res/High/H1_T3_4_ALL.txt\n",
      "INFO:__main__:/data/weizmann/EhV/high_time_res/High/H1_T4_5_ALL.txt\n",
      "INFO:__main__:/data/weizmann/EhV/high_time_res/High/H1_T5_6_ALL.txt\n",
      "INFO:__main__:/data/weizmann/EhV/high_time_res/High/H1_T6_7_ALL.txt\n",
      "INFO:__main__:/data/weizmann/EhV/high_time_res/High/H1_T7_8_ALL.txt\n",
      "INFO:__main__:/data/weizmann/EhV/high_time_res/High/H1_T8_9_ALL.txt\n",
      "INFO:__main__:/data/weizmann/EhV/high_time_res/High/H1_T9_10_ALL.txt\n",
      "INFO:__main__:/data/weizmann/EhV/high_time_res/High/H2_T11_26_ALL.txt\n",
      "INFO:__main__:/data/weizmann/EhV/high_time_res/High/H2_T12_27_ALL.txt\n",
      "INFO:__main__:/data/weizmann/EhV/high_time_res/High/H2_T13_28_ALL.txt\n",
      "INFO:__main__:/data/weizmann/EhV/high_time_res/High/H2_T14_29_ALL.txt\n",
      "INFO:__main__:/data/weizmann/EhV/high_time_res/High/H2_T15_30_ALL.txt\n",
      "INFO:__main__:/data/weizmann/EhV/high_time_res/High/H2_T16_31_ALL.txt\n",
      "INFO:__main__:/data/weizmann/EhV/high_time_res/High/H2_T1_17_ALL.txt\n",
      "INFO:__main__:/data/weizmann/EhV/high_time_res/High/H2_T2_18_ALL.txt\n",
      "INFO:__main__:/data/weizmann/EhV/high_time_res/High/H2_T3_19_ALL.txt\n",
      "INFO:__main__:/data/weizmann/EhV/high_time_res/High/H2_T4_20_ALL.txt\n",
      "INFO:__main__:/data/weizmann/EhV/high_time_res/High/H2_T5_21_ALL.txt\n",
      "INFO:__main__:/data/weizmann/EhV/high_time_res/High/H2_T6_22_ALL.txt\n",
      "INFO:__main__:/data/weizmann/EhV/high_time_res/High/H2_T7_23_ALL.txt\n",
      "INFO:__main__:/data/weizmann/EhV/high_time_res/High/H2_T8_24_ALL.txt\n",
      "INFO:__main__:/data/weizmann/EhV/high_time_res/High/H2_T9_25_ALL.txt\n",
      "INFO:__main__:/data/weizmann/EhV/high_time_res/High/H3_T0_32_ALL.txt\n",
      "INFO:__main__:/data/weizmann/EhV/high_time_res/High/H3_T11_42_ALL.txt\n",
      "INFO:__main__:/data/weizmann/EhV/high_time_res/High/H3_T12_43_ALL.txt\n",
      "INFO:__main__:/data/weizmann/EhV/high_time_res/High/H3_T13_44_ALL.txt\n",
      "INFO:__main__:/data/weizmann/EhV/high_time_res/High/H3_T14_45_ALL.txt\n",
      "INFO:__main__:/data/weizmann/EhV/high_time_res/High/H3_T15_46_ALL.txt\n",
      "INFO:__main__:/data/weizmann/EhV/high_time_res/High/H3_T16_47_ALL.txt\n",
      "INFO:__main__:/data/weizmann/EhV/high_time_res/High/H3_T1_33_ALL.txt\n",
      "INFO:__main__:/data/weizmann/EhV/high_time_res/High/H3_T2_34_ALL.txt\n",
      "INFO:__main__:/data/weizmann/EhV/high_time_res/High/H3_T3_35_ALL.txt\n",
      "INFO:__main__:/data/weizmann/EhV/high_time_res/High/H3_T4_36_ALL.txt\n",
      "INFO:__main__:/data/weizmann/EhV/high_time_res/High/H3_T5_37_ALL.txt\n",
      "INFO:__main__:/data/weizmann/EhV/high_time_res/High/H3_T6_38_ALL.txt\n",
      "INFO:__main__:/data/weizmann/EhV/high_time_res/High/H3_T7_39_ALL.txt\n",
      "INFO:__main__:/data/weizmann/EhV/high_time_res/High/H3_T8_40_ALL.txt\n",
      "INFO:__main__:/data/weizmann/EhV/high_time_res/High/H3_T9_41_ALL.txt\n",
      "INFO:__main__:/data/weizmann/EhV/high_time_res/Low/L1_T0_1_ALL.txt\n",
      "INFO:__main__:/data/weizmann/EhV/high_time_res/Low/L1_T11_11_ALL.txt\n",
      "INFO:__main__:/data/weizmann/EhV/high_time_res/Low/L1_T12_12_ALL.txt\n",
      "INFO:__main__:/data/weizmann/EhV/high_time_res/Low/L1_T13_13_ALL.txt\n",
      "INFO:__main__:/data/weizmann/EhV/high_time_res/Low/L1_T14_14_ALL.txt\n",
      "INFO:__main__:/data/weizmann/EhV/high_time_res/Low/L1_T15_15_ALL.txt\n",
      "INFO:__main__:/data/weizmann/EhV/high_time_res/Low/L1_T16_16_ALL.txt\n",
      "INFO:__main__:/data/weizmann/EhV/high_time_res/Low/L1_T1_2_ALL.txt\n",
      "INFO:__main__:/data/weizmann/EhV/high_time_res/Low/L1_T2_3_ALL.txt\n",
      "INFO:__main__:/data/weizmann/EhV/high_time_res/Low/L1_T3_4_ALL.txt\n",
      "INFO:__main__:/data/weizmann/EhV/high_time_res/Low/L1_T4_5_ALL.txt\n",
      "INFO:__main__:/data/weizmann/EhV/high_time_res/Low/L1_T5_6_ALL.txt\n",
      "INFO:__main__:/data/weizmann/EhV/high_time_res/Low/L1_T6_7_ALL.txt\n",
      "INFO:__main__:/data/weizmann/EhV/high_time_res/Low/L1_T7_8_ALL.txt\n",
      "INFO:__main__:/data/weizmann/EhV/high_time_res/Low/L1_T8_9_ALL.txt\n",
      "INFO:__main__:/data/weizmann/EhV/high_time_res/Low/L1_T9_10_ALL.txt\n",
      "INFO:__main__:/data/weizmann/EhV/high_time_res/Low/L2_T0_17_ALL.txt\n",
      "INFO:__main__:/data/weizmann/EhV/high_time_res/Low/L2_T11_27_ALL.txt\n",
      "INFO:__main__:/data/weizmann/EhV/high_time_res/Low/L2_T12_28_ALL.txt\n",
      "INFO:__main__:/data/weizmann/EhV/high_time_res/Low/L2_T13_29_ALL.txt\n",
      "INFO:__main__:/data/weizmann/EhV/high_time_res/Low/L2_T14_30_ALL.txt\n",
      "INFO:__main__:/data/weizmann/EhV/high_time_res/Low/L2_T15_31_ALL.txt\n",
      "INFO:__main__:/data/weizmann/EhV/high_time_res/Low/L2_T16_32_ALL.txt\n",
      "INFO:__main__:/data/weizmann/EhV/high_time_res/Low/L2_T1_18_ALL.txt\n",
      "INFO:__main__:/data/weizmann/EhV/high_time_res/Low/L2_T2_19_ALL.txt\n",
      "INFO:__main__:/data/weizmann/EhV/high_time_res/Low/L2_T3_20_ALL.txt\n",
      "INFO:__main__:/data/weizmann/EhV/high_time_res/Low/L2_T4_21_ALL.txt\n",
      "INFO:__main__:/data/weizmann/EhV/high_time_res/Low/L2_T5_22_ALL.txt\n",
      "INFO:__main__:/data/weizmann/EhV/high_time_res/Low/L2_T6_23_ALL.txt\n",
      "INFO:__main__:/data/weizmann/EhV/high_time_res/Low/L2_T7_24_ALL.txt\n",
      "INFO:__main__:/data/weizmann/EhV/high_time_res/Low/L2_T8_25_ALL.txt\n",
      "INFO:__main__:/data/weizmann/EhV/high_time_res/Low/L2_T9_26_ALL.txt\n",
      "INFO:__main__:/data/weizmann/EhV/high_time_res/Low/L3_T0_33_ALL.txt\n",
      "INFO:__main__:/data/weizmann/EhV/high_time_res/Low/L3_T11_43_ALL.txt\n",
      "INFO:__main__:/data/weizmann/EhV/high_time_res/Low/L3_T12_44_ALL.txt\n",
      "INFO:__main__:/data/weizmann/EhV/high_time_res/Low/L3_T13_45_ALL.txt\n",
      "INFO:__main__:/data/weizmann/EhV/high_time_res/Low/L3_T14_46_ALL.txt\n",
      "INFO:__main__:/data/weizmann/EhV/high_time_res/Low/L3_T15_47_ALL.txt\n",
      "INFO:__main__:/data/weizmann/EhV/high_time_res/Low/L3_T16_48_ALL.txt\n",
      "INFO:__main__:/data/weizmann/EhV/high_time_res/Low/L3_T1_34_ALL.txt\n",
      "INFO:__main__:/data/weizmann/EhV/high_time_res/Low/L3_T2_35_ALL.txt\n",
      "INFO:__main__:/data/weizmann/EhV/high_time_res/Low/L3_T3_36_ALL.txt\n",
      "INFO:__main__:/data/weizmann/EhV/high_time_res/Low/L3_T4_37_ALL.txt\n",
      "INFO:__main__:/data/weizmann/EhV/high_time_res/Low/L3_T5_38_ALL.txt\n",
      "INFO:__main__:/data/weizmann/EhV/high_time_res/Low/L3_T6_39_ALL.txt\n",
      "INFO:__main__:/data/weizmann/EhV/high_time_res/Low/L3_T7_40_ALL.txt\n",
      "INFO:__main__:/data/weizmann/EhV/high_time_res/Low/L3_T8_41_ALL.txt\n",
      "INFO:__main__:/data/weizmann/EhV/high_time_res/Low/L3_T9_42_ALL.txt\n"
     ]
    }
   ],
   "source": [
    "def func(a):\n",
    "    idx = pandas.read_csv(a, index_col=0, skiprows=1, delimiter=\"\\t\").index.values.tolist()\n",
    "    \n",
    "    f = a.replace(\"_ALL\", \"_COI\")\n",
    "    focused_idx = pandas.read_csv(f, index_col=0, skiprows=1, delimiter=\"\\t\").index.values.tolist()\n",
    "    \n",
    "    labels = [i in focused_idx for i in idx]\n",
    "    \n",
    "    return pandas.DataFrame(\n",
    "        dict(\n",
    "            index = idx,\n",
    "            file = [f]*len(idx),\n",
    "            coi = labels\n",
    "        )\n",
    "    )\n",
    "\n",
    "with multiprocessing.Pool(processes=12) as pool:\n",
    "    res = []\n",
    "    for a in glob.glob(os.path.join(DIR, \"**\", \"*_ALL.txt\"), recursive=True):\n",
    "        res.append((a, pool.apply_async(func, (a,))))\n",
    "        \n",
    "    logger.info(\"Submitted %d\" % len(res))\n",
    "\n",
    "    dfs = []\n",
    "    for a, r in res:\n",
    "        dfs.append(r.get())\n",
    "        logger.info(a)\n",
    "        \n",
    "df = pandas.concat(dfs).set_index(\"index\") "
   ]
  },
  {
   "cell_type": "code",
   "execution_count": 47,
   "metadata": {},
   "outputs": [],
   "source": [
    "df[\"replicate\"] = df[\"file\"].apply(lambda a: os.path.split(a)[-1].split(\"_\")[0])\n",
    "df[\"timepoint\"] = df[\"file\"].apply(lambda a: os.path.split(a)[-1].split(\"_\")[1])\n",
    "df[\"group\"] = df[\"replicate\"].apply(lambda a: a[0])"
   ]
  },
  {
   "cell_type": "code",
   "execution_count": 12,
   "metadata": {},
   "outputs": [
    {
     "data": {
      "text/plain": [
       "0.3646997207446074"
      ]
     },
     "execution_count": 12,
     "metadata": {},
     "output_type": "execute_result"
    }
   ],
   "source": [
    "df[\"coi\"].sum() / len(df)"
   ]
  },
  {
   "cell_type": "code",
   "execution_count": 45,
   "metadata": {},
   "outputs": [
    {
     "data": {
      "text/plain": [
       "<AxesSubplot:xlabel='replicate', ylabel='count'>"
      ]
     },
     "execution_count": 45,
     "metadata": {},
     "output_type": "execute_result"
    },
    {
     "data": {
      "image/png": "[encoded data removed]",
      "text/plain": [
       "<Figure size 432x288 with 1 Axes>"
      ]
     },
     "metadata": {},
     "output_type": "display_data"
    }
   ],
   "source": [
    "seaborn.countplot(data=df, x=\"replicate\", hue=\"coi\")"
   ]
  },
  {
   "cell_type": "code",
   "execution_count": 70,
   "metadata": {},
   "outputs": [
    {
     "data": {
      "text/plain": [
       "<matplotlib.legend.Legend at 0x7f06efb21970>"
      ]
     },
     "execution_count": 70,
     "metadata": {},
     "output_type": "execute_result"
    },
    {
     "data": {
      "image/png": "[encoded data removed]",
      "text/plain": [
       "<Figure size 1166.4x216 with 3 Axes>"
      ]
     },
     "metadata": {},
     "output_type": "display_data"
    }
   ],
   "source": [
    "grid = seaborn.FacetGrid(data=df, col=\"group\", aspect=1.8)\n",
    "grid.map_dataframe(seaborn.countplot, x=\"timepoint\", palette=\"husl\", hue=\"coi\", order=[\"T%d\" % i for i in range(17)])\n",
    "grid.axes[0][-1].legend()"
   ]
  },
  {
   "cell_type": "code",
   "execution_count": 17,
   "metadata": {},
   "outputs": [],
   "source": [
    "timepoint_df = df.groupby(\"timepoint\").sum()\n",
    "timepoint_df[\"size\"] = df.groupby(\"timepoint\").size()"
   ]
  },
  {
   "cell_type": "code",
   "execution_count": 26,
   "metadata": {},
   "outputs": [],
   "source": [
    "avg_fraction = (timepoint_df[\"coi\"] / timepoint_df[\"size\"]).mean()"
   ]
  },
  {
   "cell_type": "code",
   "execution_count": 39,
   "metadata": {},
   "outputs": [
    {
     "data": {
      "text/plain": [
       "<matplotlib.legend.Legend at 0x7f06f12bfb20>"
      ]
     },
     "execution_count": 39,
     "metadata": {},
     "output_type": "execute_result"
    },
    {
     "data": {
      "image/png": "[encoded data removed]",
      "text/plain": [
       "<Figure size 432x288 with 1 Axes>"
      ]
     },
     "metadata": {
      "needs_background": "light"
     },
     "output_type": "display_data"
    }
   ],
   "source": [
    "ax = seaborn.scatterplot(data=timepoint_df, x=\"coi\", y=\"size\", hue=\"timepoint\", hue_order=[\"T%d\" % i for i in range(17) if i != 10])\n",
    "ax.plot(timepoint_df[\"size\"]*avg_fraction, timepoint_df[\"size\"], color=\"red\")\n",
    "ax.legend(bbox_to_anchor=(1.05, 1), loc=2, borderaxespad=0.)"
   ]
  },
  {
   "cell_type": "code",
   "execution_count": null,
   "metadata": {},
   "outputs": [],
   "source": []
  }
 ],
 "metadata": {
  "kernelspec": {
   "display_name": "Python 3",
   "language": "python",
   "name": "python3"
  },
  "language_info": {
   "codemirror_mode": {
    "name": "ipython",
    "version": 3
   },
   "file_extension": ".py",
   "mimetype": "text/x-python",
   "name": "python",
   "nbconvert_exporter": "python",
   "pygments_lexer": "ipython3",
   "version": "3.8.6"
  }
 },
 "nbformat": 4,
 "nbformat_minor": 4
}
