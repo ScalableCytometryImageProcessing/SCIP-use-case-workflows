{
 "cells": [
  {
   "cell_type": "code",
   "execution_count": 29,
   "id": "intimate-movement",
   "metadata": {},
   "outputs": [],
   "source": [
    "# default_exp correlation"
   ]
  },
  {
   "cell_type": "markdown",
   "id": "continuing-canyon",
   "metadata": {},
   "source": [
    "# Correlation analysis of features selected\n",
    "\n",
    "In [2b_median_mad_based_sample_and_feature_selection](2b_median_mad_based_sample_and_feature_selection) a number of samples and features were retained for further analysis. In this notebook we examine the correlation between these features."
   ]
  },
  {
   "cell_type": "code",
   "execution_count": 30,
   "id": "beautiful-median",
   "metadata": {},
   "outputs": [
    {
     "name": "stdout",
     "output_type": "stream",
     "text": [
      "The autoreload extension is already loaded. To reload it, use:\n",
      "  %reload_ext autoreload\n"
     ]
    }
   ],
   "source": [
    "%load_ext autoreload\n",
    "%autoreload 2"
   ]
  },
  {
   "cell_type": "code",
   "execution_count": 89,
   "id": "pleased-passenger",
   "metadata": {},
   "outputs": [],
   "source": [
    "# %load common.py\n",
    "# export\n",
    "\n",
    "import pandas\n",
    "import os\n",
    "import numpy\n",
    "import seaborn\n",
    "import logging\n",
    "import matplotlib.pyplot as plt\n",
    "from matplotlib import cm\n",
    "from importlib import reload\n",
    "from ehv import core\n",
    "from joblib import load, dump\n",
    "from pathlib import Path\n",
    "import uuid\n",
    "import re\n",
    "import scipy\n",
    "\n",
    "from ehv import load as e_load, core\n",
    "\n",
    "plt.rcParams['figure.facecolor'] = 'white'\n",
    "\n",
    "numpy.random.seed(42)"
   ]
  },
  {
   "cell_type": "code",
   "execution_count": 90,
   "id": "emerging-panama",
   "metadata": {},
   "outputs": [],
   "source": [
    "# export\n",
    "import copy\n",
    "from sklearn.base import clone, BaseEstimator, TransformerMixin"
   ]
  },
  {
   "cell_type": "code",
   "execution_count": 92,
   "id": "latest-concord",
   "metadata": {},
   "outputs": [],
   "source": [
    "import umap\n",
    "import dask.dataframe as dd\n",
    "import statsmodels.api as sm\n",
    "from tqdm.notebook import tqdm"
   ]
  },
  {
   "cell_type": "code",
   "execution_count": 33,
   "id": "silver-testament",
   "metadata": {},
   "outputs": [],
   "source": [
    "# ONLY LOADING LOW\n",
    "\n",
    "# samples = pandas.read_csv(\"data/selected_samples.csv\")\n",
    "samples = None\n",
    "df = e_load.load_raw_ideas_dir(\n",
    "    Path(\"/data/weizmann/EhV/high_time_res\"), \n",
    "    Path(\"/data/weizmann/EhV/weizmann-ehv-metadata/representations/ideas_features/\"), \n",
    "    \"ALL\", \n",
    "    Path(\"/data/weizmann/EhV/weizmann-ehv-metadata/cell_populations/manual_gating/\"),\n",
    "    samples, \"Low/*.cif\")\n",
    "df = e_load.remove_unwanted_features(df)\n",
    "df = e_load.tag_columns(df)\n",
    "df = e_load.clean_column_names(df)"
   ]
  },
  {
   "cell_type": "code",
   "execution_count": 34,
   "id": "sublime-spelling",
   "metadata": {},
   "outputs": [
    {
     "data": {
      "text/plain": [
       "(339045, 113)"
      ]
     },
     "execution_count": 34,
     "metadata": {},
     "output_type": "execute_result"
    }
   ],
   "source": [
    "df = df[df[\"meta_label_coi\"]]\n",
    "df.shape"
   ]
  },
  {
   "cell_type": "code",
   "execution_count": 35,
   "id": "veterinary-perfume",
   "metadata": {},
   "outputs": [],
   "source": [
    "import re\n",
    "reg = r\"^meta_label_(.+)$\"\n",
    "label_vec = numpy.full((df.shape[0]), fill_value=\"unknown\", dtype=object)\n",
    "for col in df.filter(regex=\"(?i)meta_label_.*psba.*\"):\n",
    "    label_vec[df[col].values] = re.match(reg, col).groups(1)\n",
    "    \n",
    "df[\"meta_label\"] = label_vec"
   ]
  },
  {
   "cell_type": "code",
   "execution_count": 36,
   "id": "imported-hazard",
   "metadata": {},
   "outputs": [
    {
     "data": {
      "text/plain": [
       "(339045, 114)"
      ]
     },
     "execution_count": 36,
     "metadata": {},
     "output_type": "execute_result"
    }
   ],
   "source": [
    "df.shape"
   ]
  },
  {
   "cell_type": "code",
   "execution_count": 37,
   "id": "filled-timing",
   "metadata": {},
   "outputs": [
    {
     "data": {
      "text/plain": [
       "(339045, 12)"
      ]
     },
     "execution_count": 37,
     "metadata": {},
     "output_type": "execute_result"
    }
   ],
   "source": [
    "df.filter(regex=\"meta\").shape"
   ]
  },
  {
   "cell_type": "markdown",
   "id": "round-layer",
   "metadata": {},
   "source": [
    "# Iterative feature elimination\n",
    "\n",
    "Correlation for all pairwise feature combinations is computed. For each pair, one feature is dropped if the correlation is above a threshold."
   ]
  },
  {
   "cell_type": "code",
   "execution_count": 38,
   "id": "jewish-causing",
   "metadata": {},
   "outputs": [
    {
     "data": {
      "text/plain": [
       "0.12099645526497728"
      ]
     },
     "execution_count": 38,
     "metadata": {},
     "output_type": "execute_result"
    }
   ],
   "source": [
    "df.filter(regex=\"feat\").corr().mean().mean()"
   ]
  },
  {
   "cell_type": "code",
   "execution_count": 93,
   "id": "inclusive-arrangement",
   "metadata": {},
   "outputs": [],
   "source": [
    "#export\n",
    "class Correlation(BaseEstimator, TransformerMixin):\n",
    "    \n",
    "    def __init__(self, thresh):\n",
    "        self.thresh = thresh\n",
    "    \n",
    "    def fit(self, df):\n",
    "        correlation, var = df.corr(), df.var()\n",
    "        drops, keeps = list(), list()\n",
    "\n",
    "        # loop over all feature combinations\n",
    "        for i in range(correlation.shape[0]):\n",
    "            for j in range(i):\n",
    "\n",
    "                # check absolute value of correlation against threshold\n",
    "                if abs(correlation.iloc[i, j]) > self.thresh:\n",
    "\n",
    "                    # keep feature with most variance\n",
    "                    drop = i if var[correlation.columns[i]] >= var[correlation.columns[j]] else j\n",
    "                    keep = j if drop == i else i\n",
    "                    drops.append(correlation.columns[drop])\n",
    "                    keeps.append(correlation.columns[keep])\n",
    "                    \n",
    "        self.correlated = set(drops)\n",
    "        self.combinations = list(zip(drops, keeps))\n",
    "        return self\n",
    "        \n",
    "    def transform(self, df):\n",
    "        return df.drop(columns=self.correlated)"
   ]
  },
  {
   "cell_type": "code",
   "execution_count": 84,
   "id": "limited-entry",
   "metadata": {},
   "outputs": [],
   "source": [
    "from joblib import Parallel, delayed"
   ]
  },
  {
   "cell_type": "code",
   "execution_count": 85,
   "id": "matched-filename",
   "metadata": {},
   "outputs": [],
   "source": [
    "thresholds = numpy.linspace(0.5, 0.99, 30)\n",
    "    \n",
    "def get_mean_corr(t):\n",
    "    model = Correlation(t)\n",
    "    model.fit(df.filter(regex=\"feat\"))\n",
    "    correlated_features = model.correlated\n",
    "    correlation = model.transform(df).corr()\n",
    "    return correlation.mean().mean()/correlation.shape[0]\n",
    "\n",
    "results = Parallel(n_jobs=20)(delayed(get_mean_corr)(t) for t in thresholds)"
   ]
  },
  {
   "cell_type": "code",
   "execution_count": 86,
   "id": "innovative-ethics",
   "metadata": {},
   "outputs": [
    {
     "data": {
      "text/plain": [
       "<matplotlib.collections.PathCollection at 0x7efb8e195130>"
      ]
     },
     "execution_count": 86,
     "metadata": {},
     "output_type": "execute_result"
    },
    {
     "data": {
      "image/png": "[encoded data removed]",
      "text/plain": [
       "<Figure size 432x288 with 1 Axes>"
      ]
     },
     "metadata": {},
     "output_type": "display_data"
    }
   ],
   "source": [
    "plt.plot(thresholds, results)\n",
    "plt.xlabel(\"Correlation threshold\")\n",
    "plt.title(\"Mean correlation per feature\")\n",
    "\n",
    "idx = numpy.array(results).argmin()\n",
    "plt.scatter(thresholds[idx], results[idx], s=50, color=\"red\")\n",
    "# plt.savefig(\"figs/mean_corr_per_feature.png\", dpi=150)"
   ]
  },
  {
   "cell_type": "code",
   "execution_count": 49,
   "id": "governmental-shirt",
   "metadata": {},
   "outputs": [
    {
     "data": {
      "text/plain": [
       "0.9224137931034482"
      ]
     },
     "execution_count": 49,
     "metadata": {},
     "output_type": "execute_result"
    }
   ],
   "source": [
    "thresholds[numpy.array(results).argmin()]"
   ]
  },
  {
   "cell_type": "code",
   "execution_count": 24,
   "id": "instant-obligation",
   "metadata": {},
   "outputs": [
    {
     "data": {
      "text/plain": [
       "0.08062259638103829"
      ]
     },
     "execution_count": 24,
     "metadata": {},
     "output_type": "execute_result"
    }
   ],
   "source": [
    "correlated_features, other = get_correlated_features(df.filter(regex=\"feat\"), thresh=thresholds[numpy.array(results).argmin()])\n",
    "correlation = df.drop(columns=correlated_features).corr()\n",
    "correlation.mean().mean()"
   ]
  },
  {
   "cell_type": "code",
   "execution_count": 27,
   "id": "portuguese-drill",
   "metadata": {},
   "outputs": [
    {
     "data": {
      "text/plain": [
       "[('feat_area_m01', 'feat_area_m09'),\n",
       " ('feat_aspect_ratio_intensity_m03_ch03', 'feat_aspect_ratio_m03'),\n",
       " ('feat_aspect_ratio_intensity_m04_ch04', 'feat_aspect_ratio_m04'),\n",
       " ('feat_intensity_mc_ch03', 'feat_intensity_mc_ch7'),\n",
       " ('feat_median_pixel_m03_ch03', 'feat_mean_pixel_m03_ch03'),\n",
       " ('feat_median_pixel_m04_ch04', 'feat_mean_pixel_m04_ch04'),\n",
       " ('feat_median_pixel_m06_ssc', 'feat_mean_pixel_m06_ssc'),\n",
       " ('feat_median_pixel_m07_ch7', 'feat_mean_pixel_m07_ch7'),\n",
       " ('feat_median_pixel_m11_ch11', 'feat_mean_pixel_m11_ch11'),\n",
       " ('feat_mean_pixel_m04_ch04', 'feat_max_pixel_mc_ch04'),\n",
       " ('feat_median_pixel_m04_ch04', 'feat_max_pixel_mc_ch04'),\n",
       " ('feat_mean_pixel_m06_ssc', 'feat_max_pixel_mc_ssc'),\n",
       " ('feat_mean_pixel_m07_ch7', 'feat_max_pixel_mc_ch7'),\n",
       " ('feat_length_m04', 'feat_area_m04'),\n",
       " ('feat_width_m04', 'feat_area_m04'),\n",
       " ('feat_width_m04', 'feat_length_m04'),\n",
       " ('feat_height_m03', 'feat_length_m03'),\n",
       " ('feat_height_m04', 'feat_area_m04'),\n",
       " ('feat_height_m04', 'feat_length_m04'),\n",
       " ('feat_width_m04', 'feat_height_m04'),\n",
       " ('feat_height_m06', 'feat_length_m06'),\n",
       " ('feat_height_m07', 'feat_length_m07'),\n",
       " ('feat_height_m11', 'feat_length_m11'),\n",
       " ('feat_bright_detail_intensity_r3_mc_ssc', 'feat_intensity_mc_ssc')]"
      ]
     },
     "execution_count": 27,
     "metadata": {},
     "output_type": "execute_result"
    }
   ],
   "source": [
    "list(zip(correlated_features, other))"
   ]
  },
  {
   "cell_type": "code",
   "execution_count": 18,
   "id": "addressed-popularity",
   "metadata": {},
   "outputs": [
    {
     "data": {
      "text/plain": [
       "(339045, 102)"
      ]
     },
     "execution_count": 18,
     "metadata": {},
     "output_type": "execute_result"
    }
   ],
   "source": [
    "df.filter(regex=\"feat\").shape"
   ]
  },
  {
   "cell_type": "code",
   "execution_count": 28,
   "id": "opposite-request",
   "metadata": {},
   "outputs": [
    {
     "data": {
      "text/html": [
       "<div>\n",
       "<style scoped>\n",
       "    .dataframe tbody tr th:only-of-type {\n",
       "        vertical-align: middle;\n",
       "    }\n",
       "\n",
       "    .dataframe tbody tr th {\n",
       "        vertical-align: top;\n",
       "    }\n",
       "\n",
       "    .dataframe thead th {\n",
       "        text-align: right;\n",
       "    }\n",
       "</style>\n",
       "<table border=\"1\" class=\"dataframe\">\n",
       "  <thead>\n",
       "    <tr style=\"text-align: right;\">\n",
       "      <th></th>\n",
       "      <th>feat_area_m03</th>\n",
       "      <th>feat_area_m04</th>\n",
       "      <th>feat_area_m06</th>\n",
       "      <th>feat_area_m07</th>\n",
       "      <th>feat_area_m09</th>\n",
       "      <th>feat_area_m11</th>\n",
       "      <th>feat_area_mc</th>\n",
       "      <th>feat_aspect_ratio_m01</th>\n",
       "      <th>feat_aspect_ratio_m03</th>\n",
       "      <th>feat_aspect_ratio_m04</th>\n",
       "      <th>...</th>\n",
       "      <th>feat_height_m09</th>\n",
       "      <th>feat_bright_detail_intensity_r3_mc_bf</th>\n",
       "      <th>feat_bright_detail_intensity_r3_mc_ch03</th>\n",
       "      <th>feat_bright_detail_intensity_r3_mc_ch04</th>\n",
       "      <th>feat_bright_detail_intensity_r3_mc_ch7</th>\n",
       "      <th>feat_bright_detail_intensity_r3_mc_bf2</th>\n",
       "      <th>feat_bright_detail_intensity_r3_mc_ch11</th>\n",
       "      <th>feat_max_pixel_m02_ch02</th>\n",
       "      <th>feat_intensity_m02_ch02</th>\n",
       "      <th>feat_similarity_m01_ch02_ch03</th>\n",
       "    </tr>\n",
       "  </thead>\n",
       "  <tbody>\n",
       "    <tr>\n",
       "      <th>8</th>\n",
       "      <td>5.222222</td>\n",
       "      <td>0.0</td>\n",
       "      <td>14.444445</td>\n",
       "      <td>17.777779</td>\n",
       "      <td>23.000000</td>\n",
       "      <td>19.444445</td>\n",
       "      <td>25.555555</td>\n",
       "      <td>0.921710</td>\n",
       "      <td>0.819040</td>\n",
       "      <td>0.0</td>\n",
       "      <td>...</td>\n",
       "      <td>5.333333</td>\n",
       "      <td>3042.0</td>\n",
       "      <td>920.0</td>\n",
       "      <td>263.0</td>\n",
       "      <td>12002.999023</td>\n",
       "      <td>2217.0</td>\n",
       "      <td>10415.0</td>\n",
       "      <td>10.191176</td>\n",
       "      <td>283.602936</td>\n",
       "      <td>2.021338</td>\n",
       "    </tr>\n",
       "    <tr>\n",
       "      <th>9</th>\n",
       "      <td>8.333333</td>\n",
       "      <td>0.0</td>\n",
       "      <td>35.111111</td>\n",
       "      <td>18.666666</td>\n",
       "      <td>51.000000</td>\n",
       "      <td>25.111111</td>\n",
       "      <td>69.111115</td>\n",
       "      <td>0.357953</td>\n",
       "      <td>0.865995</td>\n",
       "      <td>0.0</td>\n",
       "      <td>...</td>\n",
       "      <td>13.333333</td>\n",
       "      <td>6231.0</td>\n",
       "      <td>2549.0</td>\n",
       "      <td>995.0</td>\n",
       "      <td>17221.000000</td>\n",
       "      <td>6672.0</td>\n",
       "      <td>10430.0</td>\n",
       "      <td>14.187500</td>\n",
       "      <td>469.000000</td>\n",
       "      <td>2.211377</td>\n",
       "    </tr>\n",
       "    <tr>\n",
       "      <th>12</th>\n",
       "      <td>0.000000</td>\n",
       "      <td>0.0</td>\n",
       "      <td>26.111111</td>\n",
       "      <td>26.444445</td>\n",
       "      <td>46.444443</td>\n",
       "      <td>50.888889</td>\n",
       "      <td>55.333332</td>\n",
       "      <td>0.750179</td>\n",
       "      <td>0.000000</td>\n",
       "      <td>0.0</td>\n",
       "      <td>...</td>\n",
       "      <td>8.000000</td>\n",
       "      <td>7623.0</td>\n",
       "      <td>1783.0</td>\n",
       "      <td>806.0</td>\n",
       "      <td>4874.000000</td>\n",
       "      <td>8029.0</td>\n",
       "      <td>3385.0</td>\n",
       "      <td>9.895833</td>\n",
       "      <td>291.416656</td>\n",
       "      <td>0.950580</td>\n",
       "    </tr>\n",
       "    <tr>\n",
       "      <th>14</th>\n",
       "      <td>9.555555</td>\n",
       "      <td>0.0</td>\n",
       "      <td>35.555557</td>\n",
       "      <td>37.777779</td>\n",
       "      <td>73.888885</td>\n",
       "      <td>50.888889</td>\n",
       "      <td>105.666664</td>\n",
       "      <td>0.603159</td>\n",
       "      <td>0.809759</td>\n",
       "      <td>0.0</td>\n",
       "      <td>...</td>\n",
       "      <td>13.666667</td>\n",
       "      <td>10389.0</td>\n",
       "      <td>2900.0</td>\n",
       "      <td>1345.0</td>\n",
       "      <td>8395.000000</td>\n",
       "      <td>11876.0</td>\n",
       "      <td>3053.0</td>\n",
       "      <td>9.750000</td>\n",
       "      <td>498.750000</td>\n",
       "      <td>1.147965</td>\n",
       "    </tr>\n",
       "    <tr>\n",
       "      <th>26</th>\n",
       "      <td>8.444445</td>\n",
       "      <td>0.0</td>\n",
       "      <td>14.111111</td>\n",
       "      <td>19.333334</td>\n",
       "      <td>17.555555</td>\n",
       "      <td>22.000000</td>\n",
       "      <td>27.888889</td>\n",
       "      <td>0.910296</td>\n",
       "      <td>0.812738</td>\n",
       "      <td>0.0</td>\n",
       "      <td>...</td>\n",
       "      <td>4.666667</td>\n",
       "      <td>3845.0</td>\n",
       "      <td>969.0</td>\n",
       "      <td>371.0</td>\n",
       "      <td>22586.001953</td>\n",
       "      <td>1842.0</td>\n",
       "      <td>22736.0</td>\n",
       "      <td>15.378049</td>\n",
       "      <td>559.731689</td>\n",
       "      <td>1.147697</td>\n",
       "    </tr>\n",
       "  </tbody>\n",
       "</table>\n",
       "<p>5 rows × 82 columns</p>\n",
       "</div>"
      ],
      "text/plain": [
       "    feat_area_m03  feat_area_m04  feat_area_m06  feat_area_m07  feat_area_m09  \\\n",
       "8        5.222222            0.0      14.444445      17.777779      23.000000   \n",
       "9        8.333333            0.0      35.111111      18.666666      51.000000   \n",
       "12       0.000000            0.0      26.111111      26.444445      46.444443   \n",
       "14       9.555555            0.0      35.555557      37.777779      73.888885   \n",
       "26       8.444445            0.0      14.111111      19.333334      17.555555   \n",
       "\n",
       "    feat_area_m11  feat_area_mc  feat_aspect_ratio_m01  feat_aspect_ratio_m03  \\\n",
       "8       19.444445     25.555555               0.921710               0.819040   \n",
       "9       25.111111     69.111115               0.357953               0.865995   \n",
       "12      50.888889     55.333332               0.750179               0.000000   \n",
       "14      50.888889    105.666664               0.603159               0.809759   \n",
       "26      22.000000     27.888889               0.910296               0.812738   \n",
       "\n",
       "    feat_aspect_ratio_m04  ...  feat_height_m09  \\\n",
       "8                     0.0  ...         5.333333   \n",
       "9                     0.0  ...        13.333333   \n",
       "12                    0.0  ...         8.000000   \n",
       "14                    0.0  ...        13.666667   \n",
       "26                    0.0  ...         4.666667   \n",
       "\n",
       "    feat_bright_detail_intensity_r3_mc_bf  \\\n",
       "8                                  3042.0   \n",
       "9                                  6231.0   \n",
       "12                                 7623.0   \n",
       "14                                10389.0   \n",
       "26                                 3845.0   \n",
       "\n",
       "    feat_bright_detail_intensity_r3_mc_ch03  \\\n",
       "8                                     920.0   \n",
       "9                                    2549.0   \n",
       "12                                   1783.0   \n",
       "14                                   2900.0   \n",
       "26                                    969.0   \n",
       "\n",
       "    feat_bright_detail_intensity_r3_mc_ch04  \\\n",
       "8                                     263.0   \n",
       "9                                     995.0   \n",
       "12                                    806.0   \n",
       "14                                   1345.0   \n",
       "26                                    371.0   \n",
       "\n",
       "    feat_bright_detail_intensity_r3_mc_ch7  \\\n",
       "8                             12002.999023   \n",
       "9                             17221.000000   \n",
       "12                             4874.000000   \n",
       "14                             8395.000000   \n",
       "26                            22586.001953   \n",
       "\n",
       "    feat_bright_detail_intensity_r3_mc_bf2  \\\n",
       "8                                   2217.0   \n",
       "9                                   6672.0   \n",
       "12                                  8029.0   \n",
       "14                                 11876.0   \n",
       "26                                  1842.0   \n",
       "\n",
       "    feat_bright_detail_intensity_r3_mc_ch11  feat_max_pixel_m02_ch02  \\\n",
       "8                                   10415.0                10.191176   \n",
       "9                                   10430.0                14.187500   \n",
       "12                                   3385.0                 9.895833   \n",
       "14                                   3053.0                 9.750000   \n",
       "26                                  22736.0                15.378049   \n",
       "\n",
       "    feat_intensity_m02_ch02  feat_similarity_m01_ch02_ch03  \n",
       "8                283.602936                       2.021338  \n",
       "9                469.000000                       2.211377  \n",
       "12               291.416656                       0.950580  \n",
       "14               498.750000                       1.147965  \n",
       "26               559.731689                       1.147697  \n",
       "\n",
       "[5 rows x 82 columns]"
      ]
     },
     "execution_count": 28,
     "metadata": {},
     "output_type": "execute_result"
    }
   ],
   "source": [
    "df.drop(columns=set(correlated_features)).filter(regex=\"feat\").head()"
   ]
  },
  {
   "cell_type": "code",
   "execution_count": null,
   "id": "moved-letter",
   "metadata": {},
   "outputs": [],
   "source": []
  }
 ],
 "metadata": {
  "kernelspec": {
   "display_name": "Python 3",
   "language": "python",
   "name": "python3"
  },
  "language_info": {
   "codemirror_mode": {
    "name": "ipython",
    "version": 3
   },
   "file_extension": ".py",
   "mimetype": "text/x-python",
   "name": "python",
   "nbconvert_exporter": "python",
   "pygments_lexer": "ipython3",
   "version": "3.8.8"
  }
 },
 "nbformat": 4,
 "nbformat_minor": 5
}
