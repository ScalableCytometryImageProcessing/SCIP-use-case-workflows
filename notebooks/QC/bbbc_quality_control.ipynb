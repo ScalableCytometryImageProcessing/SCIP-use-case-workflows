{
 "cells": [
  {
   "cell_type": "markdown",
   "id": "522107d6-c2b3-442e-a656-ec67c5d6484b",
   "metadata": {},
   "source": [
    "# BBBC021: Quality control"
   ]
  },
  {
   "cell_type": "code",
   "execution_count": 1,
   "id": "8abe7a6d-6873-4bb3-837b-90cd437b338d",
   "metadata": {},
   "outputs": [],
   "source": [
    "# %load ../common_.py\n",
    "import sys\n",
    "sys.path.append(\"..\")\n",
    "from common import *"
   ]
  },
  {
   "cell_type": "markdown",
   "id": "2d3ea46b-a7c5-4e06-beb8-c3b56ae4ca64",
   "metadata": {},
   "source": [
    "## Data"
   ]
  },
  {
   "cell_type": "code",
   "execution_count": 2,
   "id": "b4f7391f-0fe1-4031-a248-c9fa6cad8dee",
   "metadata": {},
   "outputs": [],
   "source": [
    "data_dir = Path(\"/data/gent/vo/000/gvo00070/vsc42015/datasets/BBBC021/results/scip/270520220947_Week1/\")"
   ]
  },
  {
   "cell_type": "code",
   "execution_count": 4,
   "id": "de992681-30f0-4fb0-876a-1a439934ac39",
   "metadata": {},
   "outputs": [],
   "source": [
    "df = pq.read_table(data_dir / \"features.parquet\").to_pandas()"
   ]
  },
  {
   "cell_type": "code",
   "execution_count": 7,
   "id": "45e4cedb-2e0f-401e-893f-1e4e2629355e",
   "metadata": {},
   "outputs": [],
   "source": [
    "# set index"
   ]
  },
  {
   "cell_type": "code",
   "execution_count": null,
   "id": "77f1f401-9611-4379-952b-57a7af8d8249",
   "metadata": {},
   "outputs": [],
   "source": []
  }
 ],
 "metadata": {
  "kernelspec": {
   "display_name": "Python 3 (ipykernel)",
   "language": "python",
   "name": "python3"
  },
  "language_info": {
   "codemirror_mode": {
    "name": "ipython",
    "version": 3
   },
   "file_extension": ".py",
   "mimetype": "text/x-python",
   "name": "python",
   "nbconvert_exporter": "python",
   "pygments_lexer": "ipython3",
   "version": "3.9.6"
  }
 },
 "nbformat": 4,
 "nbformat_minor": 5
}
