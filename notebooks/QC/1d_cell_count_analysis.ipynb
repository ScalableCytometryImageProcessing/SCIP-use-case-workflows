{
 "cells": [
  {
   "cell_type": "code",
   "execution_count": 3,
   "metadata": {
    "hide_input": true
   },
   "outputs": [],
   "source": [
    "from nbdev import *"
   ]
  },
  {
   "cell_type": "markdown",
   "metadata": {},
   "source": [
    "# Cell count analysis"
   ]
  },
  {
   "cell_type": "code",
   "execution_count": 4,
   "metadata": {},
   "outputs": [],
   "source": [
    "# %load common_.py\n",
    "from common import *"
   ]
  },
  {
   "cell_type": "code",
   "execution_count": 5,
   "metadata": {},
   "outputs": [],
   "source": [
    "logging.basicConfig(level=logging.INFO)\n",
    "logger = logging.getLogger(__name__)"
   ]
  },
  {
   "cell_type": "code",
   "execution_count": 6,
   "metadata": {},
   "outputs": [],
   "source": [
    "from pathlib import Path\n",
    "from ehv import load"
   ]
  },
  {
   "cell_type": "code",
   "execution_count": 7,
   "metadata": {},
   "outputs": [
    {
     "name": "stderr",
     "output_type": "stream",
     "text": [
      "INFO:ehv.load:/data/weizmann/EhV/high_time_res/Ctrl/C1_T0_49.cif\n",
      "INFO:ehv.load:/data/weizmann/EhV/high_time_res/Ctrl/C1_T11_55.cif\n",
      "INFO:ehv.load:/data/weizmann/EhV/high_time_res/Ctrl/C1_T13_56.cif\n",
      "INFO:ehv.load:/data/weizmann/EhV/high_time_res/Ctrl/C1_T15_57.cif\n",
      "INFO:ehv.load:/data/weizmann/EhV/high_time_res/Ctrl/C1_T3_50.cif\n",
      "INFO:ehv.load:/data/weizmann/EhV/high_time_res/Ctrl/C1_T4_51.cif\n",
      "INFO:ehv.load:/data/weizmann/EhV/high_time_res/Ctrl/C1_T5_52.cif\n",
      "INFO:ehv.load:/data/weizmann/EhV/high_time_res/Ctrl/C1_T6_53.cif\n",
      "INFO:ehv.load:/data/weizmann/EhV/high_time_res/Ctrl/C1_T7_54.cif\n",
      "INFO:ehv.load:/data/weizmann/EhV/high_time_res/Ctrl/C2_T0_58.cif\n",
      "INFO:ehv.load:/data/weizmann/EhV/high_time_res/Ctrl/C2_T11_64.cif\n",
      "INFO:ehv.load:/data/weizmann/EhV/high_time_res/Ctrl/C2_T13_65.cif\n",
      "INFO:ehv.load:/data/weizmann/EhV/high_time_res/Ctrl/C2_T3_59.cif\n",
      "INFO:ehv.load:/data/weizmann/EhV/high_time_res/Ctrl/C2_T4_60.cif\n",
      "INFO:ehv.load:/data/weizmann/EhV/high_time_res/Ctrl/C2_T5_61.cif\n",
      "INFO:ehv.load:/data/weizmann/EhV/high_time_res/Ctrl/C2_T6_62.cif\n",
      "INFO:ehv.load:/data/weizmann/EhV/high_time_res/Ctrl/C2_T7_63.cif\n",
      "INFO:ehv.load:/data/weizmann/EhV/high_time_res/Ctrl/C3_T0_66.cif\n",
      "INFO:ehv.load:/data/weizmann/EhV/high_time_res/Ctrl/C3_T11_72.cif\n",
      "INFO:ehv.load:/data/weizmann/EhV/high_time_res/Ctrl/C3_T13_73.cif\n",
      "INFO:ehv.load:/data/weizmann/EhV/high_time_res/Ctrl/C3_T3_67.cif\n",
      "INFO:ehv.load:/data/weizmann/EhV/high_time_res/Ctrl/C3_T4_68.cif\n",
      "INFO:ehv.load:/data/weizmann/EhV/high_time_res/Ctrl/C3_T5_69.cif\n",
      "INFO:ehv.load:/data/weizmann/EhV/high_time_res/Ctrl/C3_T6_70.cif\n",
      "INFO:ehv.load:/data/weizmann/EhV/high_time_res/Ctrl/C3_T7_71.cif\n",
      "INFO:ehv.load:/data/weizmann/EhV/high_time_res/High/H1_T0_1.cif\n",
      "INFO:ehv.load:/data/weizmann/EhV/high_time_res/High/H1_T11_11.cif\n",
      "INFO:ehv.load:/data/weizmann/EhV/high_time_res/High/H1_T12_12.cif\n",
      "INFO:ehv.load:/data/weizmann/EhV/high_time_res/High/H1_T13_13.cif\n",
      "INFO:ehv.load:/data/weizmann/EhV/high_time_res/High/H1_T14_14.cif\n",
      "INFO:ehv.load:/data/weizmann/EhV/high_time_res/High/H1_T15_15.cif\n",
      "INFO:ehv.load:/data/weizmann/EhV/high_time_res/High/H1_T16_16.cif\n",
      "INFO:ehv.load:/data/weizmann/EhV/high_time_res/High/H1_T1_2.cif\n",
      "INFO:ehv.load:/data/weizmann/EhV/high_time_res/High/H1_T2_3.cif\n",
      "INFO:ehv.load:/data/weizmann/EhV/high_time_res/High/H1_T3_4.cif\n",
      "INFO:ehv.load:/data/weizmann/EhV/high_time_res/High/H1_T4_5.cif\n",
      "INFO:ehv.load:/data/weizmann/EhV/high_time_res/High/H1_T5_6.cif\n",
      "INFO:ehv.load:/data/weizmann/EhV/high_time_res/High/H1_T6_7.cif\n",
      "INFO:ehv.load:/data/weizmann/EhV/high_time_res/High/H1_T7_8.cif\n",
      "INFO:ehv.load:/data/weizmann/EhV/high_time_res/High/H1_T8_9.cif\n",
      "INFO:ehv.load:/data/weizmann/EhV/high_time_res/High/H1_T9_10.cif\n",
      "INFO:ehv.load:/data/weizmann/EhV/high_time_res/High/H2_T11_26.cif\n",
      "INFO:ehv.load:/data/weizmann/EhV/high_time_res/High/H2_T12_27.cif\n",
      "INFO:ehv.load:/data/weizmann/EhV/high_time_res/High/H2_T13_28.cif\n",
      "INFO:ehv.load:/data/weizmann/EhV/high_time_res/High/H2_T14_29.cif\n",
      "INFO:ehv.load:/data/weizmann/EhV/high_time_res/High/H2_T15_30.cif\n",
      "INFO:ehv.load:/data/weizmann/EhV/high_time_res/High/H2_T16_31.cif\n",
      "INFO:ehv.load:/data/weizmann/EhV/high_time_res/High/H2_T1_17.cif\n",
      "INFO:ehv.load:/data/weizmann/EhV/high_time_res/High/H2_T2_18.cif\n",
      "INFO:ehv.load:/data/weizmann/EhV/high_time_res/High/H2_T3_19.cif\n",
      "INFO:ehv.load:/data/weizmann/EhV/high_time_res/High/H2_T4_20.cif\n",
      "INFO:ehv.load:/data/weizmann/EhV/high_time_res/High/H2_T5_21.cif\n",
      "INFO:ehv.load:/data/weizmann/EhV/high_time_res/High/H2_T6_22.cif\n",
      "INFO:ehv.load:/data/weizmann/EhV/high_time_res/High/H2_T7_23.cif\n",
      "INFO:ehv.load:/data/weizmann/EhV/high_time_res/High/H2_T8_24.cif\n",
      "INFO:ehv.load:/data/weizmann/EhV/high_time_res/High/H2_T9_25.cif\n",
      "INFO:ehv.load:/data/weizmann/EhV/high_time_res/High/H3_T0_32.cif\n",
      "INFO:ehv.load:/data/weizmann/EhV/high_time_res/High/H3_T11_42.cif\n",
      "INFO:ehv.load:/data/weizmann/EhV/high_time_res/High/H3_T12_43.cif\n",
      "INFO:ehv.load:/data/weizmann/EhV/high_time_res/High/H3_T13_44.cif\n",
      "INFO:ehv.load:/data/weizmann/EhV/high_time_res/High/H3_T14_45.cif\n",
      "INFO:ehv.load:/data/weizmann/EhV/high_time_res/High/H3_T15_46.cif\n",
      "INFO:ehv.load:/data/weizmann/EhV/high_time_res/High/H3_T16_47.cif\n",
      "INFO:ehv.load:/data/weizmann/EhV/high_time_res/High/H3_T1_33.cif\n",
      "INFO:ehv.load:/data/weizmann/EhV/high_time_res/High/H3_T2_34.cif\n",
      "INFO:ehv.load:/data/weizmann/EhV/high_time_res/High/H3_T3_35.cif\n",
      "INFO:ehv.load:/data/weizmann/EhV/high_time_res/High/H3_T4_36.cif\n",
      "INFO:ehv.load:/data/weizmann/EhV/high_time_res/High/H3_T5_37.cif\n",
      "INFO:ehv.load:/data/weizmann/EhV/high_time_res/High/H3_T6_38.cif\n",
      "INFO:ehv.load:/data/weizmann/EhV/high_time_res/High/H3_T7_39.cif\n",
      "INFO:ehv.load:/data/weizmann/EhV/high_time_res/High/H3_T8_40.cif\n",
      "INFO:ehv.load:/data/weizmann/EhV/high_time_res/High/H3_T9_41.cif\n",
      "INFO:ehv.load:/data/weizmann/EhV/high_time_res/Low/L1_T0_1.cif\n",
      "INFO:ehv.load:/data/weizmann/EhV/high_time_res/Low/L1_T11_11.cif\n",
      "INFO:ehv.load:/data/weizmann/EhV/high_time_res/Low/L1_T12_12.cif\n",
      "INFO:ehv.load:/data/weizmann/EhV/high_time_res/Low/L1_T13_13.cif\n",
      "INFO:ehv.load:/data/weizmann/EhV/high_time_res/Low/L1_T14_14.cif\n",
      "INFO:ehv.load:/data/weizmann/EhV/high_time_res/Low/L1_T15_15.cif\n",
      "INFO:ehv.load:/data/weizmann/EhV/high_time_res/Low/L1_T16_16.cif\n",
      "INFO:ehv.load:/data/weizmann/EhV/high_time_res/Low/L1_T1_2.cif\n",
      "INFO:ehv.load:/data/weizmann/EhV/high_time_res/Low/L1_T2_3.cif\n",
      "INFO:ehv.load:/data/weizmann/EhV/high_time_res/Low/L1_T3_4.cif\n",
      "INFO:ehv.load:/data/weizmann/EhV/high_time_res/Low/L1_T4_5.cif\n",
      "INFO:ehv.load:/data/weizmann/EhV/high_time_res/Low/L1_T5_6.cif\n",
      "INFO:ehv.load:/data/weizmann/EhV/high_time_res/Low/L1_T6_7.cif\n",
      "INFO:ehv.load:/data/weizmann/EhV/high_time_res/Low/L1_T7_8.cif\n",
      "INFO:ehv.load:/data/weizmann/EhV/high_time_res/Low/L1_T8_9.cif\n",
      "INFO:ehv.load:/data/weizmann/EhV/high_time_res/Low/L1_T9_10.cif\n",
      "INFO:ehv.load:/data/weizmann/EhV/high_time_res/Low/L2_T0_17.cif\n",
      "INFO:ehv.load:/data/weizmann/EhV/high_time_res/Low/L2_T11_27.cif\n",
      "INFO:ehv.load:/data/weizmann/EhV/high_time_res/Low/L2_T12_28.cif\n",
      "INFO:ehv.load:/data/weizmann/EhV/high_time_res/Low/L2_T13_29.cif\n",
      "INFO:ehv.load:/data/weizmann/EhV/high_time_res/Low/L2_T14_30.cif\n",
      "INFO:ehv.load:/data/weizmann/EhV/high_time_res/Low/L2_T15_31.cif\n",
      "INFO:ehv.load:/data/weizmann/EhV/high_time_res/Low/L2_T16_32.cif\n",
      "INFO:ehv.load:/data/weizmann/EhV/high_time_res/Low/L2_T1_18.cif\n",
      "INFO:ehv.load:/data/weizmann/EhV/high_time_res/Low/L2_T2_19.cif\n",
      "INFO:ehv.load:/data/weizmann/EhV/high_time_res/Low/L2_T3_20.cif\n",
      "INFO:ehv.load:/data/weizmann/EhV/high_time_res/Low/L2_T4_21.cif\n",
      "INFO:ehv.load:/data/weizmann/EhV/high_time_res/Low/L2_T5_22.cif\n",
      "INFO:ehv.load:/data/weizmann/EhV/high_time_res/Low/L2_T6_23.cif\n",
      "INFO:ehv.load:/data/weizmann/EhV/high_time_res/Low/L2_T7_24.cif\n",
      "INFO:ehv.load:/data/weizmann/EhV/high_time_res/Low/L2_T8_25.cif\n",
      "INFO:ehv.load:/data/weizmann/EhV/high_time_res/Low/L2_T9_26.cif\n",
      "INFO:ehv.load:/data/weizmann/EhV/high_time_res/Low/L3_T0_33.cif\n",
      "INFO:ehv.load:/data/weizmann/EhV/high_time_res/Low/L3_T11_43.cif\n",
      "INFO:ehv.load:/data/weizmann/EhV/high_time_res/Low/L3_T12_44.cif\n",
      "INFO:ehv.load:/data/weizmann/EhV/high_time_res/Low/L3_T13_45.cif\n",
      "INFO:ehv.load:/data/weizmann/EhV/high_time_res/Low/L3_T14_46.cif\n",
      "INFO:ehv.load:/data/weizmann/EhV/high_time_res/Low/L3_T15_47.cif\n",
      "INFO:ehv.load:/data/weizmann/EhV/high_time_res/Low/L3_T16_48.cif\n",
      "INFO:ehv.load:/data/weizmann/EhV/high_time_res/Low/L3_T1_34.cif\n",
      "INFO:ehv.load:/data/weizmann/EhV/high_time_res/Low/L3_T2_35.cif\n",
      "INFO:ehv.load:/data/weizmann/EhV/high_time_res/Low/L3_T3_36.cif\n",
      "INFO:ehv.load:/data/weizmann/EhV/high_time_res/Low/L3_T4_37.cif\n",
      "INFO:ehv.load:/data/weizmann/EhV/high_time_res/Low/L3_T5_38.cif\n",
      "INFO:ehv.load:/data/weizmann/EhV/high_time_res/Low/L3_T6_39.cif\n",
      "INFO:ehv.load:/data/weizmann/EhV/high_time_res/Low/L3_T7_40.cif\n",
      "INFO:ehv.load:/data/weizmann/EhV/high_time_res/Low/L3_T8_41.cif\n",
      "INFO:ehv.load:/data/weizmann/EhV/high_time_res/Low/L3_T9_42.cif\n"
     ]
    }
   ],
   "source": [
    "df = load.load_raw_ideas_dir(\n",
    "    Path(\"/data/weizmann/EhV/high_time_res\"), \n",
    "    Path(\"/data/weizmann/EhV/weizmann-ehv-metadata/representations/ideas_features/\"), \n",
    "    \"ALL\", \n",
    "    Path(\"/data/weizmann/EhV/weizmann-ehv-metadata/cell_populations/manual_gating/\"))\n",
    "\n",
    "df = load.remove_unwanted_features(df)\n",
    "df = load.tag_columns(df)"
   ]
  },
  {
   "cell_type": "code",
   "execution_count": 7,
   "metadata": {},
   "outputs": [
    {
     "name": "stderr",
     "output_type": "stream",
     "text": [
      "INFO:__main__:Submitted 7\n",
      "INFO:__main__:/data/newcastle/wbc/data/wbc2_set1_ALL.txt\n",
      "INFO:__main__:/data/newcastle/wbc/data/wbc2_set2_ALL.txt\n",
      "INFO:__main__:/data/newcastle/wbc/data/wbc2_set3_ALL.txt\n",
      "INFO:__main__:/data/newcastle/wbc/data/wbc3_set1_ALL.txt\n",
      "INFO:__main__:/data/newcastle/wbc/data/wbc3_set2_ALL.txt\n",
      "INFO:__main__:/data/newcastle/wbc/data/wbc3_set3_ALL.txt\n",
      "INFO:__main__:/data/newcastle/wbc/data/wbc4_ALL.txt\n"
     ]
    }
   ],
   "source": [
    "def func(a):\n",
    "    idx = pandas.read_csv(a, index_col=0, skiprows=1, delimiter=\"\\t\").index.values.tolist()\n",
    "    \n",
    "    f = a.replace(\"_ALL\", \"_COI\")\n",
    "    focused_idx = pandas.read_csv(f, index_col=0, skiprows=1, delimiter=\"\\t\").index.values.tolist()\n",
    "    \n",
    "    labels = [i in focused_idx for i in idx]\n",
    "    \n",
    "    return pandas.DataFrame(\n",
    "        dict(\n",
    "            index = idx,\n",
    "            file = [f]*len(idx),\n",
    "            coi = labels\n",
    "        )\n",
    "    )\n",
    "\n",
    "with multiprocessing.Pool(processes=12) as pool:\n",
    "    res = []\n",
    "    for a in glob.glob(os.path.join(DIR, \"**\", \"*_ALL.txt\"), recursive=True):\n",
    "        res.append((a, pool.apply_async(func, (a,))))\n",
    "        \n",
    "    logger.info(\"Submitted %d\" % len(res))\n",
    "\n",
    "    dfs = []\n",
    "    for a, r in res:\n",
    "        dfs.append(r.get())\n",
    "        logger.info(a)\n",
    "        \n",
    "df = pandas.concat(dfs).set_index(\"index\") "
   ]
  },
  {
   "cell_type": "code",
   "execution_count": 9,
   "metadata": {},
   "outputs": [
    {
     "data": {
      "text/plain": [
       "<AxesSubplot:xlabel='meta_replicate', ylabel='count'>"
      ]
     },
     "execution_count": 9,
     "metadata": {},
     "output_type": "execute_result"
    },
    {
     "data": {
      "image/png": "[encoded data removed]",
      "text/plain": [
       "<Figure size 432x288 with 1 Axes>"
      ]
     },
     "metadata": {},
     "output_type": "display_data"
    }
   ],
   "source": [
    "seaborn.countplot(data=df, x=\"meta_replicate\", hue=\"meta_label_COI\")"
   ]
  },
  {
   "cell_type": "code",
   "execution_count": 36,
   "metadata": {},
   "outputs": [
    {
     "data": {
      "image/png": "[encoded data removed]",
      "text/plain": [
       "<Figure size 1227.65x216 with 3 Axes>"
      ]
     },
     "metadata": {},
     "output_type": "display_data"
    }
   ],
   "source": [
    "grid = seaborn.FacetGrid(data=df, col=\"meta_group\", aspect=1.8)\n",
    "grid.map_dataframe(seaborn.countplot, x=\"meta_timepoint\", palette=\"flare\", hue=\"meta_label_COI\", order=sorted(df[\"meta_timepoint\"].unique()))\n",
    "grid.add_legend()\n",
    "plt.savefig(\"figs/data/counts.png\", dpi=300, transparent=True, bbox_inches=\"tight\")"
   ]
  },
  {
   "cell_type": "code",
   "execution_count": 15,
   "metadata": {},
   "outputs": [],
   "source": [
    "timepoint_df = df.groupby(\"meta_timepoint\").sum()\n",
    "timepoint_df[\"meta_size\"] = df.groupby(\"meta_timepoint\").size()"
   ]
  },
  {
   "cell_type": "code",
   "execution_count": 16,
   "metadata": {},
   "outputs": [],
   "source": [
    "avg_fraction = (timepoint_df[\"meta_label_COI\"] / timepoint_df[\"meta_size\"]).mean()"
   ]
  },
  {
   "cell_type": "code",
   "execution_count": 21,
   "metadata": {},
   "outputs": [
    {
     "data": {
      "text/plain": [
       "0.3466433554708009"
      ]
     },
     "execution_count": 21,
     "metadata": {},
     "output_type": "execute_result"
    }
   ],
   "source": [
    "avg_fraction"
   ]
  },
  {
   "cell_type": "code",
   "execution_count": 20,
   "metadata": {},
   "outputs": [
    {
     "data": {
      "text/plain": [
       "<matplotlib.legend.Legend at 0x7f247c8b59d0>"
      ]
     },
     "execution_count": 20,
     "metadata": {},
     "output_type": "execute_result"
    },
    {
     "data": {
      "image/png": "[encoded data removed]",
      "text/plain": [
       "<Figure size 432x288 with 1 Axes>"
      ]
     },
     "metadata": {},
     "output_type": "display_data"
    }
   ],
   "source": [
    "ax = seaborn.scatterplot(data=timepoint_df, x=\"meta_label_COI\", y=\"meta_size\", hue=\"meta_timepoint\")\n",
    "ax.plot(timepoint_df[\"meta_size\"]*avg_fraction, timepoint_df[\"meta_size\"], color=\"black\", alpha=0.5)\n",
    "ax.legend(bbox_to_anchor=(1.05, 1), loc=2, borderaxespad=0.)"
   ]
  },
  {
   "cell_type": "code",
   "execution_count": null,
   "metadata": {},
   "outputs": [],
   "source": []
  }
 ],
 "metadata": {
  "kernelspec": {
   "display_name": "Python 3",
   "language": "python",
   "name": "python3"
  },
  "language_info": {
   "codemirror_mode": {
    "name": "ipython",
    "version": 3
   },
   "file_extension": ".py",
   "mimetype": "text/x-python",
   "name": "python",
   "nbconvert_exporter": "python",
   "pygments_lexer": "ipython3",
   "version": "3.8.6"
  }
 },
 "nbformat": 4,
 "nbformat_minor": 4
}
