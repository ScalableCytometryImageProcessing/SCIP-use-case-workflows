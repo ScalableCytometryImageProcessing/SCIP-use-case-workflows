{
 "cells": [
  {
   "cell_type": "markdown",
   "id": "66d97629-663c-40c6-97d8-450fdf1f5145",
   "metadata": {},
   "source": [
    "# Generate example images"
   ]
  },
  {
   "cell_type": "code",
   "execution_count": 76,
   "id": "03694966-7e21-479e-8df1-a7bea4569ba4",
   "metadata": {},
   "outputs": [
    {
     "name": "stdout",
     "output_type": "stream",
     "text": [
      "The autoreload extension is already loaded. To reload it, use:\n",
      "  %reload_ext autoreload\n"
     ]
    }
   ],
   "source": [
    "%load_ext autoreload\n",
    "%autoreload 2"
   ]
  },
  {
   "cell_type": "code",
   "execution_count": 77,
   "id": "7caffa4e-6184-41eb-bd7e-08504a6c38d2",
   "metadata": {},
   "outputs": [],
   "source": [
    "# %load ../common_.py\n",
    "import sys\n",
    "sys.path.append(\"..\")\n",
    "from common import *"
   ]
  },
  {
   "cell_type": "code",
   "execution_count": 78,
   "id": "2e335a25-b83f-46c2-8d05-c778a67e43b7",
   "metadata": {},
   "outputs": [],
   "source": [
    "import zarr\n",
    "from matplotlib.colors import ListedColormap, LinearSegmentedColormap, Normalize"
   ]
  },
  {
   "cell_type": "code",
   "execution_count": 79,
   "id": "b43e76e9-957e-4259-928f-30911a9a30bd",
   "metadata": {},
   "outputs": [],
   "source": [
    "data_dir = Path(os.environ[\"VSC_DATA_VO_USER\"]) / \"datasets/weizmann/EhV/v2/results/scip/202202071958/\""
   ]
  },
  {
   "cell_type": "code",
   "execution_count": 80,
   "id": "46c92269-858d-438d-8513-206a412621af",
   "metadata": {},
   "outputs": [
    {
     "data": {
      "text/plain": [
       "(103775, 914)"
      ]
     },
     "execution_count": 80,
     "metadata": {},
     "output_type": "execute_result"
    }
   ],
   "source": [
    "df = pq.read_table(data_dir / \"features.parquet\").to_pandas()\n",
    "cat_type = CategoricalDtype(categories=sorted(df[\"meta_group\"].astype(int).unique()), ordered=True)\n",
    "df[\"meta_group\"] = df[\"meta_group\"].astype(int).astype(cat_type)\n",
    "df[\"meta_replicate\"] = df[\"meta_replicate\"].astype(int)\n",
    "df = df.set_index([\"meta_type\", \"meta_object_number\", \"meta_replicate\", \"meta_suffix\", \"meta_group\"])\n",
    "df = df[numpy.load(data_dir / \"indices/columns.npy\", allow_pickle=True)]\n",
    "df = df.loc[numpy.load(data_dir / \"indices/iso.npy\", allow_pickle=True)]\n",
    "df = df[df[\"meta_label\"] != \"unknown\"]\n",
    "df[\"meta_label\"] = pandas.Categorical(df[\"meta_label\"], categories=[\"mcp-_psba+\", \"mcp+_psba+\", \"mcp+_psba-\", \"mcp-_psba-\"], ordered=True)\n",
    "df.shape"
   ]
  },
  {
   "cell_type": "code",
   "execution_count": 168,
   "id": "8ac3a0c0-00be-4cb9-b6ec-a2d45acd18c1",
   "metadata": {},
   "outputs": [],
   "source": [
    "channels = [4, 1, 6, 0, 3]\n",
    "cmaps = [\n",
    "    LinearSegmentedColormap.from_list(\"test\", [(0,0,0,1), (227/N, 161/N, 220/N, 1)]), # dapi\n",
    "    LinearSegmentedColormap.from_list(\"test\", [(0,0,0,1), (228/N, 204/N, 7/N, 1)]), # mcp\n",
    "    LinearSegmentedColormap.from_list(\"test\", [(0,0,0,1), (220/N, 41/N, 41/N, 1)]), # psba\n",
    "    \"Greys\",\n",
    "    \"Greys\"\n",
    "]\n",
    "norms = [\n",
    "    Normalize(vmin=df[\"feat_min_DAPI\"].quantile(0), vmax=df[\"feat_max_DAPI\"].quantile(0.95)),\n",
    "    Normalize(vmin=df[\"feat_min_TMR\"].quantile(0), vmax=df[\"feat_max_TMR\"].quantile(0.95)),\n",
    "    Normalize(vmin=df[\"feat_min_Cy5\"].quantile(0), vmax=df[\"feat_max_Cy5\"].quantile(0.95)),\n",
    "    Normalize(vmin=df[\"feat_min_BF1\"].quantile(0.1), vmax=df[\"feat_max_BF1\"].quantile(0.8)),\n",
    "    Normalize(vmin=df[\"feat_min_SSC\"].quantile(0.1), vmax=df[\"feat_max_SSC\"].quantile(0.4))\n",
    "]"
   ]
  },
  {
   "cell_type": "code",
   "execution_count": 166,
   "id": "ac40ed05-b8ed-4724-9727-827ede61318d",
   "metadata": {},
   "outputs": [],
   "source": [
    "r = df.sort_values(\"feat_max_Cy5\", ascending=False).iloc[1350]\n",
    "\n",
    "z = zarr.open(r.meta_path)\n",
    "\n",
    "pixels = z[r.meta_zarr_idx]\n",
    "pixels = pixels.reshape(z.attrs[\"shape\"][r.meta_zarr_idx])[channels]\n",
    "minr, minc, maxr, maxc = int(r[\"meta_bbox_minr\"]), int(r[\"meta_bbox_minc\"]), int(r[\"meta_bbox_maxr\"]), int(r[\"meta_bbox_maxc\"])"
   ]
  },
  {
   "cell_type": "code",
   "execution_count": 167,
   "id": "3e8f6d2c-a18f-481b-91c6-c262f62eec91",
   "metadata": {},
   "outputs": [
    {
     "data": {
      "image/png": "[encoded data removed]",
      "text/plain": [
       "<Figure size 900x600 with 5 Axes>"
      ]
     },
     "metadata": {},
     "output_type": "display_data"
    }
   ],
   "source": [
    "fig, axes = plt.subplots(1, 5, dpi=150)\n",
    "for cmap, norm, p, ax in zip(cmaps, norms, pixels, axes):\n",
    "    ax.imshow(p[minr:maxr, minc:maxc], cmap=cmap, norm=norm)\n",
    "    ax.set_axis_off()\n",
    "plt.savefig(data_dir / \"figures/healthy_cell.svg\")"
   ]
  },
  {
   "cell_type": "code",
   "execution_count": 169,
   "id": "414a347f-6bf3-432c-9e6d-1bd2ca450880",
   "metadata": {},
   "outputs": [],
   "source": [
    "r = df.sort_values(\"feat_max_TMR\", ascending=False).iloc[1350]\n",
    "\n",
    "z = zarr.open(r.meta_path)\n",
    "\n",
    "pixels = z[r.meta_zarr_idx]\n",
    "pixels = pixels.reshape(z.attrs[\"shape\"][r.meta_zarr_idx])[channels]\n",
    "minr, minc, maxr, maxc = int(r[\"meta_bbox_minr\"]), int(r[\"meta_bbox_minc\"]), int(r[\"meta_bbox_maxr\"]), int(r[\"meta_bbox_maxc\"])"
   ]
  },
  {
   "cell_type": "code",
   "execution_count": 170,
   "id": "5e4a280e-061c-4403-b791-fb44f9480ae7",
   "metadata": {},
   "outputs": [
    {
     "data": {
      "image/png": "[encoded data removed]",
      "text/plain": [
       "<Figure size 900x600 with 5 Axes>"
      ]
     },
     "metadata": {},
     "output_type": "display_data"
    }
   ],
   "source": [
    "fig, axes = plt.subplots(1, 5, dpi=150)\n",
    "for cmap, norm, p, ax in zip(cmaps, norms, pixels, axes):\n",
    "    ax.imshow(p[minr:maxr, minc:maxc], cmap=cmap, norm=norm)\n",
    "    ax.set_axis_off()\n",
    "plt.savefig(data_dir / \"figures/infected_cell.svg\")"
   ]
  },
  {
   "cell_type": "code",
   "execution_count": null,
   "id": "9b41bb9d-227d-49c5-9274-bccb0b3486ce",
   "metadata": {},
   "outputs": [],
   "source": []
  }
 ],
 "metadata": {
  "kernelspec": {
   "display_name": "Python 3 (ipykernel)",
   "language": "python",
   "name": "python3"
  },
  "language_info": {
   "codemirror_mode": {
    "name": "ipython",
    "version": 3
   },
   "file_extension": ".py",
   "mimetype": "text/x-python",
   "name": "python",
   "nbconvert_exporter": "python",
   "pygments_lexer": "ipython3",
   "version": "3.9.6"
  }
 },
 "nbformat": 4,
 "nbformat_minor": 5
}
