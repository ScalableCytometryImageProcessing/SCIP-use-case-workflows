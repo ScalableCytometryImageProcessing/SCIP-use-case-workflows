{
 "cells": [
  {
   "cell_type": "markdown",
   "id": "supported-construction",
   "metadata": {},
   "source": [
    "# Processing of SCIP features\n",
    "\n",
    "SCIP features have been computed on EhV data form the first large scale experiment, on files: H1_T7, H1_T8, H1_T9, H2_T7, H2_T8, H2_T9"
   ]
  },
  {
   "cell_type": "code",
   "execution_count": 2,
   "id": "overall-flooring",
   "metadata": {},
   "outputs": [],
   "source": [
    "%load_ext autoreload\n",
    "%autoreload 2"
   ]
  },
  {
   "cell_type": "code",
   "execution_count": 2,
   "id": "flush-assist",
   "metadata": {},
   "outputs": [],
   "source": [
    "# %load common_.py\n",
    "from common import *"
   ]
  },
  {
   "cell_type": "code",
   "execution_count": 4,
   "id": "expensive-study",
   "metadata": {},
   "outputs": [],
   "source": [
    "import math\n",
    "import tifffile\n",
    "import pyarrow.parquet as pq\n",
    "from matplotlib.patches import Rectangle"
   ]
  },
  {
   "cell_type": "markdown",
   "id": "marine-walter",
   "metadata": {},
   "source": [
    "## SCIP computed features"
   ]
  },
  {
   "cell_type": "code",
   "execution_count": 5,
   "id": "b20f1d3a-ae92-4020-8cd4-ccb509c1ce54",
   "metadata": {},
   "outputs": [],
   "source": [
    "channel_boundaries = pandas.read_csv(\"/vsc-mounts/gent-user/420/vsc42015/vsc_data_vo/datasets/weizmann/EhV/v2/results/202110271339/channel_boundaries.csv\", index_col=0)\n",
    "channel_boundaries.index = channel_boundaries.index.astype(str)"
   ]
  },
  {
   "cell_type": "code",
   "execution_count": 6,
   "id": "137b97f8-9408-411b-8916-168a4b2e13e2",
   "metadata": {},
   "outputs": [
    {
     "data": {
      "text/html": [
       "<div>\n",
       "<style scoped>\n",
       "    .dataframe tbody tr th:only-of-type {\n",
       "        vertical-align: middle;\n",
       "    }\n",
       "\n",
       "    .dataframe tbody tr th {\n",
       "        vertical-align: top;\n",
       "    }\n",
       "\n",
       "    .dataframe thead th {\n",
       "        text-align: right;\n",
       "    }\n",
       "</style>\n",
       "<table border=\"1\" class=\"dataframe\">\n",
       "  <thead>\n",
       "    <tr style=\"text-align: right;\">\n",
       "      <th></th>\n",
       "      <th>Ch1_min</th>\n",
       "      <th>Ch1_max</th>\n",
       "      <th>Ch2_min</th>\n",
       "      <th>Ch2_max</th>\n",
       "      <th>Ch3_min</th>\n",
       "      <th>Ch3_max</th>\n",
       "      <th>Ch4_min</th>\n",
       "      <th>Ch4_max</th>\n",
       "      <th>Ch5_min</th>\n",
       "      <th>Ch5_max</th>\n",
       "      <th>Ch6_min</th>\n",
       "      <th>Ch6_max</th>\n",
       "      <th>Ch7_min</th>\n",
       "      <th>Ch7_max</th>\n",
       "    </tr>\n",
       "  </thead>\n",
       "  <tbody>\n",
       "    <tr>\n",
       "      <th>0</th>\n",
       "      <td>163.0</td>\n",
       "      <td>1480.0</td>\n",
       "      <td>18.0</td>\n",
       "      <td>154.0</td>\n",
       "      <td>0.0</td>\n",
       "      <td>78.0</td>\n",
       "      <td>0.0</td>\n",
       "      <td>4087.0</td>\n",
       "      <td>0.0</td>\n",
       "      <td>2238.0</td>\n",
       "      <td>179.0</td>\n",
       "      <td>1774.0</td>\n",
       "      <td>0.0</td>\n",
       "      <td>3735.0</td>\n",
       "    </tr>\n",
       "    <tr>\n",
       "      <th>1</th>\n",
       "      <td>130.0</td>\n",
       "      <td>2393.0</td>\n",
       "      <td>20.0</td>\n",
       "      <td>399.0</td>\n",
       "      <td>0.0</td>\n",
       "      <td>80.0</td>\n",
       "      <td>0.0</td>\n",
       "      <td>4090.0</td>\n",
       "      <td>0.0</td>\n",
       "      <td>1287.0</td>\n",
       "      <td>143.0</td>\n",
       "      <td>2427.0</td>\n",
       "      <td>0.0</td>\n",
       "      <td>3611.0</td>\n",
       "    </tr>\n",
       "    <tr>\n",
       "      <th>2</th>\n",
       "      <td>178.0</td>\n",
       "      <td>1512.0</td>\n",
       "      <td>19.0</td>\n",
       "      <td>1895.0</td>\n",
       "      <td>0.0</td>\n",
       "      <td>93.0</td>\n",
       "      <td>0.0</td>\n",
       "      <td>4085.0</td>\n",
       "      <td>0.0</td>\n",
       "      <td>2575.0</td>\n",
       "      <td>190.0</td>\n",
       "      <td>2875.0</td>\n",
       "      <td>0.0</td>\n",
       "      <td>3337.0</td>\n",
       "    </tr>\n",
       "    <tr>\n",
       "      <th>3</th>\n",
       "      <td>220.0</td>\n",
       "      <td>1939.0</td>\n",
       "      <td>24.0</td>\n",
       "      <td>1424.0</td>\n",
       "      <td>0.0</td>\n",
       "      <td>245.0</td>\n",
       "      <td>0.0</td>\n",
       "      <td>4087.0</td>\n",
       "      <td>0.0</td>\n",
       "      <td>2228.0</td>\n",
       "      <td>185.0</td>\n",
       "      <td>2482.0</td>\n",
       "      <td>0.0</td>\n",
       "      <td>3714.0</td>\n",
       "    </tr>\n",
       "    <tr>\n",
       "      <th>4</th>\n",
       "      <td>212.0</td>\n",
       "      <td>1782.0</td>\n",
       "      <td>25.0</td>\n",
       "      <td>1115.0</td>\n",
       "      <td>0.0</td>\n",
       "      <td>114.0</td>\n",
       "      <td>0.0</td>\n",
       "      <td>4085.0</td>\n",
       "      <td>0.0</td>\n",
       "      <td>2174.0</td>\n",
       "      <td>181.0</td>\n",
       "      <td>2396.0</td>\n",
       "      <td>0.0</td>\n",
       "      <td>2232.0</td>\n",
       "    </tr>\n",
       "    <tr>\n",
       "      <th>5</th>\n",
       "      <td>155.0</td>\n",
       "      <td>1722.0</td>\n",
       "      <td>20.0</td>\n",
       "      <td>1415.0</td>\n",
       "      <td>0.0</td>\n",
       "      <td>147.0</td>\n",
       "      <td>0.0</td>\n",
       "      <td>4087.0</td>\n",
       "      <td>0.0</td>\n",
       "      <td>2546.0</td>\n",
       "      <td>156.0</td>\n",
       "      <td>2375.0</td>\n",
       "      <td>0.0</td>\n",
       "      <td>3939.0</td>\n",
       "    </tr>\n",
       "    <tr>\n",
       "      <th>6</th>\n",
       "      <td>221.0</td>\n",
       "      <td>2050.0</td>\n",
       "      <td>24.0</td>\n",
       "      <td>1379.0</td>\n",
       "      <td>0.0</td>\n",
       "      <td>124.0</td>\n",
       "      <td>0.0</td>\n",
       "      <td>4086.0</td>\n",
       "      <td>0.0</td>\n",
       "      <td>2752.0</td>\n",
       "      <td>191.0</td>\n",
       "      <td>3590.0</td>\n",
       "      <td>0.0</td>\n",
       "      <td>3908.0</td>\n",
       "    </tr>\n",
       "    <tr>\n",
       "      <th>7</th>\n",
       "      <td>262.0</td>\n",
       "      <td>2004.0</td>\n",
       "      <td>22.0</td>\n",
       "      <td>1256.0</td>\n",
       "      <td>0.0</td>\n",
       "      <td>145.0</td>\n",
       "      <td>0.0</td>\n",
       "      <td>4085.0</td>\n",
       "      <td>0.0</td>\n",
       "      <td>2484.0</td>\n",
       "      <td>184.0</td>\n",
       "      <td>1845.0</td>\n",
       "      <td>0.0</td>\n",
       "      <td>1204.0</td>\n",
       "    </tr>\n",
       "    <tr>\n",
       "      <th>8</th>\n",
       "      <td>214.0</td>\n",
       "      <td>1534.0</td>\n",
       "      <td>26.0</td>\n",
       "      <td>870.0</td>\n",
       "      <td>0.0</td>\n",
       "      <td>106.0</td>\n",
       "      <td>6.0</td>\n",
       "      <td>4084.0</td>\n",
       "      <td>0.0</td>\n",
       "      <td>2923.0</td>\n",
       "      <td>202.0</td>\n",
       "      <td>2042.0</td>\n",
       "      <td>0.0</td>\n",
       "      <td>1243.0</td>\n",
       "    </tr>\n",
       "    <tr>\n",
       "      <th>9</th>\n",
       "      <td>221.0</td>\n",
       "      <td>1482.0</td>\n",
       "      <td>24.0</td>\n",
       "      <td>394.0</td>\n",
       "      <td>0.0</td>\n",
       "      <td>65.0</td>\n",
       "      <td>16.0</td>\n",
       "      <td>4087.0</td>\n",
       "      <td>27.0</td>\n",
       "      <td>1484.0</td>\n",
       "      <td>215.0</td>\n",
       "      <td>1513.0</td>\n",
       "      <td>0.0</td>\n",
       "      <td>319.0</td>\n",
       "    </tr>\n",
       "  </tbody>\n",
       "</table>\n",
       "</div>"
      ],
      "text/plain": [
       "   Ch1_min  Ch1_max  Ch2_min  Ch2_max  Ch3_min  Ch3_max  Ch4_min  Ch4_max  \\\n",
       "0    163.0   1480.0     18.0    154.0      0.0     78.0      0.0   4087.0   \n",
       "1    130.0   2393.0     20.0    399.0      0.0     80.0      0.0   4090.0   \n",
       "2    178.0   1512.0     19.0   1895.0      0.0     93.0      0.0   4085.0   \n",
       "3    220.0   1939.0     24.0   1424.0      0.0    245.0      0.0   4087.0   \n",
       "4    212.0   1782.0     25.0   1115.0      0.0    114.0      0.0   4085.0   \n",
       "5    155.0   1722.0     20.0   1415.0      0.0    147.0      0.0   4087.0   \n",
       "6    221.0   2050.0     24.0   1379.0      0.0    124.0      0.0   4086.0   \n",
       "7    262.0   2004.0     22.0   1256.0      0.0    145.0      0.0   4085.0   \n",
       "8    214.0   1534.0     26.0    870.0      0.0    106.0      6.0   4084.0   \n",
       "9    221.0   1482.0     24.0    394.0      0.0     65.0     16.0   4087.0   \n",
       "\n",
       "   Ch5_min  Ch5_max  Ch6_min  Ch6_max  Ch7_min  Ch7_max  \n",
       "0      0.0   2238.0    179.0   1774.0      0.0   3735.0  \n",
       "1      0.0   1287.0    143.0   2427.0      0.0   3611.0  \n",
       "2      0.0   2575.0    190.0   2875.0      0.0   3337.0  \n",
       "3      0.0   2228.0    185.0   2482.0      0.0   3714.0  \n",
       "4      0.0   2174.0    181.0   2396.0      0.0   2232.0  \n",
       "5      0.0   2546.0    156.0   2375.0      0.0   3939.0  \n",
       "6      0.0   2752.0    191.0   3590.0      0.0   3908.0  \n",
       "7      0.0   2484.0    184.0   1845.0      0.0   1204.0  \n",
       "8      0.0   2923.0    202.0   2042.0      0.0   1243.0  \n",
       "9     27.0   1484.0    215.0   1513.0      0.0    319.0  "
      ]
     },
     "execution_count": 6,
     "metadata": {},
     "output_type": "execute_result"
    }
   ],
   "source": [
    "channel_boundaries"
   ]
  },
  {
   "cell_type": "code",
   "execution_count": 74,
   "id": "502cedfc-b74f-4f07-9550-62968afb051c",
   "metadata": {},
   "outputs": [],
   "source": [
    "df = pq.read_table(\"/vsc-mounts/gent-user/420/vsc42015/vsc_data_vo/datasets/weizmann/EhV/v2/results/202110252052/features.parquet\").to_pandas()"
   ]
  },
  {
   "cell_type": "code",
   "execution_count": 75,
   "id": "aee8e45c-0ebc-4399-af3f-8084702e203c",
   "metadata": {},
   "outputs": [
    {
     "data": {
      "text/plain": [
       "(76063, 618)"
      ]
     },
     "execution_count": 75,
     "metadata": {},
     "output_type": "execute_result"
    }
   ],
   "source": [
    "df.shape"
   ]
  },
  {
   "cell_type": "code",
   "execution_count": 76,
   "id": "d63f5553-d356-424e-8ed1-777af1f458b8",
   "metadata": {},
   "outputs": [
    {
     "data": {
      "text/plain": [
       "(14858, 618)"
      ]
     },
     "execution_count": 76,
     "metadata": {},
     "output_type": "execute_result"
    }
   ],
   "source": [
    "nanrows = df[df[\"meta_bbox_maxc\"].isna()]\n",
    "nanrows.shape"
   ]
  },
  {
   "cell_type": "code",
   "execution_count": 77,
   "id": "6cf0b211-24aa-4587-8ccb-1dbc6ac6847f",
   "metadata": {},
   "outputs": [
    {
     "data": {
      "text/plain": [
       "(61205, 618)"
      ]
     },
     "execution_count": 77,
     "metadata": {},
     "output_type": "execute_result"
    }
   ],
   "source": [
    "df = df[~df[\"meta_bbox_maxc\"].isna()]\n",
    "df.shape"
   ]
  },
  {
   "cell_type": "code",
   "execution_count": 78,
   "id": "e118bb76-e57c-45f8-a20d-6e7c37c5394d",
   "metadata": {},
   "outputs": [],
   "source": [
    "channels = [1, 3, 4, 6, 9, 11]"
   ]
  },
  {
   "cell_type": "code",
   "execution_count": 110,
   "id": "4717d1dd-49be-4469-b851-4614342f17e4",
   "metadata": {},
   "outputs": [],
   "source": [
    "def draw_image(row):\n",
    "    tp = row[\"meta_group\"]\n",
    "    pixels = tifffile.imread([row[f\"meta_{c}\"] for c in channels])\n",
    "    fig, axes = plt.subplots(1, len(pixels))\n",
    "    minr, minc, maxr, maxc = tuple([int(i) for i in row.filter(regex=\"bbox\")])\n",
    "    for p, ax, c in zip(pixels, axes, channels):\n",
    "        \n",
    "        c_idx = channels.index(c)+1\n",
    "        norm = Normalize(\n",
    "            vmin=channel_boundaries.loc[tp][f\"Ch{c_idx}_min\"],\n",
    "            vmax=channel_boundaries.loc[tp][f\"Ch{c_idx}_max\"]\n",
    "        )\n",
    "        ax.imshow(p[minr:maxr, minc:maxc], norm=norm, cmap=\"gray\")\n",
    "        ax.set_axis_off()"
   ]
  },
  {
   "cell_type": "code",
   "execution_count": 120,
   "id": "c3d8af6c-c984-4802-a2c4-6cbf89787a30",
   "metadata": {},
   "outputs": [
    {
     "name": "stderr",
     "output_type": "stream",
     "text": [
      "TiffTag 266: 0 is not a valid TIFF.FILLORDER\n",
      "TiffTag 266: 0 is not a valid TIFF.FILLORDER\n",
      "TiffTag 266: 0 is not a valid TIFF.FILLORDER\n",
      "TiffTag 266: 0 is not a valid TIFF.FILLORDER\n",
      "TiffTag 266: 0 is not a valid TIFF.FILLORDER\n",
      "TiffTag 266: 0 is not a valid TIFF.FILLORDER\n",
      "TiffTag 266: 0 is not a valid TIFF.FILLORDER\n"
     ]
    },
    {
     "data": {
      "image/png": "[encoded data removed]",
      "text/plain": [
       "<Figure size 432x288 with 6 Axes>"
      ]
     },
     "metadata": {},
     "output_type": "display_data"
    }
   ],
   "source": [
    "draw_image(df[(df[\"meta_group\"] == \"3\") & (df[\"meta_type\"] == \"Inf\")].iloc[0])"
   ]
  },
  {
   "cell_type": "code",
   "execution_count": 112,
   "id": "573dfbe5-8eaa-4452-b864-1e168f6c88f2",
   "metadata": {},
   "outputs": [
    {
     "name": "stderr",
     "output_type": "stream",
     "text": [
      "TiffTag 266: 0 is not a valid TIFF.FILLORDER\n",
      "TiffTag 266: 0 is not a valid TIFF.FILLORDER\n",
      "TiffTag 266: 0 is not a valid TIFF.FILLORDER\n",
      "TiffTag 266: 0 is not a valid TIFF.FILLORDER\n",
      "TiffTag 266: 0 is not a valid TIFF.FILLORDER\n",
      "TiffTag 266: 0 is not a valid TIFF.FILLORDER\n",
      "TiffTag 266: 0 is not a valid TIFF.FILLORDER\n"
     ]
    },
    {
     "data": {
      "image/png": "[encoded data removed]",
      "text/plain": [
       "<Figure size 432x288 with 6 Axes>"
      ]
     },
     "metadata": {},
     "output_type": "display_data"
    }
   ],
   "source": [
    "draw_image(df.iloc[1])"
   ]
  },
  {
   "cell_type": "code",
   "execution_count": 113,
   "id": "012c5280-b755-42a1-9892-7646f548436a",
   "metadata": {},
   "outputs": [
    {
     "name": "stderr",
     "output_type": "stream",
     "text": [
      "TiffTag 266: 0 is not a valid TIFF.FILLORDER\n",
      "TiffTag 266: 0 is not a valid TIFF.FILLORDER\n",
      "TiffTag 266: 0 is not a valid TIFF.FILLORDER\n",
      "TiffTag 266: 0 is not a valid TIFF.FILLORDER\n",
      "TiffTag 266: 0 is not a valid TIFF.FILLORDER\n",
      "TiffTag 266: 0 is not a valid TIFF.FILLORDER\n",
      "TiffTag 266: 0 is not a valid TIFF.FILLORDER\n"
     ]
    },
    {
     "data": {
      "image/png": "[encoded data removed]",
      "text/plain": [
       "<Figure size 432x288 with 6 Axes>"
      ]
     },
     "metadata": {},
     "output_type": "display_data"
    }
   ],
   "source": [
    "draw_image(df.iloc[2])"
   ]
  },
  {
   "cell_type": "code",
   "execution_count": 114,
   "id": "7629f26f-6add-4b92-a302-0ceea7910c3e",
   "metadata": {},
   "outputs": [
    {
     "name": "stderr",
     "output_type": "stream",
     "text": [
      "TiffTag 266: 0 is not a valid TIFF.FILLORDER\n",
      "TiffTag 266: 0 is not a valid TIFF.FILLORDER\n",
      "TiffTag 266: 0 is not a valid TIFF.FILLORDER\n",
      "TiffTag 266: 0 is not a valid TIFF.FILLORDER\n",
      "TiffTag 266: 0 is not a valid TIFF.FILLORDER\n",
      "TiffTag 266: 0 is not a valid TIFF.FILLORDER\n",
      "TiffTag 266: 0 is not a valid TIFF.FILLORDER\n"
     ]
    },
    {
     "data": {
      "image/png": "[encoded data removed]",
      "text/plain": [
       "<Figure size 432x288 with 6 Axes>"
      ]
     },
     "metadata": {},
     "output_type": "display_data"
    }
   ],
   "source": [
    "draw_image(df.iloc[3])"
   ]
  },
  {
   "cell_type": "code",
   "execution_count": 115,
   "id": "20e7b323-3e25-41e2-9660-e0995bb8e805",
   "metadata": {},
   "outputs": [
    {
     "name": "stderr",
     "output_type": "stream",
     "text": [
      "TiffTag 266: 0 is not a valid TIFF.FILLORDER\n",
      "TiffTag 266: 0 is not a valid TIFF.FILLORDER\n",
      "TiffTag 266: 0 is not a valid TIFF.FILLORDER\n",
      "TiffTag 266: 0 is not a valid TIFF.FILLORDER\n",
      "TiffTag 266: 0 is not a valid TIFF.FILLORDER\n",
      "TiffTag 266: 0 is not a valid TIFF.FILLORDER\n",
      "TiffTag 266: 0 is not a valid TIFF.FILLORDER\n"
     ]
    },
    {
     "data": {
      "image/png": "[encoded data removed]",
      "text/plain": [
       "<Figure size 432x288 with 6 Axes>"
      ]
     },
     "metadata": {},
     "output_type": "display_data"
    }
   ],
   "source": [
    "draw_image(df.iloc[5])"
   ]
  },
  {
   "cell_type": "code",
   "execution_count": 116,
   "id": "32d960da-a421-4749-aeed-e1d88fcd3c11",
   "metadata": {},
   "outputs": [
    {
     "name": "stderr",
     "output_type": "stream",
     "text": [
      "TiffTag 266: 0 is not a valid TIFF.FILLORDER\n",
      "TiffTag 266: 0 is not a valid TIFF.FILLORDER\n",
      "TiffTag 266: 0 is not a valid TIFF.FILLORDER\n",
      "TiffTag 266: 0 is not a valid TIFF.FILLORDER\n",
      "TiffTag 266: 0 is not a valid TIFF.FILLORDER\n",
      "TiffTag 266: 0 is not a valid TIFF.FILLORDER\n",
      "TiffTag 266: 0 is not a valid TIFF.FILLORDER\n"
     ]
    },
    {
     "data": {
      "image/png": "[encoded data removed]",
      "text/plain": [
       "<Figure size 432x288 with 6 Axes>"
      ]
     },
     "metadata": {},
     "output_type": "display_data"
    }
   ],
   "source": [
    "draw_image(df.iloc[6])"
   ]
  },
  {
   "cell_type": "code",
   "execution_count": 117,
   "id": "99bf6800-3c9e-4b4f-900f-16ae609f47ea",
   "metadata": {},
   "outputs": [
    {
     "name": "stderr",
     "output_type": "stream",
     "text": [
      "TiffTag 266: 0 is not a valid TIFF.FILLORDER\n",
      "TiffTag 266: 0 is not a valid TIFF.FILLORDER\n",
      "TiffTag 266: 0 is not a valid TIFF.FILLORDER\n",
      "TiffTag 266: 0 is not a valid TIFF.FILLORDER\n",
      "TiffTag 266: 0 is not a valid TIFF.FILLORDER\n",
      "TiffTag 266: 0 is not a valid TIFF.FILLORDER\n",
      "TiffTag 266: 0 is not a valid TIFF.FILLORDER\n"
     ]
    },
    {
     "data": {
      "image/png": "[encoded data removed]",
      "text/plain": [
       "<Figure size 432x288 with 6 Axes>"
      ]
     },
     "metadata": {},
     "output_type": "display_data"
    }
   ],
   "source": [
    "draw_image(df.iloc[7])"
   ]
  },
  {
   "cell_type": "code",
   "execution_count": null,
   "id": "a6450b61-ece6-41df-8c54-0079fcd456a4",
   "metadata": {},
   "outputs": [],
   "source": []
  }
 ],
 "metadata": {
  "kernelspec": {
   "display_name": "Python 3 (ipykernel)",
   "language": "python",
   "name": "python3"
  },
  "language_info": {
   "codemirror_mode": {
    "name": "ipython",
    "version": 3
   },
   "file_extension": ".py",
   "mimetype": "text/x-python",
   "name": "python",
   "nbconvert_exporter": "python",
   "pygments_lexer": "ipython3",
   "version": "3.9.7"
  }
 },
 "nbformat": 4,
 "nbformat_minor": 5
}
