{
 "cells": [
  {
   "cell_type": "markdown",
   "id": "171ed742-14fa-4831-88c9-a3f2ef608e09",
   "metadata": {
    "tags": []
   },
   "source": [
    "# EhV: batch effect removal"
   ]
  },
  {
   "cell_type": "markdown",
   "id": "77b17b70-d7e6-4d71-adfa-c3e0bd00d67b",
   "metadata": {
    "tags": []
   },
   "source": [
    "# Package imports"
   ]
  },
  {
   "cell_type": "code",
   "execution_count": 86,
   "id": "46f2c626-f36d-4601-baed-222b0b1a2b50",
   "metadata": {},
   "outputs": [
    {
     "name": "stdout",
     "output_type": "stream",
     "text": [
      "The autoreload extension is already loaded. To reload it, use:\n",
      "  %reload_ext autoreload\n"
     ]
    }
   ],
   "source": [
    "%load_ext autoreload\n",
    "%autoreload 2"
   ]
  },
  {
   "cell_type": "code",
   "execution_count": 87,
   "id": "5e6b9f01-e5db-47f6-afd7-59ac14ec2ede",
   "metadata": {},
   "outputs": [],
   "source": [
    "%matplotlib inline"
   ]
  },
  {
   "cell_type": "code",
   "execution_count": 88,
   "id": "990212ac-3f21-4dfd-a138-87c2df904fb3",
   "metadata": {},
   "outputs": [],
   "source": [
    "# %load ../common_.py\n",
    "import sys\n",
    "sys.path.append(\"..\")\n",
    "from common import *"
   ]
  },
  {
   "cell_type": "code",
   "execution_count": 89,
   "id": "dad9e22d-4902-4aab-a720-1075f8b4eb2a",
   "metadata": {},
   "outputs": [],
   "source": [
    "import copy\n",
    "import pickle"
   ]
  },
  {
   "cell_type": "code",
   "execution_count": 90,
   "id": "dbb3b937-4944-46bf-aa0a-609da620b965",
   "metadata": {},
   "outputs": [],
   "source": [
    "import numpy\n",
    "import scipy.stats\n",
    "from scipy.cluster.hierarchy import cut_tree\n",
    "\n",
    "from sklearn.feature_selection import mutual_info_classif\n",
    "\n",
    "from kneed import KneeLocator"
   ]
  },
  {
   "cell_type": "code",
   "execution_count": 91,
   "id": "44644488-3186-4e82-8bc9-d3f0c7a1dcdd",
   "metadata": {},
   "outputs": [],
   "source": [
    "import scanpy\n",
    "import anndata"
   ]
  },
  {
   "cell_type": "markdown",
   "id": "4d646d9f-709f-4dd0-b9de-9622d9ae0966",
   "metadata": {
    "tags": []
   },
   "source": [
    "# Data import"
   ]
  },
  {
   "cell_type": "code",
   "execution_count": 92,
   "id": "3fc054a8-55c9-4bb3-99d6-b9e30e6ea8d7",
   "metadata": {},
   "outputs": [],
   "source": [
    "data_dir = Path(os.environ[\"VSC_DATA_VO_USER\"]) / \"datasets/weizmann/EhV/v2/results/scip/202202071958/\""
   ]
  },
  {
   "cell_type": "code",
   "execution_count": 93,
   "id": "6f1575fe-2ca5-450b-b2b7-a71218c7b2fe",
   "metadata": {},
   "outputs": [
    {
     "data": {
      "text/plain": [
       "(100640, 907)"
      ]
     },
     "execution_count": 93,
     "metadata": {},
     "output_type": "execute_result"
    }
   ],
   "source": [
    "df = pq.read_table(data_dir / \"features.parquet\").to_pandas()\n",
    "cat_type = CategoricalDtype(categories=sorted(df[\"meta_group\"].astype(int).unique()), ordered=True)\n",
    "df[\"meta_group\"] = df[\"meta_group\"].astype(int).astype(cat_type)\n",
    "df[\"meta_replicate\"] = df[\"meta_replicate\"].astype(int)\n",
    "df = df.set_index([\"meta_type\", \"meta_object_number\", \"meta_replicate\", \"meta_suffix\", \"meta_group\"])\n",
    "\n",
    "cols = numpy.load(data_dir / \"indices/columns_v5.npy\", allow_pickle=True)\n",
    "cols = numpy.delete(cols, numpy.where(numpy.char.find(cols.astype(\"str\"),\"logicle\")!=-1))\n",
    "df = df[cols]\n",
    "\n",
    "df = df.loc[numpy.load(data_dir / \"indices/index_v5.npy\", allow_pickle=True)]\n",
    "df = df[df[\"meta_label\"] != \"unknown\"]\n",
    "df[\"meta_label\"] = pandas.Categorical(df[\"meta_label\"], categories=[\"mcp-_psba+\", \"mcp+_psba+\", \"mcp+_psba-\", \"mcp-_psba-\"], ordered=True)\n",
    "df.shape"
   ]
  },
  {
   "cell_type": "code",
   "execution_count": 94,
   "id": "f1f6f732-61c3-454d-b5f7-d0a9c7af12b6",
   "metadata": {},
   "outputs": [],
   "source": [
    "adata = anndata.AnnData(\n",
    "    df.filter(regex=\"feat\"), \n",
    "    obs=df.filter(regex=\"meta\"),\n",
    "    dtype=numpy.float32\n",
    ")\n",
    "adata.raw = adata"
   ]
  },
  {
   "cell_type": "code",
   "execution_count": 95,
   "id": "1581c560-a30c-40c7-a500-7eafc99f9a58",
   "metadata": {},
   "outputs": [],
   "source": [
    "adata.X = adata.to_df().fillna(0)"
   ]
  },
  {
   "cell_type": "markdown",
   "id": "76c0d861-6715-4a61-8313-38d839f20378",
   "metadata": {},
   "source": [
    "# Initial removal of batch features\n",
    "\n",
    "Features should not be able to distinguish healthy infected cells from healthy control cells"
   ]
  },
  {
   "cell_type": "code",
   "execution_count": 97,
   "id": "72549711-ea19-4392-a2f8-b3b766287f49",
   "metadata": {},
   "outputs": [],
   "source": [
    "sel1 = (adata.obs.reset_index()[\"meta_type\"] == \"Ctrl\") & (adata.obs.reset_index()[\"meta_label\"] == \"mcp-_psba+\")\n",
    "sel2 = (adata.obs.reset_index()[\"meta_type\"] == \"Inf\") & (adata.obs.reset_index()[\"meta_label\"] == \"mcp-_psba+\")"
   ]
  },
  {
   "cell_type": "code",
   "execution_count": 98,
   "id": "60c1554a-7e05-4d58-9d8d-22d5fa8bdb37",
   "metadata": {},
   "outputs": [
    {
     "data": {
      "text/plain": [
       "(70585, 14475)"
      ]
     },
     "execution_count": 98,
     "metadata": {},
     "output_type": "execute_result"
    }
   ],
   "source": [
    "sum(sel1), sum(sel2)"
   ]
  },
  {
   "cell_type": "code",
   "execution_count": 99,
   "id": "5d9015be-da8f-40fb-9b5c-0dc1d4065655",
   "metadata": {},
   "outputs": [
    {
     "name": "stdout",
     "output_type": "stream",
     "text": [
      "CPU times: user 12min 6s, sys: 20.5 s, total: 12min 26s\n",
      "Wall time: 12min 30s\n"
     ]
    }
   ],
   "source": [
    "%%time\n",
    "X = adata[sel1 | sel2].X\n",
    "target = numpy.vstack([sel1, sel2]).argmax(axis=0)[sel1|sel2]\n",
    "\n",
    "mi = mutual_info_classif(X, target, discrete_features=[\"euler\" in c for c in adata.var_names], n_neighbors=30, random_state=0)\n",
    "mi = pandas.Series(mi, index=adata.var_names).sort_values(ascending=False)"
   ]
  },
  {
   "cell_type": "code",
   "execution_count": 100,
   "id": "cb757002-62b7-472f-84c8-b20eb49775bf",
   "metadata": {},
   "outputs": [
    {
     "data": {
      "image/png": "[encoded data removed]",
      "text/plain": [
       "<Figure size 432x432 with 1 Axes>"
      ]
     },
     "metadata": {
      "needs_background": "light"
     },
     "output_type": "display_data"
    }
   ],
   "source": [
    "kneedle = KneeLocator(numpy.arange(len(mi)), mi, S=1, curve='convex', direction=\"decreasing\",online=False)\n",
    "elbow_value = mi.iloc[int(kneedle.knee)]\n",
    "\n",
    "kneedle.plot_knee()"
   ]
  },
  {
   "cell_type": "code",
   "execution_count": 101,
   "id": "02287901-f1a4-4693-9f37-7da1b88edb90",
   "metadata": {},
   "outputs": [
    {
     "data": {
      "text/plain": [
       "array(['feat_combined_mean_TMR', 'feat_combined_upper_quartile_TMR',\n",
       "       'feat_combined_median_TMR', 'feat_combined_lower_quartile_TMR',\n",
       "       'feat_combined_edge_mean_TMR',\n",
       "       'feat_combined_edge_upper_quartile_TMR',\n",
       "       'feat_combined_edge_median_TMR',\n",
       "       'feat_combined_edge_lower_quartile_TMR', 'feat_combined_min_TMR',\n",
       "       'feat_combined_edge_min_TMR', 'feat_combined_edge_max_TMR',\n",
       "       'feat_combined_mean_BF2', 'feat_combined_median_BF2',\n",
       "       'feat_combined_edge_median_BF2', 'feat_combined_edge_sum_TMR',\n",
       "       'feat_combined_max_TMR', 'feat_combined_edge_lower_quartile_BF2',\n",
       "       'feat_combined_edge_upper_quartile_BF2', 'feat_mean_BF2',\n",
       "       'feat_combined_upper_quartile_BF2', 'feat_combined_edge_mean_BF2',\n",
       "       'feat_median_BF2', 'feat_combined_lower_quartile_BF2',\n",
       "       'feat_combined_sum_TMR', 'feat_combined_edge_max_BF2',\n",
       "       'feat_mean_TMR', 'feat_upper_quartile_BF2', 'feat_median_TMR',\n",
       "       'feat_lower_quartile_TMR', 'feat_upper_quartile_TMR',\n",
       "       'feat_edge_mean_TMR', 'feat_lower_quartile_BF2',\n",
       "       'feat_edge_median_TMR', 'feat_edge_lower_quartile_TMR',\n",
       "       'feat_edge_upper_quartile_TMR', 'feat_edge_upper_quartile_BF2',\n",
       "       'feat_min_TMR'], dtype=object)"
      ]
     },
     "execution_count": 101,
     "metadata": {},
     "output_type": "execute_result"
    }
   ],
   "source": [
    "mi[mi > elbow_value].index.values"
   ]
  },
  {
   "cell_type": "code",
   "execution_count": 102,
   "id": "e2410e86-b555-4e21-8d23-0f9e3adda6c9",
   "metadata": {},
   "outputs": [
    {
     "data": {
      "text/plain": [
       "<AxesSubplot:xlabel='feat_combined_mean_TMR', ylabel='Count'>"
      ]
     },
     "execution_count": 102,
     "metadata": {},
     "output_type": "execute_result"
    },
    {
     "data": {
      "image/png": "[encoded data removed]",
      "text/plain": [
       "<Figure size 432x288 with 1 Axes>"
      ]
     },
     "metadata": {
      "needs_background": "light"
     },
     "output_type": "display_data"
    }
   ],
   "source": [
    "seaborn.histplot(data=adata[sel1 | sel2].to_df(), x=\"feat_combined_mean_TMR\", hue=target)"
   ]
  },
  {
   "cell_type": "code",
   "execution_count": 104,
   "id": "c2b452bf-26d3-4313-b477-6ecf38c5c499",
   "metadata": {},
   "outputs": [
    {
     "data": {
      "text/plain": [
       "<AxesSubplot:xlabel='meta_group', ylabel='count'>"
      ]
     },
     "execution_count": 104,
     "metadata": {},
     "output_type": "execute_result"
    },
    {
     "data": {
      "image/png": "[encoded data removed]",
      "text/plain": [
       "<Figure size 432x288 with 1 Axes>"
      ]
     },
     "metadata": {
      "needs_background": "light"
     },
     "output_type": "display_data"
    }
   ],
   "source": [
    "sel = adata[sel1 | sel2, \"feat_combined_mean_TMR\"].X.ravel() > 60\n",
    "seaborn.countplot(data=adata[sel1 | sel2][sel].obs.reset_index(), x=\"meta_group\", hue=target[sel])"
   ]
  },
  {
   "cell_type": "code",
   "execution_count": 105,
   "id": "01b64576-7b5d-47cd-88f8-0edea0e7b845",
   "metadata": {},
   "outputs": [
    {
     "name": "stdout",
     "output_type": "stream",
     "text": [
      "CPU times: user 3min 31s, sys: 160 ms, total: 3min 32s\n",
      "Wall time: 3min 33s\n"
     ]
    }
   ],
   "source": [
    "%%time\n",
    "\n",
    "X2 = adata[sel1 | sel2][~sel].X\n",
    "target2 = target[~sel]\n",
    "\n",
    "mi2 = mutual_info_classif(X2, target2, discrete_features=[\"euler\" in c for c in adata.var_names], n_neighbors=30, random_state=0)\n",
    "mi2 = pandas.Series(mi2, index=adata.var_names).sort_values(ascending=False)"
   ]
  },
  {
   "cell_type": "code",
   "execution_count": 106,
   "id": "bcaf7529-f772-4d6b-a2d8-34a0d3caaaa0",
   "metadata": {},
   "outputs": [
    {
     "data": {
      "image/png": "[encoded data removed]",
      "text/plain": [
       "<Figure size 432x432 with 1 Axes>"
      ]
     },
     "metadata": {
      "needs_background": "light"
     },
     "output_type": "display_data"
    }
   ],
   "source": [
    "kneedle = KneeLocator(numpy.arange(len(mi2)), mi2, S=1, curve='convex', direction=\"decreasing\",online=False)\n",
    "elbow_value = mi2.iloc[int(kneedle.knee)]\n",
    "\n",
    "kneedle.plot_knee()"
   ]
  },
  {
   "cell_type": "code",
   "execution_count": 107,
   "id": "15943676-e22d-4d8a-bb6c-c96a11de3206",
   "metadata": {},
   "outputs": [
    {
     "data": {
      "text/plain": [
       "array(['feat_combined_mean_BF1', 'feat_mean_BF1',\n",
       "       'feat_combined_upper_quartile_BF1',\n",
       "       'feat_combined_edge_upper_quartile_BF1',\n",
       "       'feat_combined_median_BF1', 'feat_combined_edge_median_BF1',\n",
       "       'feat_combined_edge_max_BF1', 'feat_combined_edge_mean_BF1',\n",
       "       'feat_median_BF1', 'feat_upper_quartile_BF1',\n",
       "       'feat_lower_quartile_BF1', 'feat_combined_edge_lower_quartile_BF1',\n",
       "       'feat_combined_lower_quartile_BF1', 'feat_edge_upper_quartile_BF1',\n",
       "       'feat_edge_mean_BF1', 'feat_edge_median_BF1',\n",
       "       'feat_edge_lower_quartile_BF1', 'feat_edge_max_BF1',\n",
       "       'feat_combined_median_Cy5', 'feat_combined_edge_min_BF1'],\n",
       "      dtype=object)"
      ]
     },
     "execution_count": 107,
     "metadata": {},
     "output_type": "execute_result"
    }
   ],
   "source": [
    "mi2[mi2 > elbow_value].index.values"
   ]
  },
  {
   "cell_type": "code",
   "execution_count": 108,
   "id": "063fe1b1-a1f3-46af-b2b7-5b26d47a91dd",
   "metadata": {},
   "outputs": [
    {
     "data": {
      "text/plain": [
       "<AxesSubplot:xlabel='feat_combined_mean_BF1', ylabel='Count'>"
      ]
     },
     "execution_count": 108,
     "metadata": {},
     "output_type": "execute_result"
    },
    {
     "data": {
      "image/png": "[encoded data removed]",
      "text/plain": [
       "<Figure size 432x288 with 1 Axes>"
      ]
     },
     "metadata": {
      "needs_background": "light"
     },
     "output_type": "display_data"
    }
   ],
   "source": [
    "seaborn.histplot(data=adata[sel1 | sel2][~sel].to_df(), x=\"feat_combined_mean_BF1\", hue=target2)"
   ]
  },
  {
   "cell_type": "code",
   "execution_count": 109,
   "id": "936de7cd-a6fd-4b49-ad6b-1734c8139cd0",
   "metadata": {},
   "outputs": [
    {
     "data": {
      "text/plain": [
       "<AxesSubplot:xlabel='feat_combined_mad_Cy5', ylabel='Count'>"
      ]
     },
     "execution_count": 109,
     "metadata": {},
     "output_type": "execute_result"
    },
    {
     "data": {
      "image/png": "[encoded data removed]",
      "text/plain": [
       "<Figure size 432x288 with 1 Axes>"
      ]
     },
     "metadata": {
      "needs_background": "light"
     },
     "output_type": "display_data"
    }
   ],
   "source": [
    "seaborn.histplot(data=adata[sel1 | sel2][~sel].to_df(), x=\"feat_combined_mad_Cy5\", hue=target2)"
   ]
  },
  {
   "cell_type": "code",
   "execution_count": 110,
   "id": "d03b0bce-8aaf-471e-ba45-42d93e5a12cb",
   "metadata": {},
   "outputs": [
    {
     "data": {
      "text/plain": [
       "<AxesSubplot:xlabel='feat_combined_median_Cy5', ylabel='Count'>"
      ]
     },
     "execution_count": 110,
     "metadata": {},
     "output_type": "execute_result"
    },
    {
     "data": {
      "image/png": "[encoded data removed]",
      "text/plain": [
       "<Figure size 432x288 with 1 Axes>"
      ]
     },
     "metadata": {
      "needs_background": "light"
     },
     "output_type": "display_data"
    }
   ],
   "source": [
    "seaborn.histplot(data=adata[sel1 | sel2][~sel].to_df(), x=\"feat_combined_median_Cy5\", hue=target2)"
   ]
  },
  {
   "cell_type": "code",
   "execution_count": 111,
   "id": "e3b86f86-182c-4f45-9368-f196e31101eb",
   "metadata": {},
   "outputs": [
    {
     "data": {
      "text/plain": [
       "872"
      ]
     },
     "execution_count": 111,
     "metadata": {},
     "output_type": "execute_result"
    }
   ],
   "source": [
    "selected_mi = mi2[mi2 < elbow_value].index.values\n",
    "len(selected_mi)"
   ]
  },
  {
   "cell_type": "code",
   "execution_count": 112,
   "id": "2eebc0c5-f452-4ae9-a18a-0d2d936671e7",
   "metadata": {},
   "outputs": [],
   "source": [
    "vec = numpy.arange(len(adata))[sel1|sel2][sel]\n",
    "idx = numpy.delete(numpy.arange(len(adata)), vec)"
   ]
  },
  {
   "cell_type": "code",
   "execution_count": 113,
   "id": "45ae6e3b-c75c-4794-a4d4-7f15c6b82ae1",
   "metadata": {},
   "outputs": [],
   "source": [
    "numpy.save(data_dir / \"indices/index_batch_v2.npy\", adata.obs.iloc[idx].index)\n",
    "numpy.save(data_dir / \"indices/columns_batch_v2.npy\", selected_mi.tolist() + adata.obs.columns.tolist())"
   ]
  },
  {
   "cell_type": "code",
   "execution_count": null,
   "id": "029b21a9-cffc-48ae-bbe1-dcb110f21bdc",
   "metadata": {},
   "outputs": [],
   "source": []
  }
 ],
 "metadata": {
  "kernelspec": {
   "display_name": "Python 3 (ipykernel)",
   "language": "python",
   "name": "python3"
  },
  "language_info": {
   "codemirror_mode": {
    "name": "ipython",
    "version": 3
   },
   "file_extension": ".py",
   "mimetype": "text/x-python",
   "name": "python",
   "nbconvert_exporter": "python",
   "pygments_lexer": "ipython3",
   "version": "3.9.6"
  }
 },
 "nbformat": 4,
 "nbformat_minor": 5
}
