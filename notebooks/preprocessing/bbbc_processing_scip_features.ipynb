{
 "cells": [
  {
   "cell_type": "markdown",
   "id": "supported-construction",
   "metadata": {},
   "source": [
    "# Processing of SCIP features"
   ]
  },
  {
   "cell_type": "code",
   "execution_count": 1,
   "id": "overall-flooring",
   "metadata": {},
   "outputs": [],
   "source": [
    "%load_ext autoreload\n",
    "%autoreload 2"
   ]
  },
  {
   "cell_type": "code",
   "execution_count": 2,
   "id": "flush-assist",
   "metadata": {},
   "outputs": [],
   "source": [
    "# %load ../common_.py\n",
    "import sys\n",
    "sys.path.append(\"../..\")\n",
    "from common import *"
   ]
  },
  {
   "cell_type": "code",
   "execution_count": 3,
   "id": "29422151-288a-4549-8178-96f982289b8d",
   "metadata": {},
   "outputs": [],
   "source": [
    "import pyarrow"
   ]
  },
  {
   "cell_type": "markdown",
   "id": "7eabb569-8124-4364-a735-4fdd736bcd35",
   "metadata": {},
   "source": [
    "## Load data"
   ]
  },
  {
   "cell_type": "code",
   "execution_count": 10,
   "id": "62503a75-f4ac-4fa4-9157-fceeb95bfddf",
   "metadata": {},
   "outputs": [],
   "source": [
    "try:\n",
    "    paths = snakemake.input\n",
    "    output = snakemake.output[0]\n",
    "except NameError:\n",
    "    data_root = Path(\"/data/gent/vo/000/gvo00070/vsc42015/datasets/BBBC021\")\n",
    "    data_dir = data_root / \"scip\" / \"310520220930_Week2\"\n",
    "    output = data_dir / \"features.parquet\"\n",
    "    paths = data_dir.glob(\"*.*.parquet\")"
   ]
  },
  {
   "cell_type": "markdown",
   "id": "5fb9255b-eddd-4b3e-91d0-6d1defafc05f",
   "metadata": {},
   "source": [
    "## profiles"
   ]
  },
  {
   "cell_type": "code",
   "execution_count": 11,
   "id": "502cedfc-b74f-4f07-9550-62968afb051c",
   "metadata": {},
   "outputs": [],
   "source": [
    "df = pandas.concat([pq.read_table(p).to_pandas() for p in paths], axis=0)"
   ]
  },
  {
   "cell_type": "code",
   "execution_count": 12,
   "id": "bdf5cab5-d12b-4504-ba26-8b3e3a33a603",
   "metadata": {},
   "outputs": [],
   "source": [
    "df[\"meta_filename\"] = df.meta_path.apply(os.path.basename)"
   ]
  },
  {
   "cell_type": "code",
   "execution_count": 13,
   "id": "5380e3b4-66b6-496d-bb8d-5791e6f1ad2c",
   "metadata": {},
   "outputs": [],
   "source": [
    "df = df.reset_index(drop=True)"
   ]
  },
  {
   "cell_type": "code",
   "execution_count": 14,
   "id": "f77d72df-fc79-4081-ba5f-35a874df06df",
   "metadata": {},
   "outputs": [
    {
     "data": {
      "text/plain": [
       "(150325, 677)"
      ]
     },
     "execution_count": 14,
     "metadata": {},
     "output_type": "execute_result"
    }
   ],
   "source": [
    "df.shape"
   ]
  },
  {
   "cell_type": "code",
   "execution_count": 15,
   "id": "c9e5563b-0d99-44ed-8d30-3164e0c75ef6",
   "metadata": {},
   "outputs": [],
   "source": [
    "pq.write_table(pyarrow.Table.from_pandas(df), output)"
   ]
  },
  {
   "cell_type": "code",
   "execution_count": null,
   "id": "88eb29f6-9e75-4db7-ac29-7b07dcd2f889",
   "metadata": {},
   "outputs": [],
   "source": []
  }
 ],
 "metadata": {
  "kernelspec": {
   "display_name": "Python 3 (ipykernel)",
   "language": "python",
   "name": "python3"
  },
  "language_info": {
   "codemirror_mode": {
    "name": "ipython",
    "version": 3
   },
   "file_extension": ".py",
   "mimetype": "text/x-python",
   "name": "python",
   "nbconvert_exporter": "python",
   "pygments_lexer": "ipython3",
   "version": "3.9.6"
  }
 },
 "nbformat": 4,
 "nbformat_minor": 5
}
