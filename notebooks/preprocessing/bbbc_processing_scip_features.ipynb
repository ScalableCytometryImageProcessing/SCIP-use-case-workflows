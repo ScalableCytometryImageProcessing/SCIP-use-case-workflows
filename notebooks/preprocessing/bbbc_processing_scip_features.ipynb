{
 "cells": [
  {
   "cell_type": "markdown",
   "id": "supported-construction",
   "metadata": {},
   "source": [
    "# Processing of SCIP features"
   ]
  },
  {
   "cell_type": "code",
   "execution_count": 1,
   "id": "overall-flooring",
   "metadata": {},
   "outputs": [],
   "source": [
    "%load_ext autoreload\n",
    "%autoreload 2"
   ]
  },
  {
   "cell_type": "code",
   "execution_count": 2,
   "id": "flush-assist",
   "metadata": {},
   "outputs": [],
   "source": [
    "# %load ../common_.py\n",
    "import sys\n",
    "sys.path.append(\"..\")\n",
    "from common import *"
   ]
  },
  {
   "cell_type": "code",
   "execution_count": 71,
   "id": "29422151-288a-4549-8178-96f982289b8d",
   "metadata": {},
   "outputs": [],
   "source": [
    "import pyarrow"
   ]
  },
  {
   "cell_type": "markdown",
   "id": "7eabb569-8124-4364-a735-4fdd736bcd35",
   "metadata": {},
   "source": [
    "## Load metadata"
   ]
  },
  {
   "cell_type": "code",
   "execution_count": 54,
   "id": "8ff094d2-1ded-4eb0-ab2d-08eca890cd8b",
   "metadata": {},
   "outputs": [],
   "source": [
    "data_dir = Path(os.environ[\"VSC_DATA_VO_USER\"]) / \"datasets/BBBC021\"\n",
    "\n",
    "image = pandas.read_csv(data_dir / \"BBBC021_v1_image.csv\")"
   ]
  },
  {
   "cell_type": "code",
   "execution_count": 58,
   "id": "68cb6034-897f-43f3-954a-5f623e5b836e",
   "metadata": {},
   "outputs": [],
   "source": [
    "image = image.drop(columns=[\"Image_PathName_DAPI\", \"Image_PathName_Tubulin\", \"Image_PathName_Actin\", \"Image_FileName_Tubulin\", \"Image_FileName_Actin\"])"
   ]
  },
  {
   "cell_type": "code",
   "execution_count": 63,
   "id": "9f507291-0a95-4efb-80d7-a3c269873edc",
   "metadata": {},
   "outputs": [],
   "source": [
    "image.columns = [\"meta_\" + col.lower() for col in image.columns]"
   ]
  },
  {
   "cell_type": "markdown",
   "id": "308e7fa5-e459-4a84-8d99-f633240a62e8",
   "metadata": {
    "tags": []
   },
   "source": [
    "## Load data"
   ]
  },
  {
   "cell_type": "code",
   "execution_count": 73,
   "id": "0fafc72b-982f-4d13-8ac5-0cff37ad0fcb",
   "metadata": {},
   "outputs": [],
   "source": [
    "data_dir = Path(\"/data/gent/vo/000/gvo00070/vsc42015/datasets/BBBC021/results/scip/270520220947_Week1/\")"
   ]
  },
  {
   "cell_type": "code",
   "execution_count": 4,
   "id": "502cedfc-b74f-4f07-9550-62968afb051c",
   "metadata": {},
   "outputs": [],
   "source": [
    "df = pandas.concat([\n",
    "    pq.read_table(p).to_pandas()\n",
    "    for p in (data_dir).glob(\"*.parquet\")\n",
    "], axis=0)"
   ]
  },
  {
   "cell_type": "code",
   "execution_count": 59,
   "id": "bdf5cab5-d12b-4504-ba26-8b3e3a33a603",
   "metadata": {},
   "outputs": [],
   "source": [
    "df[\"meta_filename\"] = df.meta_path.apply(os.path.basename)"
   ]
  },
  {
   "cell_type": "code",
   "execution_count": 65,
   "id": "c2247c9d-00ca-4bfd-b50b-46c1abd1f404",
   "metadata": {},
   "outputs": [],
   "source": [
    "df = df.merge(image, left_on=\"meta_filename\", right_on=\"meta_image_filename_dapi\")"
   ]
  },
  {
   "cell_type": "code",
   "execution_count": 69,
   "id": "5380e3b4-66b6-496d-bb8d-5791e6f1ad2c",
   "metadata": {},
   "outputs": [],
   "source": [
    "df = df.reset_index(drop=True)"
   ]
  },
  {
   "cell_type": "code",
   "execution_count": 74,
   "id": "c9e5563b-0d99-44ed-8d30-3164e0c75ef6",
   "metadata": {},
   "outputs": [],
   "source": [
    "pq.write_table(\n",
    "    pyarrow.Table.from_pandas(df), data_dir / \"features.parquet\")"
   ]
  },
  {
   "cell_type": "code",
   "execution_count": null,
   "id": "26c3646c-624c-4f96-9046-e30dd7f101fa",
   "metadata": {},
   "outputs": [],
   "source": []
  }
 ],
 "metadata": {
  "kernelspec": {
   "display_name": "Python 3 (ipykernel)",
   "language": "python",
   "name": "python3"
  },
  "language_info": {
   "codemirror_mode": {
    "name": "ipython",
    "version": 3
   },
   "file_extension": ".py",
   "mimetype": "text/x-python",
   "name": "python",
   "nbconvert_exporter": "python",
   "pygments_lexer": "ipython3",
   "version": "3.9.6"
  }
 },
 "nbformat": 4,
 "nbformat_minor": 5
}
