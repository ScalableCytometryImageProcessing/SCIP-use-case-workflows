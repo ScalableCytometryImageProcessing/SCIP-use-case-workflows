{
 "cells": [
  {
   "cell_type": "markdown",
   "id": "supported-construction",
   "metadata": {},
   "source": [
    "# Processing of SCIP features\n",
    "\n",
    "SCIP features have been computed on EhV data form the first large scale experiment, on files: H1_T7, H1_T8, H1_T9, H2_T7, H2_T8, H2_T9"
   ]
  },
  {
   "cell_type": "code",
   "execution_count": 2,
   "id": "overall-flooring",
   "metadata": {},
   "outputs": [],
   "source": [
    "%load_ext autoreload\n",
    "%autoreload 2"
   ]
  },
  {
   "cell_type": "code",
   "execution_count": 3,
   "id": "flush-assist",
   "metadata": {},
   "outputs": [],
   "source": [
    "# %load ../common_.py\n",
    "import sys\n",
    "sys.path.append(\"..\")\n",
    "from common import *"
   ]
  },
  {
   "cell_type": "code",
   "execution_count": 4,
   "id": "expensive-study",
   "metadata": {},
   "outputs": [],
   "source": [
    "from umap import UMAP\n",
    "import time\n",
    "import math\n",
    "import tifffile\n",
    "import pyarrow.parquet as pq\n",
    "import pyarrow\n",
    "# from ehv import masking"
   ]
  },
  {
   "cell_type": "markdown",
   "id": "marine-walter",
   "metadata": {},
   "source": [
    "## SCIP computed features"
   ]
  },
  {
   "cell_type": "code",
   "execution_count": 4,
   "id": "7529c606-0990-41b4-96ca-cd97cdc54b51",
   "metadata": {},
   "outputs": [
    {
     "data": {
      "text/plain": [
       "'/data/gent/vo/000/gvo00070/vsc42015'"
      ]
     },
     "execution_count": 4,
     "metadata": {},
     "output_type": "execute_result"
    }
   ],
   "source": [
    "import os\n",
    "os.environ[\"VSC_DATA_VO_USER\"]"
   ]
  },
  {
   "cell_type": "code",
   "execution_count": 5,
   "id": "502cedfc-b74f-4f07-9550-62968afb051c",
   "metadata": {},
   "outputs": [],
   "source": [
    "df = pandas.concat([\n",
    "    pq.read_table(p).to_pandas()\n",
    "    for p in Path(\"/data/gent/vo/000/gvo00070/vsc42015/datasets/weizmann/EhV/v2/results/scip/202202071958/\").glob(\"*.parquet\")\n",
    "], axis=0)"
   ]
  },
  {
   "cell_type": "code",
   "execution_count": 5,
   "id": "8fac28ed-14b4-4e40-ab8e-459595410342",
   "metadata": {},
   "outputs": [],
   "source": [
    "df = pandas.concat([\n",
    "    pq.read_table(p).to_pandas()\n",
    "    for p in Path(\"/data/gent/vo/000/gvo00070/vsc42015/results/scip_benchmark/multinode/202202111749/1/\").glob(\"*.parquet\")\n",
    "], axis=0)"
   ]
  },
  {
   "cell_type": "code",
   "execution_count": 6,
   "id": "951fad6b-61bd-4977-8083-6b78c32cdb4d",
   "metadata": {},
   "outputs": [
    {
     "data": {
      "text/plain": [
       "(50939, 682)"
      ]
     },
     "execution_count": 6,
     "metadata": {},
     "output_type": "execute_result"
    }
   ],
   "source": [
    "df.shape"
   ]
  },
  {
   "cell_type": "code",
   "execution_count": 7,
   "id": "7d56c590-90e7-4d1d-9083-e4e0d718af8f",
   "metadata": {},
   "outputs": [],
   "source": [
    "df[\"meta_sample\"] = df[\"meta_path\"].apply(lambda p: Path(p).stem)"
   ]
  },
  {
   "cell_type": "code",
   "execution_count": 8,
   "id": "001f1983-e473-45f0-a810-24c3568b7335",
   "metadata": {},
   "outputs": [],
   "source": [
    "def find_nth(haystack, needle, n):\n",
    "    start = haystack.find(needle)\n",
    "    while start >= 0 and n > 1:\n",
    "        start = haystack.find(needle, start+len(needle))\n",
    "        n -= 1\n",
    "    return start\n",
    "\n",
    "pop_dir = \"/data/gent/vo/000/gvo00070/vsc42015/datasets/weizmann/EhV/v2/meta/pop\"\n",
    "pop_files = list(Path(pop_dir).glob(\"*.pop\"))\n",
    "pops = {}\n",
    "for sample in df[\"meta_sample\"].unique():\n",
    "    pops[sample] = {}\n",
    "    \n",
    "    for f in pop_files:\n",
    "        if f.name.startswith(sample):\n",
    "            pop_file = f\n",
    "            with open(pop_file, \"r\") as fh:\n",
    "                content = fh.read()\n",
    "                if len(content) > 0:\n",
    "                    indices = content[:-2].replace(\"\\n\", \"\").replace(\" \", \"\").strip().split(\",\")\n",
    "                    for idx in indices:\n",
    "                        pops[sample][int(idx)] = pop_file.stem[find_nth(pop_file.stem, \"_\", 4)+1:]"
   ]
  },
  {
   "cell_type": "code",
   "execution_count": 9,
   "id": "5c1b8619-22c3-465e-a3d9-258f93c07648",
   "metadata": {},
   "outputs": [],
   "source": [
    "def map_to_class(x):\n",
    "    try:\n",
    "        return pops[x.meta_sample][x.meta_object_number]\n",
    "    except KeyError:\n",
    "        return \"unknown\""
   ]
  },
  {
   "cell_type": "code",
   "execution_count": 10,
   "id": "61af75b9-9f68-4f46-a697-934a25606d3c",
   "metadata": {},
   "outputs": [
    {
     "name": "stdout",
     "output_type": "stream",
     "text": [
      "0\n",
      "1\n",
      "2\n",
      "3\n",
      "4\n",
      "5\n",
      "6\n",
      "7\n",
      "8\n",
      "9\n",
      "CPU times: user 8.69 s, sys: 1.52 s, total: 10.2 s\n",
      "Wall time: 10.2 s\n"
     ]
    }
   ],
   "source": [
    "%%time\n",
    "df[\"meta_label\"] = \"unknown\"\n",
    "chunk_size = len(df)//10 + 1\n",
    "for i in range(0, 10):\n",
    "    df.iloc[i*chunk_size:(i+1)*chunk_size, df.columns.get_loc(\"meta_label\")] = df.iloc[i*chunk_size:(i+1)*chunk_size].apply(map_to_class, axis=1)\n",
    "    print(i)"
   ]
  },
  {
   "cell_type": "code",
   "execution_count": 11,
   "id": "a1a18dba-fdc7-4c96-a772-82d33d107600",
   "metadata": {},
   "outputs": [
    {
     "data": {
      "text/plain": [
       "<AxesSubplot:xlabel='count', ylabel='meta_group'>"
      ]
     },
     "execution_count": 11,
     "metadata": {},
     "output_type": "execute_result"
    },
    {
     "data": {
      "image/png": "[encoded data removed]",
      "text/plain": [
       "<Figure size 600x400 with 1 Axes>"
      ]
     },
     "metadata": {},
     "output_type": "display_data"
    }
   ],
   "source": [
    "fig, ax = plt.subplots(dpi=100)\n",
    "seaborn.countplot(ax=ax, data=df, y=\"meta_group\", hue=\"meta_type\")"
   ]
  },
  {
   "cell_type": "code",
   "execution_count": 12,
   "id": "e1494579-56b6-45ae-bf17-23282b08ea05",
   "metadata": {},
   "outputs": [
    {
     "data": {
      "text/plain": [
       "mcp-_psba+    15664\n",
       "mcp+_psba-     8359\n",
       "mcp+_psba+     5320\n",
       "mcp-_psba-     3831\n",
       "unknown        3184\n",
       "Name: meta_label, dtype: int64"
      ]
     },
     "execution_count": 12,
     "metadata": {},
     "output_type": "execute_result"
    }
   ],
   "source": [
    "df[df[\"meta_type\"] == \"Inf\"][\"meta_label\"].value_counts()"
   ]
  },
  {
   "cell_type": "code",
   "execution_count": 13,
   "id": "e112fdc7-458e-47b6-8a1f-ac8fdfb6a9a4",
   "metadata": {},
   "outputs": [
    {
     "data": {
      "text/plain": [
       "(142451, 1296)"
      ]
     },
     "execution_count": 13,
     "metadata": {},
     "output_type": "execute_result"
    }
   ],
   "source": [
    "df.shape"
   ]
  },
  {
   "cell_type": "code",
   "execution_count": 14,
   "id": "f106f41d-0a0b-444f-8794-cf0c074e6012",
   "metadata": {},
   "outputs": [],
   "source": [
    "df = df.reset_index(drop=True)"
   ]
  },
  {
   "cell_type": "code",
   "execution_count": 15,
   "id": "c9e5563b-0d99-44ed-8d30-3164e0c75ef6",
   "metadata": {},
   "outputs": [],
   "source": [
    "pq.write_table(pyarrow.Table.from_pandas(df), \"/data/gent/vo/000/gvo00070/vsc42015/datasets/weizmann/EhV/v2/results/scip/202202071958/features.parquet\")"
   ]
  },
  {
   "cell_type": "code",
   "execution_count": null,
   "id": "26c3646c-624c-4f96-9046-e30dd7f101fa",
   "metadata": {},
   "outputs": [],
   "source": []
  }
 ],
 "metadata": {
  "kernelspec": {
   "display_name": "Python 3 (ipykernel)",
   "language": "python",
   "name": "python3"
  },
  "language_info": {
   "codemirror_mode": {
    "name": "ipython",
    "version": 3
   },
   "file_extension": ".py",
   "mimetype": "text/x-python",
   "name": "python",
   "nbconvert_exporter": "python",
   "pygments_lexer": "ipython3",
   "version": "3.9.6"
  }
 },
 "nbformat": 4,
 "nbformat_minor": 5
}
