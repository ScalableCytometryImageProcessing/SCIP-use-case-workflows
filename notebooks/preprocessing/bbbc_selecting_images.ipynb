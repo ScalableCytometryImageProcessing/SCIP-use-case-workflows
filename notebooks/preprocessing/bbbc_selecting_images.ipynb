{
 "cells": [
  {
   "cell_type": "markdown",
   "id": "f33ca2a1-b301-4f6e-9652-597503bf6db2",
   "metadata": {},
   "source": [
    "# BBBC: selecting images"
   ]
  },
  {
   "cell_type": "code",
   "execution_count": 1,
   "id": "d92be3f5-89fd-453b-a0e5-0029d8c0dd0d",
   "metadata": {},
   "outputs": [],
   "source": [
    "%load_ext autoreload\n",
    "%autoreload 2"
   ]
  },
  {
   "cell_type": "code",
   "execution_count": 2,
   "id": "4ed1d5a0-6d9b-4729-933a-54b14d218f19",
   "metadata": {},
   "outputs": [],
   "source": [
    "# %load ../common_.py\n",
    "import sys\n",
    "sys.path.append(\"..\")\n",
    "from common import *"
   ]
  },
  {
   "cell_type": "code",
   "execution_count": 3,
   "id": "35093737-0642-48c1-aacd-acb568fb811f",
   "metadata": {},
   "outputs": [],
   "source": [
    "from sklearn.model_selection import train_test_split"
   ]
  },
  {
   "cell_type": "code",
   "execution_count": 4,
   "id": "ed1624a1-5c2a-4e86-982a-d10e29dbd639",
   "metadata": {},
   "outputs": [],
   "source": [
    "data_dir = Path(\"/data/Experiment_data/BBBC021/\")"
   ]
  },
  {
   "cell_type": "code",
   "execution_count": 6,
   "id": "6e20ac5d-ff6f-4a2e-b82b-00efb6781276",
   "metadata": {},
   "outputs": [],
   "source": [
    "data_dir = Path(os.environ[\"VSC_DATA_VO_USER\"]) / \"datasets/BBBC021\""
   ]
  },
  {
   "cell_type": "code",
   "execution_count": 7,
   "id": "eb2a0f8b-5a1b-4864-b718-387066a73ae7",
   "metadata": {},
   "outputs": [],
   "source": [
    "moa = pandas.read_csv(data_dir / \"BBBC021_v1_moa.csv\")\n",
    "image = pandas.read_csv(data_dir / \"BBBC021_v1_image.csv\")"
   ]
  },
  {
   "cell_type": "code",
   "execution_count": 9,
   "id": "3768f0a5-6d4b-46b0-9bf6-150e9d439d1d",
   "metadata": {},
   "outputs": [
    {
     "data": {
      "text/html": [
       "<div>\n",
       "<style scoped>\n",
       "    .dataframe tbody tr th:only-of-type {\n",
       "        vertical-align: middle;\n",
       "    }\n",
       "\n",
       "    .dataframe tbody tr th {\n",
       "        vertical-align: top;\n",
       "    }\n",
       "\n",
       "    .dataframe thead th {\n",
       "        text-align: right;\n",
       "    }\n",
       "</style>\n",
       "<table border=\"1\" class=\"dataframe\">\n",
       "  <thead>\n",
       "    <tr style=\"text-align: right;\">\n",
       "      <th></th>\n",
       "      <th>TableNumber</th>\n",
       "      <th>ImageNumber</th>\n",
       "      <th>Image_FileName_DAPI</th>\n",
       "      <th>Image_PathName_DAPI</th>\n",
       "      <th>Image_FileName_Tubulin</th>\n",
       "      <th>Image_PathName_Tubulin</th>\n",
       "      <th>Image_FileName_Actin</th>\n",
       "      <th>Image_PathName_Actin</th>\n",
       "      <th>Image_Metadata_Plate_DAPI</th>\n",
       "      <th>Image_Metadata_Well_DAPI</th>\n",
       "      <th>Replicate</th>\n",
       "      <th>Image_Metadata_Compound</th>\n",
       "      <th>Image_Metadata_Concentration</th>\n",
       "    </tr>\n",
       "  </thead>\n",
       "  <tbody>\n",
       "    <tr>\n",
       "      <th>0</th>\n",
       "      <td>4</td>\n",
       "      <td>233</td>\n",
       "      <td>G10_s1_w1BEDC2073-A983-4B98-95E9-84466707A25D.tif</td>\n",
       "      <td>Week4/Week4_27481</td>\n",
       "      <td>G10_s1_w2DCEC82F3-05F7-4F2F-B779-C5DF9698141E.tif</td>\n",
       "      <td>Week4/Week4_27481</td>\n",
       "      <td>G10_s1_w43CD51CBC-2370-471F-BA01-EE250B14B3C8.tif</td>\n",
       "      <td>Week4/Week4_27481</td>\n",
       "      <td>Week4_27481</td>\n",
       "      <td>G10</td>\n",
       "      <td>1</td>\n",
       "      <td>5-fluorouracil</td>\n",
       "      <td>0.003</td>\n",
       "    </tr>\n",
       "    <tr>\n",
       "      <th>1</th>\n",
       "      <td>4</td>\n",
       "      <td>234</td>\n",
       "      <td>G10_s2_w11C3B9BCC-E48F-4C2F-9D31-8F46D8B5B972.tif</td>\n",
       "      <td>Week4/Week4_27481</td>\n",
       "      <td>G10_s2_w2570437EF-C8DC-4074-8D63-7FA3A7271FEE.tif</td>\n",
       "      <td>Week4/Week4_27481</td>\n",
       "      <td>G10_s2_w400B21F33-BDAB-4363-92C2-F4FB7545F08C.tif</td>\n",
       "      <td>Week4/Week4_27481</td>\n",
       "      <td>Week4_27481</td>\n",
       "      <td>G10</td>\n",
       "      <td>1</td>\n",
       "      <td>5-fluorouracil</td>\n",
       "      <td>0.003</td>\n",
       "    </tr>\n",
       "    <tr>\n",
       "      <th>2</th>\n",
       "      <td>4</td>\n",
       "      <td>235</td>\n",
       "      <td>G10_s3_w1F4FCE330-C71C-4CA3-9815-EAF9B9876EB5.tif</td>\n",
       "      <td>Week4/Week4_27481</td>\n",
       "      <td>G10_s3_w2194A9AC7-369B-4D84-99C0-DA809B0042B8.tif</td>\n",
       "      <td>Week4/Week4_27481</td>\n",
       "      <td>G10_s3_w4E0452054-9FC1-41AB-8C5B-D0ACD058991F.tif</td>\n",
       "      <td>Week4/Week4_27481</td>\n",
       "      <td>Week4_27481</td>\n",
       "      <td>G10</td>\n",
       "      <td>1</td>\n",
       "      <td>5-fluorouracil</td>\n",
       "      <td>0.003</td>\n",
       "    </tr>\n",
       "    <tr>\n",
       "      <th>3</th>\n",
       "      <td>4</td>\n",
       "      <td>236</td>\n",
       "      <td>G10_s4_w1747818B4-FFA7-40EE-B0A0-6A5974AF2644.tif</td>\n",
       "      <td>Week4/Week4_27481</td>\n",
       "      <td>G10_s4_w298D4652F-B5BF-49F2-BE51-8149DF83EAFD.tif</td>\n",
       "      <td>Week4/Week4_27481</td>\n",
       "      <td>G10_s4_w42648D36D-6B77-41CD-B520-6E4C533D9ABC.tif</td>\n",
       "      <td>Week4/Week4_27481</td>\n",
       "      <td>Week4_27481</td>\n",
       "      <td>G10</td>\n",
       "      <td>1</td>\n",
       "      <td>5-fluorouracil</td>\n",
       "      <td>0.003</td>\n",
       "    </tr>\n",
       "    <tr>\n",
       "      <th>4</th>\n",
       "      <td>4</td>\n",
       "      <td>473</td>\n",
       "      <td>G10_s1_w10034568D-CC12-43C3-93A9-DC3782099DD3.tif</td>\n",
       "      <td>Week4/Week4_27521</td>\n",
       "      <td>G10_s1_w2A29ED14B-952C-4BA1-89B9-4F92B6DADEB4.tif</td>\n",
       "      <td>Week4/Week4_27521</td>\n",
       "      <td>G10_s1_w4DAA2E9D1-F6E9-45FA-ADC0-D341B647A680.tif</td>\n",
       "      <td>Week4/Week4_27521</td>\n",
       "      <td>Week4_27521</td>\n",
       "      <td>G10</td>\n",
       "      <td>2</td>\n",
       "      <td>5-fluorouracil</td>\n",
       "      <td>0.003</td>\n",
       "    </tr>\n",
       "    <tr>\n",
       "      <th>...</th>\n",
       "      <td>...</td>\n",
       "      <td>...</td>\n",
       "      <td>...</td>\n",
       "      <td>...</td>\n",
       "      <td>...</td>\n",
       "      <td>...</td>\n",
       "      <td>...</td>\n",
       "      <td>...</td>\n",
       "      <td>...</td>\n",
       "      <td>...</td>\n",
       "      <td>...</td>\n",
       "      <td>...</td>\n",
       "      <td>...</td>\n",
       "    </tr>\n",
       "    <tr>\n",
       "      <th>13195</th>\n",
       "      <td>9</td>\n",
       "      <td>3560</td>\n",
       "      <td>Week9_090907_F11_s4_w19580FF4D-DC3D-4BD0-93FE-...</td>\n",
       "      <td>Week9/Week9_39301</td>\n",
       "      <td>Week9_090907_F11_s4_w2DC65EC6F-BDCA-4B05-B243-...</td>\n",
       "      <td>Week9/Week9_39301</td>\n",
       "      <td>Week9_090907_F11_s4_w45699A0F4-9AEE-4CD4-8973-...</td>\n",
       "      <td>Week9/Week9_39301</td>\n",
       "      <td>Week9_39301</td>\n",
       "      <td>F11</td>\n",
       "      <td>3</td>\n",
       "      <td>DMSO</td>\n",
       "      <td>0.000</td>\n",
       "    </tr>\n",
       "    <tr>\n",
       "      <th>13196</th>\n",
       "      <td>9</td>\n",
       "      <td>3597</td>\n",
       "      <td>Week9_090907_G11_s1_w1EDE534D2-FCEE-4F92-A30B-...</td>\n",
       "      <td>Week9/Week9_39301</td>\n",
       "      <td>Week9_090907_G11_s1_w26A22E27F-6A81-43F5-9587-...</td>\n",
       "      <td>Week9/Week9_39301</td>\n",
       "      <td>Week9_090907_G11_s1_w4554A2BF7-0D53-4D27-BF92-...</td>\n",
       "      <td>Week9/Week9_39301</td>\n",
       "      <td>Week9_39301</td>\n",
       "      <td>G11</td>\n",
       "      <td>3</td>\n",
       "      <td>DMSO</td>\n",
       "      <td>0.000</td>\n",
       "    </tr>\n",
       "    <tr>\n",
       "      <th>13197</th>\n",
       "      <td>9</td>\n",
       "      <td>3598</td>\n",
       "      <td>Week9_090907_G11_s2_w10B010F39-3B4B-4DCB-8E34-...</td>\n",
       "      <td>Week9/Week9_39301</td>\n",
       "      <td>Week9_090907_G11_s2_w2720AC778-3F85-4293-8D75-...</td>\n",
       "      <td>Week9/Week9_39301</td>\n",
       "      <td>Week9_090907_G11_s2_w49B290958-BCF2-4DDD-B0E9-...</td>\n",
       "      <td>Week9/Week9_39301</td>\n",
       "      <td>Week9_39301</td>\n",
       "      <td>G11</td>\n",
       "      <td>3</td>\n",
       "      <td>DMSO</td>\n",
       "      <td>0.000</td>\n",
       "    </tr>\n",
       "    <tr>\n",
       "      <th>13198</th>\n",
       "      <td>9</td>\n",
       "      <td>3599</td>\n",
       "      <td>Week9_090907_G11_s3_w10394282C-6D3D-4E0E-9FA3-...</td>\n",
       "      <td>Week9/Week9_39301</td>\n",
       "      <td>Week9_090907_G11_s3_w24C59DB62-E99B-4284-BAD2-...</td>\n",
       "      <td>Week9/Week9_39301</td>\n",
       "      <td>Week9_090907_G11_s3_w471FE25C8-2477-456F-9D74-...</td>\n",
       "      <td>Week9/Week9_39301</td>\n",
       "      <td>Week9_39301</td>\n",
       "      <td>G11</td>\n",
       "      <td>3</td>\n",
       "      <td>DMSO</td>\n",
       "      <td>0.000</td>\n",
       "    </tr>\n",
       "    <tr>\n",
       "      <th>13199</th>\n",
       "      <td>9</td>\n",
       "      <td>3600</td>\n",
       "      <td>Week9_090907_G11_s4_w1C447A151-1F85-4E19-9C96-...</td>\n",
       "      <td>Week9/Week9_39301</td>\n",
       "      <td>Week9_090907_G11_s4_w22E574F48-321D-4470-ACC4-...</td>\n",
       "      <td>Week9/Week9_39301</td>\n",
       "      <td>Week9_090907_G11_s4_w4200C5003-7F75-47DF-928C-...</td>\n",
       "      <td>Week9/Week9_39301</td>\n",
       "      <td>Week9_39301</td>\n",
       "      <td>G11</td>\n",
       "      <td>3</td>\n",
       "      <td>DMSO</td>\n",
       "      <td>0.000</td>\n",
       "    </tr>\n",
       "  </tbody>\n",
       "</table>\n",
       "<p>13200 rows × 13 columns</p>\n",
       "</div>"
      ],
      "text/plain": [
       "       TableNumber  ImageNumber  \\\n",
       "0                4          233   \n",
       "1                4          234   \n",
       "2                4          235   \n",
       "3                4          236   \n",
       "4                4          473   \n",
       "...            ...          ...   \n",
       "13195            9         3560   \n",
       "13196            9         3597   \n",
       "13197            9         3598   \n",
       "13198            9         3599   \n",
       "13199            9         3600   \n",
       "\n",
       "                                     Image_FileName_DAPI Image_PathName_DAPI  \\\n",
       "0      G10_s1_w1BEDC2073-A983-4B98-95E9-84466707A25D.tif   Week4/Week4_27481   \n",
       "1      G10_s2_w11C3B9BCC-E48F-4C2F-9D31-8F46D8B5B972.tif   Week4/Week4_27481   \n",
       "2      G10_s3_w1F4FCE330-C71C-4CA3-9815-EAF9B9876EB5.tif   Week4/Week4_27481   \n",
       "3      G10_s4_w1747818B4-FFA7-40EE-B0A0-6A5974AF2644.tif   Week4/Week4_27481   \n",
       "4      G10_s1_w10034568D-CC12-43C3-93A9-DC3782099DD3.tif   Week4/Week4_27521   \n",
       "...                                                  ...                 ...   \n",
       "13195  Week9_090907_F11_s4_w19580FF4D-DC3D-4BD0-93FE-...   Week9/Week9_39301   \n",
       "13196  Week9_090907_G11_s1_w1EDE534D2-FCEE-4F92-A30B-...   Week9/Week9_39301   \n",
       "13197  Week9_090907_G11_s2_w10B010F39-3B4B-4DCB-8E34-...   Week9/Week9_39301   \n",
       "13198  Week9_090907_G11_s3_w10394282C-6D3D-4E0E-9FA3-...   Week9/Week9_39301   \n",
       "13199  Week9_090907_G11_s4_w1C447A151-1F85-4E19-9C96-...   Week9/Week9_39301   \n",
       "\n",
       "                                  Image_FileName_Tubulin  \\\n",
       "0      G10_s1_w2DCEC82F3-05F7-4F2F-B779-C5DF9698141E.tif   \n",
       "1      G10_s2_w2570437EF-C8DC-4074-8D63-7FA3A7271FEE.tif   \n",
       "2      G10_s3_w2194A9AC7-369B-4D84-99C0-DA809B0042B8.tif   \n",
       "3      G10_s4_w298D4652F-B5BF-49F2-BE51-8149DF83EAFD.tif   \n",
       "4      G10_s1_w2A29ED14B-952C-4BA1-89B9-4F92B6DADEB4.tif   \n",
       "...                                                  ...   \n",
       "13195  Week9_090907_F11_s4_w2DC65EC6F-BDCA-4B05-B243-...   \n",
       "13196  Week9_090907_G11_s1_w26A22E27F-6A81-43F5-9587-...   \n",
       "13197  Week9_090907_G11_s2_w2720AC778-3F85-4293-8D75-...   \n",
       "13198  Week9_090907_G11_s3_w24C59DB62-E99B-4284-BAD2-...   \n",
       "13199  Week9_090907_G11_s4_w22E574F48-321D-4470-ACC4-...   \n",
       "\n",
       "      Image_PathName_Tubulin  \\\n",
       "0          Week4/Week4_27481   \n",
       "1          Week4/Week4_27481   \n",
       "2          Week4/Week4_27481   \n",
       "3          Week4/Week4_27481   \n",
       "4          Week4/Week4_27521   \n",
       "...                      ...   \n",
       "13195      Week9/Week9_39301   \n",
       "13196      Week9/Week9_39301   \n",
       "13197      Week9/Week9_39301   \n",
       "13198      Week9/Week9_39301   \n",
       "13199      Week9/Week9_39301   \n",
       "\n",
       "                                    Image_FileName_Actin Image_PathName_Actin  \\\n",
       "0      G10_s1_w43CD51CBC-2370-471F-BA01-EE250B14B3C8.tif    Week4/Week4_27481   \n",
       "1      G10_s2_w400B21F33-BDAB-4363-92C2-F4FB7545F08C.tif    Week4/Week4_27481   \n",
       "2      G10_s3_w4E0452054-9FC1-41AB-8C5B-D0ACD058991F.tif    Week4/Week4_27481   \n",
       "3      G10_s4_w42648D36D-6B77-41CD-B520-6E4C533D9ABC.tif    Week4/Week4_27481   \n",
       "4      G10_s1_w4DAA2E9D1-F6E9-45FA-ADC0-D341B647A680.tif    Week4/Week4_27521   \n",
       "...                                                  ...                  ...   \n",
       "13195  Week9_090907_F11_s4_w45699A0F4-9AEE-4CD4-8973-...    Week9/Week9_39301   \n",
       "13196  Week9_090907_G11_s1_w4554A2BF7-0D53-4D27-BF92-...    Week9/Week9_39301   \n",
       "13197  Week9_090907_G11_s2_w49B290958-BCF2-4DDD-B0E9-...    Week9/Week9_39301   \n",
       "13198  Week9_090907_G11_s3_w471FE25C8-2477-456F-9D74-...    Week9/Week9_39301   \n",
       "13199  Week9_090907_G11_s4_w4200C5003-7F75-47DF-928C-...    Week9/Week9_39301   \n",
       "\n",
       "      Image_Metadata_Plate_DAPI Image_Metadata_Well_DAPI  Replicate  \\\n",
       "0                   Week4_27481                      G10          1   \n",
       "1                   Week4_27481                      G10          1   \n",
       "2                   Week4_27481                      G10          1   \n",
       "3                   Week4_27481                      G10          1   \n",
       "4                   Week4_27521                      G10          2   \n",
       "...                         ...                      ...        ...   \n",
       "13195               Week9_39301                      F11          3   \n",
       "13196               Week9_39301                      G11          3   \n",
       "13197               Week9_39301                      G11          3   \n",
       "13198               Week9_39301                      G11          3   \n",
       "13199               Week9_39301                      G11          3   \n",
       "\n",
       "      Image_Metadata_Compound  Image_Metadata_Concentration  \n",
       "0              5-fluorouracil                         0.003  \n",
       "1              5-fluorouracil                         0.003  \n",
       "2              5-fluorouracil                         0.003  \n",
       "3              5-fluorouracil                         0.003  \n",
       "4              5-fluorouracil                         0.003  \n",
       "...                       ...                           ...  \n",
       "13195                    DMSO                         0.000  \n",
       "13196                    DMSO                         0.000  \n",
       "13197                    DMSO                         0.000  \n",
       "13198                    DMSO                         0.000  \n",
       "13199                    DMSO                         0.000  \n",
       "\n",
       "[13200 rows x 13 columns]"
      ]
     },
     "execution_count": 9,
     "metadata": {},
     "output_type": "execute_result"
    }
   ],
   "source": [
    "image"
   ]
  },
  {
   "cell_type": "code",
   "execution_count": 87,
   "id": "3fb33d78-28be-494d-af78-a6715804e1a9",
   "metadata": {},
   "outputs": [
    {
     "data": {
      "text/plain": [
       "<AxesSubplot:xlabel='count', ylabel='moa'>"
      ]
     },
     "execution_count": 87,
     "metadata": {},
     "output_type": "execute_result"
    },
    {
     "data": {
      "image/png": "[encoded data removed]",
      "text/plain": [
       "<Figure size 432x288 with 1 Axes>"
      ]
     },
     "metadata": {},
     "output_type": "display_data"
    }
   ],
   "source": [
    "seaborn.countplot(data=moa, y=\"moa\", order=sorted(moa.moa.unique()))"
   ]
  },
  {
   "cell_type": "code",
   "execution_count": 88,
   "id": "b27b1ea4-0132-4b2e-84d0-e466b8d1021e",
   "metadata": {},
   "outputs": [],
   "source": [
    "moa = moa.drop(index=moa.index[moa.moa == \"DMSO\"][0])"
   ]
  },
  {
   "cell_type": "code",
   "execution_count": 89,
   "id": "24e0fb39-7c3e-4ecb-b69c-1f4407693888",
   "metadata": {},
   "outputs": [],
   "source": [
    "_, index = train_test_split(moa.index, test_size=0.4, stratify=moa[\"moa\"])"
   ]
  },
  {
   "cell_type": "code",
   "execution_count": 90,
   "id": "ce10a2d3-91cf-4ad4-96d2-fbb2a7cbc069",
   "metadata": {},
   "outputs": [
    {
     "data": {
      "text/plain": [
       "<AxesSubplot:xlabel='count', ylabel='moa'>"
      ]
     },
     "execution_count": 90,
     "metadata": {},
     "output_type": "execute_result"
    },
    {
     "data": {
      "image/png": "[encoded data removed]",
      "text/plain": [
       "<Figure size 432x288 with 1 Axes>"
      ]
     },
     "metadata": {},
     "output_type": "display_data"
    }
   ],
   "source": [
    "seaborn.countplot(data=moa.loc[index], y=\"moa\", order=sorted(moa.moa.unique()))"
   ]
  },
  {
   "cell_type": "code",
   "execution_count": 91,
   "id": "cf15236b-f248-43a9-9985-09ccfd5c5bfa",
   "metadata": {},
   "outputs": [],
   "source": [
    "moa = moa.loc[index].set_index([\"compound\", \"concentration\"])"
   ]
  },
  {
   "cell_type": "code",
   "execution_count": 92,
   "id": "cc306f56-d210-4e46-b396-36211cf432c8",
   "metadata": {},
   "outputs": [],
   "source": [
    "selected_image = image.set_index([\"Image_Metadata_Compound\", \"Image_Metadata_Concentration\"]).loc[moa.index]"
   ]
  },
  {
   "cell_type": "code",
   "execution_count": 93,
   "id": "55e26b2e-6dc9-4a36-954f-77f365d1c8b3",
   "metadata": {},
   "outputs": [
    {
     "data": {
      "text/plain": [
       "32000"
      ]
     },
     "execution_count": 93,
     "metadata": {},
     "output_type": "execute_result"
    }
   ],
   "source": [
    "len(selected_image[\"Image_PathName_DAPI\"].unique()) * 800"
   ]
  },
  {
   "cell_type": "code",
   "execution_count": null,
   "id": "66a87c95-18b6-4adb-850d-1c5cace68aad",
   "metadata": {},
   "outputs": [],
   "source": []
  }
 ],
 "metadata": {
  "kernelspec": {
   "display_name": "Python 3 (ipykernel)",
   "language": "python",
   "name": "python3"
  },
  "language_info": {
   "codemirror_mode": {
    "name": "ipython",
    "version": 3
   },
   "file_extension": ".py",
   "mimetype": "text/x-python",
   "name": "python",
   "nbconvert_exporter": "python",
   "pygments_lexer": "ipython3",
   "version": "3.9.6"
  }
 },
 "nbformat": 4,
 "nbformat_minor": 5
}
