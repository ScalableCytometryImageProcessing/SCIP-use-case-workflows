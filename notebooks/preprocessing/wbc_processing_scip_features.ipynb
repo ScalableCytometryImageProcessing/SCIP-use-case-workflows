{
 "cells": [
  {
   "cell_type": "markdown",
   "id": "supported-construction",
   "metadata": {},
   "source": [
    "# Processing of SCIP features\n",
    "\n",
    "SCIP features have been computed on EhV data form the first large scale experiment, on files: H1_T7, H1_T8, H1_T9, H2_T7, H2_T8, H2_T9"
   ]
  },
  {
   "cell_type": "markdown",
   "id": "f219d671-6bd1-43d0-92f0-c7f946f90feb",
   "metadata": {
    "tags": []
   },
   "source": [
    "## Load raw split frame"
   ]
  },
  {
   "cell_type": "code",
   "execution_count": 2,
   "id": "overall-flooring",
   "metadata": {},
   "outputs": [],
   "source": [
    "%load_ext autoreload\n",
    "%autoreload 2"
   ]
  },
  {
   "cell_type": "code",
   "execution_count": 3,
   "id": "flush-assist",
   "metadata": {},
   "outputs": [],
   "source": [
    "# %load ../common_.py\n",
    "import sys\n",
    "sys.path.append(\"../..\")\n",
    "from common import *"
   ]
  },
  {
   "cell_type": "code",
   "execution_count": 4,
   "id": "expensive-study",
   "metadata": {},
   "outputs": [],
   "source": [
    "import pyarrow.parquet as pq\n",
    "import pyarrow"
   ]
  },
  {
   "cell_type": "markdown",
   "id": "308e7fa5-e459-4a84-8d99-f633240a62e8",
   "metadata": {
    "tags": []
   },
   "source": [
    "## Load data"
   ]
  },
  {
   "cell_type": "code",
   "execution_count": 5,
   "id": "85538f32-800c-4c01-b41b-ef44a4e75746",
   "metadata": {},
   "outputs": [],
   "source": [
    "data_root = Path(\"/data/gent/vo/000/gvo00070/vsc42015/datasets/wbc/\")"
   ]
  },
  {
   "cell_type": "code",
   "execution_count": 6,
   "id": "0fafc72b-982f-4d13-8ac5-0cff37ad0fcb",
   "metadata": {},
   "outputs": [],
   "source": [
    "data_dir = Path(\"/data/gent/vo/000/gvo00070/vsc42015/datasets/wbc/scip/20220713131400/\")"
   ]
  },
  {
   "cell_type": "code",
   "execution_count": 7,
   "id": "502cedfc-b74f-4f07-9550-62968afb051c",
   "metadata": {},
   "outputs": [],
   "source": [
    "df = pandas.concat([\n",
    "    pq.read_table(p).to_pandas()\n",
    "    for p in data_dir.glob(\"*.parquet\")\n",
    "], axis=0)"
   ]
  },
  {
   "cell_type": "code",
   "execution_count": 8,
   "id": "01a23640-6c30-4fce-b174-b5755df403c1",
   "metadata": {},
   "outputs": [],
   "source": [
    "def map_to_name(r):\n",
    "    return \"wbc{group}_{part}{fix}\".format(group=int(r.meta_group)+2, part=r.meta_part, fix=\"\" if r.meta_fix is None else \"_\"+r.meta_fix)\n",
    "df[\"meta_sample\"] = df.iloc[:, [3,4,5]].apply(map_to_name, axis=1)"
   ]
  },
  {
   "cell_type": "code",
   "execution_count": 9,
   "id": "001f1983-e473-45f0-a810-24c3568b7335",
   "metadata": {},
   "outputs": [],
   "source": [
    "def find_nth(haystack, needle, n):\n",
    "    start = haystack.find(needle)\n",
    "    while start >= 0 and n > 1:\n",
    "        start = haystack.find(needle, start+len(needle))\n",
    "        n -= 1\n",
    "    return start\n",
    "\n",
    "pop_dir = data_root / \"meta/\"\n",
    "pop_files = list(Path(pop_dir).glob(\"*.pop\"))\n",
    "pops = {}\n",
    "for sample in df[\"meta_sample\"].unique():\n",
    "    pops[sample] = {}\n",
    "\n",
    "    for f in pop_files:\n",
    "        if f.name.startswith(sample):\n",
    "            pop_file = f\n",
    "            with open(pop_file, \"r\") as fh:\n",
    "                content = fh.read()\n",
    "                if len(content) > 0:\n",
    "                    indices = content[:-2].replace(\"\\n\", \"\").replace(\" \", \"\").strip().split(\",\")\n",
    "                    for idx in indices:\n",
    "                        if (\"early\" in pop_file.stem) or (\"late\" in pop_file.stem):\n",
    "                            pops[sample][int(idx)] = pop_file.stem[find_nth(pop_file.stem, \"_\", 3)+1:]\n",
    "                        else:\n",
    "                            pops[sample][int(idx)] = pop_file.stem[find_nth(pop_file.stem, \"_\", 2)+1:]"
   ]
  },
  {
   "cell_type": "code",
   "execution_count": 10,
   "id": "a4c53ea0-2abc-4ab7-900d-849411af0c00",
   "metadata": {},
   "outputs": [],
   "source": [
    "def map_to_class(x):\n",
    "    try:\n",
    "        s = pops[x.meta_sample]\n",
    "        return s[x.meta_object_number]\n",
    "    except:\n",
    "        return \"unknown\"\n",
    "\n",
    "df[\"meta_label\"] = df[[\"meta_sample\", \"meta_object_number\"]].apply(map_to_class, axis=1)"
   ]
  },
  {
   "cell_type": "code",
   "execution_count": 11,
   "id": "ac3a1c1c-915f-4047-a588-d10e26e77f1c",
   "metadata": {},
   "outputs": [
    {
     "data": {
      "text/plain": [
       "(548100, 4342)"
      ]
     },
     "execution_count": 11,
     "metadata": {},
     "output_type": "execute_result"
    }
   ],
   "source": [
    "df.shape"
   ]
  },
  {
   "cell_type": "code",
   "execution_count": 12,
   "id": "21028ea5-4599-4b39-872f-5cb8671ad0ba",
   "metadata": {},
   "outputs": [
    {
     "data": {
      "text/plain": [
       "(209194, 4342)"
      ]
     },
     "execution_count": 12,
     "metadata": {},
     "output_type": "execute_result"
    }
   ],
   "source": [
    "df[df[\"meta_group\"].isin(['1', '2']) & (df[\"meta_fix\"] == \"early\")].shape"
   ]
  },
  {
   "cell_type": "code",
   "execution_count": 13,
   "id": "a1a18dba-fdc7-4c96-a772-82d33d107600",
   "metadata": {},
   "outputs": [
    {
     "data": {
      "text/plain": [
       "<AxesSubplot:xlabel='count', ylabel='meta_group'>"
      ]
     },
     "execution_count": 13,
     "metadata": {},
     "output_type": "execute_result"
    },
    {
     "data": {
      "image/png": "[encoded data removed]",
      "text/plain": [
       "<Figure size 600x400 with 1 Axes>"
      ]
     },
     "metadata": {},
     "output_type": "display_data"
    }
   ],
   "source": [
    "fig, ax = plt.subplots(dpi=100)\n",
    "seaborn.countplot(ax=ax, data=df, y=\"meta_group\", hue=\"meta_label\")"
   ]
  },
  {
   "cell_type": "code",
   "execution_count": 14,
   "id": "e1494579-56b6-45ae-bf17-23282b08ea05",
   "metadata": {},
   "outputs": [
    {
     "data": {
      "text/plain": [
       "CD15 + Neutrophils    326842\n",
       "CD4 T cells            79680\n",
       "unknown                37120\n",
       "CD8 T cell             34564\n",
       "CD19 pos B cells       20876\n",
       "CD56+ NK Cells         15488\n",
       "CD14+ Monocyte         12414\n",
       "NK T cells             11550\n",
       "Eosinophils             9566\n",
       "Name: meta_label, dtype: int64"
      ]
     },
     "execution_count": 14,
     "metadata": {},
     "output_type": "execute_result"
    }
   ],
   "source": [
    "df[\"meta_label\"].value_counts()"
   ]
  },
  {
   "cell_type": "code",
   "execution_count": 15,
   "id": "5380e3b4-66b6-496d-bb8d-5791e6f1ad2c",
   "metadata": {},
   "outputs": [],
   "source": [
    "df = df.reset_index(drop=True)"
   ]
  },
  {
   "cell_type": "code",
   "execution_count": 16,
   "id": "ab0062d8-8491-44b2-8138-6ba29f6258a5",
   "metadata": {},
   "outputs": [],
   "source": [
    "df.columns = [\"meta\"+c[len(\"meta_threshold\"):] if any(m in c for m in [\"bbox\", \"regions\"]) else c for c in df.columns]"
   ]
  },
  {
   "cell_type": "code",
   "execution_count": 17,
   "id": "c9e5563b-0d99-44ed-8d30-3164e0c75ef6",
   "metadata": {},
   "outputs": [],
   "source": [
    "pq.write_table(\n",
    "    pyarrow.Table.from_pandas(df), data_dir / \"features.parquet\")"
   ]
  },
  {
   "cell_type": "code",
   "execution_count": null,
   "id": "a36b48dd-d22c-47dc-94a1-3478435df488",
   "metadata": {},
   "outputs": [],
   "source": []
  }
 ],
 "metadata": {
  "kernelspec": {
   "display_name": "Python 3 (ipykernel)",
   "language": "python",
   "name": "python3"
  },
  "language_info": {
   "codemirror_mode": {
    "name": "ipython",
    "version": 3
   },
   "file_extension": ".py",
   "mimetype": "text/x-python",
   "name": "python",
   "nbconvert_exporter": "python",
   "pygments_lexer": "ipython3",
   "version": "3.9.6"
  }
 },
 "nbformat": 4,
 "nbformat_minor": 5
}
