{
 "cells": [
  {
   "cell_type": "markdown",
   "id": "supported-construction",
   "metadata": {},
   "source": [
    "# Processing of SCIP features\n",
    "\n",
    "SCIP features have been computed on EhV data form the first large scale experiment, on files: H1_T7, H1_T8, H1_T9, H2_T7, H2_T8, H2_T9"
   ]
  },
  {
   "cell_type": "markdown",
   "id": "f219d671-6bd1-43d0-92f0-c7f946f90feb",
   "metadata": {
    "tags": []
   },
   "source": [
    "## Load raw split frame"
   ]
  },
  {
   "cell_type": "code",
   "execution_count": 1,
   "id": "overall-flooring",
   "metadata": {},
   "outputs": [],
   "source": [
    "%load_ext autoreload\n",
    "%autoreload 2"
   ]
  },
  {
   "cell_type": "code",
   "execution_count": 2,
   "id": "flush-assist",
   "metadata": {},
   "outputs": [],
   "source": [
    "# %load ../common_.py\n",
    "import sys\n",
    "sys.path.append(\"..\")\n",
    "from common import *"
   ]
  },
  {
   "cell_type": "code",
   "execution_count": 3,
   "id": "8f2b45ea-305b-4165-97ba-06837d56a809",
   "metadata": {},
   "outputs": [],
   "source": [
    "from ehv.core import plot_gate_zarr"
   ]
  },
  {
   "cell_type": "code",
   "execution_count": 4,
   "id": "expensive-study",
   "metadata": {},
   "outputs": [],
   "source": [
    "import pyarrow.parquet as pq\n",
    "import pyarrow"
   ]
  },
  {
   "cell_type": "markdown",
   "id": "308e7fa5-e459-4a84-8d99-f633240a62e8",
   "metadata": {
    "tags": []
   },
   "source": [
    "## Load data"
   ]
  },
  {
   "cell_type": "code",
   "execution_count": 7,
   "id": "0fafc72b-982f-4d13-8ac5-0cff37ad0fcb",
   "metadata": {},
   "outputs": [],
   "source": [
    "data_dir = Path(\"/data/gent/vo/000/gvo00070/vsc42015/datasets/wbc/results/scip/202204271347\")"
   ]
  },
  {
   "cell_type": "code",
   "execution_count": 6,
   "id": "502cedfc-b74f-4f07-9550-62968afb051c",
   "metadata": {},
   "outputs": [],
   "source": [
    "df = pandas.concat([\n",
    "    pq.read_table(p).to_pandas()\n",
    "    for p in data_dir.glob(\"*.parquet\")\n",
    "], axis=0)"
   ]
  },
  {
   "cell_type": "code",
   "execution_count": 8,
   "id": "7d56c590-90e7-4d1d-9083-e4e0d718af8f",
   "metadata": {},
   "outputs": [],
   "source": [
    "df[\"meta_sample\"] = df[\"meta_path\"].apply(lambda p: Path(p).stem[:-8])"
   ]
  },
  {
   "cell_type": "code",
   "execution_count": 10,
   "id": "001f1983-e473-45f0-a810-24c3568b7335",
   "metadata": {},
   "outputs": [],
   "source": [
    "def find_nth(haystack, needle, n):\n",
    "    start = haystack.find(needle)\n",
    "    while start >= 0 and n > 1:\n",
    "        start = haystack.find(needle, start+len(needle))\n",
    "        n -= 1\n",
    "    return start\n",
    "\n",
    "pop_dir = data_dir / \"meta/\"\n",
    "pop_files = list(Path(pop_dir).glob(\"*.pop\"))\n",
    "pops = {}\n",
    "for sample in df[\"meta_sample\"].unique():\n",
    "    pops[sample] = {}\n",
    "\n",
    "    for f in pop_files:\n",
    "        if f.name.startswith(sample):\n",
    "            pop_file = f\n",
    "            with open(pop_file, \"r\") as fh:\n",
    "                content = fh.read()\n",
    "                if len(content) > 0:\n",
    "                    indices = content[:-2].replace(\"\\n\", \"\").replace(\" \", \"\").strip().split(\",\")\n",
    "                    for idx in indices:\n",
    "                        if (\"early\" in pop_file.stem) or (\"late\" in pop_file.stem):\n",
    "                            pops[sample][int(idx)] = pop_file.stem[find_nth(pop_file.stem, \"_\", 3)+1:]\n",
    "                        else:\n",
    "                            pops[sample][int(idx)] = pop_file.stem[find_nth(pop_file.stem, \"_\", 2)+1:]"
   ]
  },
  {
   "cell_type": "code",
   "execution_count": 11,
   "id": "5c1b8619-22c3-465e-a3d9-258f93c07648",
   "metadata": {},
   "outputs": [],
   "source": [
    "def map_to_class(x):\n",
    "    try:\n",
    "        s = pops[x.meta_sample]\n",
    "        return s[x.meta_object_number]\n",
    "    except:\n",
    "        return \"unknown\""
   ]
  },
  {
   "cell_type": "code",
   "execution_count": 12,
   "id": "7c38c4bb-587a-49bf-a6e1-bdd3afd78ee0",
   "metadata": {},
   "outputs": [
    {
     "name": "stdout",
     "output_type": "stream",
     "text": [
      "0\n",
      "1\n",
      "2\n",
      "3\n",
      "4\n",
      "5\n",
      "6\n",
      "7\n",
      "8\n",
      "9\n"
     ]
    }
   ],
   "source": [
    "df[\"meta_label\"] = \"unknown\"\n",
    "chunk_size = len(df)//10 + 1\n",
    "for i in range(0, 10):\n",
    "    df.iloc[i*chunk_size:(i+1)*chunk_size, df.columns.get_loc(\"meta_label\")] = df.iloc[i*chunk_size:(i+1)*chunk_size].apply(map_to_class, axis=1)\n",
    "    print(i)"
   ]
  },
  {
   "cell_type": "code",
   "execution_count": 8,
   "id": "e9ea51d6-2971-4ed0-9182-2dd72aa61299",
   "metadata": {},
   "outputs": [],
   "source": [
    "df = pq.read_table(data_dir / \"features.parquet\").to_pandas()"
   ]
  },
  {
   "cell_type": "code",
   "execution_count": 10,
   "id": "ac3a1c1c-915f-4047-a588-d10e26e77f1c",
   "metadata": {},
   "outputs": [
    {
     "data": {
      "text/plain": [
       "(274050, 2519)"
      ]
     },
     "execution_count": 10,
     "metadata": {},
     "output_type": "execute_result"
    }
   ],
   "source": [
    "df.shape"
   ]
  },
  {
   "cell_type": "code",
   "execution_count": 20,
   "id": "21028ea5-4599-4b39-872f-5cb8671ad0ba",
   "metadata": {},
   "outputs": [
    {
     "data": {
      "text/plain": [
       "(104597, 2519)"
      ]
     },
     "execution_count": 20,
     "metadata": {},
     "output_type": "execute_result"
    }
   ],
   "source": [
    "df[df[\"meta_group\"].isin(['3', '4']) & (df[\"meta_fix\"] == \"early\")].shape"
   ]
  },
  {
   "cell_type": "code",
   "execution_count": 11,
   "id": "a1a18dba-fdc7-4c96-a772-82d33d107600",
   "metadata": {},
   "outputs": [
    {
     "data": {
      "text/plain": [
       "<AxesSubplot:xlabel='count', ylabel='meta_group'>"
      ]
     },
     "execution_count": 11,
     "metadata": {},
     "output_type": "execute_result"
    },
    {
     "data": {
      "image/png": "[encoded data removed]",
      "text/plain": [
       "<Figure size 600x400 with 1 Axes>"
      ]
     },
     "metadata": {},
     "output_type": "display_data"
    }
   ],
   "source": [
    "fig, ax = plt.subplots(dpi=100)\n",
    "seaborn.countplot(ax=ax, data=df, y=\"meta_group\", hue=\"meta_label\")"
   ]
  },
  {
   "cell_type": "code",
   "execution_count": 14,
   "id": "e1494579-56b6-45ae-bf17-23282b08ea05",
   "metadata": {},
   "outputs": [
    {
     "data": {
      "text/plain": [
       "CD15 + Neutrophils    163421\n",
       "CD4 T cells            39840\n",
       "unknown                18560\n",
       "CD8 T cell             17282\n",
       "CD19 pos B cells       10438\n",
       "CD56+ NK Cells          7744\n",
       "CD14+ Monocyte          6207\n",
       "NK T cells              5775\n",
       "Eosinophils             4783\n",
       "Name: meta_label, dtype: int64"
      ]
     },
     "execution_count": 14,
     "metadata": {},
     "output_type": "execute_result"
    }
   ],
   "source": [
    "df[\"meta_label\"].value_counts()"
   ]
  },
  {
   "cell_type": "code",
   "execution_count": 15,
   "id": "e112fdc7-458e-47b6-8a1f-ac8fdfb6a9a4",
   "metadata": {},
   "outputs": [
    {
     "data": {
      "text/plain": [
       "(274050, 2519)"
      ]
     },
     "execution_count": 15,
     "metadata": {},
     "output_type": "execute_result"
    }
   ],
   "source": [
    "df.shape"
   ]
  },
  {
   "cell_type": "code",
   "execution_count": 16,
   "id": "5380e3b4-66b6-496d-bb8d-5791e6f1ad2c",
   "metadata": {},
   "outputs": [],
   "source": [
    "df = df.reset_index(drop=True)"
   ]
  },
  {
   "cell_type": "code",
   "execution_count": 19,
   "id": "c9e5563b-0d99-44ed-8d30-3164e0c75ef6",
   "metadata": {},
   "outputs": [],
   "source": [
    "pq.write_table(\n",
    "    pyarrow.Table.from_pandas(df), data_dir / \"results/scip/202204271347/features.parquet\")"
   ]
  },
  {
   "cell_type": "code",
   "execution_count": null,
   "id": "26c3646c-624c-4f96-9046-e30dd7f101fa",
   "metadata": {},
   "outputs": [],
   "source": []
  }
 ],
 "metadata": {
  "kernelspec": {
   "display_name": "Python 3 (ipykernel)",
   "language": "python",
   "name": "python3"
  },
  "language_info": {
   "codemirror_mode": {
    "name": "ipython",
    "version": 3
   },
   "file_extension": ".py",
   "mimetype": "text/x-python",
   "name": "python",
   "nbconvert_exporter": "python",
   "pygments_lexer": "ipython3",
   "version": "3.9.6"
  }
 },
 "nbformat": 4,
 "nbformat_minor": 5
}
