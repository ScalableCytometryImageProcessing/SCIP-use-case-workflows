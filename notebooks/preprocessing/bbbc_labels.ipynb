{
 "cells": [
  {
   "cell_type": "markdown",
   "id": "supported-construction",
   "metadata": {},
   "source": [
    "# Gathering labels"
   ]
  },
  {
   "cell_type": "code",
   "execution_count": 1,
   "id": "42ef9432-132f-47e3-83bc-3ac69193d340",
   "metadata": {},
   "outputs": [],
   "source": [
    "%load_ext autoreload\n",
    "%autoreload 2"
   ]
  },
  {
   "cell_type": "code",
   "execution_count": 2,
   "id": "1aae4246-c6cb-4781-991e-ec840c347576",
   "metadata": {},
   "outputs": [],
   "source": [
    "# %load ../common_.py\n",
    "import sys\n",
    "sys.path.append(\"../..\")\n",
    "from common import *"
   ]
  },
  {
   "cell_type": "code",
   "execution_count": 3,
   "id": "d8e182db-1889-4534-b000-ac641ec55b13",
   "metadata": {},
   "outputs": [],
   "source": [
    "import pyarrow"
   ]
  },
  {
   "cell_type": "markdown",
   "id": "61f56d1c-bbfb-4133-abb8-522d6e829455",
   "metadata": {},
   "source": [
    "## Load data"
   ]
  },
  {
   "cell_type": "code",
   "execution_count": 4,
   "id": "f8ae206e-4f9d-4ac7-9bc0-df3007f09e56",
   "metadata": {},
   "outputs": [],
   "source": [
    "try:\n",
    "    image_path = snakemake.input.image_path\n",
    "    moa_path = snakemake.input.moa_path\n",
    "    output = snakemake.output[0]\n",
    "except NameError:\n",
    "    data_root = Path(\"/data/gent/vo/000/gvo00070/vsc42015/datasets/BBBC021\")\n",
    "    image_path = data_root / \"BBBC021_v1_image.csv\"\n",
    "    moa_path = data_root / \"BBBC021_v1_moa.csv\"\n",
    "    output = data_root / \"labels.parquet\""
   ]
  },
  {
   "cell_type": "markdown",
   "id": "81eff2a1-68aa-4949-9339-3846e83f85fc",
   "metadata": {},
   "source": [
    "## meta"
   ]
  },
  {
   "cell_type": "code",
   "execution_count": 21,
   "id": "09a45d28-49f0-4f9c-ba4b-02f4f10d5de7",
   "metadata": {},
   "outputs": [],
   "source": [
    "image = pandas.read_csv(image_path)\n",
    "image = image.drop(columns=[\"Image_PathName_DAPI\", \"Image_PathName_Tubulin\", \"Image_PathName_Actin\", \"Image_FileName_Tubulin\", \"Image_FileName_Actin\"])\n",
    "image.columns = [\"meta_\" + col.lower() for col in image.columns]"
   ]
  },
  {
   "cell_type": "code",
   "execution_count": 22,
   "id": "6515a86e-24b5-44f6-b045-ccd54f2e2c91",
   "metadata": {},
   "outputs": [
    {
     "data": {
      "text/html": [
       "<div>\n",
       "<style scoped>\n",
       "    .dataframe tbody tr th:only-of-type {\n",
       "        vertical-align: middle;\n",
       "    }\n",
       "\n",
       "    .dataframe tbody tr th {\n",
       "        vertical-align: top;\n",
       "    }\n",
       "\n",
       "    .dataframe thead th {\n",
       "        text-align: right;\n",
       "    }\n",
       "</style>\n",
       "<table border=\"1\" class=\"dataframe\">\n",
       "  <thead>\n",
       "    <tr style=\"text-align: right;\">\n",
       "      <th></th>\n",
       "      <th>meta_tablenumber</th>\n",
       "      <th>meta_imagenumber</th>\n",
       "      <th>meta_image_filename_dapi</th>\n",
       "      <th>meta_image_metadata_plate_dapi</th>\n",
       "      <th>meta_image_metadata_well_dapi</th>\n",
       "      <th>meta_replicate</th>\n",
       "      <th>meta_image_metadata_compound</th>\n",
       "      <th>meta_image_metadata_concentration</th>\n",
       "    </tr>\n",
       "  </thead>\n",
       "  <tbody>\n",
       "    <tr>\n",
       "      <th>0</th>\n",
       "      <td>4</td>\n",
       "      <td>233</td>\n",
       "      <td>G10_s1_w1BEDC2073-A983-4B98-95E9-84466707A25D.tif</td>\n",
       "      <td>Week4_27481</td>\n",
       "      <td>G10</td>\n",
       "      <td>1</td>\n",
       "      <td>5-fluorouracil</td>\n",
       "      <td>0.003</td>\n",
       "    </tr>\n",
       "    <tr>\n",
       "      <th>1</th>\n",
       "      <td>4</td>\n",
       "      <td>234</td>\n",
       "      <td>G10_s2_w11C3B9BCC-E48F-4C2F-9D31-8F46D8B5B972.tif</td>\n",
       "      <td>Week4_27481</td>\n",
       "      <td>G10</td>\n",
       "      <td>1</td>\n",
       "      <td>5-fluorouracil</td>\n",
       "      <td>0.003</td>\n",
       "    </tr>\n",
       "    <tr>\n",
       "      <th>2</th>\n",
       "      <td>4</td>\n",
       "      <td>235</td>\n",
       "      <td>G10_s3_w1F4FCE330-C71C-4CA3-9815-EAF9B9876EB5.tif</td>\n",
       "      <td>Week4_27481</td>\n",
       "      <td>G10</td>\n",
       "      <td>1</td>\n",
       "      <td>5-fluorouracil</td>\n",
       "      <td>0.003</td>\n",
       "    </tr>\n",
       "    <tr>\n",
       "      <th>3</th>\n",
       "      <td>4</td>\n",
       "      <td>236</td>\n",
       "      <td>G10_s4_w1747818B4-FFA7-40EE-B0A0-6A5974AF2644.tif</td>\n",
       "      <td>Week4_27481</td>\n",
       "      <td>G10</td>\n",
       "      <td>1</td>\n",
       "      <td>5-fluorouracil</td>\n",
       "      <td>0.003</td>\n",
       "    </tr>\n",
       "    <tr>\n",
       "      <th>4</th>\n",
       "      <td>4</td>\n",
       "      <td>473</td>\n",
       "      <td>G10_s1_w10034568D-CC12-43C3-93A9-DC3782099DD3.tif</td>\n",
       "      <td>Week4_27521</td>\n",
       "      <td>G10</td>\n",
       "      <td>2</td>\n",
       "      <td>5-fluorouracil</td>\n",
       "      <td>0.003</td>\n",
       "    </tr>\n",
       "  </tbody>\n",
       "</table>\n",
       "</div>"
      ],
      "text/plain": [
       "   meta_tablenumber  meta_imagenumber  \\\n",
       "0                 4               233   \n",
       "1                 4               234   \n",
       "2                 4               235   \n",
       "3                 4               236   \n",
       "4                 4               473   \n",
       "\n",
       "                            meta_image_filename_dapi  \\\n",
       "0  G10_s1_w1BEDC2073-A983-4B98-95E9-84466707A25D.tif   \n",
       "1  G10_s2_w11C3B9BCC-E48F-4C2F-9D31-8F46D8B5B972.tif   \n",
       "2  G10_s3_w1F4FCE330-C71C-4CA3-9815-EAF9B9876EB5.tif   \n",
       "3  G10_s4_w1747818B4-FFA7-40EE-B0A0-6A5974AF2644.tif   \n",
       "4  G10_s1_w10034568D-CC12-43C3-93A9-DC3782099DD3.tif   \n",
       "\n",
       "  meta_image_metadata_plate_dapi meta_image_metadata_well_dapi  \\\n",
       "0                    Week4_27481                           G10   \n",
       "1                    Week4_27481                           G10   \n",
       "2                    Week4_27481                           G10   \n",
       "3                    Week4_27481                           G10   \n",
       "4                    Week4_27521                           G10   \n",
       "\n",
       "   meta_replicate meta_image_metadata_compound  \\\n",
       "0               1               5-fluorouracil   \n",
       "1               1               5-fluorouracil   \n",
       "2               1               5-fluorouracil   \n",
       "3               1               5-fluorouracil   \n",
       "4               2               5-fluorouracil   \n",
       "\n",
       "   meta_image_metadata_concentration  \n",
       "0                              0.003  \n",
       "1                              0.003  \n",
       "2                              0.003  \n",
       "3                              0.003  \n",
       "4                              0.003  "
      ]
     },
     "execution_count": 22,
     "metadata": {},
     "output_type": "execute_result"
    }
   ],
   "source": [
    "image.head()"
   ]
  },
  {
   "cell_type": "code",
   "execution_count": 33,
   "id": "e1c6b9eb-9e86-468c-9c6c-1d46558c4b10",
   "metadata": {},
   "outputs": [],
   "source": [
    "moa = pandas.read_csv(moa_path)"
   ]
  },
  {
   "cell_type": "code",
   "execution_count": 34,
   "id": "16259bc2-854a-491f-a470-6500363883f5",
   "metadata": {},
   "outputs": [],
   "source": [
    "labels = image.merge(moa, left_on=(\"meta_image_metadata_compound\", \"meta_image_metadata_concentration\"), right_on=(\"compound\", \"concentration\"), how=\"inner\")\n",
    "labels = labels.drop(columns=[\"meta_image_metadata_compound\", \"meta_image_metadata_concentration\"])"
   ]
  },
  {
   "cell_type": "code",
   "execution_count": 36,
   "id": "6871b224-1a22-40ed-9ae9-164e7c482111",
   "metadata": {},
   "outputs": [],
   "source": [
    "labels.columns = [c if c.startswith(\"meta_\") else \"meta_\"+c for c in labels.columns]"
   ]
  },
  {
   "cell_type": "code",
   "execution_count": 37,
   "id": "a36b48dd-d22c-47dc-94a1-3478435df488",
   "metadata": {},
   "outputs": [],
   "source": [
    "pq.write_table(pyarrow.Table.from_pandas(labels), output)"
   ]
  },
  {
   "cell_type": "code",
   "execution_count": 44,
   "id": "f349f890-06ea-4dc5-81d9-c0dd95472ad9",
   "metadata": {},
   "outputs": [
    {
     "data": {
      "text/plain": [
       "Microtubule stabilizers    24\n",
       "DMSO                       24\n",
       "Epithelial                 12\n",
       "Name: meta_moa, dtype: int64"
      ]
     },
     "execution_count": 44,
     "metadata": {},
     "output_type": "execute_result"
    }
   ],
   "source": [
    "labels[labels[\"meta_image_metadata_plate_dapi\"] == \"Week5_28921\"][\"meta_moa\"].value_counts()"
   ]
  },
  {
   "cell_type": "code",
   "execution_count": 49,
   "id": "67caae46-f857-45f3-82dd-1f76736add24",
   "metadata": {},
   "outputs": [
    {
     "data": {
      "text/plain": [
       "['Week2_24121',\n",
       " 'Week2_24141',\n",
       " 'Week2_24161',\n",
       " 'Week2_24361',\n",
       " 'Week2_24381',\n",
       " 'Week2_24401',\n",
       " 'Week6_31641',\n",
       " 'Week6_31661',\n",
       " 'Week6_31681',\n",
       " 'Week7_34341',\n",
       " 'Week7_34381',\n",
       " 'Week7_34641']"
      ]
     },
     "execution_count": 49,
     "metadata": {},
     "output_type": "execute_result"
    }
   ],
   "source": [
    "sorted(labels[labels[\"meta_moa\"] == \"Protein degradation\"][\"meta_image_metadata_plate_dapi\"].unique())"
   ]
  },
  {
   "cell_type": "code",
   "execution_count": null,
   "id": "280eef1d-8408-4d87-b755-f1d4ed8d9e58",
   "metadata": {},
   "outputs": [],
   "source": []
  }
 ],
 "metadata": {
  "kernelspec": {
   "display_name": "Python 3 (ipykernel)",
   "language": "python",
   "name": "python3"
  },
  "language_info": {
   "codemirror_mode": {
    "name": "ipython",
    "version": 3
   },
   "file_extension": ".py",
   "mimetype": "text/x-python",
   "name": "python",
   "nbconvert_exporter": "python",
   "pygments_lexer": "ipython3",
   "version": "3.9.6"
  }
 },
 "nbformat": 4,
 "nbformat_minor": 5
}
