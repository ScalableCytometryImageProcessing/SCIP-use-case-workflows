{
 "cells": [
  {
   "cell_type": "markdown",
   "id": "supported-construction",
   "metadata": {},
   "source": [
    "# Processing of SCIP features"
   ]
  },
  {
   "cell_type": "code",
   "execution_count": 1,
   "id": "1130a48e-3c4f-4fb6-be75-ba36298ac653",
   "metadata": {},
   "outputs": [],
   "source": [
    "%load_ext autoreload\n",
    "%autoreload 2"
   ]
  },
  {
   "cell_type": "code",
   "execution_count": 2,
   "id": "b538ee81-adbf-4251-a28d-137accf27b6d",
   "metadata": {},
   "outputs": [],
   "source": [
    "# %load ../common_.py\n",
    "import sys\n",
    "sys.path.append(\"..\")\n",
    "from common import *"
   ]
  },
  {
   "cell_type": "code",
   "execution_count": 3,
   "id": "expensive-study",
   "metadata": {},
   "outputs": [],
   "source": [
    "import pyarrow.parquet as pq\n",
    "import pyarrow\n",
    "from pandas.api.types import CategoricalDtype"
   ]
  },
  {
   "cell_type": "markdown",
   "id": "marine-walter",
   "metadata": {},
   "source": [
    "## SCIP computed features"
   ]
  },
  {
   "cell_type": "code",
   "execution_count": 4,
   "id": "cf3a1114-4a41-4717-9333-fe53a8ece3d8",
   "metadata": {},
   "outputs": [],
   "source": [
    "data_dir = Path(\"/home/maximl/scratch/data/CD7/\")"
   ]
  },
  {
   "cell_type": "code",
   "execution_count": 11,
   "id": "0bd92c19-b72a-4d3a-848a-b0f30a322b75",
   "metadata": {},
   "outputs": [],
   "source": [
    "data_dir = Path(\"/data/gent/vo/000/gvo00070/vsc42015/datasets/cd7/800/results/scip/202203221745/\")"
   ]
  },
  {
   "cell_type": "code",
   "execution_count": 12,
   "id": "502cedfc-b74f-4f07-9550-62968afb051c",
   "metadata": {},
   "outputs": [],
   "source": [
    "df = pandas.concat([\n",
    "    pq.read_table(p).to_pandas()\n",
    "    for p in Path(data_dir / \"\").glob(\"*.parquet\")\n",
    "], axis=0)\n",
    "df = df.reset_index(drop=True)"
   ]
  },
  {
   "cell_type": "code",
   "execution_count": 7,
   "id": "a3af9744-55db-42c6-8d6e-c09d3d4333cf",
   "metadata": {},
   "outputs": [],
   "source": [
    "df[\"meta_path\"] = df[\"meta_path\"].map(lambda a: \"/data/gent/vo/000/gvo00070/vsc42015/datasets/cd7/800/\" + os.path.basename(a))"
   ]
  },
  {
   "cell_type": "code",
   "execution_count": 8,
   "id": "9fdf7eb5-76f8-4b61-91a3-156ed1d4dd46",
   "metadata": {},
   "outputs": [],
   "source": [
    "df[\"meta_P\"] = df[\"meta_scene\"].apply(lambda s: int(s.split(\"-\")[0][1:]))\n",
    "df[\"meta_replicate\"] = df[\"meta_scene\"].apply(lambda s: int(s.split(\"-\")[1][1:]))\n",
    "df[\"meta_panel\"] = df[\"meta_scene\"].apply(lambda s: s.split(\"-\")[1][0])"
   ]
  },
  {
   "cell_type": "code",
   "execution_count": 9,
   "id": "b2607b10-30a1-49bb-911f-d9194435817e",
   "metadata": {},
   "outputs": [],
   "source": [
    "cat_type = CategoricalDtype(categories=sorted(df[\"meta_P\"].unique()), ordered=True)\n",
    "df[\"meta_P\"] = df[\"meta_P\"].astype(cat_type)\n",
    "cat_type = CategoricalDtype(categories=sorted(df[\"meta_replicate\"].unique()), ordered=True)\n",
    "df[\"meta_replicate\"] = df[\"meta_replicate\"].astype(cat_type)\n",
    "cat_type = CategoricalDtype(categories=sorted(df[\"meta_panel\"].unique()), ordered=True)\n",
    "df[\"meta_panel\"] = df[\"meta_panel\"].astype(cat_type)"
   ]
  },
  {
   "cell_type": "code",
   "execution_count": 11,
   "id": "c9e5563b-0d99-44ed-8d30-3164e0c75ef6",
   "metadata": {},
   "outputs": [],
   "source": [
    "pq.write_table(pyarrow.Table.from_pandas(df), data_dir / \"features.parquet\")"
   ]
  },
  {
   "cell_type": "markdown",
   "id": "3ee0eab7-5a23-419b-98ee-f33ff226aca0",
   "metadata": {},
   "source": [
    "## Features"
   ]
  },
  {
   "cell_type": "code",
   "execution_count": 6,
   "id": "26c3646c-624c-4f96-9046-e30dd7f101fa",
   "metadata": {},
   "outputs": [],
   "source": [
    "df = pq.read_table(data_dir / \"features.parquet\").to_pandas()"
   ]
  },
  {
   "cell_type": "code",
   "execution_count": 7,
   "id": "237b3c34-9bcc-443b-9c29-957b4d952162",
   "metadata": {},
   "outputs": [],
   "source": [
    "from scip.features import shape"
   ]
  },
  {
   "cell_type": "code",
   "execution_count": 8,
   "id": "b15c6971-62a3-4aa0-86b0-b07d2b034c4f",
   "metadata": {},
   "outputs": [],
   "source": [
    "shape_cols = df.columns[[any(prop in c for prop in shape.prop_ids) for c in df.columns]]"
   ]
  },
  {
   "cell_type": "code",
   "execution_count": 9,
   "id": "84ec6b2d-4cb4-4eff-9550-832210cf12a5",
   "metadata": {},
   "outputs": [],
   "source": [
    "df = df.drop(columns=[c for c in shape_cols if not c.endswith((\"combined\", \"DAPI\"))])"
   ]
  },
  {
   "cell_type": "code",
   "execution_count": 12,
   "id": "287a51fc-dc4d-46f9-8603-b2cd4c8d165a",
   "metadata": {},
   "outputs": [],
   "source": [
    "df = df.drop(columns=[c for c in df.columns if \"bgcorr\" in c])"
   ]
  },
  {
   "cell_type": "code",
   "execution_count": 13,
   "id": "25f47f28-6bc7-4000-a98e-45eacca4408d",
   "metadata": {},
   "outputs": [
    {
     "data": {
      "text/plain": [
       "(45942, 836)"
      ]
     },
     "execution_count": 13,
     "metadata": {},
     "output_type": "execute_result"
    }
   ],
   "source": [
    "df.shape"
   ]
  },
  {
   "cell_type": "code",
   "execution_count": 14,
   "id": "b0bfad14-fa0d-46ba-ac50-e9fdcdbff839",
   "metadata": {},
   "outputs": [],
   "source": [
    "numpy.save(data_dir / \"indices/columns.npy\", df.columns)"
   ]
  },
  {
   "cell_type": "code",
   "execution_count": null,
   "id": "6d2a690b-2054-4285-a973-171e95e53423",
   "metadata": {},
   "outputs": [],
   "source": []
  }
 ],
 "metadata": {
  "kernelspec": {
   "display_name": "Python 3 (ipykernel)",
   "language": "python",
   "name": "python3"
  },
  "language_info": {
   "codemirror_mode": {
    "name": "ipython",
    "version": 3
   },
   "file_extension": ".py",
   "mimetype": "text/x-python",
   "name": "python",
   "nbconvert_exporter": "python",
   "pygments_lexer": "ipython3",
   "version": "3.9.6"
  }
 },
 "nbformat": 4,
 "nbformat_minor": 5
}
