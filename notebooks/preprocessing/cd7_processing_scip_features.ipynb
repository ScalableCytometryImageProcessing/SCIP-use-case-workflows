{
 "cells": [
  {
   "cell_type": "markdown",
   "id": "supported-construction",
   "metadata": {},
   "source": [
    "# Processing of SCIP features"
   ]
  },
  {
   "cell_type": "code",
   "execution_count": 1,
   "id": "1130a48e-3c4f-4fb6-be75-ba36298ac653",
   "metadata": {},
   "outputs": [],
   "source": [
    "%load_ext autoreload\n",
    "%autoreload 2"
   ]
  },
  {
   "cell_type": "code",
   "execution_count": 2,
   "id": "b538ee81-adbf-4251-a28d-137accf27b6d",
   "metadata": {},
   "outputs": [],
   "source": [
    "# %load ../common_.py\n",
    "import sys\n",
    "sys.path.append(\"..\")\n",
    "from common import *"
   ]
  },
  {
   "cell_type": "code",
   "execution_count": 3,
   "id": "expensive-study",
   "metadata": {},
   "outputs": [],
   "source": [
    "import pyarrow.parquet as pq\n",
    "import pyarrow\n",
    "from pandas.api.types import CategoricalDtype"
   ]
  },
  {
   "cell_type": "markdown",
   "id": "marine-walter",
   "metadata": {},
   "source": [
    "## SCIP computed features"
   ]
  },
  {
   "cell_type": "code",
   "execution_count": 5,
   "id": "cf3a1114-4a41-4717-9333-fe53a8ece3d8",
   "metadata": {},
   "outputs": [],
   "source": [
    "data_dir = Path(\"/home/maximl/scratch/data/CD7/\")"
   ]
  },
  {
   "cell_type": "code",
   "execution_count": 7,
   "id": "0bd92c19-b72a-4d3a-848a-b0f30a322b75",
   "metadata": {},
   "outputs": [],
   "source": [
    "data_dir = Path(\"/data/gent/vo/000/gvo00070/vsc42015/datasets/cd7/800/results/scip/202203211633/\")"
   ]
  },
  {
   "cell_type": "code",
   "execution_count": 8,
   "id": "502cedfc-b74f-4f07-9550-62968afb051c",
   "metadata": {},
   "outputs": [],
   "source": [
    "df = pandas.concat([\n",
    "    pq.read_table(p).to_pandas()\n",
    "    for p in Path(data_dir / \"\").glob(\"*.parquet\")\n",
    "], axis=0)\n",
    "df = df.reset_index(drop=True)"
   ]
  },
  {
   "cell_type": "code",
   "execution_count": 9,
   "id": "7dde6dc0-5d43-4637-9340-ad95fc5e1867",
   "metadata": {},
   "outputs": [
    {
     "data": {
      "text/plain": [
       "(124409, 1494)"
      ]
     },
     "execution_count": 9,
     "metadata": {},
     "output_type": "execute_result"
    }
   ],
   "source": [
    "df.shape"
   ]
  },
  {
   "cell_type": "code",
   "execution_count": 10,
   "id": "a3af9744-55db-42c6-8d6e-c09d3d4333cf",
   "metadata": {},
   "outputs": [],
   "source": [
    "df[\"meta_path\"] = df[\"meta_path\"].map(lambda a: \"/data/gent/vo/000/gvo00070/vsc42015/datasets/cd7/800/\" + os.path.basename(a))"
   ]
  },
  {
   "cell_type": "code",
   "execution_count": 11,
   "id": "9fdf7eb5-76f8-4b61-91a3-156ed1d4dd46",
   "metadata": {},
   "outputs": [],
   "source": [
    "df[\"meta_P\"] = df[\"meta_scene\"].apply(lambda s: int(s.split(\"-\")[0][1:]))\n",
    "df[\"meta_replicate\"] = df[\"meta_scene\"].apply(lambda s: int(s.split(\"-\")[1][1:]))\n",
    "df[\"meta_panel\"] = df[\"meta_scene\"].apply(lambda s: s.split(\"-\")[1][0])"
   ]
  },
  {
   "cell_type": "code",
   "execution_count": 12,
   "id": "b2607b10-30a1-49bb-911f-d9194435817e",
   "metadata": {},
   "outputs": [],
   "source": [
    "cat_type = CategoricalDtype(categories=sorted(df[\"meta_P\"].unique()), ordered=True)\n",
    "df[\"meta_P\"] = df[\"meta_P\"].astype(cat_type)\n",
    "cat_type = CategoricalDtype(categories=sorted(df[\"meta_replicate\"].unique()), ordered=True)\n",
    "df[\"meta_replicate\"] = df[\"meta_replicate\"].astype(cat_type)\n",
    "cat_type = CategoricalDtype(categories=sorted(df[\"meta_panel\"].unique()), ordered=True)\n",
    "df[\"meta_panel\"] = df[\"meta_panel\"].astype(cat_type)"
   ]
  },
  {
   "cell_type": "code",
   "execution_count": 13,
   "id": "70af39b8-8e06-4445-9ad9-d31503ba2294",
   "metadata": {},
   "outputs": [],
   "source": [
    "def add_id(df):\n",
    "    df.insert(0, \"meta_id\", numpy.arange(len(df)))\n",
    "    return df\n",
    "df = df.groupby([\"meta_panel\", \"meta_replicate\", \"meta_P\"]).apply(lambda df: add_id(df))"
   ]
  },
  {
   "cell_type": "code",
   "execution_count": 16,
   "id": "c9e5563b-0d99-44ed-8d30-3164e0c75ef6",
   "metadata": {},
   "outputs": [],
   "source": [
    "pq.write_table(pyarrow.Table.from_pandas(df), data_dir / \"features.parquet\")"
   ]
  },
  {
   "cell_type": "code",
   "execution_count": null,
   "id": "26c3646c-624c-4f96-9046-e30dd7f101fa",
   "metadata": {},
   "outputs": [],
   "source": []
  }
 ],
 "metadata": {
  "kernelspec": {
   "display_name": "Python 3 (ipykernel)",
   "language": "python",
   "name": "python3"
  },
  "language_info": {
   "codemirror_mode": {
    "name": "ipython",
    "version": 3
   },
   "file_extension": ".py",
   "mimetype": "text/x-python",
   "name": "python",
   "nbconvert_exporter": "python",
   "pygments_lexer": "ipython3",
   "version": "3.9.6"
  }
 },
 "nbformat": 4,
 "nbformat_minor": 5
}
